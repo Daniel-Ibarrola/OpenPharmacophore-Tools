{
 "cells": [
  {
   "cell_type": "markdown",
   "id": "c5b59197-5539-4389-9aab-9d1e030f38d1",
   "metadata": {
    "tags": []
   },
   "source": [
    "# Molecular Dynamics Simulation of Insulin-like Growth Factor-1 Receptor "
   ]
  },
  {
   "cell_type": "code",
   "execution_count": 2,
   "id": "80c3d56b-1fde-47fc-8533-2d70ddd3bbbc",
   "metadata": {},
   "outputs": [
    {
     "name": "stderr",
     "output_type": "stream",
     "text": [
      "Warning: importing 'simtk.openmm' is deprecated.  Import 'openmm' instead.\n",
      "Warning: Unable to load toolkit 'OpenEye Toolkit'. The Open Force Field Toolkit does not require the OpenEye Toolkits, and can use RDKit/AmberTools instead. However, if you have a valid license for the OpenEye Toolkits, consider installing them for faster performance and additional file format support: https://docs.eyesopen.com/toolkits/python/quickstart-python/linuxosx.html OpenEye offers free Toolkit licenses for academics: https://www.eyesopen.com/academic-licensing\n"
     ]
    },
    {
     "data": {
      "application/vnd.jupyter.widget-view+json": {
       "model_id": "9237e2d5ca2c4c8199c9e4a695b108d2",
       "version_major": 2,
       "version_minor": 0
      },
      "text/plain": []
     },
     "metadata": {},
     "output_type": "display_data"
    }
   ],
   "source": [
    "import numpy as np\n",
    "\n",
    "import openmm as mm\n",
    "from openmm import app\n",
    "from openmm import unit\n",
    "from openmmforcefields.generators import SMIRNOFFTemplateGenerator\n",
    "from openff.toolkit.topology import Molecule\n",
    "from pdbfixer import PDBFixer\n",
    "\n",
    "from rdkit import Chem\n",
    "from rdkit.Chem import AllChem\n",
    "\n",
    "import nglview as nv\n",
    "import mdtraj as md\n",
    "from mdtraj.reporters import HDF5Reporter\n",
    "\n",
    "from sys import stdout\n",
    "import re\n",
    "import requests\n",
    "import os"
   ]
  },
  {
   "cell_type": "markdown",
   "id": "7963df70-ef53-45b5-85d0-96188aadfb84",
   "metadata": {
    "tags": []
   },
   "source": [
    "## Download PDB 2OJ9"
   ]
  },
  {
   "cell_type": "code",
   "execution_count": 5,
   "id": "52f95774-1ff9-4de6-966e-07139dabb978",
   "metadata": {},
   "outputs": [],
   "source": [
    "# Have look to https://bioportal.bioontology.org/ontologies/EDAM?p=classes&conceptid=data_1127\n",
    "pattern= re.compile('[0-9][a-zA-Z_0-9]{3}')\n",
    "\n",
    "def fetch_pdb(pdb_id, download_path=\"./\"):\n",
    "    \n",
    "    if not pattern.match(pdb_id):\n",
    "        raise ValueError(\"Invalid pdb id\")\n",
    "        \n",
    "    url = 'http://files.rcsb.org/download/{}.pdb'.format(pdb_id)\n",
    "    res = requests.get(url, allow_redirects=True)\n",
    "    \n",
    "    # I am not sure if a failed request raise an exception. The failing code is stored\n",
    "    # in the attribute 'status_code'. For instance, if everything works properly:\n",
    "    # res.status_code == 200\n",
    "    \n",
    "    if res.status_code != requests.codes.ok:\n",
    "        print(\"Could not fetch pdb from {}\".format(url))\n",
    "        return \n",
    "        \n",
    "    file_path = os.path.join(download_path, pdb_id + \".pdb\")\n",
    "    with open(file_path, \"wb\") as f:\n",
    "        f.write(res.content)\n",
    "        \n",
    "fetch_pdb(\"2OJ9\")"
   ]
  },
  {
   "cell_type": "code",
   "execution_count": 6,
   "id": "16997ba8-97d3-4fba-8366-f062e6dda539",
   "metadata": {},
   "outputs": [
    {
     "data": {
      "application/vnd.jupyter.widget-view+json": {
       "model_id": "007ff9af0d20474bbbb948dd9ce807b4",
       "version_major": 2,
       "version_minor": 0
      },
      "text/plain": [
       "NGLWidget()"
      ]
     },
     "metadata": {},
     "output_type": "display_data"
    }
   ],
   "source": [
    "view = nv.show_structure_file(\"./2OJ9.pdb\")\n",
    "view"
   ]
  },
  {
   "cell_type": "markdown",
   "id": "51af10ce-dd34-46ce-8925-efcb523102f2",
   "metadata": {
    "tags": []
   },
   "source": [
    "## Extract ligand and fix bond order"
   ]
  },
  {
   "cell_type": "code",
   "execution_count": 10,
   "id": "69b602ac-b2a7-4b20-b81f-37dd40e268a4",
   "metadata": {},
   "outputs": [
    {
     "name": "stdout",
     "output_type": "stream",
     "text": [
      "<mdtraj.Trajectory with 1 frames, 2592 atoms, 500 residues, and unitcells>\n",
      "<mdtraj.Topology with 2 chains, 500 residues, 2592 atoms, 2443 bonds>\n"
     ]
    }
   ],
   "source": [
    "traj = md.load(\"./2OJ9.pdb\")\n",
    "topology = traj.topology\n",
    "print(traj)\n",
    "print(topology)"
   ]
  },
  {
   "cell_type": "code",
   "execution_count": 11,
   "id": "fe0d5e2b-d7d3-467c-a8c1-6c7bb34a4f85",
   "metadata": {},
   "outputs": [
    {
     "name": "stdout",
     "output_type": "stream",
     "text": [
      "<mdtraj.Topology with 1 chains, 1 residues, 30 atoms, 34 bonds>\n"
     ]
    },
    {
     "data": {
      "application/vnd.jupyter.widget-view+json": {
       "model_id": "9291885c804a4d0d81d0da2cce829339",
       "version_major": 2,
       "version_minor": 0
      },
      "text/plain": [
       "NGLWidget()"
      ]
     },
     "metadata": {},
     "output_type": "display_data"
    }
   ],
   "source": [
    "ligand = traj.atom_slice(topology.select(\"not water and not protein\"))\n",
    "print(ligand.topology)\n",
    "\n",
    "view = nv.show_mdtraj(ligand)\n",
    "view"
   ]
  },
  {
   "cell_type": "code",
   "execution_count": 12,
   "id": "1d849e6e-9608-4cc8-8a74-b50edc7dc09d",
   "metadata": {},
   "outputs": [],
   "source": [
    "ligand.save_pdb(\"./ligand.pdb\")"
   ]
  },
  {
   "cell_type": "code",
   "execution_count": 15,
   "id": "44d5a5f2-a151-4ef2-b423-1e37dbc7237d",
   "metadata": {},
   "outputs": [
    {
     "data": {
      "image/png": "[encoded data removed]",
      "text/plain": [
       "<rdkit.Chem.rdchem.Mol at 0x7f5819252a80>"
      ]
     },
     "execution_count": 15,
     "metadata": {},
     "output_type": "execute_result"
    }
   ],
   "source": [
    "ligand_pdb = Chem.rdmolfiles.MolFromPDBFile(\"./ligand.pdb\")\n",
    "ligand_pdb"
   ]
  },
  {
   "cell_type": "code",
   "execution_count": 16,
   "id": "e88ab313-4987-4bd8-81cc-66a7ca624179",
   "metadata": {},
   "outputs": [
    {
     "data": {
      "image/png": "[encoded data removed]",
      "text/plain": [
       "<rdkit.Chem.rdchem.Mol at 0x7f5819483070>"
      ]
     },
     "execution_count": 16,
     "metadata": {},
     "output_type": "execute_result"
    }
   ],
   "source": [
    "# Assing bond orders from smiles\n",
    "template_mol = Chem.MolFromSmiles(\"Cc1cc(cc2c1[nH]c(n2)C3=C(C=CNC3=O)NCc4ccccn4)n5ccnc5\")\n",
    "ligand_fixed = AllChem.AssignBondOrdersFromTemplate(template_mol, ligand_pdb)\n",
    "ligand_fixed"
   ]
  },
  {
   "cell_type": "code",
   "execution_count": 17,
   "id": "e49c651f-e360-4f3f-b4ee-c4d67dd42ce8",
   "metadata": {},
   "outputs": [
    {
     "name": "stdout",
     "output_type": "stream",
     "text": [
      "1\n"
     ]
    }
   ],
   "source": [
    "print(ligand_fixed.GetNumConformers())"
   ]
  },
  {
   "cell_type": "code",
   "execution_count": 18,
   "id": "65444e41-d69c-4139-93e5-e624df179b24",
   "metadata": {},
   "outputs": [
    {
     "data": {
      "application/vnd.jupyter.widget-view+json": {
       "model_id": "ee87c91ead744b6b81d5f5c43d885aae",
       "version_major": 2,
       "version_minor": 0
      },
      "text/plain": [
       "NGLWidget()"
      ]
     },
     "metadata": {},
     "output_type": "display_data"
    }
   ],
   "source": [
    "# Add Hydrogens\n",
    "ligand_H = Chem.AddHs(ligand_fixed, addCoords=True)\n",
    "# Save ligand to file so openff can use it\n",
    "writer = Chem.SDWriter(\"./ligand.sdf\")\n",
    "writer.write(ligand_H)\n",
    "view = nv.show_rdkit(ligand_H)\n",
    "view"
   ]
  },
  {
   "cell_type": "markdown",
   "id": "9ee29118-79db-4da9-a429-bc833e1bb5c1",
   "metadata": {
    "tags": []
   },
   "source": [
    "## Extract Protein"
   ]
  },
  {
   "cell_type": "code",
   "execution_count": 19,
   "id": "103bcea6-1061-4f61-b4e5-4df89e2c4f13",
   "metadata": {},
   "outputs": [
    {
     "name": "stdout",
     "output_type": "stream",
     "text": [
      "<mdtraj.Trajectory with 1 frames, 2358 atoms, 295 residues, and unitcells>\n",
      "<mdtraj.Topology with 1 chains, 295 residues, 2358 atoms, 2409 bonds>\n"
     ]
    }
   ],
   "source": [
    "protein_inxs = topology.select(\"protein\")\n",
    "protein_traj = traj.atom_slice(protein_inxs)\n",
    "protein_topo = protein_traj.topology\n",
    "print(protein_traj)\n",
    "print(protein_topo)"
   ]
  },
  {
   "cell_type": "code",
   "execution_count": 20,
   "id": "c7c03473-9f08-4a4f-af05-42de0df64287",
   "metadata": {},
   "outputs": [
    {
     "data": {
      "application/vnd.jupyter.widget-view+json": {
       "model_id": "26767c6741ed44e885953f9f33848a44",
       "version_major": 2,
       "version_minor": 0
      },
      "text/plain": [
       "NGLWidget()"
      ]
     },
     "metadata": {},
     "output_type": "display_data"
    }
   ],
   "source": [
    "view = nv.show_mdtraj(protein_traj)\n",
    "view"
   ]
  },
  {
   "cell_type": "code",
   "execution_count": 22,
   "id": "2011f39a-d3e1-46f7-9388-3e0f4d741462",
   "metadata": {},
   "outputs": [],
   "source": [
    "# Save receptor to file\n",
    "protein_traj.save_pdb(\"./protein.pdb\")"
   ]
  },
  {
   "cell_type": "markdown",
   "id": "670ce24d-8cda-46ac-83c8-2fa695f1e0da",
   "metadata": {
    "tags": []
   },
   "source": [
    "## Fix Protein"
   ]
  },
  {
   "cell_type": "code",
   "execution_count": 23,
   "id": "0f5f8c75-d47f-4eb2-9c95-61cf084f1207",
   "metadata": {},
   "outputs": [],
   "source": [
    "protein_file = \"./protein.pdb\"\n",
    "fixer = PDBFixer(filename=protein_file)\n",
    "\n",
    "fixer.findMissingResidues()\n",
    "missing_residues = fixer.missingResidues\n",
    "fixer.findNonstandardResidues()\n",
    "nonstandard_residues = fixer.nonstandardResidues\n",
    "fixer.findMissingAtoms()\n",
    "missing_atoms = fixer.missingAtoms\n",
    "missing_terminals = fixer.missingTerminals\n",
    "fixer.addMissingAtoms()"
   ]
  },
  {
   "cell_type": "code",
   "execution_count": 24,
   "id": "57e63593-8f09-4bd0-9837-396310d94564",
   "metadata": {},
   "outputs": [],
   "source": [
    "app.PDBFile.writeFile(fixer.topology, fixer.positions, open('protein_fixed_unsolvated.pdb', 'w'))"
   ]
  },
  {
   "cell_type": "markdown",
   "id": "4d19d8d1-f517-4143-81cf-2f1e81043563",
   "metadata": {
    "tags": []
   },
   "source": [
    "## Join ligand and protein, protonate and solvate system"
   ]
  },
  {
   "cell_type": "code",
   "execution_count": 3,
   "id": "c9ca1d64-805b-488a-b661-149d6f697d5b",
   "metadata": {},
   "outputs": [],
   "source": [
    "protein_file = \"./protein_fixed_unsolvated.pdb\"\n",
    "protein = app.PDBFile(protein_file)"
   ]
  },
  {
   "cell_type": "code",
   "execution_count": 4,
   "id": "97b32728-b335-44c0-a38e-f857e7eb1999",
   "metadata": {},
   "outputs": [],
   "source": [
    "modeller = app.Modeller(protein.topology, protein.positions)\n",
    "\n",
    "ligand_file = \"./ligand.sdf\"\n",
    "ligand = Molecule.from_file(ligand_file)\n",
    "ligand_positions = ligand.conformers[0]\n",
    "ligand_topology = ligand.to_topology()\n",
    "modeller.add(ligand_topology.to_openmm(), ligand_positions)"
   ]
  },
  {
   "cell_type": "markdown",
   "id": "74a1e413-c2fb-44fd-9d7c-000cf1c5f96e",
   "metadata": {},
   "source": [
    "### Load the forcefield"
   ]
  },
  {
   "cell_type": "code",
   "execution_count": 5,
   "id": "93f82342-01c9-4c65-aa45-4c2a54396e7e",
   "metadata": {},
   "outputs": [],
   "source": [
    "forcefield = app.ForceField(\"amber14-all.xml\", \"amber14/tip3p.xml\")\n",
    "smirnoff = SMIRNOFFTemplateGenerator(forcefield=\"openff-1.3.0.offxml\", molecules=[ligand])\n",
    "forcefield.registerTemplateGenerator(smirnoff.generator)"
   ]
  },
  {
   "cell_type": "markdown",
   "id": "6484f8c6-7740-4dae-bb23-64297ac91f4f",
   "metadata": {},
   "source": [
    "### Protonate"
   ]
  },
  {
   "cell_type": "code",
   "execution_count": 6,
   "id": "746d9447-0dfe-40ec-a563-741eb5e2dfbf",
   "metadata": {},
   "outputs": [
    {
     "name": "stderr",
     "output_type": "stream",
     "text": [
      "/bin/bash: /home/daniel/miniconda3/envs/cheminformatics/lib/libtinfo.so.6: no version information available (required by /bin/bash)\n",
      "/bin/bash: /home/daniel/miniconda3/envs/cheminformatics/lib/libtinfo.so.6: no version information available (required by /bin/bash)\n",
      "/bin/bash: /home/daniel/miniconda3/envs/cheminformatics/lib/libtinfo.so.6: no version information available (required by /bin/bash)\n",
      "/bin/bash: /home/daniel/miniconda3/envs/cheminformatics/lib/libtinfo.so.6: no version information available (required by /bin/bash)\n",
      "/bin/bash: /home/daniel/miniconda3/envs/cheminformatics/lib/libtinfo.so.6: no version information available (required by /bin/bash)\n",
      "/bin/bash: /home/daniel/miniconda3/envs/cheminformatics/lib/libtinfo.so.6: no version information available (required by /bin/bash)\n"
     ]
    }
   ],
   "source": [
    "residues_protonated = modeller.addHydrogens(forcefield=forcefield, pH=7.2)"
   ]
  },
  {
   "cell_type": "markdown",
   "id": "6cb5236c-3064-40f1-872b-0d40a1717020",
   "metadata": {},
   "source": [
    "### Solvate"
   ]
  },
  {
   "cell_type": "code",
   "execution_count": 7,
   "id": "754eba4b-1a83-4a2d-84c3-bf628652f492",
   "metadata": {},
   "outputs": [],
   "source": [
    "clearance = 14*unit.angstroms\n",
    "max_size = max(max((pos[i] for pos in modeller.positions))-min((pos[i] for pos in modeller.positions)) for i in range(3))\n",
    "vectors = mm.Vec3(1.0, 0, 0), mm.Vec3(1.0/3.0, 2.0*np.sqrt(2.0)/3.0,0.0), mm.Vec3(-1.0/3.0, np.sqrt(2.0)/3.0, np.sqrt(6.0)/3.0)\n",
    "box_vectors = [(max_size + clearance)*v for v in vectors]\n",
    "\n",
    "modeller.addSolvent(forcefield, model='tip3p', boxVectors = box_vectors, neutralize=True)"
   ]
  },
  {
   "cell_type": "code",
   "execution_count": 8,
   "id": "5c3c2ef5-8b1c-4702-bbb3-1d705b87c173",
   "metadata": {},
   "outputs": [
    {
     "name": "stdout",
     "output_type": "stream",
     "text": [
      "n_waters: 9245\n",
      "ions: ['Na', 'Na', 'Na', 'Na', 'Na', 'Na', 'Na', 'Na', 'Na', 'Na', 'Na']\n"
     ]
    }
   ],
   "source": [
    "# Verify that water and ions were added\n",
    "n_waters = 0\n",
    "ions = []\n",
    "for chain in modeller.topology.chains():\n",
    "    for residue in chain.residues():\n",
    "        if residue.name=='HOH':\n",
    "            n_waters += 1\n",
    "        if len(list(residue.atoms()))==1:\n",
    "            ions += [atom.name for atom in residue.atoms()]            \n",
    "\n",
    "print('n_waters: {}'.format(n_waters))\n",
    "print('ions: {}'.format(ions))"
   ]
  },
  {
   "cell_type": "markdown",
   "id": "35af221d-0e80-4cc7-b50d-7e8b1970605d",
   "metadata": {
    "tags": []
   },
   "source": [
    "## Create system and minimize energy"
   ]
  },
  {
   "cell_type": "code",
   "execution_count": 9,
   "id": "58fbc838-a044-44e7-ae0f-4280043e2f40",
   "metadata": {},
   "outputs": [],
   "source": [
    "system = forcefield.createSystem(modeller.topology, nonbondedMethod=app.PME, nonbondedCutoff=1.0*unit.nanometer,\n",
    "                                 constraints=app.HBonds, rigidWater=True)\n",
    "\n",
    "for force_index in range(system.getNumForces()):\n",
    "    force = system.getForce(force_index)\n",
    "    if isinstance(force, mm.NonbondedForce):\n",
    "        nonbondedForce = force\n",
    "\n",
    "nonbondedForce.setUseDispersionCorrection(True)\n",
    "nonbondedForce.setEwaldErrorTolerance(1.0e-5)\n",
    "nonbondedForce.setUseSwitchingFunction(True)\n",
    "nonbondedForce.setSwitchingDistance(0.8*unit.nanometer)"
   ]
  },
  {
   "cell_type": "code",
   "execution_count": 10,
   "id": "a2cd3209-a039-4b90-a3cf-085f73a66bf5",
   "metadata": {},
   "outputs": [],
   "source": [
    "platform = mm.Platform.getPlatformByName('CUDA')\n",
    "\n",
    "integration_timestep = 2.0*unit.femtoseconds\n",
    "temperature = 300.0*unit.kelvin\n",
    "\n",
    "integrator = mm.LangevinIntegrator(temperature, 1.0/unit.picosecond, integration_timestep)"
   ]
  },
  {
   "cell_type": "code",
   "execution_count": 11,
   "id": "be3da4c3-0f29-4575-88af-0d19dd315f00",
   "metadata": {},
   "outputs": [],
   "source": [
    "simulation = app.Simulation(modeller.topology, system, integrator, platform)"
   ]
  },
  {
   "cell_type": "code",
   "execution_count": 12,
   "id": "6f3ef476-5c04-4d42-bde1-d64db33bf032",
   "metadata": {},
   "outputs": [],
   "source": [
    "simulation.context.setPositions(modeller.positions)"
   ]
  },
  {
   "cell_type": "markdown",
   "id": "6c66a295-8595-47c7-bd7c-eaa7f9c132c6",
   "metadata": {},
   "source": [
    "### Energy Minimization"
   ]
  },
  {
   "cell_type": "code",
   "execution_count": 13,
   "id": "9c992f3a-932b-4efe-879d-d4ee2fe72540",
   "metadata": {},
   "outputs": [
    {
     "data": {
      "text/plain": [
       "Quantity(value=239963410516042.78, unit=kilojoule/mole)"
      ]
     },
     "execution_count": 13,
     "metadata": {},
     "output_type": "execute_result"
    }
   ],
   "source": [
    "# Check the potential energy before minimization\n",
    "initial_state = simulation.context.getState(getEnergy=True)\n",
    "initial_state.getPotentialEnergy()"
   ]
  },
  {
   "cell_type": "code",
   "execution_count": 14,
   "id": "ed6cf34d-a57c-454f-92b4-5c18395982c8",
   "metadata": {},
   "outputs": [],
   "source": [
    "simulation.minimizeEnergy()"
   ]
  },
  {
   "cell_type": "code",
   "execution_count": 15,
   "id": "26286dda-aaa4-44ae-8101-ac2458c5e30f",
   "metadata": {},
   "outputs": [
    {
     "data": {
      "text/plain": [
       "Quantity(value=-511521.9686954641, unit=kilojoule/mole)"
      ]
     },
     "execution_count": 15,
     "metadata": {},
     "output_type": "execute_result"
    }
   ],
   "source": [
    "# Check the potential energy after minimization\n",
    "minimized_state = simulation.context.getState(getEnergy=True)\n",
    "minimized_state.getPotentialEnergy()"
   ]
  },
  {
   "cell_type": "code",
   "execution_count": 16,
   "id": "137627c7-563b-4ac9-8a2c-8d9e18a48414",
   "metadata": {},
   "outputs": [],
   "source": [
    "# Writing out the minimized system\n",
    "minimized_positions = simulation.context.getState(getPositions=True).getPositions()\n",
    "app.PDBFile.writeFile(simulation.topology, minimized_positions, open('initial.pdb', 'w'))"
   ]
  },
  {
   "cell_type": "markdown",
   "id": "65b5182e-0a3f-4619-9bc8-7ef10e89d6ae",
   "metadata": {
    "tags": []
   },
   "source": [
    "### Visualized Mimimized system"
   ]
  },
  {
   "cell_type": "code",
   "execution_count": 17,
   "id": "5c1d3c89-0a33-472a-b9ef-615f7fd4ee2a",
   "metadata": {},
   "outputs": [
    {
     "data": {
      "application/vnd.jupyter.widget-view+json": {
       "model_id": "dbc3eab01f4942339cdda4da415f7627",
       "version_major": 2,
       "version_minor": 0
      },
      "text/plain": [
       "NGLWidget()"
      ]
     },
     "metadata": {},
     "output_type": "display_data"
    }
   ],
   "source": [
    "view = nv.show_structure_file(\"initial.pdb\")\n",
    "view.add_licorice(selection=\"(not protein)\")\n",
    "view"
   ]
  },
  {
   "cell_type": "markdown",
   "id": "4b1b30d2-7281-4ce5-806d-7b8ee24daee7",
   "metadata": {
    "tags": []
   },
   "source": [
    "## Simulation"
   ]
  },
  {
   "cell_type": "code",
   "execution_count": 18,
   "id": "ea055e03-09a6-4b05-ada2-143b174acf35",
   "metadata": {},
   "outputs": [],
   "source": [
    "simulation.context.setVelocitiesToTemperature(temperature)"
   ]
  },
  {
   "cell_type": "code",
   "execution_count": 19,
   "id": "99cd4206-8eeb-44bd-b06c-ad50e83793d4",
   "metadata": {},
   "outputs": [
    {
     "name": "stdout",
     "output_type": "stream",
     "text": [
      "10000000 steps\n",
      "10000 reporting steps\n",
      "5000 saving steps\n"
     ]
    }
   ],
   "source": [
    "simulation_time = 20000.0*unit.picoseconds\n",
    "reporting_time = 20.0*unit.picoseconds\n",
    "saving_time = 10.0*unit.picoseconds\n",
    "\n",
    "simulation_steps = int(simulation_time/integration_timestep)\n",
    "reporting_steps = int(reporting_time/integration_timestep)\n",
    "saving_steps = int(saving_time/integration_timestep)\n",
    "\n",
    "print(f\"{simulation_steps} steps\")\n",
    "print(f\"{reporting_steps} reporting steps\")\n",
    "print(f\"{saving_steps} saving steps\")"
   ]
  },
  {
   "cell_type": "code",
   "execution_count": 21,
   "id": "a860dd7c-7240-4f19-bc57-8f4981deb8ec",
   "metadata": {},
   "outputs": [],
   "source": [
    "states_reporter = app.StateDataReporter(stdout, reporting_steps, step=True, potentialEnergy=True, temperature=True,\n",
    "                                    progress=True, totalSteps=simulation_steps, speed=True, remainingTime=True)\n",
    "traj_reporter = HDF5Reporter('traj.h5', saving_steps, coordinates=True, time=True, cell=True, potentialEnergy=True,\n",
    "                             kineticEnergy=True, temperature=True)\n",
    "checkpoint_reporter = app.CheckpointReporter(\"./checkpoint.chk\", 500000)\n",
    "simulation.reporters+=[states_reporter, traj_reporter, checkpoint_reporter]"
   ]
  },
  {
   "cell_type": "code",
   "execution_count": 22,
   "id": "a7893100-57b6-4535-8098-ef1cb63405bf",
   "metadata": {},
   "outputs": [
    {
     "name": "stdout",
     "output_type": "stream",
     "text": [
      "#\"Progress (%)\",\"Step\",\"Potential Energy (kJ/mole)\",\"Temperature (K)\",\"Speed (ns/day)\",\"Time Remaining\"\n",
      "0.1%,10000,-410066.2186954641,301.6491712185183,0,--\n",
      "0.2%,20000,-411725.2186954641,302.31166837194814,21.3,22:28:45\n",
      "0.3%,30000,-410267.2186954641,298.84243706622374,21.3,22:26:10\n",
      "0.4%,40000,-410037.2186954641,300.2408939672153,21.3,22:24:31\n",
      "0.5%,50000,-410210.2186954641,298.8646178450507,21.3,22:23:05\n",
      "0.6%,60000,-410729.7186954641,303.51863370648465,21.3,22:21:11\n",
      "0.7%,70000,-411464.7186954641,300.4690905695422,21.4,22:17:03\n",
      "0.8%,80000,-412595.2186954641,300.3203996541884,21.4,22:13:45\n",
      "0.9%,90000,-411832.2186954641,299.8777205918102,21.4,22:10:55\n",
      "1.0%,100000,-410960.2186954641,301.1849416854949,21.5,22:08:26\n",
      "1.1%,110000,-410842.2186954641,297.9397008116793,21.5,22:06:11\n",
      "1.2%,120000,-411225.4686954641,297.1691219259316,21.5,22:04:05\n",
      "1.3%,130000,-410722.2186954641,298.8854816486194,21.5,22:02:05\n",
      "1.4%,140000,-410089.4686954641,297.8403791388005,21.5,22:00:10\n",
      "1.5%,150000,-412182.2186954641,301.1458871660026,21.5,21:58:20\n",
      "1.6%,160000,-410582.7186954641,300.2079220333485,21.5,21:56:33\n",
      "1.7%,170000,-411169.4686954641,298.3274889259587,21.5,21:54:52\n",
      "1.8%,180000,-411392.7186954641,300.0448421113685,21.5,21:53:12\n",
      "1.9%,190000,-411734.2186954641,298.67925013282945,21.5,21:51:35\n",
      "2.0%,200000,-411088.7186954641,297.79480904550877,21.5,21:49:59\n",
      "2.1%,210000,-411136.4686954641,302.32020680148474,21.5,21:48:25\n",
      "2.2%,220000,-411401.7186954641,298.3974520036907,21.6,21:46:53\n",
      "2.3%,230000,-411119.2186954641,303.7534326892904,21.6,21:45:22\n",
      "2.4%,240000,-411675.2186954641,300.95174755721683,21.6,21:43:52\n",
      "2.5%,250000,-411489.7186954641,301.15760085449773,21.6,21:42:23\n",
      "2.6%,260000,-411382.9686954641,299.95242880866954,21.6,21:40:52\n",
      "2.7%,270000,-411499.9686954641,299.6424022556403,21.6,21:39:24\n",
      "2.8%,280000,-412139.2186954641,299.14005980968335,21.6,21:37:55\n",
      "2.9%,290000,-411507.7186954641,299.8048769006993,21.6,21:36:28\n",
      "3.0%,300000,-411665.2186954641,300.88165616345145,21.6,21:35:00\n",
      "3.1%,310000,-410683.7186954641,301.00309029720864,21.6,21:33:34\n",
      "3.2%,320000,-411162.2186954641,302.39895094584216,21.6,21:32:06\n",
      "3.3%,330000,-410808.2186954641,300.8870201451963,21.6,21:30:42\n",
      "3.4%,340000,-411742.4686954641,299.9395331128965,21.6,21:29:16\n",
      "3.5%,350000,-411821.2186954641,297.73178052579476,21.6,21:27:51\n",
      "3.6%,360000,-411797.2186954641,301.30539535752996,21.6,21:26:26\n",
      "3.7%,370000,-411707.9686954641,299.55160882551706,21.6,21:25:01\n",
      "3.8%,380000,-410387.2186954641,299.29522722827016,21.6,21:23:36\n",
      "3.9%,390000,-411488.2186954641,300.70127476103875,21.6,21:22:13\n",
      "4.0%,400000,-412417.2186954641,295.72495564727825,21.6,21:20:50\n",
      "4.1%,410000,-411418.9686954641,298.77700732964803,21.6,21:19:27\n",
      "4.2%,420000,-411478.2186954641,299.91702115551817,21.6,21:18:04\n",
      "4.3%,430000,-412283.7186954641,303.1646789287454,21.6,21:16:41\n",
      "4.4%,440000,-410835.2186954641,301.5406890816731,21.6,21:15:19\n",
      "4.5%,450000,-410507.2186954641,300.7545059383045,21.6,21:13:57\n",
      "4.6%,460000,-411232.7186954641,301.58848951880964,21.6,21:12:35\n",
      "4.7%,470000,-411401.7186954641,302.3003006085858,21.6,21:11:13\n",
      "4.8%,480000,-410518.4686954641,300.37615679446316,21.6,21:09:50\n",
      "4.9%,490000,-411899.9686954641,301.0805554167819,21.6,21:08:28\n",
      "5.0%,500000,-411961.2186954641,299.86855186645266,21.6,21:07:06\n",
      "5.1%,510000,-410780.7186954641,299.2350965508441,21.6,21:05:43\n",
      "5.2%,520000,-411408.4686954641,299.6916474558091,21.6,21:04:20\n",
      "5.3%,530000,-411084.2186954641,297.21716977218,21.6,21:02:58\n",
      "5.4%,540000,-412144.9686954641,298.5966868018987,21.6,21:01:36\n",
      "5.5%,550000,-411480.7186954641,299.32218822687946,21.6,21:00:15\n",
      "5.6%,560000,-411987.4686954641,301.0917297428423,21.6,20:58:53\n",
      "5.7%,570000,-411602.2186954641,301.68368673065663,21.6,20:57:31\n",
      "5.8%,580000,-411211.4686954641,299.09072875720744,21.6,20:56:26\n",
      "5.9%,590000,-412073.7186954641,301.85233339716694,21.6,20:55:20\n",
      "6.0%,600000,-411097.4686954641,302.3906982382078,21.6,20:54:13\n",
      "6.1%,610000,-411468.2186954641,298.5298183359755,21.6,20:53:06\n",
      "6.2%,620000,-410866.2186954641,299.12930097032813,21.6,20:51:56\n",
      "6.3%,630000,-412309.7186954641,298.92875050988016,21.6,20:50:34\n",
      "6.4%,640000,-410927.7186954641,300.19111415635143,21.6,20:49:12\n",
      "6.5%,650000,-410424.4686954641,300.0764221228341,21.6,20:47:50\n",
      "6.6%,660000,-411286.2186954641,299.0385384672481,21.6,20:46:28\n",
      "6.7%,670000,-411202.9686954641,300.28891786498394,21.6,20:45:06\n",
      "6.8%,680000,-411555.2186954641,299.73644685060117,21.6,20:43:44\n",
      "6.9%,690000,-410084.2186954641,299.37357052580586,21.6,20:42:22\n",
      "7.0%,700000,-411549.2186954641,300.75438357687784,21.6,20:41:00\n",
      "7.1%,710000,-411738.7186954641,301.4707237444052,21.6,20:39:38\n",
      "7.2%,720000,-411270.2186954641,296.8235153021293,21.6,20:38:17\n",
      "7.3%,730000,-411132.9686954641,298.9699241682692,21.6,20:36:55\n",
      "7.4%,740000,-411533.7186954641,301.0104405088686,21.6,20:35:33\n",
      "7.5%,750000,-410763.7186954641,297.27882852592296,21.6,20:34:11\n",
      "7.6%,760000,-412527.7186954641,300.72025784088277,21.6,20:32:50\n",
      "7.7%,770000,-411740.7186954641,301.65845300081503,21.6,20:31:28\n",
      "7.8%,780000,-412843.9686954641,301.0218274083399,21.6,20:30:07\n",
      "7.9%,790000,-412156.4686954641,300.5572977683486,21.6,20:28:47\n",
      "8.0%,800000,-411383.7186954641,300.4427015688428,21.6,20:27:25\n",
      "8.1%,810000,-411726.2186954641,299.37914277566784,21.6,20:26:05\n",
      "8.2%,820000,-412078.4686954641,297.9271052978082,21.6,20:24:43\n",
      "8.3%,830000,-411695.2186954641,300.1157612756455,21.6,20:23:22\n",
      "8.4%,840000,-411943.9686954641,300.78920034563214,21.6,20:22:01\n",
      "8.5%,850000,-410895.2186954641,299.67612921027336,21.6,20:20:41\n",
      "8.6%,860000,-410506.7186954641,299.0922443686927,21.6,20:19:20\n",
      "8.7%,870000,-410848.2186954641,301.78599879268154,21.6,20:17:59\n",
      "8.8%,880000,-411232.9686954641,301.91495750653445,21.6,20:16:38\n",
      "8.9%,890000,-410909.4686954641,297.5174030653882,21.6,20:15:17\n",
      "9.0%,900000,-410818.2186954641,301.7705284683278,21.6,20:13:56\n",
      "9.1%,910000,-411261.2186954641,301.0743660305723,21.6,20:12:35\n",
      "9.2%,920000,-412762.2186954641,302.35162383324086,21.6,20:11:13\n",
      "9.3%,930000,-411561.2186954641,298.10768104125447,21.6,20:09:53\n",
      "9.4%,940000,-411647.7186954641,301.9029630084897,21.6,20:08:32\n",
      "9.5%,950000,-411251.2186954641,298.8410688894306,21.6,20:07:11\n",
      "9.6%,960000,-412689.2186954641,304.7110460221878,21.6,20:05:50\n",
      "9.7%,970000,-410093.7186954641,300.9689196416851,21.6,20:04:30\n",
      "9.8%,980000,-411382.2186954641,299.92996832199367,21.6,20:03:09\n",
      "9.9%,990000,-412517.7186954641,298.8451277956957,21.6,20:01:48\n",
      "10.0%,1000000,-411833.2186954641,296.78194387255513,21.6,20:00:28\n",
      "10.1%,1010000,-411704.9686954641,301.79033531672786,21.6,19:59:08\n",
      "10.2%,1020000,-411506.2186954641,300.90273305644524,21.6,19:57:47\n",
      "10.3%,1030000,-411219.7186954641,300.0182095094618,21.6,19:56:27\n",
      "10.4%,1040000,-411883.2186954641,301.52773630743957,21.6,19:55:06\n",
      "10.5%,1050000,-411983.4686954641,301.62994723965625,21.6,19:53:46\n",
      "10.6%,1060000,-411578.9686954641,299.7829760936585,21.6,19:52:25\n",
      "10.7%,1070000,-410722.4686954641,299.0475343564273,21.6,19:51:04\n",
      "10.8%,1080000,-410797.2186954641,301.6493408914857,21.6,19:49:43\n",
      "10.9%,1090000,-411636.4686954641,298.0302083536114,21.6,19:48:22\n",
      "11.0%,1100000,-411938.7186954641,300.07806991039143,21.6,19:47:01\n",
      "11.1%,1110000,-411592.7186954641,300.0658994929475,21.6,19:45:40\n",
      "11.2%,1120000,-412013.2186954641,298.3452183621526,21.6,19:44:19\n",
      "11.3%,1130000,-413125.7186954641,301.1667915046039,21.6,19:42:58\n",
      "11.4%,1140000,-411925.7186954641,301.317165865629,21.6,19:41:38\n",
      "11.5%,1150000,-412069.7186954641,298.6557835472646,21.6,19:40:18\n",
      "11.6%,1160000,-411301.7186954641,300.8072237434128,21.6,19:38:58\n",
      "11.7%,1170000,-411715.2186954641,299.243470994083,21.6,19:37:37\n",
      "11.8%,1180000,-412422.7186954641,297.0004417980195,21.6,19:36:17\n",
      "11.9%,1190000,-410821.7186954641,301.17654514109864,21.6,19:34:56\n",
      "12.0%,1200000,-411697.2186954641,300.58034048582306,21.6,19:33:35\n",
      "12.1%,1210000,-411890.7186954641,300.9525340215178,21.6,19:32:15\n",
      "12.2%,1220000,-409987.4686954641,298.29020998219056,21.6,19:30:55\n",
      "12.3%,1230000,-411276.7186954641,295.93476249602884,21.6,19:29:35\n",
      "12.4%,1240000,-411495.7186954641,300.07586644287665,21.6,19:28:14\n",
      "12.5%,1250000,-412038.9686954641,300.7474295779264,21.6,19:26:54\n",
      "12.6%,1260000,-411001.7186954641,298.0721550840079,21.6,19:25:33\n",
      "12.7%,1270000,-412062.9686954641,299.6196344381511,21.6,19:24:13\n",
      "12.8%,1280000,-411804.7186954641,297.35977044036355,21.6,19:22:52\n",
      "12.9%,1290000,-411166.2186954641,299.9066148552102,21.6,19:21:31\n",
      "13.0%,1300000,-411315.7186954641,299.9254599682801,21.6,19:20:10\n",
      "13.1%,1310000,-411465.9686954641,301.89591696410184,21.6,19:18:49\n",
      "13.2%,1320000,-411692.2186954641,303.3430887757951,21.6,19:17:28\n",
      "13.3%,1330000,-410987.2186954641,298.245932965346,21.6,19:16:06\n",
      "13.4%,1340000,-411320.9686954641,301.2273202042296,21.6,19:14:45\n",
      "13.5%,1350000,-410887.2186954641,299.99916670002284,21.6,19:13:24\n",
      "13.6%,1360000,-411722.2186954641,300.17743373192104,21.6,19:12:03\n",
      "13.7%,1370000,-411761.4686954641,300.4227159279876,21.6,19:10:42\n",
      "13.8%,1380000,-411599.7186954641,299.01725385211876,21.6,19:09:21\n",
      "13.9%,1390000,-411200.2186954641,302.1529000455243,21.6,19:08:01\n",
      "14.0%,1400000,-411397.2186954641,299.1531683088972,21.6,19:06:40\n",
      "14.1%,1410000,-410806.2186954641,298.72155398514604,21.6,19:05:20\n",
      "14.2%,1420000,-411521.2186954641,299.70454045532455,21.6,19:03:59\n",
      "14.3%,1430000,-411956.4686954641,302.99795701722684,21.6,19:02:39\n",
      "14.4%,1440000,-411622.2186954641,297.953666610837,21.6,19:01:18\n",
      "14.5%,1450000,-412824.2186954641,298.8503399790806,21.6,18:59:58\n",
      "14.6%,1460000,-411213.2186954641,299.5036970639328,21.6,18:58:37\n",
      "14.7%,1470000,-412853.2186954641,301.1937319916834,21.6,18:57:17\n",
      "14.8%,1480000,-411168.7186954641,298.40420541701786,21.6,18:55:56\n",
      "14.9%,1490000,-411988.7186954641,300.9632749948884,21.6,18:54:35\n",
      "15.0%,1500000,-412269.7186954641,300.1533426982551,21.6,18:53:14\n",
      "15.1%,1510000,-411684.7186954641,298.47981841886974,21.6,18:51:53\n",
      "15.2%,1520000,-410567.7186954641,301.6803005630605,21.6,18:50:33\n",
      "15.3%,1530000,-410416.2186954641,299.1160398392187,21.6,18:49:12\n",
      "15.4%,1540000,-411922.2186954641,302.2280839103917,21.6,18:47:51\n",
      "15.5%,1550000,-411487.9686954641,299.39177922294766,21.6,18:46:31\n",
      "15.6%,1560000,-411598.4686954641,299.0866622046091,21.6,18:45:10\n",
      "15.7%,1570000,-410714.4686954641,301.29549233999,21.6,18:43:49\n",
      "15.8%,1580000,-411696.7186954641,299.71775749901894,21.6,18:42:28\n",
      "15.9%,1590000,-412086.2186954641,300.0826554115741,21.6,18:41:07\n",
      "16.0%,1600000,-410670.2186954641,301.2471866450704,21.6,18:39:47\n",
      "16.1%,1610000,-412362.7186954641,300.6115261013725,21.6,18:38:26\n",
      "16.2%,1620000,-411954.9686954641,299.7189333373396,21.6,18:37:05\n",
      "16.3%,1630000,-410657.2186954641,297.4344660473173,21.6,18:35:45\n",
      "16.4%,1640000,-411472.7186954641,299.41635426857175,21.6,18:34:24\n",
      "16.5%,1650000,-412204.2186954641,299.78221269557616,21.6,18:33:03\n",
      "16.6%,1660000,-411304.2186954641,299.2196503935127,21.6,18:31:43\n",
      "16.7%,1670000,-411436.2186954641,299.2223097995624,21.6,18:30:23\n",
      "16.8%,1680000,-411632.9686954641,300.90620031403955,21.6,18:29:03\n",
      "16.9%,1690000,-410628.2186954641,297.74998013255004,21.6,18:27:43\n",
      "17.0%,1700000,-411847.2186954641,300.9607366993465,21.6,18:26:22\n",
      "17.1%,1710000,-410747.9686954641,299.1216694579405,21.6,18:25:02\n",
      "17.2%,1720000,-412257.7186954641,297.59324615455705,21.6,18:23:42\n",
      "17.3%,1730000,-410939.2186954641,301.0206636601244,21.6,18:22:22\n",
      "17.4%,1740000,-411783.9686954641,299.51632556932174,21.6,18:21:01\n",
      "17.5%,1750000,-411412.2186954641,301.4281474022931,21.6,18:19:41\n",
      "17.6%,1760000,-410954.2186954641,300.63829034235516,21.6,18:18:21\n",
      "17.7%,1770000,-411875.7186954641,299.9161531727954,21.6,18:17:01\n",
      "17.8%,1780000,-411640.2186954641,300.16038655785513,21.6,18:15:40\n",
      "17.9%,1790000,-411704.2186954641,301.47222925263964,21.6,18:14:20\n",
      "18.0%,1800000,-411004.7186954641,303.0248365952838,21.6,18:13:00\n",
      "18.1%,1810000,-412443.7186954641,299.97945729751746,21.6,18:11:40\n",
      "18.2%,1820000,-412364.7186954641,299.480702143969,21.6,18:10:20\n",
      "18.3%,1830000,-411627.2186954641,301.3903415168661,21.6,18:09:00\n",
      "18.4%,1840000,-412292.4686954641,299.86652130014585,21.6,18:07:39\n",
      "18.5%,1850000,-412392.4686954641,298.42845476401635,21.6,18:06:19\n",
      "18.6%,1860000,-412171.2186954641,298.10071082903227,21.6,18:04:59\n",
      "18.7%,1870000,-411864.2186954641,299.32465566563127,21.6,18:03:39\n",
      "18.8%,1880000,-411116.2186954641,301.80747701414515,21.6,18:02:19\n",
      "18.9%,1890000,-411500.2186954641,298.30583869683795,21.6,18:00:59\n",
      "19.0%,1900000,-412458.2186954641,300.5484833417149,21.6,17:59:39\n",
      "19.1%,1910000,-411193.7186954641,302.29976631818795,21.6,17:58:19\n",
      "19.2%,1920000,-412348.7186954641,301.47214794068697,21.6,17:56:59\n",
      "19.3%,1930000,-412120.2186954641,299.86148315707936,21.6,17:55:39\n",
      "19.4%,1940000,-411933.2186954641,300.66805056144665,21.6,17:54:19\n",
      "19.5%,1950000,-412001.2186954641,298.4399008461147,21.6,17:52:59\n",
      "19.6%,1960000,-411494.7186954641,301.3611638622221,21.6,17:51:40\n",
      "19.7%,1970000,-412110.2186954641,300.06996771276425,21.6,17:50:20\n",
      "19.8%,1980000,-411997.4686954641,300.3079696270424,21.6,17:49:00\n",
      "19.9%,1990000,-412980.7186954641,301.95196377854893,21.6,17:47:40\n",
      "20.0%,2000000,-411488.2186954641,299.8625413804499,21.6,17:46:20\n",
      "20.1%,2010000,-410953.2186954641,297.1739091678822,21.6,17:45:01\n",
      "20.2%,2020000,-411587.2186954641,301.88275550184534,21.6,17:43:41\n",
      "20.3%,2030000,-413001.7186954641,300.9371061192986,21.6,17:42:21\n",
      "20.4%,2040000,-411008.7186954641,302.59719982306115,21.6,17:41:01\n",
      "20.5%,2050000,-411247.2186954641,298.71993621413634,21.6,17:39:41\n",
      "20.6%,2060000,-410443.2186954641,300.1444607854005,21.6,17:38:21\n",
      "20.7%,2070000,-411708.7186954641,298.8288638649963,21.6,17:37:01\n",
      "20.8%,2080000,-411673.2186954641,302.1869717792955,21.6,17:35:41\n",
      "20.9%,2090000,-411324.2186954641,299.0764429503597,21.6,17:34:21\n",
      "21.0%,2100000,-412337.9686954641,300.2363385452935,21.6,17:33:01\n",
      "21.1%,2110000,-411379.7186954641,298.24453000228965,21.6,17:31:41\n",
      "21.2%,2120000,-410323.7186954641,301.0150278333871,21.6,17:30:21\n",
      "21.3%,2130000,-411006.2186954641,301.07731036846553,21.6,17:29:01\n",
      "21.4%,2140000,-410387.7186954641,299.7928979786118,21.6,17:27:41\n",
      "21.5%,2150000,-411314.4686954641,299.3659069283539,21.6,17:26:21\n",
      "21.6%,2160000,-412039.9686954641,296.5369715025524,21.6,17:25:01\n",
      "21.7%,2170000,-411797.2186954641,300.51927947466476,21.6,17:23:41\n",
      "21.8%,2180000,-410823.9686954641,297.79021852375854,21.6,17:22:21\n",
      "21.9%,2190000,-411760.2186954641,302.27618967718604,21.6,17:21:01\n",
      "22.0%,2200000,-411493.2186954641,299.98002459986924,21.6,17:19:41\n",
      "22.1%,2210000,-411113.2186954641,298.0583077224134,21.6,17:18:21\n",
      "22.2%,2220000,-411357.7186954641,298.5323428407111,21.6,17:17:01\n",
      "22.3%,2230000,-411824.9686954641,298.4092518852493,21.6,17:15:42\n",
      "22.4%,2240000,-412502.4686954641,300.23507895311053,21.6,17:14:22\n",
      "22.5%,2250000,-412463.9686954641,299.96287136654865,21.6,17:13:02\n",
      "22.6%,2260000,-411976.4686954641,301.22095993095877,21.6,17:11:42\n",
      "22.7%,2270000,-411878.2186954641,298.1372302430244,21.6,17:10:22\n",
      "22.8%,2280000,-411661.2186954641,302.1566441483312,21.6,17:09:03\n",
      "22.9%,2290000,-411694.2186954641,302.1006393610371,21.6,17:07:43\n",
      "23.0%,2300000,-411197.2186954641,299.9806600704813,21.6,17:06:23\n",
      "23.1%,2310000,-411273.2186954641,301.50787081573355,21.6,17:05:03\n",
      "23.2%,2320000,-411691.2186954641,298.32481740616754,21.6,17:03:43\n",
      "23.3%,2330000,-411031.2186954641,302.8994367439376,21.6,17:02:23\n",
      "23.4%,2340000,-412361.2186954641,298.8630557556903,21.6,17:01:04\n",
      "23.5%,2350000,-411655.2186954641,300.02767865786114,21.6,16:59:44\n",
      "23.6%,2360000,-411931.2186954641,300.14981942155794,21.6,16:58:24\n",
      "23.7%,2370000,-411911.7186954641,298.02811983625736,21.6,16:57:04\n",
      "23.8%,2380000,-411524.7186954641,298.2886231030619,21.6,16:55:44\n",
      "23.9%,2390000,-410600.9686954641,299.4172025744761,21.6,16:54:24\n",
      "24.0%,2400000,-412042.2186954641,303.1584850765186,21.6,16:53:04\n",
      "24.1%,2410000,-410884.2186954641,301.80674680311944,21.6,16:51:44\n",
      "24.2%,2420000,-411576.2186954641,298.0655807184722,21.6,16:50:24\n",
      "24.3%,2430000,-410934.2186954641,302.134453572912,21.6,16:49:04\n",
      "24.4%,2440000,-410819.2186954641,300.08394315249654,21.6,16:47:44\n",
      "24.5%,2450000,-412083.2186954641,299.5492972642867,21.6,16:46:25\n",
      "24.6%,2460000,-411689.7186954641,299.6791743306323,21.6,16:45:05\n",
      "24.7%,2470000,-411886.7186954641,299.913896110066,21.6,16:43:45\n",
      "24.8%,2480000,-411301.7186954641,302.5628820779369,21.6,16:42:25\n",
      "24.9%,2490000,-412152.7186954641,299.0490493321053,21.6,16:41:05\n",
      "25.0%,2500000,-412752.2186954641,299.3997379190781,21.6,16:39:45\n",
      "25.1%,2510000,-412659.7186954641,302.1215306058779,21.6,16:38:25\n",
      "25.2%,2520000,-411143.2186954641,300.97603316405036,21.6,16:37:05\n",
      "25.3%,2530000,-412626.2186954641,296.77879371099203,21.6,16:35:45\n",
      "25.4%,2540000,-411859.4686954641,297.7933610872113,21.6,16:34:25\n",
      "25.5%,2550000,-411800.4686954641,298.6740377627855,21.6,16:33:05\n",
      "25.6%,2560000,-411499.9686954641,300.38040330463053,21.6,16:31:45\n",
      "25.7%,2570000,-411161.2186954641,301.70598056848166,21.6,16:30:25\n",
      "25.8%,2580000,-410473.9686954641,300.10527957146905,21.6,16:29:06\n",
      "25.9%,2590000,-411742.9686954641,298.3199389611703,21.6,16:27:46\n",
      "26.0%,2600000,-411903.7186954641,300.0349772390315,21.6,16:26:26\n",
      "26.1%,2610000,-413116.9686954641,298.48105002409045,21.6,16:25:06\n",
      "26.2%,2620000,-411104.7186954641,297.4343532021667,21.6,16:23:46\n",
      "26.3%,2630000,-411235.7186954641,300.050617273611,21.6,16:22:26\n",
      "26.4%,2640000,-411687.2186954641,298.7983534925253,21.6,16:21:06\n",
      "26.5%,2650000,-412030.7186954641,299.61704892957215,21.6,16:19:47\n",
      "26.6%,2660000,-411405.9686954641,302.6684389511466,21.6,16:18:27\n",
      "26.7%,2670000,-410647.7186954641,298.5520327129632,21.6,16:17:07\n",
      "26.8%,2680000,-411836.7186954641,299.26894651263285,21.6,16:15:47\n",
      "26.9%,2690000,-411082.7186954641,298.21763319124574,21.6,16:14:27\n",
      "27.0%,2700000,-411733.7186954641,301.0293469961893,21.6,16:13:07\n",
      "27.1%,2710000,-411996.2186954641,296.26328689495426,21.6,16:11:47\n",
      "27.2%,2720000,-410719.2186954641,299.6444522901628,21.6,16:10:27\n",
      "27.3%,2730000,-411859.7186954641,298.74849595923496,21.6,16:09:07\n",
      "27.4%,2740000,-410800.4686954641,299.28185084117615,21.6,16:07:47\n",
      "27.5%,2750000,-411248.2186954641,299.7855005045573,21.6,16:06:27\n",
      "27.6%,2760000,-410949.9686954641,301.8466158968023,21.6,16:05:07\n",
      "27.7%,2770000,-411893.7186954641,298.57114472959324,21.6,16:03:47\n",
      "27.8%,2780000,-411230.7186954641,300.0917475929333,21.6,16:02:27\n",
      "27.9%,2790000,-410664.4686954641,298.3113037020303,21.6,16:01:07\n",
      "28.0%,2800000,-412429.2186954641,299.3929123881989,21.6,15:59:47\n",
      "28.1%,2810000,-412144.7186954641,296.80019238665943,21.6,15:58:27\n",
      "28.2%,2820000,-412833.7186954641,300.39378891074864,21.6,15:57:08\n",
      "28.3%,2830000,-412904.7186954641,299.5985130536489,21.6,15:55:48\n",
      "28.4%,2840000,-411215.7186954641,300.3184058039748,21.6,15:54:28\n",
      "28.5%,2850000,-411657.2186954641,300.9834115935279,21.6,15:53:08\n",
      "28.6%,2860000,-411814.2186954641,300.83120844960274,21.6,15:51:48\n",
      "28.7%,2870000,-412669.2186954641,298.88618617274454,21.6,15:50:28\n",
      "28.8%,2880000,-412425.7186954641,302.29174219852564,21.6,15:49:08\n",
      "28.9%,2890000,-411622.2186954641,297.22759462916997,21.6,15:47:48\n",
      "29.0%,2900000,-411662.7186954641,299.1961404392212,21.6,15:46:28\n",
      "29.1%,2910000,-412000.7186954641,298.65645869820304,21.6,15:45:08\n",
      "29.2%,2920000,-411952.7186954641,300.3981987953705,21.6,15:43:48\n",
      "29.3%,2930000,-412251.2186954641,300.6819129506782,21.6,15:42:28\n",
      "29.4%,2940000,-411739.2186954641,301.63058288552133,21.6,15:41:08\n",
      "29.5%,2950000,-411244.7186954641,299.77888729432595,21.6,15:39:48\n",
      "29.6%,2960000,-411449.2186954641,299.79088941983747,21.6,15:38:28\n",
      "29.7%,2970000,-411083.7186954641,298.0962093429354,21.6,15:37:08\n",
      "29.8%,2980000,-411113.4686954641,301.94684422288344,21.6,15:35:48\n",
      "29.9%,2990000,-411418.4686954641,302.46805768860224,21.6,15:34:28\n",
      "30.0%,3000000,-410968.4686954641,301.1079566193894,21.6,15:33:08\n",
      "30.1%,3010000,-410968.4686954641,298.06996264758396,21.6,15:31:48\n",
      "30.2%,3020000,-411401.2186954641,300.66629381624995,21.6,15:30:29\n",
      "30.3%,3030000,-410757.2186954641,303.00334922434695,21.6,15:29:09\n",
      "30.4%,3040000,-411919.9686954641,298.71891731093814,21.6,15:27:49\n",
      "30.5%,3050000,-411677.9686954641,298.82853486149634,21.6,15:26:29\n",
      "30.6%,3060000,-410854.7186954641,302.6985683635634,21.6,15:25:09\n",
      "30.7%,3070000,-411926.7186954641,302.2619679819919,21.6,15:23:49\n",
      "30.8%,3080000,-412513.7186954641,299.4135574457515,21.6,15:22:29\n",
      "30.9%,3090000,-411346.4686954641,301.54352880453666,21.6,15:21:09\n",
      "31.0%,3100000,-411624.7186954641,299.513169580407,21.6,15:19:49\n",
      "31.1%,3110000,-412278.9686954641,301.43703074614746,21.6,15:18:29\n",
      "31.2%,3120000,-411013.7186954641,302.23336230002246,21.6,15:17:09\n",
      "31.3%,3130000,-411838.7186954641,300.8193046590921,21.6,15:15:49\n",
      "31.4%,3140000,-411185.7186954641,304.1373550154316,21.6,15:14:29\n",
      "31.5%,3150000,-411744.2186954641,298.7607437657238,21.6,15:13:09\n",
      "31.6%,3160000,-412590.7186954641,297.18891606061476,21.6,15:11:49\n",
      "31.7%,3170000,-411485.7186954641,300.7326144449104,21.6,15:10:29\n",
      "31.8%,3180000,-412792.2186954641,301.30719522999243,21.6,15:09:09\n",
      "31.9%,3190000,-411679.2186954641,301.56705645017723,21.6,15:07:49\n",
      "32.0%,3200000,-411085.2186954641,298.6200076243749,21.6,15:06:29\n",
      "32.1%,3210000,-410993.7186954641,297.02393930509385,21.6,15:05:09\n",
      "32.2%,3220000,-411567.2186954641,297.8411648508894,21.6,15:03:49\n",
      "32.3%,3230000,-411454.7186954641,297.2406250425218,21.6,15:02:29\n",
      "32.4%,3240000,-411153.7186954641,301.8703818140095,21.6,15:01:09\n",
      "32.5%,3250000,-411816.9686954641,301.39635575102704,21.6,14:59:49\n",
      "32.6%,3260000,-411369.2186954641,299.0063105107922,21.6,14:58:29\n",
      "32.7%,3270000,-412722.7186954641,299.2908379703356,21.6,14:57:09\n",
      "32.8%,3280000,-411405.7186954641,299.8505393792563,21.6,14:55:49\n",
      "32.9%,3290000,-411081.9686954641,298.01344619569795,21.6,14:54:29\n",
      "33.0%,3300000,-411113.9686954641,301.2437291292848,21.6,14:53:09\n",
      "33.1%,3310000,-411317.2186954641,300.11313877084734,21.6,14:51:49\n",
      "33.2%,3320000,-411160.7186954641,301.6480437898615,21.6,14:50:29\n",
      "33.3%,3330000,-411383.7186954641,300.03954286222495,21.6,14:49:09\n",
      "33.4%,3340000,-411433.2186954641,298.3897566257699,21.6,14:47:49\n",
      "33.5%,3350000,-411658.2186954641,299.57550769783916,21.6,14:46:29\n",
      "33.6%,3360000,-410957.2186954641,299.73539250043063,21.6,14:45:09\n",
      "33.7%,3370000,-411018.9686954641,298.25321706929793,21.6,14:43:49\n",
      "33.8%,3380000,-413315.9686954641,298.9922159190392,21.6,14:42:29\n",
      "33.9%,3390000,-411612.7186954641,297.9387484522774,21.6,14:41:09\n",
      "34.0%,3400000,-411830.4686954641,298.4865921114511,21.6,14:39:49\n",
      "34.1%,3410000,-411352.7186954641,299.2437000661759,21.6,14:38:29\n",
      "34.2%,3420000,-412145.4686954641,299.99308390885153,21.6,14:37:09\n",
      "34.3%,3430000,-411635.4686954641,300.32643352415647,21.6,14:35:49\n",
      "34.4%,3440000,-410252.7186954641,301.0297911168136,21.6,14:34:29\n",
      "34.5%,3450000,-411060.2186954641,300.69852861287046,21.6,14:33:09\n",
      "34.6%,3460000,-411521.9686954641,299.7600685981004,21.6,14:31:49\n",
      "34.7%,3470000,-410396.7186954641,298.0714981102624,21.6,14:30:29\n",
      "34.8%,3480000,-411110.7186954641,298.18923950085156,21.6,14:29:09\n",
      "34.9%,3490000,-411210.7186954641,298.5420916992715,21.6,14:27:49\n",
      "35.0%,3500000,-412487.7186954641,300.68954410198995,21.6,14:26:29\n",
      "35.1%,3510000,-411631.2186954641,299.8430706489212,21.6,14:25:09\n",
      "35.2%,3520000,-412336.2186954641,300.03685530191404,21.6,14:23:49\n",
      "35.3%,3530000,-411056.7186954641,301.156690449463,21.6,14:22:29\n",
      "35.4%,3540000,-411517.2186954641,300.4895549916789,21.6,14:21:09\n",
      "35.5%,3550000,-410145.2186954641,298.3816181123566,21.6,14:19:49\n",
      "35.6%,3560000,-411264.2186954641,297.54605525097065,21.6,14:18:29\n",
      "35.7%,3570000,-411496.7186954641,298.8691093727439,21.6,14:17:09\n",
      "35.8%,3580000,-411835.4686954641,301.09647561063053,21.6,14:15:49\n",
      "35.9%,3590000,-411562.2186954641,298.7870151702007,21.6,14:14:29\n",
      "36.0%,3600000,-410853.7186954641,300.6406333075666,21.6,14:13:09\n",
      "36.1%,3610000,-411106.7186954641,302.5073934091315,21.6,14:11:49\n",
      "36.2%,3620000,-411737.4686954641,301.0668459850854,21.6,14:10:29\n",
      "36.3%,3630000,-412282.7186954641,298.4421659611077,21.6,14:09:09\n",
      "36.4%,3640000,-412359.2186954641,303.54228101802556,21.6,14:07:49\n",
      "36.5%,3650000,-411733.2186954641,300.2041835044449,21.6,14:06:29\n",
      "36.6%,3660000,-411548.7186954641,299.744290863388,21.6,14:05:09\n",
      "36.7%,3670000,-410642.2186954641,302.29581530578,21.6,14:03:49\n",
      "36.8%,3680000,-413206.2186954641,297.4658559951061,21.6,14:02:29\n",
      "36.9%,3690000,-411663.7186954641,301.3045507081546,21.6,14:01:09\n",
      "37.0%,3700000,-410416.2186954641,301.1516277093127,21.6,13:59:49\n",
      "37.1%,3710000,-411391.7186954641,300.0304025845872,21.6,13:58:29\n",
      "37.2%,3720000,-410052.2186954641,298.04353229986316,21.6,13:57:09\n",
      "37.3%,3730000,-410601.2186954641,301.61613955628036,21.6,13:55:49\n",
      "37.4%,3740000,-411230.2186954641,298.6038144006812,21.6,13:54:29\n",
      "37.5%,3750000,-411409.2186954641,297.8636881229225,21.6,13:53:09\n",
      "37.6%,3760000,-411045.7186954641,301.0402523630056,21.6,13:51:49\n",
      "37.7%,3770000,-411964.2186954641,301.9868558086674,21.6,13:50:29\n",
      "37.8%,3780000,-411311.2186954641,302.2772926384205,21.6,13:49:09\n",
      "37.9%,3790000,-411305.9686954641,296.33254852526784,21.6,13:47:49\n",
      "38.0%,3800000,-412180.7186954641,301.63622599616747,21.6,13:46:29\n",
      "38.1%,3810000,-412673.7186954641,300.0399205985891,21.6,13:45:09\n",
      "38.2%,3820000,-411492.4686954641,302.3981040375682,21.6,13:43:49\n",
      "38.3%,3830000,-412193.4686954641,301.55300719938657,21.6,13:42:29\n",
      "38.4%,3840000,-411652.7186954641,299.19580941669744,21.6,13:41:08\n",
      "38.5%,3850000,-412417.4686954641,301.6810995415372,21.6,13:39:48\n",
      "38.6%,3860000,-412016.7186954641,298.01665286135074,21.6,13:38:28\n",
      "38.7%,3870000,-411168.4686954641,298.41680689307327,21.6,13:37:08\n",
      "38.8%,3880000,-412121.2186954641,297.4564814577581,21.6,13:35:48\n",
      "38.9%,3890000,-411479.2186954641,300.0423016236433,21.6,13:34:28\n",
      "39.0%,3900000,-412191.9686954641,300.71706006291504,21.6,13:33:08\n",
      "39.1%,3910000,-412001.7186954641,298.94105513596395,21.6,13:31:48\n",
      "39.2%,3920000,-412475.9686954641,298.10942535454535,21.6,13:30:28\n",
      "39.3%,3930000,-412116.9686954641,300.31776084585516,21.6,13:29:08\n",
      "39.4%,3940000,-412124.2186954641,300.70859132837444,21.6,13:27:48\n",
      "39.5%,3950000,-412409.2186954641,299.22177608361477,21.6,13:26:28\n",
      "39.6%,3960000,-412351.4686954641,298.32755959234646,21.6,13:25:08\n",
      "39.7%,3970000,-411533.9686954641,299.98843849342126,21.6,13:23:48\n",
      "39.8%,3980000,-410495.2186954641,301.3192876195164,21.6,13:22:28\n",
      "39.9%,3990000,-410506.2186954641,296.2278890928294,21.6,13:21:08\n",
      "40.0%,4000000,-411413.7186954641,299.26501152402557,21.6,13:19:48\n",
      "40.1%,4010000,-411432.9686954641,299.95168585521753,21.6,13:18:28\n",
      "40.2%,4020000,-411812.2186954641,299.8995928336602,21.6,13:17:08\n",
      "40.3%,4030000,-412000.9686954641,298.85179531454673,21.6,13:15:48\n",
      "40.4%,4040000,-411864.9686954641,299.3024490626988,21.6,13:14:28\n",
      "40.5%,4050000,-411957.9686954641,299.26874168488547,21.6,13:13:08\n",
      "40.6%,4060000,-411389.2186954641,300.0409807097185,21.6,13:11:48\n",
      "40.7%,4070000,-411238.7186954641,298.7707720539638,21.6,13:10:28\n",
      "40.8%,4080000,-411810.7186954641,303.7861825216476,21.6,13:09:08\n",
      "40.9%,4090000,-411513.7186954641,299.953839748195,21.6,13:07:48\n",
      "41.0%,4100000,-411649.2186954641,298.8965710647208,21.6,13:06:28\n",
      "41.1%,4110000,-411199.2186954641,298.22069651550646,21.6,13:05:08\n",
      "41.2%,4120000,-411620.9686954641,299.4699039170945,21.6,13:03:48\n",
      "41.3%,4130000,-410656.2186954641,301.2887576509727,21.6,13:02:28\n",
      "41.4%,4140000,-412515.7186954641,297.9358036464974,21.6,13:01:07\n",
      "41.5%,4150000,-412867.7186954641,301.30744163174086,21.6,12:59:47\n",
      "41.6%,4160000,-411292.7186954641,300.602384068963,21.6,12:58:27\n",
      "41.7%,4170000,-411317.2186954641,300.9501860002913,21.6,12:57:07\n",
      "41.8%,4180000,-411159.7186954641,297.3278248656372,21.6,12:55:47\n",
      "41.9%,4190000,-411945.4686954641,298.5868201859785,21.6,12:54:27\n",
      "42.0%,4200000,-411321.7186954641,298.3304070244327,21.6,12:53:07\n",
      "42.1%,4210000,-411700.7186954641,297.93406998288754,21.6,12:51:47\n",
      "42.2%,4220000,-410843.2186954641,302.2638398960736,21.6,12:50:27\n",
      "42.3%,4230000,-411262.2186954641,302.03218901815774,21.6,12:49:07\n",
      "42.4%,4240000,-412076.9686954641,297.44793379289365,21.6,12:47:47\n",
      "42.5%,4250000,-410736.4686954641,299.69652599832426,21.6,12:46:27\n",
      "42.6%,4260000,-412123.7186954641,300.3223054950826,21.6,12:45:07\n",
      "42.7%,4270000,-411496.2186954641,299.6776234971491,21.6,12:43:47\n",
      "42.8%,4280000,-411882.7186954641,301.88609816147897,21.6,12:42:27\n",
      "42.9%,4290000,-412036.4686954641,301.6073320443469,21.6,12:41:07\n",
      "43.0%,4300000,-411179.4686954641,300.4115652968112,21.6,12:39:47\n",
      "43.1%,4310000,-412104.2186954641,297.782747739874,21.6,12:38:27\n",
      "43.2%,4320000,-411177.9686954641,301.81472588721635,21.6,12:37:06\n",
      "43.3%,4330000,-411617.7186954641,298.39218712103474,21.6,12:35:46\n",
      "43.4%,4340000,-411941.7186954641,296.96850557906305,21.6,12:34:26\n",
      "43.5%,4350000,-411864.4686954641,300.5212567468969,21.6,12:33:06\n",
      "43.6%,4360000,-411317.2186954641,297.18781321037795,21.6,12:31:46\n",
      "43.7%,4370000,-411300.7186954641,301.99682307423734,21.6,12:30:26\n",
      "43.8%,4380000,-412016.2186954641,298.07545985073625,21.6,12:29:06\n",
      "43.9%,4390000,-411906.7186954641,299.4876833470943,21.6,12:27:46\n",
      "44.0%,4400000,-411933.2186954641,299.64349152165846,21.6,12:26:26\n",
      "44.1%,4410000,-412706.7186954641,299.92463193772403,21.6,12:25:06\n",
      "44.2%,4420000,-411900.2186954641,298.51608962607605,21.6,12:23:45\n",
      "44.3%,4430000,-411391.7186954641,299.0374595024398,21.6,12:22:25\n",
      "44.4%,4440000,-410770.2186954641,299.81946561075614,21.6,12:21:05\n",
      "44.5%,4450000,-411343.7186954641,300.0805357582343,21.6,12:19:45\n",
      "44.6%,4460000,-411636.9686954641,299.8092314529415,21.6,12:18:25\n",
      "44.7%,4470000,-412590.7186954641,300.47872750383084,21.6,12:17:05\n",
      "44.8%,4480000,-412974.2186954641,300.8784562765415,21.6,12:15:45\n",
      "44.9%,4490000,-411027.2186954641,300.99750687636754,21.6,12:14:25\n",
      "45.0%,4500000,-411984.4686954641,300.20153253548074,21.6,12:13:05\n",
      "45.1%,4510000,-411068.2186954641,299.72753286217073,21.6,12:11:45\n",
      "45.2%,4520000,-411761.7186954641,299.1402739419393,21.6,12:10:24\n",
      "45.3%,4530000,-412044.7186954641,299.43404778912736,21.6,12:09:04\n",
      "45.4%,4540000,-410821.7186954641,301.4452827288472,21.6,12:07:44\n",
      "45.5%,4550000,-411868.2186954641,301.01492006632685,21.6,12:06:24\n",
      "45.6%,4560000,-410971.7186954641,302.2309092489516,21.6,12:05:04\n",
      "45.7%,4570000,-413275.2186954641,299.117155531745,21.6,12:03:44\n",
      "45.8%,4580000,-410922.7186954641,298.4868925699125,21.6,12:02:24\n",
      "45.9%,4590000,-411670.2186954641,301.4786395149391,21.6,12:01:04\n",
      "46.0%,4600000,-412986.7186954641,302.5191934329302,21.6,11:59:44\n",
      "46.1%,4610000,-411602.2186954641,300.00559433346655,21.6,11:58:24\n",
      "46.2%,4620000,-411820.9686954641,299.0581166417536,21.6,11:57:03\n",
      "46.3%,4630000,-411769.4686954641,301.072887255846,21.6,11:55:43\n",
      "46.4%,4640000,-411828.7186954641,300.35321815692276,21.6,11:54:23\n",
      "46.5%,4650000,-411544.4686954641,301.7470607057518,21.6,11:53:03\n",
      "46.6%,4660000,-411129.7186954641,300.6030997150298,21.6,11:51:43\n",
      "46.7%,4670000,-411804.7186954641,302.7670751062611,21.6,11:50:24\n",
      "46.8%,4680000,-410941.2186954641,298.4245925312146,21.6,11:49:05\n",
      "46.9%,4690000,-412018.2186954641,299.31050031068315,21.6,11:47:46\n",
      "47.0%,4700000,-411065.2186954641,303.07716487639,21.6,11:46:27\n",
      "47.1%,4710000,-412101.7186954641,295.9120695131172,21.6,11:45:08\n",
      "47.2%,4720000,-411560.7186954641,302.4234905880267,21.6,11:43:48\n",
      "47.3%,4730000,-411795.4686954641,297.2761437598142,21.6,11:42:28\n",
      "47.4%,4740000,-412285.9686954641,302.75608966291594,21.6,11:41:08\n",
      "47.5%,4750000,-411602.7186954641,304.2415006819103,21.6,11:39:48\n",
      "47.6%,4760000,-412338.2186954641,301.96810171989415,21.6,11:38:28\n",
      "47.7%,4770000,-411015.7186954641,300.80435735024537,21.6,11:37:08\n",
      "47.8%,4780000,-411340.2186954641,299.1956355519938,21.6,11:35:48\n",
      "47.9%,4790000,-412199.7186954641,300.09228810962384,21.6,11:34:27\n",
      "48.0%,4800000,-411618.7186954641,300.1658886406326,21.6,11:33:07\n",
      "48.1%,4810000,-411729.7186954641,298.04487666160816,21.6,11:31:47\n",
      "48.2%,4820000,-411656.7186954641,300.71874306238516,21.6,11:30:27\n",
      "48.3%,4830000,-412419.2186954641,300.0059915748729,21.6,11:29:07\n",
      "48.4%,4840000,-411961.7186954641,297.3898226439502,21.6,11:27:47\n",
      "48.5%,4850000,-411812.2186954641,297.4197416055296,21.6,11:26:27\n",
      "48.6%,4860000,-411098.2186954641,299.4749897412993,21.6,11:25:07\n",
      "48.7%,4870000,-412104.2186954641,301.68119366844223,21.6,11:23:47\n",
      "48.8%,4880000,-412242.2186954641,296.1780617296092,21.6,11:22:27\n",
      "48.9%,4890000,-411826.9686954641,299.49006284803716,21.6,11:21:07\n",
      "49.0%,4900000,-412847.4686954641,301.0283021993191,21.6,11:19:47\n",
      "49.1%,4910000,-413236.7186954641,296.25494575221694,21.6,11:18:27\n",
      "49.2%,4920000,-413059.2186954641,299.2065986264671,21.6,11:17:07\n",
      "49.3%,4930000,-411323.4686954641,299.32188574179816,21.6,11:15:46\n",
      "49.4%,4940000,-411635.7186954641,300.03039351271445,21.6,11:14:26\n",
      "49.5%,4950000,-411623.7186954641,297.13034327406507,21.6,11:13:06\n",
      "49.6%,4960000,-411465.7186954641,300.0489571596212,21.6,11:11:46\n",
      "49.7%,4970000,-411744.9686954641,299.7545047465885,21.6,11:10:26\n",
      "49.8%,4980000,-411310.7186954641,299.99809258311416,21.6,11:09:06\n",
      "49.9%,4990000,-411142.4686954641,303.1275081567305,21.6,11:07:46\n",
      "50.0%,5000000,-411765.2186954641,299.9324538120635,21.6,11:06:26\n",
      "50.1%,5010000,-412190.9686954641,298.2810396952154,21.6,11:05:06\n",
      "50.2%,5020000,-411819.2186954641,303.6159879706949,21.6,11:03:46\n",
      "50.3%,5030000,-412495.9686954641,300.8658736069476,21.6,11:02:26\n",
      "50.4%,5040000,-412476.7186954641,298.22451225886437,21.6,11:01:06\n",
      "50.5%,5050000,-411974.2186954641,302.441372936154,21.6,10:59:46\n",
      "50.6%,5060000,-411995.2186954641,298.447959112814,21.6,10:58:26\n",
      "50.7%,5070000,-411558.4686954641,299.13941343061595,21.6,10:57:06\n",
      "50.8%,5080000,-412296.7186954641,298.42566614843304,21.6,10:55:46\n",
      "50.9%,5090000,-410263.9686954641,298.0555086139734,21.6,10:54:26\n",
      "51.0%,5100000,-412047.2186954641,300.3744071111134,21.6,10:53:05\n",
      "51.1%,5110000,-413001.7186954641,298.95969878212577,21.6,10:51:45\n",
      "51.2%,5120000,-411411.9686954641,301.43245402206014,21.6,10:50:25\n",
      "51.3%,5130000,-411266.2186954641,299.99526966190837,21.6,10:49:05\n",
      "51.4%,5140000,-411366.2186954641,301.84127894693097,21.6,10:47:45\n",
      "51.5%,5150000,-410304.4686954641,301.1650241437665,21.6,10:46:25\n",
      "51.6%,5160000,-412175.7186954641,300.47856315081145,21.6,10:45:05\n",
      "51.7%,5170000,-411295.2186954641,300.01000393381776,21.6,10:43:45\n",
      "51.8%,5180000,-411659.7186954641,298.74525876454385,21.6,10:42:25\n",
      "51.9%,5190000,-412408.4686954641,299.1710829309738,21.6,10:41:05\n",
      "52.0%,5200000,-411885.7186954641,300.5147471968768,21.6,10:39:45\n",
      "52.1%,5210000,-412459.2186954641,300.24973392445673,21.6,10:38:25\n",
      "52.2%,5220000,-411423.2186954641,297.94322108933363,21.6,10:37:04\n",
      "52.3%,5230000,-411515.9686954641,298.78729352543724,21.6,10:35:44\n",
      "52.4%,5240000,-412642.9686954641,300.96148899412924,21.6,10:34:24\n",
      "52.5%,5250000,-411811.7186954641,304.08866509336264,21.6,10:33:04\n",
      "52.6%,5260000,-412313.7186954641,298.46367947797637,21.6,10:31:44\n",
      "52.7%,5270000,-411608.2186954641,299.35344107125354,21.6,10:30:24\n",
      "52.8%,5280000,-411634.2186954641,299.8840422350943,21.6,10:29:04\n",
      "52.9%,5290000,-411217.4686954641,303.01953103857835,21.6,10:27:44\n",
      "53.0%,5300000,-411724.7186954641,298.08588154432954,21.6,10:26:24\n",
      "53.1%,5310000,-411204.7186954641,296.9755587055587,21.6,10:25:04\n",
      "53.2%,5320000,-411842.9686954641,296.4483772351737,21.6,10:23:44\n",
      "53.3%,5330000,-412156.2186954641,301.29996097554204,21.6,10:22:24\n",
      "53.4%,5340000,-411667.4686954641,297.9930778592215,21.6,10:21:04\n",
      "53.5%,5350000,-410900.7186954641,296.7733190825054,21.6,10:19:44\n",
      "53.6%,5360000,-411211.7186954641,297.81550347076166,21.6,10:18:23\n",
      "53.7%,5370000,-413321.4686954641,301.07438678993117,21.6,10:17:03\n",
      "53.8%,5380000,-412718.2186954641,300.28889962261957,21.6,10:15:43\n",
      "53.9%,5390000,-411958.2186954641,298.7817438695289,21.6,10:14:23\n",
      "54.0%,5400000,-411045.2186954641,299.1339434604394,21.6,10:13:03\n",
      "54.1%,5410000,-411300.7186954641,300.0598514130637,21.6,10:11:43\n",
      "54.2%,5420000,-412414.7186954641,301.33843002161495,21.6,10:10:23\n",
      "54.3%,5430000,-413235.7186954641,299.2944695844995,21.6,10:09:03\n",
      "54.4%,5440000,-412123.2186954641,300.332553633397,21.6,10:07:43\n",
      "54.5%,5450000,-411530.2186954641,301.19719176432403,21.6,10:06:23\n",
      "54.6%,5460000,-410939.2186954641,298.5333946584517,21.6,10:05:03\n",
      "54.7%,5470000,-411695.4686954641,301.5808084182742,21.6,10:03:43\n",
      "54.8%,5480000,-411398.2186954641,296.5426762869764,21.6,10:02:23\n",
      "54.9%,5490000,-411552.7186954641,297.9364287672393,21.6,10:01:03\n",
      "55.0%,5500000,-411907.2186954641,300.7726975303705,21.6,9:59:43\n",
      "55.1%,5510000,-411691.7186954641,298.225601721039,21.6,9:58:23\n",
      "55.2%,5520000,-412748.2186954641,299.7015385587557,21.6,9:57:03\n",
      "55.3%,5530000,-411561.9686954641,297.1316216864913,21.6,9:55:43\n",
      "55.4%,5540000,-412388.2186954641,301.68755402954406,21.6,9:54:23\n",
      "55.5%,5550000,-412637.7186954641,302.3738409977039,21.6,9:53:03\n",
      "55.6%,5560000,-412417.7186954641,297.56149750576895,21.6,9:51:44\n",
      "55.7%,5570000,-411811.4686954641,299.06092352991703,21.6,9:50:24\n",
      "55.8%,5580000,-410856.2186954641,301.30347771029403,21.6,9:49:05\n",
      "55.9%,5590000,-411947.9686954641,297.9799967083493,21.6,9:47:46\n",
      "56.0%,5600000,-410675.7186954641,299.2432440557566,21.6,9:46:26\n",
      "56.1%,5610000,-411547.7186954641,298.87391040452496,21.6,9:45:06\n",
      "56.2%,5620000,-411980.7186954641,299.93357583910694,21.6,9:43:46\n",
      "56.3%,5630000,-412267.2186954641,298.919429309592,21.6,9:42:26\n",
      "56.4%,5640000,-412707.9686954641,301.0126883166808,21.6,9:41:05\n",
      "56.5%,5650000,-411448.2186954641,302.96925471370764,21.6,9:39:45\n",
      "56.6%,5660000,-412109.9686954641,301.0341210738927,21.6,9:38:25\n",
      "56.7%,5670000,-412373.7186954641,300.288510225457,21.6,9:37:05\n",
      "56.8%,5680000,-412817.4686954641,303.84225335142776,21.6,9:35:45\n",
      "56.9%,5690000,-411901.9686954641,300.9400308167108,21.6,9:34:25\n",
      "57.0%,5700000,-411721.2186954641,299.4468491836514,21.6,9:33:05\n",
      "57.1%,5710000,-411772.7186954641,299.3880811173265,21.6,9:31:45\n",
      "57.2%,5720000,-410808.2186954641,298.6465184667356,21.6,9:30:25\n",
      "57.3%,5730000,-412317.7186954641,300.22880785782974,21.6,9:29:05\n",
      "57.4%,5740000,-412638.2186954641,299.90255975228706,21.6,9:27:45\n",
      "57.5%,5750000,-411133.7186954641,298.3248483841677,21.6,9:26:25\n",
      "57.6%,5760000,-412132.7186954641,301.9995424097587,21.6,9:25:05\n",
      "57.7%,5770000,-413140.4686954641,296.9156388848151,21.6,9:23:45\n",
      "57.8%,5780000,-412040.2186954641,300.6550774910134,21.6,9:22:25\n",
      "57.9%,5790000,-413169.9686954641,301.3692174108907,21.6,9:21:05\n",
      "58.0%,5800000,-412535.9686954641,294.66476914104487,21.6,9:19:45\n",
      "58.1%,5810000,-412052.4686954641,297.91643240522063,21.6,9:18:25\n",
      "58.2%,5820000,-411468.7186954641,303.0957718176848,21.6,9:17:05\n",
      "58.3%,5830000,-411721.7186954641,298.0569772270711,21.6,9:15:45\n",
      "58.4%,5840000,-411606.4686954641,297.10636166818216,21.6,9:14:25\n",
      "58.5%,5850000,-412362.2186954641,300.5098630201061,21.6,9:13:05\n",
      "58.6%,5860000,-411881.2186954641,300.03778059346223,21.6,9:11:45\n",
      "58.7%,5870000,-411387.4686954641,297.7575350377242,21.6,9:10:25\n",
      "58.8%,5880000,-410643.7186954641,298.13277473661617,21.6,9:09:05\n",
      "58.9%,5890000,-411809.7186954641,302.45150037077815,21.6,9:07:45\n",
      "59.0%,5900000,-413175.9686954641,299.3023678663634,21.6,9:06:25\n",
      "59.1%,5910000,-411469.7186954641,298.65849309906287,21.6,9:05:05\n",
      "59.2%,5920000,-411904.4686954641,297.40962362546094,21.6,9:03:45\n",
      "59.3%,5930000,-411412.7186954641,300.1085500808919,21.6,9:02:25\n",
      "59.4%,5940000,-413089.2186954641,301.0087009145996,21.6,9:01:05\n",
      "59.5%,5950000,-412228.2186954641,298.1189940122963,21.6,8:59:45\n",
      "59.6%,5960000,-411737.9686954641,300.3706198366125,21.6,8:58:25\n",
      "59.7%,5970000,-412346.2186954641,301.8051369065083,21.6,8:57:05\n",
      "59.8%,5980000,-411943.9686954641,299.89200673908107,21.6,8:55:45\n",
      "59.9%,5990000,-411885.7186954641,300.34780868945063,21.6,8:54:25\n",
      "60.0%,6000000,-411322.9686954641,300.05557856424275,21.6,8:53:05\n",
      "60.1%,6010000,-411174.7186954641,300.46315245216863,21.6,8:51:45\n",
      "60.2%,6020000,-412225.9686954641,298.21166651990933,21.6,8:50:25\n",
      "60.3%,6030000,-412484.2186954641,298.1739340180526,21.6,8:49:05\n",
      "60.4%,6040000,-412715.7186954641,298.89464700222055,21.6,8:47:45\n",
      "60.5%,6050000,-411357.7186954641,300.33584252045495,21.6,8:46:25\n",
      "60.6%,6060000,-412779.4686954641,298.5462675156571,21.6,8:45:05\n",
      "60.7%,6070000,-411377.7186954641,299.3479904695232,21.6,8:43:45\n",
      "60.8%,6080000,-412278.2186954641,298.6990306408217,21.6,8:42:25\n",
      "60.9%,6090000,-412132.7186954641,300.21944245780134,21.6,8:41:05\n",
      "61.0%,6100000,-412134.7186954641,297.759595692735,21.6,8:39:45\n",
      "61.1%,6110000,-412822.9686954641,302.21127608399803,21.6,8:38:25\n",
      "61.2%,6120000,-411788.7186954641,301.2045360014532,21.6,8:37:05\n",
      "61.3%,6130000,-411061.7186954641,301.2341012809901,21.6,8:35:45\n",
      "61.4%,6140000,-411124.9686954641,300.9251930440191,21.6,8:34:26\n",
      "61.5%,6150000,-411042.2186954641,302.6339853164465,21.6,8:33:06\n",
      "61.6%,6160000,-411844.2186954641,300.3154827918166,21.6,8:31:47\n",
      "61.7%,6170000,-411548.4686954641,301.66724571585934,21.6,8:30:27\n",
      "61.8%,6180000,-411834.2186954641,296.7268363485817,21.6,8:29:07\n",
      "61.9%,6190000,-412155.2186954641,301.3968727254143,21.6,8:27:47\n",
      "62.0%,6200000,-411756.2186954641,299.92731271516226,21.6,8:26:27\n",
      "62.1%,6210000,-410850.4686954641,300.703454647704,21.6,8:25:07\n",
      "62.2%,6220000,-413398.7186954641,301.15426024196086,21.6,8:23:47\n",
      "62.3%,6230000,-412563.7186954641,302.1175991802024,21.6,8:22:27\n",
      "62.4%,6240000,-411076.2186954641,305.04423897792094,21.6,8:21:07\n",
      "62.5%,6250000,-411999.7186954641,299.33553200828834,21.6,8:19:47\n",
      "62.6%,6260000,-411784.7186954641,299.022751177287,21.6,8:18:27\n",
      "62.7%,6270000,-411246.4686954641,301.3193912515769,21.6,8:17:07\n",
      "62.8%,6280000,-411444.2186954641,300.86260706166814,21.6,8:15:48\n",
      "62.9%,6290000,-411424.4686954641,300.85107457282515,21.6,8:14:28\n",
      "63.0%,6300000,-412620.2186954641,297.2213889205987,21.6,8:13:08\n",
      "63.1%,6310000,-411851.2186954641,299.12719267011516,21.6,8:11:48\n",
      "63.2%,6320000,-410694.2186954641,299.31132981552264,21.6,8:10:28\n",
      "63.3%,6330000,-411605.7186954641,301.76382500498016,21.6,8:09:08\n",
      "63.4%,6340000,-411427.2186954641,298.68833439207907,21.6,8:07:48\n",
      "63.5%,6350000,-411966.4686954641,300.08306332406,21.6,8:06:28\n",
      "63.6%,6360000,-411954.4686954641,298.98851978799087,21.6,8:05:08\n",
      "63.7%,6370000,-411628.2186954641,299.99952058735784,21.6,8:03:48\n",
      "63.8%,6380000,-411741.7186954641,302.8381925862829,21.6,8:02:28\n",
      "63.9%,6390000,-411934.7186954641,303.0973384936249,21.6,8:01:08\n",
      "64.0%,6400000,-413223.7186954641,299.66950384630803,21.6,7:59:48\n",
      "64.1%,6410000,-413264.7186954641,301.28420680167056,21.6,7:58:28\n",
      "64.2%,6420000,-412295.9686954641,301.1417423173634,21.6,7:57:08\n",
      "64.3%,6430000,-413165.7186954641,300.49642667281876,21.6,7:55:48\n",
      "64.4%,6440000,-412702.2186954641,295.367523899135,21.6,7:54:28\n",
      "64.5%,6450000,-412044.2186954641,298.48467952199115,21.6,7:53:08\n",
      "64.6%,6460000,-411214.7186954641,299.7206346343754,21.6,7:51:48\n",
      "64.7%,6470000,-412143.7186954641,300.769126019604,21.6,7:50:28\n",
      "64.8%,6480000,-412300.2186954641,298.49305241817154,21.6,7:49:08\n",
      "64.9%,6490000,-412454.4686954641,298.40198791518867,21.6,7:47:48\n",
      "65.0%,6500000,-412950.2186954641,300.1806067252361,21.6,7:46:28\n",
      "65.1%,6510000,-411496.2186954641,298.4058672119908,21.6,7:45:08\n",
      "65.2%,6520000,-411503.2186954641,296.54028565235626,21.6,7:43:48\n",
      "65.3%,6530000,-412310.7186954641,299.0980440845987,21.6,7:42:28\n",
      "65.4%,6540000,-412017.7186954641,301.09944741976227,21.6,7:41:08\n",
      "65.5%,6550000,-412118.2186954641,301.22602021405146,21.6,7:39:48\n",
      "65.6%,6560000,-412215.7186954641,301.27105783707356,21.6,7:38:28\n",
      "65.7%,6570000,-411909.9686954641,297.84145868166974,21.6,7:37:08\n",
      "65.8%,6580000,-411087.4686954641,301.9320783073826,21.6,7:35:48\n",
      "65.9%,6590000,-412019.4686954641,299.0138606157359,21.6,7:34:29\n",
      "66.0%,6600000,-412404.7186954641,297.5730007335593,21.6,7:33:09\n",
      "66.1%,6610000,-412438.2186954641,300.4368539958582,21.6,7:31:49\n",
      "66.2%,6620000,-411372.9686954641,297.69524577067136,21.6,7:30:29\n",
      "66.3%,6630000,-412753.7186954641,299.07781677829337,21.6,7:29:09\n",
      "66.4%,6640000,-411291.4686954641,300.590225731708,21.6,7:27:49\n",
      "66.5%,6650000,-411092.4686954641,300.0152840163875,21.6,7:26:29\n",
      "66.6%,6660000,-411786.9686954641,301.58993658692077,21.6,7:25:09\n",
      "66.7%,6670000,-412410.9686954641,301.6317029306256,21.6,7:23:49\n",
      "66.8%,6680000,-412020.2186954641,299.1970918000333,21.6,7:22:29\n",
      "66.9%,6690000,-412296.2186954641,301.8287340638412,21.6,7:21:09\n",
      "67.0%,6700000,-411069.4686954641,301.305905453129,21.6,7:19:49\n",
      "67.1%,6710000,-411044.7186954641,300.6305610050774,21.6,7:18:29\n",
      "67.2%,6720000,-410907.7186954641,299.5470423453926,21.6,7:17:09\n",
      "67.3%,6730000,-412528.2186954641,299.4684676103572,21.6,7:15:49\n",
      "67.4%,6740000,-412516.2186954641,299.89527702167084,21.6,7:14:29\n",
      "67.5%,6750000,-412293.7186954641,301.9035092145833,21.6,7:13:09\n",
      "67.6%,6760000,-411806.4686954641,300.8107502007912,21.6,7:11:49\n",
      "67.7%,6770000,-410568.7186954641,296.9002273967207,21.6,7:10:29\n",
      "67.8%,6780000,-411613.2186954641,299.20309000200376,21.6,7:09:09\n",
      "67.9%,6790000,-411325.9686954641,299.9179721301527,21.6,7:07:49\n",
      "68.0%,6800000,-412132.2186954641,299.80026766094835,21.6,7:06:29\n",
      "68.1%,6810000,-411684.2186954641,301.035703567055,21.6,7:05:09\n",
      "68.2%,6820000,-412114.7186954641,299.78935973988354,21.6,7:03:49\n",
      "68.3%,6830000,-412249.2186954641,303.2454212899928,21.6,7:02:29\n",
      "68.4%,6840000,-412398.7186954641,298.4717304516729,21.6,7:01:09\n",
      "68.5%,6850000,-412039.2186954641,302.32793037316736,21.6,6:59:49\n",
      "68.6%,6860000,-411438.7186954641,299.25895640134496,21.6,6:58:29\n",
      "68.7%,6870000,-412058.2186954641,302.9997080204693,21.6,6:57:10\n",
      "68.8%,6880000,-410247.4686954641,298.7418777711218,21.6,6:55:50\n",
      "68.9%,6890000,-411477.2186954641,299.94471517377434,21.6,6:54:31\n",
      "69.0%,6900000,-411575.2186954641,301.90880294699144,21.6,6:53:11\n",
      "69.1%,6910000,-411287.7186954641,299.4215058108517,21.6,6:51:52\n",
      "69.2%,6920000,-412809.9686954641,299.44600492647595,21.6,6:50:32\n",
      "69.3%,6930000,-411950.7186954641,300.5285886379305,21.6,6:49:12\n",
      "69.4%,6940000,-411496.2186954641,298.9615530238764,21.6,6:47:52\n",
      "69.5%,6950000,-412307.9686954641,300.3210419635492,21.6,6:46:32\n",
      "69.6%,6960000,-412323.7186954641,299.2238934229099,21.6,6:45:12\n",
      "69.7%,6970000,-411430.7186954641,298.75992168236536,21.6,6:43:52\n",
      "69.8%,6980000,-411652.7186954641,302.02590652921856,21.6,6:42:32\n",
      "69.9%,6990000,-412563.7186954641,298.86645448924946,21.6,6:41:12\n",
      "70.0%,7000000,-411993.4686954641,300.77123374312146,21.6,6:39:52\n",
      "70.1%,7010000,-412011.2186954641,300.75848261723144,21.6,6:38:32\n",
      "70.2%,7020000,-411844.4686954641,299.73829168705,21.6,6:37:12\n",
      "70.3%,7030000,-411215.7186954641,301.02980027887014,21.6,6:35:53\n",
      "70.4%,7040000,-411869.7186954641,299.8110370936948,21.6,6:34:33\n",
      "70.5%,7050000,-412618.7186954641,299.8215807311259,21.6,6:33:13\n",
      "70.6%,7060000,-412304.2186954641,299.66035820705156,21.6,6:31:53\n",
      "70.7%,7070000,-412239.9686954641,299.3312231185742,21.6,6:30:33\n",
      "70.8%,7080000,-412387.7186954641,299.32117315007275,21.6,6:29:13\n",
      "70.9%,7090000,-411909.4686954641,297.9598409430909,21.6,6:27:53\n",
      "71.0%,7100000,-412722.9686954641,298.6065138142877,21.6,6:26:33\n",
      "71.1%,7110000,-412835.2186954641,301.07368172323226,21.6,6:25:13\n",
      "71.2%,7120000,-412231.2186954641,299.63568069579327,21.6,6:23:53\n",
      "71.3%,7130000,-412033.7186954641,298.9833012836775,21.6,6:22:33\n",
      "71.4%,7140000,-412721.7186954641,300.83223332157337,21.6,6:21:13\n",
      "71.5%,7150000,-411234.7186954641,296.1418416187575,21.6,6:19:53\n",
      "71.6%,7160000,-412559.2186954641,300.2428013988654,21.6,6:18:33\n",
      "71.7%,7170000,-411856.4686954641,299.11532204788347,21.6,6:17:13\n",
      "71.8%,7180000,-411737.4686954641,304.01244130072104,21.6,6:15:53\n",
      "71.9%,7190000,-411216.2186954641,299.8691252222129,21.6,6:14:33\n",
      "72.0%,7200000,-411510.9686954641,300.2703840283303,21.6,6:13:13\n",
      "72.1%,7210000,-412107.4686954641,300.1503043158494,21.6,6:11:53\n",
      "72.2%,7220000,-411975.4686954641,298.5323825697889,21.6,6:10:33\n",
      "72.3%,7230000,-410711.2186954641,302.54402982649964,21.6,6:09:13\n",
      "72.4%,7240000,-412032.7186954641,302.56238564432783,21.6,6:07:53\n",
      "72.5%,7250000,-413075.2186954641,302.4786846566308,21.6,6:06:33\n",
      "72.6%,7260000,-412950.9686954641,301.31295029189243,21.6,6:05:13\n",
      "72.7%,7270000,-411481.7186954641,297.059018870114,21.6,6:03:53\n",
      "72.8%,7280000,-412327.7186954641,301.3928659138662,21.6,6:02:33\n",
      "72.9%,7290000,-412243.9686954641,299.58666518547847,21.6,6:01:13\n",
      "73.0%,7300000,-411194.9686954641,300.45187118290585,21.6,5:59:53\n",
      "73.1%,7310000,-410617.2186954641,301.37762965920405,21.6,5:58:33\n",
      "73.2%,7320000,-411941.2186954641,302.20676663621765,21.6,5:57:13\n",
      "73.3%,7330000,-411124.9686954641,298.65403405481777,21.6,5:55:53\n",
      "73.4%,7340000,-411562.2186954641,301.4326089793022,21.6,5:54:33\n",
      "73.5%,7350000,-410940.7186954641,298.86653544834246,21.6,5:53:13\n",
      "73.6%,7360000,-411287.7186954641,302.72628264263716,21.6,5:51:53\n",
      "73.7%,7370000,-411252.2186954641,298.4795503128645,21.6,5:50:33\n",
      "73.8%,7380000,-411284.2186954641,301.7481651977646,21.6,5:49:13\n",
      "73.9%,7390000,-411825.2186954641,302.52264797662997,21.6,5:47:53\n",
      "74.0%,7400000,-412449.9686954641,300.8956991365503,21.6,5:46:33\n",
      "74.1%,7410000,-412254.4686954641,300.67352768213186,21.6,5:45:13\n",
      "74.2%,7420000,-412620.9686954641,298.9977428958477,21.6,5:43:53\n",
      "74.3%,7430000,-411746.7186954641,298.7974347261141,21.6,5:42:33\n",
      "74.4%,7440000,-412230.4686954641,300.7102298450802,21.6,5:41:13\n",
      "74.5%,7450000,-412347.9686954641,297.9621039850477,21.6,5:39:53\n",
      "74.6%,7460000,-411471.2186954641,302.45173871787256,21.6,5:38:33\n",
      "74.7%,7470000,-411971.7186954641,301.70229423989304,21.6,5:37:13\n",
      "74.8%,7480000,-411797.2186954641,301.5501176665124,21.6,5:35:53\n",
      "74.9%,7490000,-412330.2186954641,299.20646666059815,21.6,5:34:33\n",
      "75.0%,7500000,-412929.2186954641,301.5169483757147,21.6,5:33:13\n",
      "75.1%,7510000,-410759.2186954641,299.63446986076366,21.6,5:31:53\n",
      "75.2%,7520000,-411718.2186954641,300.22527119031895,21.6,5:30:33\n",
      "75.3%,7530000,-412271.7186954641,301.2016877395778,21.6,5:29:13\n",
      "75.4%,7540000,-412450.7186954641,298.86198647153094,21.6,5:27:53\n",
      "75.5%,7550000,-412063.9686954641,299.9403137798825,21.6,5:26:33\n",
      "75.6%,7560000,-412553.7186954641,301.6943915472418,21.6,5:25:13\n",
      "75.7%,7570000,-412132.2186954641,300.4517047548335,21.6,5:23:53\n",
      "75.8%,7580000,-412916.2186954641,299.77972840383313,21.6,5:22:33\n",
      "75.9%,7590000,-413209.7186954641,299.726715997747,21.6,5:21:13\n",
      "76.0%,7600000,-410922.2186954641,293.7431396014054,21.6,5:19:53\n",
      "76.1%,7610000,-412251.9686954641,298.60845295030117,21.6,5:18:33\n",
      "76.2%,7620000,-413178.2186954641,298.2381413157545,21.6,5:17:13\n",
      "76.3%,7630000,-411310.2186954641,297.97344374302213,21.6,5:15:53\n",
      "76.4%,7640000,-412013.9686954641,300.2875315732919,21.6,5:14:34\n",
      "76.5%,7650000,-411988.4686954641,301.7877353551574,21.6,5:13:14\n",
      "76.6%,7660000,-411984.7186954641,298.08429295455534,21.6,5:11:54\n",
      "76.7%,7670000,-412817.7186954641,299.83878689321335,21.6,5:10:34\n",
      "76.8%,7680000,-411951.7186954641,298.7336439475095,21.6,5:09:15\n",
      "76.9%,7690000,-411041.2186954641,300.8504999649355,21.6,5:07:55\n",
      "77.0%,7700000,-411880.2186954641,298.1622015847874,21.6,5:06:35\n",
      "77.1%,7710000,-411404.2186954641,302.14556925618086,21.6,5:05:15\n",
      "77.2%,7720000,-412762.2186954641,302.3489339112368,21.6,5:03:55\n",
      "77.3%,7730000,-412614.4686954641,298.8063474023185,21.6,5:02:35\n",
      "77.4%,7740000,-412407.2186954641,300.250899079869,21.6,5:01:15\n",
      "77.5%,7750000,-412918.9686954641,302.47004760938887,21.6,4:59:55\n",
      "77.6%,7760000,-410771.7186954641,300.0231904253178,21.6,4:58:35\n",
      "77.7%,7770000,-411900.7186954641,297.3129720817342,21.6,4:57:15\n",
      "77.8%,7780000,-412977.2186954641,302.9049994089113,21.6,4:55:55\n",
      "77.9%,7790000,-411525.9686954641,298.2883460099647,21.6,4:54:35\n",
      "78.0%,7800000,-412188.4686954641,298.6384959980438,21.6,4:53:15\n",
      "78.1%,7810000,-412177.9686954641,301.8267620334489,21.6,4:51:55\n",
      "78.2%,7820000,-411824.7186954641,299.88525869672696,21.6,4:50:35\n",
      "78.3%,7830000,-411099.2186954641,301.3011472462663,21.6,4:49:15\n",
      "78.4%,7840000,-413256.7186954641,299.73408034884415,21.6,4:47:55\n",
      "78.5%,7850000,-412367.7186954641,299.8334227833341,21.6,4:46:35\n",
      "78.6%,7860000,-411837.7186954641,299.28217379076983,21.6,4:45:15\n",
      "78.7%,7870000,-413120.7186954641,301.88486980722615,21.6,4:43:55\n",
      "78.8%,7880000,-411334.2186954641,300.5878953248294,21.6,4:42:35\n",
      "78.9%,7890000,-412267.9686954641,298.8754258814493,21.6,4:41:15\n",
      "79.0%,7900000,-412367.7186954641,302.1568729977888,21.6,4:39:55\n",
      "79.1%,7910000,-411427.2186954641,299.8722517943975,21.6,4:38:35\n",
      "79.2%,7920000,-412312.9686954641,300.9043907755117,21.6,4:37:15\n",
      "79.3%,7930000,-411772.4686954641,301.1002403582745,21.6,4:35:55\n",
      "79.4%,7940000,-412113.7186954641,301.2858298049572,21.6,4:34:35\n",
      "79.5%,7950000,-411571.2186954641,299.1889541145179,21.6,4:33:15\n",
      "79.6%,7960000,-411852.9686954641,299.74787698744876,21.6,4:31:55\n",
      "79.7%,7970000,-409992.2186954641,299.7309847071272,21.6,4:30:35\n",
      "79.8%,7980000,-411865.2186954641,299.21223808342626,21.6,4:29:15\n",
      "79.9%,7990000,-411694.7186954641,299.97118813534814,21.6,4:27:55\n",
      "80.0%,8000000,-411255.9686954641,298.28270309301706,21.6,4:26:35\n",
      "80.1%,8010000,-413069.9686954641,299.9599126948935,21.6,4:25:15\n",
      "80.2%,8020000,-412051.4686954641,298.44390593792406,21.6,4:23:55\n",
      "80.3%,8030000,-411328.9686954641,299.57685219952583,21.6,4:22:35\n",
      "80.4%,8040000,-411730.2186954641,299.98990697346335,21.6,4:21:15\n",
      "80.5%,8050000,-411986.9686954641,299.011629431903,21.6,4:19:55\n",
      "80.6%,8060000,-412431.4686954641,297.6082048561741,21.6,4:18:35\n",
      "80.7%,8070000,-412690.2186954641,300.40493705092143,21.6,4:17:15\n",
      "80.8%,8080000,-411285.2186954641,296.3744200395076,21.6,4:15:56\n",
      "80.9%,8090000,-412382.7186954641,298.39194698437115,21.6,4:14:36\n",
      "81.0%,8100000,-412593.2186954641,299.5003182515164,21.6,4:13:16\n",
      "81.1%,8110000,-411689.4686954641,299.939405171328,21.6,4:11:56\n",
      "81.2%,8120000,-411364.2186954641,301.6360533504704,21.6,4:10:36\n",
      "81.3%,8130000,-411999.2186954641,299.1206104169549,21.6,4:09:16\n",
      "81.4%,8140000,-411166.2186954641,299.0413596783904,21.6,4:07:56\n",
      "81.5%,8150000,-411785.2186954641,300.68399896363286,21.6,4:06:36\n",
      "81.6%,8160000,-411664.2186954641,300.0057868609141,21.6,4:05:16\n",
      "81.7%,8170000,-411408.7186954641,301.1684166522804,21.6,4:03:56\n",
      "81.8%,8180000,-411512.2186954641,299.9328256778479,21.6,4:02:36\n",
      "81.9%,8190000,-411470.4686954641,298.053670969213,21.6,4:01:17\n",
      "82.0%,8200000,-411549.2186954641,297.81568426346877,21.6,3:59:57\n",
      "82.1%,8210000,-411201.7186954641,302.4846815475754,21.6,3:58:37\n",
      "82.2%,8220000,-412460.2186954641,301.57889903638454,21.6,3:57:17\n",
      "82.3%,8230000,-412158.2186954641,296.5839379080928,21.6,3:55:57\n",
      "82.4%,8240000,-411585.2186954641,297.4964443472554,21.6,3:54:37\n",
      "82.5%,8250000,-410861.9686954641,297.354524190951,21.6,3:53:17\n",
      "82.6%,8260000,-410517.7186954641,299.8374316952227,21.6,3:51:57\n",
      "82.7%,8270000,-412399.9686954641,300.50261395896285,21.6,3:50:37\n",
      "82.8%,8280000,-412454.2186954641,299.6611932945449,21.6,3:49:17\n",
      "82.9%,8290000,-413373.7186954641,298.64274616190676,21.6,3:47:57\n",
      "83.0%,8300000,-412667.7186954641,296.8516253074014,21.6,3:46:37\n",
      "83.1%,8310000,-411581.2186954641,301.37036067654657,21.6,3:45:17\n",
      "83.2%,8320000,-412446.4686954641,302.35919238403574,21.6,3:43:57\n",
      "83.3%,8330000,-412873.2186954641,299.8888126669103,21.6,3:42:37\n",
      "83.4%,8340000,-411877.7186954641,298.00645767201655,21.6,3:41:17\n",
      "83.5%,8350000,-411900.4686954641,301.97340721146134,21.6,3:39:57\n",
      "83.6%,8360000,-412066.4686954641,300.84347606280943,21.6,3:38:37\n",
      "83.7%,8370000,-412011.2186954641,298.86821425179676,21.6,3:37:17\n",
      "83.8%,8380000,-411477.2186954641,296.993413301811,21.6,3:35:57\n",
      "83.9%,8390000,-411486.4686954641,297.78747119956665,21.6,3:34:37\n",
      "84.0%,8400000,-411863.7186954641,301.33585704933586,21.6,3:33:17\n",
      "84.1%,8410000,-410805.4686954641,302.55985173354566,21.6,3:31:57\n",
      "84.2%,8420000,-411861.4686954641,301.0556097209549,21.6,3:30:37\n",
      "84.3%,8430000,-411922.2186954641,299.6022004149102,21.6,3:29:17\n",
      "84.4%,8440000,-410756.7186954641,297.0357652785474,21.6,3:27:57\n",
      "84.5%,8450000,-412119.2186954641,299.6980489565657,21.6,3:26:37\n",
      "84.6%,8460000,-411760.7186954641,303.004427476746,21.6,3:25:17\n",
      "84.7%,8470000,-411661.7186954641,300.8509980347356,21.6,3:23:57\n",
      "84.8%,8480000,-410635.7186954641,299.11428086108083,21.6,3:22:37\n",
      "84.9%,8490000,-412931.4686954641,299.76756959367066,21.6,3:21:17\n",
      "85.0%,8500000,-411271.7186954641,299.83582699734393,21.6,3:19:57\n",
      "85.1%,8510000,-412283.4686954641,300.6830019355842,21.6,3:18:37\n",
      "85.2%,8520000,-412148.9686954641,299.6274878613863,21.6,3:17:17\n",
      "85.3%,8530000,-411779.9686954641,300.5414401136475,21.6,3:15:57\n",
      "85.4%,8540000,-412191.9686954641,300.0647578725039,21.6,3:14:37\n",
      "85.5%,8550000,-411203.7186954641,300.7622488602771,21.6,3:13:17\n",
      "85.6%,8560000,-412092.9686954641,299.4282646275861,21.6,3:11:57\n",
      "85.7%,8570000,-412034.2186954641,299.27784897789115,21.6,3:10:37\n",
      "85.8%,8580000,-411231.7186954641,302.0535750641975,21.6,3:09:17\n",
      "85.9%,8590000,-411884.2186954641,299.4184975455592,21.6,3:07:57\n",
      "86.0%,8600000,-411601.2186954641,298.96163569074326,21.6,3:06:37\n",
      "86.1%,8610000,-413132.7186954641,299.8858083325403,21.6,3:05:17\n",
      "86.2%,8620000,-412755.4686954641,295.5184263808905,21.6,3:03:57\n",
      "86.3%,8630000,-411446.7186954641,298.7949712887399,21.6,3:02:37\n",
      "86.4%,8640000,-412300.7186954641,299.2512254617446,21.6,3:01:17\n",
      "86.5%,8650000,-411558.4686954641,297.2594010717829,21.6,2:59:57\n",
      "86.6%,8660000,-412341.7186954641,301.8610353766685,21.6,2:58:37\n",
      "86.7%,8670000,-412369.2186954641,298.12205952683706,21.6,2:57:17\n",
      "86.8%,8680000,-412749.9686954641,297.97204479607376,21.6,2:55:57\n",
      "86.9%,8690000,-411228.2186954641,300.0629877396307,21.6,2:54:37\n",
      "87.0%,8700000,-411071.4686954641,299.39652767585216,21.6,2:53:17\n",
      "87.1%,8710000,-412802.7186954641,296.84396476937343,21.6,2:51:57\n",
      "87.2%,8720000,-412031.4686954641,299.86349423596727,21.6,2:50:38\n",
      "87.3%,8730000,-411416.2186954641,299.24984972572594,21.6,2:49:18\n",
      "87.4%,8740000,-410817.4686954641,297.9867719848276,21.6,2:47:58\n",
      "87.5%,8750000,-411475.2186954641,301.0698181546219,21.6,2:46:38\n",
      "87.6%,8760000,-410662.2186954641,297.24944606553197,21.6,2:45:18\n",
      "87.7%,8770000,-411995.7186954641,297.7229105763893,21.6,2:43:58\n",
      "87.8%,8780000,-411821.9686954641,302.19128569106215,21.6,2:42:38\n",
      "87.9%,8790000,-412021.4686954641,299.59444995656884,21.6,2:41:18\n",
      "88.0%,8800000,-412190.9686954641,299.19292026370744,21.6,2:39:58\n",
      "88.1%,8810000,-410394.2186954641,296.65619157639094,21.6,2:38:38\n",
      "88.2%,8820000,-411680.7186954641,301.66117026572965,21.6,2:37:18\n",
      "88.3%,8830000,-411975.2186954641,301.2056705299643,21.6,2:35:58\n",
      "88.4%,8840000,-411772.2186954641,299.68908889786024,21.6,2:34:38\n",
      "88.5%,8850000,-410571.7186954641,298.6793584639993,21.6,2:33:18\n",
      "88.6%,8860000,-412408.7186954641,300.45288105655953,21.6,2:31:58\n",
      "88.7%,8870000,-411582.7186954641,300.2681391787722,21.6,2:30:38\n",
      "88.8%,8880000,-412375.9686954641,300.8945333390023,21.6,2:29:18\n",
      "88.9%,8890000,-413181.7186954641,300.61556632881985,21.6,2:27:58\n",
      "89.0%,8900000,-411367.9686954641,302.4201158826865,21.6,2:26:38\n",
      "89.1%,8910000,-413192.7186954641,295.3992834454765,21.6,2:25:18\n",
      "89.2%,8920000,-411364.2186954641,299.64682408110815,21.6,2:23:58\n",
      "89.3%,8930000,-411565.4686954641,298.3720707461513,21.6,2:22:38\n",
      "89.4%,8940000,-411878.4686954641,300.99485440188255,21.6,2:21:18\n",
      "89.5%,8950000,-412183.7186954641,298.3030194167398,21.6,2:19:58\n",
      "89.6%,8960000,-411888.9686954641,300.6571828256499,21.6,2:18:38\n",
      "89.7%,8970000,-412426.7186954641,299.4385021742373,21.6,2:17:18\n",
      "89.8%,8980000,-411382.4686954641,298.86535210236,21.6,2:15:58\n",
      "89.9%,8990000,-411875.7186954641,300.14864795651863,21.6,2:14:38\n",
      "90.0%,9000000,-411873.2186954641,303.6143254607905,21.6,2:13:18\n",
      "90.1%,9010000,-412186.2186954641,301.71185140226345,21.6,2:11:58\n",
      "90.2%,9020000,-411732.2186954641,298.58150822300445,21.6,2:10:38\n",
      "90.3%,9030000,-411338.2186954641,297.8132889229427,21.6,2:09:18\n",
      "90.4%,9040000,-411907.2186954641,300.8734044678916,21.6,2:07:58\n",
      "90.5%,9050000,-411946.4686954641,299.3481838748469,21.6,2:06:38\n",
      "90.6%,9060000,-411839.7186954641,299.6773340194807,21.6,2:05:18\n",
      "90.7%,9070000,-410979.7186954641,298.6740186290096,21.6,2:03:58\n",
      "90.8%,9080000,-412559.7186954641,302.7555724991115,21.6,2:02:38\n",
      "90.9%,9090000,-412305.2186954641,296.7684021467662,21.6,2:01:18\n",
      "91.0%,9100000,-411169.9686954641,300.62781502985314,21.6,1:59:58\n",
      "91.1%,9110000,-411521.2186954641,299.55788537793,21.6,1:58:38\n",
      "91.2%,9120000,-411863.4686954641,299.53394187128737,21.6,1:57:18\n",
      "91.3%,9130000,-411284.2186954641,299.9241427168463,21.6,1:55:58\n",
      "91.4%,9140000,-411840.2186954641,301.25862591615606,21.6,1:54:38\n",
      "91.5%,9150000,-411090.7186954641,301.6745708037702,21.6,1:53:18\n",
      "91.6%,9160000,-412557.4686954641,297.7575947762218,21.6,1:51:58\n",
      "91.7%,9170000,-411504.9686954641,300.2683608546644,21.6,1:50:38\n",
      "91.8%,9180000,-412548.2186954641,300.974292117526,21.6,1:49:18\n",
      "91.9%,9190000,-412118.7186954641,299.5239820690953,21.6,1:47:58\n",
      "92.0%,9200000,-412328.2186954641,301.89578773501603,21.6,1:46:38\n",
      "92.1%,9210000,-411972.7186954641,301.38968151009186,21.6,1:45:18\n",
      "92.2%,9220000,-411919.9686954641,302.88256116104,21.6,1:43:58\n",
      "92.3%,9230000,-411804.7186954641,300.3307606975453,21.6,1:42:38\n",
      "92.4%,9240000,-411875.9686954641,297.90395372579525,21.6,1:41:18\n",
      "92.5%,9250000,-411270.4686954641,303.0282228980744,21.6,1:39:58\n",
      "92.6%,9260000,-412288.7186954641,302.73194862028953,21.6,1:38:38\n",
      "92.7%,9270000,-412245.2186954641,302.8517210931103,21.6,1:37:18\n",
      "92.8%,9280000,-411762.7186954641,301.3285067606304,21.6,1:35:58\n",
      "92.9%,9290000,-411730.2186954641,301.0501131091701,21.6,1:34:38\n",
      "93.0%,9300000,-412720.7186954641,301.10164842000194,21.6,1:33:18\n",
      "93.1%,9310000,-413178.2186954641,301.38525005175467,21.6,1:31:58\n",
      "93.2%,9320000,-412610.2186954641,298.5841504500229,21.6,1:30:38\n",
      "93.3%,9330000,-411552.2186954641,302.2236610727889,21.6,1:29:18\n",
      "93.4%,9340000,-412123.7186954641,298.3224739551634,21.6,1:27:58\n",
      "93.5%,9350000,-411360.2186954641,301.85099152095347,21.6,1:26:38\n",
      "93.6%,9360000,-413001.7186954641,303.63614801427923,21.6,1:25:18\n",
      "93.7%,9370000,-412470.7186954641,303.1176385859067,21.6,1:23:58\n",
      "93.8%,9380000,-411297.7186954641,303.0539685738189,21.6,1:22:38\n",
      "93.9%,9390000,-411293.2186954641,299.77301490644226,21.6,1:21:18\n",
      "94.0%,9400000,-412310.4686954641,300.35690871517363,21.6,1:19:59\n",
      "94.1%,9410000,-411790.7186954641,298.84020114603834,21.6,1:18:39\n",
      "94.2%,9420000,-411627.9686954641,297.5069638534542,21.6,1:17:19\n",
      "94.3%,9430000,-413091.7186954641,298.8417830617179,21.6,1:15:59\n",
      "94.4%,9440000,-412313.7186954641,300.37196798439044,21.6,1:14:39\n",
      "94.5%,9450000,-412224.4686954641,299.82751190956964,21.6,1:13:19\n",
      "94.6%,9460000,-411595.9686954641,300.8511220223404,21.6,1:11:59\n",
      "94.7%,9470000,-411019.7186954641,300.3042923817307,21.6,1:10:39\n",
      "94.8%,9480000,-411812.7186954641,299.1355270142976,21.6,1:09:19\n",
      "94.9%,9490000,-411026.7186954641,300.1294900635478,21.6,1:07:59\n",
      "95.0%,9500000,-411872.4686954641,299.913814791486,21.6,1:06:39\n",
      "95.1%,9510000,-411695.7186954641,300.0126610489034,21.6,1:05:19\n",
      "95.2%,9520000,-411539.7186954641,298.18325948261787,21.6,1:03:59\n",
      "95.3%,9530000,-411252.2186954641,301.58118807147474,21.6,1:02:39\n",
      "95.4%,9540000,-413975.7186954641,301.0763135418905,21.6,1:01:19\n",
      "95.5%,9550000,-410498.2186954641,299.39393575416585,21.6,59:59\n",
      "95.6%,9560000,-412556.9686954641,298.1006764598688,21.6,58:39\n",
      "95.7%,9570000,-411293.9686954641,300.09757518139304,21.6,57:19\n",
      "95.8%,9580000,-411340.2186954641,299.6420183308704,21.6,55:59\n",
      "95.9%,9590000,-413153.7186954641,299.274418489197,21.6,54:39\n",
      "96.0%,9600000,-411700.9686954641,299.5851372709656,21.6,53:19\n",
      "96.1%,9610000,-411667.9686954641,299.9208970208142,21.6,51:59\n",
      "96.2%,9620000,-412238.4686954641,299.78563925312443,21.6,50:39\n",
      "96.3%,9630000,-413028.9686954641,299.6430793201694,21.6,49:19\n",
      "96.4%,9640000,-410567.2186954641,300.5542536364688,21.6,47:59\n",
      "96.5%,9650000,-411374.7186954641,300.8341589895193,21.6,46:39\n",
      "96.6%,9660000,-412372.7186954641,300.1522971299959,21.6,45:19\n",
      "96.7%,9670000,-410328.7186954641,299.68169725223606,21.6,43:59\n",
      "96.8%,9680000,-412016.9686954641,299.26209562679304,21.6,42:39\n",
      "96.9%,9690000,-411724.2186954641,298.63714379083115,21.6,41:19\n",
      "97.0%,9700000,-412745.7186954641,298.7029826518661,21.6,39:59\n",
      "97.1%,9710000,-410285.7186954641,298.78789806296265,21.6,38:39\n",
      "97.2%,9720000,-410985.7186954641,299.8604017900203,21.6,37:19\n",
      "97.3%,9730000,-411735.2186954641,299.7235104935591,21.6,35:59\n",
      "97.4%,9740000,-411142.4686954641,298.82330449028353,21.6,34:39\n",
      "97.5%,9750000,-412665.7186954641,299.25481553341973,21.6,33:19\n",
      "97.6%,9760000,-411183.7186954641,299.19767715978963,21.6,31:59\n",
      "97.7%,9770000,-412866.7186954641,296.90695607206663,21.6,30:39\n",
      "97.8%,9780000,-412892.7186954641,299.5226364495732,21.6,29:19\n",
      "97.9%,9790000,-412021.7186954641,302.30409033905914,21.6,27:59\n",
      "98.0%,9800000,-411977.7186954641,300.1925619355563,21.6,26:39\n",
      "98.1%,9810000,-413424.7186954641,298.26611999165954,21.6,25:19\n",
      "98.2%,9820000,-411837.2186954641,303.1656069168024,21.6,23:59\n",
      "98.3%,9830000,-411511.9686954641,300.04701117978186,21.6,22:39\n",
      "98.4%,9840000,-411522.4686954641,302.2427795795484,21.6,21:19\n",
      "98.5%,9850000,-411606.2186954641,299.21593091675436,21.6,19:59\n",
      "98.6%,9860000,-411174.7186954641,301.5593335846532,21.6,18:39\n",
      "98.7%,9870000,-411902.4686954641,300.6819980645527,21.6,17:19\n",
      "98.8%,9880000,-411142.2186954641,297.98184747664095,21.6,15:59\n",
      "98.9%,9890000,-410517.9686954641,299.86854513100485,21.6,14:39\n",
      "99.0%,9900000,-412157.4686954641,301.57586006410764,21.6,13:19\n",
      "99.1%,9910000,-411643.7186954641,297.7288985229884,21.6,11:59\n",
      "99.2%,9920000,-411097.7186954641,300.3053077583222,21.6,10:39\n",
      "99.3%,9930000,-412534.2186954641,300.04120975166114,21.6,9:19\n",
      "99.4%,9940000,-412676.7186954641,301.31854635604736,21.6,7:59\n",
      "99.5%,9950000,-411631.9686954641,298.73425538835033,21.6,6:39\n",
      "99.6%,9960000,-412712.7186954641,301.4346620895112,21.6,5:19\n",
      "99.7%,9970000,-412133.9686954641,297.6495173072405,21.6,3:59\n",
      "99.8%,9980000,-412446.7186954641,299.4125188449441,21.6,2:39\n",
      "99.9%,9990000,-411000.7186954641,300.10172343889,21.6,1:19\n",
      "100.0%,10000000,-412492.4686954641,301.25287716598774,21.6,0:00\n"
     ]
    }
   ],
   "source": [
    "simulation.step(simulation_steps)"
   ]
  },
  {
   "cell_type": "code",
   "execution_count": 1,
   "id": "b581091e-2bdb-4cda-bdfb-1812e467bc83",
   "metadata": {},
   "outputs": [
    {
     "ename": "NameError",
     "evalue": "name 'traj_reporter' is not defined",
     "output_type": "error",
     "traceback": [
      "\u001b[0;31m---------------------------------------------------------------------------\u001b[0m",
      "\u001b[0;31mNameError\u001b[0m                                 Traceback (most recent call last)",
      "\u001b[0;32m/tmp/ipykernel_5298/1369220906.py\u001b[0m in \u001b[0;36m<module>\u001b[0;34m\u001b[0m\n\u001b[0;32m----> 1\u001b[0;31m \u001b[0mtraj_reporter\u001b[0m\u001b[0;34m.\u001b[0m\u001b[0mclose\u001b[0m\u001b[0;34m(\u001b[0m\u001b[0;34m)\u001b[0m\u001b[0;34m\u001b[0m\u001b[0;34m\u001b[0m\u001b[0m\n\u001b[0m",
      "\u001b[0;31mNameError\u001b[0m: name 'traj_reporter' is not defined"
     ]
    }
   ],
   "source": [
    "traj_reporter.close()"
   ]
  },
  {
   "cell_type": "code",
   "execution_count": 24,
   "id": "81c8b46b-221b-44a2-b604-6c0e0c8f8d51",
   "metadata": {},
   "outputs": [],
   "source": [
    "# Writing out the final system\n",
    "final_positions = simulation.context.getState(getPositions=True).getPositions()\n",
    "app.PDBFile.writeFile(simulation.topology, final_positions, open('final.pdb', 'w'))"
   ]
  },
  {
   "cell_type": "markdown",
   "id": "7526648d-0ce9-41c6-900a-b2a5ff6e69e5",
   "metadata": {},
   "source": [
    "## Load From Checkpoint "
   ]
  },
  {
   "cell_type": "code",
   "execution_count": null,
   "id": "473b32cb-8713-4b4d-be1d-83dfb8626b76",
   "metadata": {},
   "outputs": [],
   "source": [
    "#with open('checkpoint.chk', 'rb') as f:\n",
    "#     simulation.context.loadCheckpoint(f.read())"
   ]
  },
  {
   "cell_type": "code",
   "execution_count": null,
   "id": "13dc776c-c65b-43df-8bd1-915051215bd1",
   "metadata": {},
   "outputs": [],
   "source": [
    "#simulation.step(simulation_steps)"
   ]
  },
  {
   "cell_type": "markdown",
   "id": "d83f4156-b7e0-465b-9f41-ce4241268a38",
   "metadata": {},
   "source": [
    "### Visualizing Simulation"
   ]
  },
  {
   "cell_type": "code",
   "execution_count": 26,
   "id": "257ec85e-5203-473a-9a0e-ede368c074b0",
   "metadata": {},
   "outputs": [
    {
     "data": {
      "application/vnd.jupyter.widget-view+json": {
       "model_id": "54860e5502504170829708a35767f7f9",
       "version_major": 2,
       "version_minor": 0
      },
      "text/plain": [
       "NGLWidget(max_frame=1999)"
      ]
     },
     "metadata": {},
     "output_type": "display_data"
    }
   ],
   "source": [
    "traj = md.load(\"traj.h5\")\n",
    "view = nv.show_mdtraj(traj)\n",
    "#view.add_licorice(selection=\"(not protein)\") # View water molecules\n",
    "view"
   ]
  }
 ],
 "metadata": {
  "kernelspec": {
   "display_name": "Python 3 (ipykernel)",
   "language": "python",
   "name": "python3"
  },
  "language_info": {
   "codemirror_mode": {
    "name": "ipython",
    "version": 3
   },
   "file_extension": ".py",
   "mimetype": "text/x-python",
   "name": "python",
   "nbconvert_exporter": "python",
   "pygments_lexer": "ipython3",
   "version": "3.7.12"
  }
 },
 "nbformat": 4,
 "nbformat_minor": 5
}
