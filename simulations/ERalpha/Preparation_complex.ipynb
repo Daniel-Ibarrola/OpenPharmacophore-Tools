{
 "cells": [
  {
   "cell_type": "code",
   "execution_count": null,
   "id": "27aa3f26-48e2-41ae-9d2d-0f4c97561858",
   "metadata": {},
   "outputs": [],
   "source": [
    "%load_ext autoreload\n",
    "%autoreload 2"
   ]
  },
  {
   "cell_type": "markdown",
   "id": "f08ed0a1-e324-48d4-92b0-a480cc725473",
   "metadata": {},
   "source": [
    "# Complex preparation"
   ]
  },
  {
   "cell_type": "code",
   "execution_count": null,
   "id": "b7ead274-ab7e-4e73-b871-9a79fe7572a1",
   "metadata": {},
   "outputs": [],
   "source": [
    "import molsysmt as msm\n",
    "from openff.toolkit.topology import Molecule, Topology\n",
    "from rdkit import Chem\n",
    "from rdkit.Chem import AllChem"
   ]
  },
  {
   "cell_type": "code",
   "execution_count": null,
   "id": "69adc776-b872-4b5d-a5d7-8969a2f7fe29",
   "metadata": {},
   "outputs": [],
   "source": [
    "molsys = msm.convert(\"pdbid:1QKU\",\n",
    "                     selection='chain_name==[\"B\", \"E\"] and molecule_type==[\"protein\", \"small molecule\"]')"
   ]
  },
  {
   "cell_type": "code",
   "execution_count": null,
   "id": "2dbda335-6703-4aa4-a07a-288083329ab9",
   "metadata": {},
   "outputs": [],
   "source": [
    "msm.info(molsys)"
   ]
  },
  {
   "cell_type": "code",
   "execution_count": null,
   "id": "fecba581-c79c-4c37-ba5b-483faed84024",
   "metadata": {},
   "outputs": [],
   "source": [
    "msm.view(molsys)"
   ]
  },
  {
   "cell_type": "code",
   "execution_count": null,
   "id": "55675338-b854-4882-aa87-a33c80be79fa",
   "metadata": {},
   "outputs": [],
   "source": [
    "receptor = msm.extract(molsys, selection='molecule_type==\"protein\"')"
   ]
  },
  {
   "cell_type": "code",
   "execution_count": null,
   "id": "1bb6dcf0-1a11-4d67-ae5d-f8dd2ff79f55",
   "metadata": {},
   "outputs": [],
   "source": [
    "msm.has_hydrogens(receptor)"
   ]
  },
  {
   "cell_type": "code",
   "execution_count": null,
   "id": "8a58df2c-d460-4644-bcd2-9571ec6c5a59",
   "metadata": {},
   "outputs": [],
   "source": [
    "receptor = msm.add_terminal_capping(receptor, N_terminal='ACE', C_terminal='NME')"
   ]
  },
  {
   "cell_type": "code",
   "execution_count": null,
   "id": "de910739-4de4-40d7-ac74-96ec75f4a2a5",
   "metadata": {},
   "outputs": [],
   "source": [
    "receptor = msm.add_missing_hydrogens(receptor, pH=7.4)"
   ]
  },
  {
   "cell_type": "code",
   "execution_count": null,
   "id": "84bc5e88-2831-4d7c-85e7-d4859bffa4e1",
   "metadata": {},
   "outputs": [],
   "source": [
    "ligand = msm.extract(molsys, selection='molecule_type==\"small molecule\"')"
   ]
  },
  {
   "cell_type": "code",
   "execution_count": null,
   "id": "1f58081f-6f53-4e73-af61-c79855c0e655",
   "metadata": {},
   "outputs": [],
   "source": [
    "ligand_rdkit = msm.convert(ligand, to_form='rdkit.Mol')"
   ]
  },
  {
   "cell_type": "code",
   "execution_count": null,
   "id": "4e1af8ce-80e4-4998-b474-00a0a51be27d",
   "metadata": {},
   "outputs": [],
   "source": [
    "type(True)"
   ]
  },
  {
   "cell_type": "code",
   "execution_count": null,
   "id": "7873dc14-db04-4ea6-a57c-956fe7bb36c8",
   "metadata": {},
   "outputs": [],
   "source": [
    "smiles = 'C[C@]12CC[C@@H]3c4ccc(cc4CC[C@H]3[C@@H]1CC[C@@H]2O)O'\n",
    "template = Chem.MolFromSmiles(smiles)"
   ]
  },
  {
   "cell_type": "markdown",
   "id": "396051c8-c96c-46fe-a2f1-22e705d9d2d8",
   "metadata": {},
   "source": [
    "- Deberíamos protonar con el sistema entero"
   ]
  },
  {
   "cell_type": "code",
   "execution_count": null,
   "id": "aecd4e3b-423f-4201-a942-eb1399d4dc78",
   "metadata": {},
   "outputs": [],
   "source": []
  }
 ],
 "metadata": {
  "kernelspec": {
   "display_name": "Python 3 (ipykernel)",
   "language": "python",
   "name": "python3"
  },
  "language_info": {
   "codemirror_mode": {
    "name": "ipython",
    "version": 3
   },
   "file_extension": ".py",
   "mimetype": "text/x-python",
   "name": "python",
   "nbconvert_exporter": "python",
   "pygments_lexer": "ipython3",
   "version": "3.7.10"
  }
 },
 "nbformat": 4,
 "nbformat_minor": 5
}
