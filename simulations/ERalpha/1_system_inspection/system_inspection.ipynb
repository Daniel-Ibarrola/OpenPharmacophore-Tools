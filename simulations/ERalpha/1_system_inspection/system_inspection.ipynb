{
 "cells": [
  {
   "cell_type": "code",
   "execution_count": 1,
   "id": "527be917-35ed-4ead-9c58-9871939a4e4e",
   "metadata": {},
   "outputs": [
    {
     "data": {
      "application/vnd.jupyter.widget-view+json": {
       "model_id": "4c0f6fa2ad9a45b982075bb641802784",
       "version_major": 2,
       "version_minor": 0
      },
      "text/plain": []
     },
     "metadata": {},
     "output_type": "display_data"
    }
   ],
   "source": [
    "from Bio import Align\n",
    "import mdtraj as md\n",
    "import nglview as nv\n",
    "import numpy as np\n",
    "import pandas as pd\n",
    "\n",
    "from itertools import combinations\n",
    "import os\n",
    "import requests"
   ]
  },
  {
   "cell_type": "markdown",
   "id": "15d9f90e-cbcf-4dee-bd5f-e2df4cd4e29c",
   "metadata": {},
   "source": [
    "### Download the file for Estrogen receptor with pdb id 1QKU"
   ]
  },
  {
   "cell_type": "code",
   "execution_count": 2,
   "id": "d5392563-b006-439f-a7c3-d537bcfc7e1d",
   "metadata": {},
   "outputs": [],
   "source": [
    "def fetch_pdb(pdb_id, download_path=\"./\"):\n",
    "        if len(pdb_id) != 4:\n",
    "            raise ValueError(\"Invalid pdb id\")\n",
    "        url = 'http://files.rcsb.org/download/{}.pdb'.format(pdb_id)\n",
    "        try:\n",
    "            res = requests.get(url, allow_redirects=True)\n",
    "        except:\n",
    "            print(\"Could not fetch pdb from {}\".format(url))\n",
    "            return \n",
    "        \n",
    "        file_path = os.path.join(download_path, pdb_id + \".pdb\")\n",
    "        with open(file_path, \"wb\") as f:\n",
    "            f.write(res.content)"
   ]
  },
  {
   "cell_type": "code",
   "execution_count": 3,
   "id": "2e637d69-6a49-4c59-8e14-0aeb8b8a0a9b",
   "metadata": {},
   "outputs": [],
   "source": [
    "fetch_pdb(\"1QKU\")"
   ]
  },
  {
   "cell_type": "markdown",
   "id": "2bf4fde5-2dfd-4a7f-9eae-8be559ea7a35",
   "metadata": {},
   "source": [
    "<div class=\"alert alert-success\">\n",
    "<strong>Well Done!</strong> Let me show you a couple of things that could improve your function\n",
    "</div>"
   ]
  },
  {
   "cell_type": "code",
   "execution_count": 4,
   "id": "ada71d77-7406-4cb1-bc16-2ab2ab94fd0e",
   "metadata": {},
   "outputs": [],
   "source": [
    "import re\n",
    "\n",
    "# Have look to https://bioportal.bioontology.org/ontologies/EDAM?p=classes&conceptid=data_1127\n",
    "pattern= re.compile('[0-9][a-zA-Z_0-9]{3}')\n",
    "\n",
    "def fetch_pdb(pdb_id, download_path=\"./\"):\n",
    "    \n",
    "    if not pattern.match(pdb_id):\n",
    "        raise ValueError(\"Invalid pdb id\")\n",
    "        \n",
    "    url = 'http://files.rcsb.org/download/{}.pdb'.format(pdb_id)\n",
    "    res = requests.get(url, allow_redirects=True)\n",
    "    \n",
    "    # I am not sure if a failed request raise an exception. The failing code is stored\n",
    "    # in the attribute 'status_code'. For instance, if everything works properly:\n",
    "    # res.status_code == 200\n",
    "    \n",
    "    if res.status_code != requests.codes.ok:\n",
    "        print(\"Could not fetch pdb from {}\".format(url))\n",
    "        return \n",
    "        \n",
    "    file_path = os.path.join(download_path, pdb_id + \".pdb\")\n",
    "    with open(file_path, \"wb\") as f:\n",
    "        f.write(res.content)"
   ]
  },
  {
   "cell_type": "markdown",
   "id": "4045f164-f03b-427c-b05c-0f83ab174146",
   "metadata": {},
   "source": [
    "### Visualizing Estrogen receptor"
   ]
  },
  {
   "cell_type": "code",
   "execution_count": 5,
   "id": "3354f546-fcec-465f-a523-615c3775dd14",
   "metadata": {},
   "outputs": [
    {
     "data": {
      "application/vnd.jupyter.widget-view+json": {
       "model_id": "ff1f2755f6c14124836ee8bbc5532f0d",
       "version_major": 2,
       "version_minor": 0
      },
      "text/plain": [
       "NGLWidget()"
      ]
     },
     "metadata": {},
     "output_type": "display_data"
    }
   ],
   "source": [
    "view = nv.show_structure_file(\"./1QKU.pdb\")\n",
    "view"
   ]
  },
  {
   "cell_type": "markdown",
   "id": "4fab42d6-c974-4aa8-8ad7-73bf220545c3",
   "metadata": {},
   "source": [
    "## Inspecting the topology of estrogen receptor"
   ]
  },
  {
   "cell_type": "code",
   "execution_count": 6,
   "id": "db479914-fbb8-45c6-b58c-bbef5d42edb8",
   "metadata": {},
   "outputs": [
    {
     "name": "stdout",
     "output_type": "stream",
     "text": [
      "<mdtraj.Trajectory with 1 frames, 6596 atoms, 1343 residues, and unitcells>\n",
      "<mdtraj.Topology with 9 chains, 1343 residues, 6596 atoms, 6123 bonds>\n"
     ]
    }
   ],
   "source": [
    "traj = md.load(\"1QKU.pdb\")\n",
    "topology = traj.topology\n",
    "print(traj)\n",
    "print(topology)"
   ]
  },
  {
   "cell_type": "markdown",
   "id": "f1b56066-0d0a-48e9-a228-0c1a4334f81c",
   "metadata": {},
   "source": [
    "<div class=\"alert alert-warning\">\n",
    "<strong>What?</strong> Where are the 9 chains in the above nglview representation? And why if you pass the mouse by every molecule, the id label unfolded says that there is only a chain named \"A\". \n",
    "</div>"
   ]
  },
  {
   "cell_type": "code",
   "execution_count": 7,
   "id": "446b8e7a-847d-48f3-985d-cb43214f291d",
   "metadata": {},
   "outputs": [
    {
     "data": {
      "application/vnd.jupyter.widget-view+json": {
       "model_id": "f82a2f10132047e1b9fb5867e48fd698",
       "version_major": 2,
       "version_minor": 0
      },
      "text/plain": [
       "NGLWidget()"
      ]
     },
     "metadata": {},
     "output_type": "display_data"
    }
   ],
   "source": [
    "view = nv.show_mdtraj(traj)\n",
    "view"
   ]
  },
  {
   "cell_type": "markdown",
   "id": "0e51d4a7-4e8c-4317-b9db-d4542b49814a",
   "metadata": {},
   "source": [
    "# Select just protein."
   ]
  },
  {
   "cell_type": "code",
   "execution_count": 8,
   "id": "0cfceb94-ab1c-4ee8-8bb3-384d2435d5d3",
   "metadata": {},
   "outputs": [
    {
     "name": "stdout",
     "output_type": "stream",
     "text": [
      "<mdtraj.Trajectory with 1 frames, 5940 atoms, 744 residues, and unitcells>\n",
      "<mdtraj.Topology with 3 chains, 744 residues, 5940 atoms, 6054 bonds>\n"
     ]
    }
   ],
   "source": [
    "protein_inxs = topology.select(\"protein\")\n",
    "protein_traj = traj.atom_slice(protein_inxs)\n",
    "protein_topo = protein_traj.topology\n",
    "print(protein_traj)\n",
    "print(protein_topo)"
   ]
  },
  {
   "cell_type": "code",
   "execution_count": 9,
   "id": "9dbc2970-6252-4f4b-9f21-8f308e35f026",
   "metadata": {},
   "outputs": [
    {
     "name": "stdout",
     "output_type": "stream",
     "text": [
      "<mdtraj.Trajectory with 1 frames, 1990 atoms, 250 residues, and unitcells>\n",
      "<mdtraj.Trajectory with 1 frames, 1975 atoms, 247 residues, and unitcells>\n",
      "<mdtraj.Trajectory with 1 frames, 1975 atoms, 247 residues, and unitcells>\n"
     ]
    }
   ],
   "source": [
    "# Split protein into its 3 chains\n",
    "protein_1 = protein_traj.atom_slice(protein_topo.select(\"chainid == 0\"))\n",
    "protein_2 = protein_traj.atom_slice(protein_topo.select(\"chainid == 1\"))\n",
    "protein_3 = protein_traj.atom_slice(protein_topo.select(\"chainid == 2\"))\n",
    "print(protein_1)\n",
    "print(protein_2)\n",
    "print(protein_3)"
   ]
  },
  {
   "cell_type": "code",
   "execution_count": 10,
   "id": "802e1fae-d9e7-44c3-9ac0-db45f53cb5df",
   "metadata": {},
   "outputs": [],
   "source": [
    "# Save receptor to file\n",
    "protein_1.save_pdb(\"./receptor_1.pdb\")"
   ]
  },
  {
   "cell_type": "code",
   "execution_count": 11,
   "id": "9b2d125b-7c66-4a9c-a998-eb20b83439db",
   "metadata": {},
   "outputs": [
    {
     "data": {
      "application/vnd.jupyter.widget-view+json": {
       "model_id": "9887f211287040e8827cad1a32fa131d",
       "version_major": 2,
       "version_minor": 0
      },
      "text/plain": [
       "NGLWidget()"
      ]
     },
     "metadata": {},
     "output_type": "display_data"
    }
   ],
   "source": [
    "view = nv.show_mdtraj(protein_1)\n",
    "view"
   ]
  },
  {
   "cell_type": "code",
   "execution_count": 12,
   "id": "f8612198-3078-4331-bfe8-9a4cee30dc3a",
   "metadata": {},
   "outputs": [
    {
     "data": {
      "application/vnd.jupyter.widget-view+json": {
       "model_id": "ddd2b2f21f0647a98305f945f1420a19",
       "version_major": 2,
       "version_minor": 0
      },
      "text/plain": [
       "NGLWidget()"
      ]
     },
     "metadata": {},
     "output_type": "display_data"
    }
   ],
   "source": [
    "view = nv.show_mdtraj(protein_traj.atom_slice(protein_topo.select(\"chainid 1 to 2\")))\n",
    "view"
   ]
  },
  {
   "cell_type": "markdown",
   "id": "a126d869-57f4-42a6-889d-fa5273fa571c",
   "metadata": {},
   "source": [
    "<div class=\"alert alert-info\">\n",
    "<strong>Note:</strong> Apparently this is not the whole receptor. This is a segment known as the 'binding domain'. And the protein is found as homodimer under certain circunstances. I didn't read much yet to about its function and the effect of the ligands. Some of them might inhibit the dimerization. There must probably be some conformational changes induced by some ligands when they bind. <a href='https://www.uniprot.org/uniprot/P03372'>Have a look to the uniprot database (the uniprot id can be found in the RCSB PDB web page: P03372)</a>\n",
    "</div>"
   ]
  },
  {
   "cell_type": "markdown",
   "id": "25dde9ca-9293-453f-81fd-29bfc8611bad",
   "metadata": {},
   "source": [
    "## Compare the sequence of each protein"
   ]
  },
  {
   "cell_type": "code",
   "execution_count": 13,
   "id": "21f26292-e4fc-4bf3-ae40-3bd82699a71e",
   "metadata": {},
   "outputs": [],
   "source": [
    "prot_1_sequence = [res.name for res in protein_1.topology.residues]\n",
    "prot_2_sequence = [res.name for res in protein_2.topology.residues]\n",
    "prot_3_sequence = [res.name for res in protein_3.topology.residues]\n",
    "\n",
    "# Protein 2 and 3 have 247 resiudes. Protein 1 has 250. List must be of same length\n",
    "# for pandas dataframe\n",
    "\n",
    "prot_2_sequence += [\"\", \"\", \"\"]\n",
    "prot_3_sequence += [\"\", \"\", \"\"]\n",
    "\n",
    "sequences = {\n",
    "    \"Protein_1\": prot_1_sequence,\n",
    "    \"Protein_2\": prot_2_sequence,\n",
    "    \"Protein_3\": prot_3_sequence,\n",
    "}\n",
    "\n",
    "sequences = pd.DataFrame.from_dict(sequences)"
   ]
  },
  {
   "cell_type": "code",
   "execution_count": 14,
   "id": "c2ccfee3-3de3-489e-ba09-7cf65d378d75",
   "metadata": {},
   "outputs": [
    {
     "data": {
      "text/html": [
       "<div>\n",
       "<style scoped>\n",
       "    .dataframe tbody tr th:only-of-type {\n",
       "        vertical-align: middle;\n",
       "    }\n",
       "\n",
       "    .dataframe tbody tr th {\n",
       "        vertical-align: top;\n",
       "    }\n",
       "\n",
       "    .dataframe thead th {\n",
       "        text-align: right;\n",
       "    }\n",
       "</style>\n",
       "<table border=\"1\" class=\"dataframe\">\n",
       "  <thead>\n",
       "    <tr style=\"text-align: right;\">\n",
       "      <th></th>\n",
       "      <th>Protein_1</th>\n",
       "      <th>Protein_2</th>\n",
       "      <th>Protein_3</th>\n",
       "    </tr>\n",
       "  </thead>\n",
       "  <tbody>\n",
       "    <tr>\n",
       "      <th>0</th>\n",
       "      <td>SER</td>\n",
       "      <td>ASN</td>\n",
       "      <td>ASN</td>\n",
       "    </tr>\n",
       "    <tr>\n",
       "      <th>1</th>\n",
       "      <td>LYS</td>\n",
       "      <td>SER</td>\n",
       "      <td>SER</td>\n",
       "    </tr>\n",
       "    <tr>\n",
       "      <th>2</th>\n",
       "      <td>LYS</td>\n",
       "      <td>LEU</td>\n",
       "      <td>LEU</td>\n",
       "    </tr>\n",
       "    <tr>\n",
       "      <th>3</th>\n",
       "      <td>ASN</td>\n",
       "      <td>ALA</td>\n",
       "      <td>ALA</td>\n",
       "    </tr>\n",
       "    <tr>\n",
       "      <th>4</th>\n",
       "      <td>SER</td>\n",
       "      <td>LEU</td>\n",
       "      <td>LEU</td>\n",
       "    </tr>\n",
       "    <tr>\n",
       "      <th>5</th>\n",
       "      <td>LEU</td>\n",
       "      <td>SER</td>\n",
       "      <td>SER</td>\n",
       "    </tr>\n",
       "    <tr>\n",
       "      <th>6</th>\n",
       "      <td>ALA</td>\n",
       "      <td>LEU</td>\n",
       "      <td>LEU</td>\n",
       "    </tr>\n",
       "    <tr>\n",
       "      <th>7</th>\n",
       "      <td>LEU</td>\n",
       "      <td>THR</td>\n",
       "      <td>THR</td>\n",
       "    </tr>\n",
       "    <tr>\n",
       "      <th>8</th>\n",
       "      <td>SER</td>\n",
       "      <td>ALA</td>\n",
       "      <td>ALA</td>\n",
       "    </tr>\n",
       "    <tr>\n",
       "      <th>9</th>\n",
       "      <td>LEU</td>\n",
       "      <td>ASP</td>\n",
       "      <td>ASP</td>\n",
       "    </tr>\n",
       "  </tbody>\n",
       "</table>\n",
       "</div>"
      ],
      "text/plain": [
       "  Protein_1 Protein_2 Protein_3\n",
       "0       SER       ASN       ASN\n",
       "1       LYS       SER       SER\n",
       "2       LYS       LEU       LEU\n",
       "3       ASN       ALA       ALA\n",
       "4       SER       LEU       LEU\n",
       "5       LEU       SER       SER\n",
       "6       ALA       LEU       LEU\n",
       "7       LEU       THR       THR\n",
       "8       SER       ALA       ALA\n",
       "9       LEU       ASP       ASP"
      ]
     },
     "execution_count": 14,
     "metadata": {},
     "output_type": "execute_result"
    }
   ],
   "source": [
    "sequences.head(10)"
   ]
  },
  {
   "cell_type": "code",
   "execution_count": 15,
   "id": "2421eee1-a647-4d78-8875-a6fee4a7cac5",
   "metadata": {},
   "outputs": [
    {
     "data": {
      "text/html": [
       "<div>\n",
       "<style scoped>\n",
       "    .dataframe tbody tr th:only-of-type {\n",
       "        vertical-align: middle;\n",
       "    }\n",
       "\n",
       "    .dataframe tbody tr th {\n",
       "        vertical-align: top;\n",
       "    }\n",
       "\n",
       "    .dataframe thead th {\n",
       "        text-align: right;\n",
       "    }\n",
       "</style>\n",
       "<table border=\"1\" class=\"dataframe\">\n",
       "  <thead>\n",
       "    <tr style=\"text-align: right;\">\n",
       "      <th></th>\n",
       "      <th>Protein_1</th>\n",
       "      <th>Protein_2</th>\n",
       "      <th>Protein_3</th>\n",
       "    </tr>\n",
       "  </thead>\n",
       "  <tbody>\n",
       "    <tr>\n",
       "      <th>0</th>\n",
       "      <td>S</td>\n",
       "      <td>N</td>\n",
       "      <td>N</td>\n",
       "    </tr>\n",
       "    <tr>\n",
       "      <th>1</th>\n",
       "      <td>K</td>\n",
       "      <td>S</td>\n",
       "      <td>S</td>\n",
       "    </tr>\n",
       "    <tr>\n",
       "      <th>2</th>\n",
       "      <td>K</td>\n",
       "      <td>L</td>\n",
       "      <td>L</td>\n",
       "    </tr>\n",
       "    <tr>\n",
       "      <th>3</th>\n",
       "      <td>N</td>\n",
       "      <td>A</td>\n",
       "      <td>A</td>\n",
       "    </tr>\n",
       "    <tr>\n",
       "      <th>4</th>\n",
       "      <td>S</td>\n",
       "      <td>L</td>\n",
       "      <td>L</td>\n",
       "    </tr>\n",
       "    <tr>\n",
       "      <th>5</th>\n",
       "      <td>L</td>\n",
       "      <td>S</td>\n",
       "      <td>S</td>\n",
       "    </tr>\n",
       "    <tr>\n",
       "      <th>6</th>\n",
       "      <td>A</td>\n",
       "      <td>L</td>\n",
       "      <td>L</td>\n",
       "    </tr>\n",
       "    <tr>\n",
       "      <th>7</th>\n",
       "      <td>L</td>\n",
       "      <td>T</td>\n",
       "      <td>T</td>\n",
       "    </tr>\n",
       "    <tr>\n",
       "      <th>8</th>\n",
       "      <td>S</td>\n",
       "      <td>A</td>\n",
       "      <td>A</td>\n",
       "    </tr>\n",
       "    <tr>\n",
       "      <th>9</th>\n",
       "      <td>L</td>\n",
       "      <td>D</td>\n",
       "      <td>D</td>\n",
       "    </tr>\n",
       "  </tbody>\n",
       "</table>\n",
       "</div>"
      ],
      "text/plain": [
       "  Protein_1 Protein_2 Protein_3\n",
       "0         S         N         N\n",
       "1         K         S         S\n",
       "2         K         L         L\n",
       "3         N         A         A\n",
       "4         S         L         L\n",
       "5         L         S         S\n",
       "6         A         L         L\n",
       "7         L         T         T\n",
       "8         S         A         A\n",
       "9         L         D         D"
      ]
     },
     "execution_count": 15,
     "metadata": {},
     "output_type": "execute_result"
    }
   ],
   "source": [
    "# Transform aminoacids to one letter code\n",
    "aa_code = {\n",
    "    \"ALA\": \"A\",\"ARG\": \"R\",\"ASN\": \"N\",\"ASP\": \"D\",\n",
    "    \"CYS\": \"C\",\"GLU\": \"E\",\"GLN\": \"Q\",\"GLY\": \"G\",\n",
    "    \"HIS\": \"H\",\"ILE\": \"I\",\"LEU\": \"L\",\"LYS\": \"K\",\n",
    "    \"MET\": \"M\",\"PHE\": \"F\",\"PRO\": \"P\",\"SER\": \"S\",\n",
    "    \"THR\": \"T\",\"TRP\": \"W\",\"TYR\": \"Y\",\"VAL\": \"V\"\n",
    "}\n",
    "\n",
    "prot_1_sequence = [aa_code[res.name] for res in protein_1.topology.residues]\n",
    "prot_2_sequence = [aa_code[res.name] for res in protein_2.topology.residues]\n",
    "prot_3_sequence = [aa_code[res.name] for res in protein_3.topology.residues]\n",
    "\n",
    "\n",
    "sequences = {\n",
    "    \"Protein_1\": prot_1_sequence,\n",
    "    \"Protein_2\": prot_2_sequence + [\"\"] * 3,\n",
    "    \"Protein_3\": prot_3_sequence + [\"\"] * 3,\n",
    "}\n",
    "\n",
    "sequences = pd.DataFrame.from_dict(sequences)\n",
    "sequences.head(10)"
   ]
  },
  {
   "cell_type": "code",
   "execution_count": 16,
   "id": "09a9b253-c6f3-4598-949f-f908ebb27269",
   "metadata": {},
   "outputs": [
    {
     "name": "stdout",
     "output_type": "stream",
     "text": [
      "NSLALSLTADQMVSALLDAEPPILYSEYDPTRPFSEASMMGLLTNLADRELVHMINWAKRVPGFVDLTLHDQVHLLECAWLEILMIGLVWRSMEHPGKLLFAPNLLLDRNQGKCVEGMVEIFDMLLATSSRFRMMNLQGEEFVCLKSIILLNSGVYTFLSSTLKSLEEKDHIHRVLDKITDTLIHLMAKAGLTLQQQHQRLAQLLLILSHIRHMSNKGMEHLYSMKCKNVVPLYDLLLEMLDAHRLH\n"
     ]
    }
   ],
   "source": [
    "# Convert sequences to string\n",
    "prot_1_sequence = \"\".join(prot_1_sequence)\n",
    "prot_2_sequence = \"\".join(prot_2_sequence)\n",
    "prot_3_sequence = \"\".join(prot_3_sequence)\n",
    "print(prot_2_sequence)"
   ]
  },
  {
   "cell_type": "markdown",
   "id": "b9912211-dcf6-42cc-a2d6-7106aec10e0b",
   "metadata": {},
   "source": [
    "## Sequence Alignment"
   ]
  },
  {
   "cell_type": "code",
   "execution_count": 44,
   "id": "c3a47ca3-2aea-4244-b8b7-8ca19caed3f1",
   "metadata": {},
   "outputs": [
    {
     "name": "stdout",
     "output_type": "stream",
     "text": [
      "Alignment between protein 1 and protein 2\n",
      "Number of alignments: 1\n",
      "Score = 247.0\n",
      "\n",
      "SKKNSLALSLTADQMVSALLDAEPPILYSEYDPTRPFSEASMMGLLTNLADRELVHMINWAKRVPGFVDLTLHDQVHLLECAWLEILMIGLVWRSMEHPGKLLFAPNLLLDRNQGKCVEGMVEIFDMLLATSSRFRMMNLQGEEFVCLKSIILLNSGVYTFLSSTLKSLEEKDHIHRVLDKITDTLIHLMAKAGLTLQQQHQRLAQLLLILSHIRHMSNKGMEHLYSMKCKNVVPLYDLLLEMLDAHRLH\n",
      "---|||||||||||||||||||||||||||||||||||||||||||||||||||||||||||||||||||||||||||||||||||||||||||||||||||||||||||||||||||||||||||||||||||||||||||||||||||||||||||||||||||||||||||||||||||||||||||||||||||||||||||||||||||||||||||||||||||||||||||||||||||||||\n",
      "---NSLALSLTADQMVSALLDAEPPILYSEYDPTRPFSEASMMGLLTNLADRELVHMINWAKRVPGFVDLTLHDQVHLLECAWLEILMIGLVWRSMEHPGKLLFAPNLLLDRNQGKCVEGMVEIFDMLLATSSRFRMMNLQGEEFVCLKSIILLNSGVYTFLSSTLKSLEEKDHIHRVLDKITDTLIHLMAKAGLTLQQQHQRLAQLLLILSHIRHMSNKGMEHLYSMKCKNVVPLYDLLLEMLDAHRLH\n",
      "\n",
      "Alignment between protein 1 and protein 3\n",
      "Number of alignments: 1\n",
      "Score = 247.0\n",
      "\n",
      "SKKNSLALSLTADQMVSALLDAEPPILYSEYDPTRPFSEASMMGLLTNLADRELVHMINWAKRVPGFVDLTLHDQVHLLECAWLEILMIGLVWRSMEHPGKLLFAPNLLLDRNQGKCVEGMVEIFDMLLATSSRFRMMNLQGEEFVCLKSIILLNSGVYTFLSSTLKSLEEKDHIHRVLDKITDTLIHLMAKAGLTLQQQHQRLAQLLLILSHIRHMSNKGMEHLYSMKCKNVVPLYDLLLEMLDAHRLH\n",
      "---|||||||||||||||||||||||||||||||||||||||||||||||||||||||||||||||||||||||||||||||||||||||||||||||||||||||||||||||||||||||||||||||||||||||||||||||||||||||||||||||||||||||||||||||||||||||||||||||||||||||||||||||||||||||||||||||||||||||||||||||||||||||\n",
      "---NSLALSLTADQMVSALLDAEPPILYSEYDPTRPFSEASMMGLLTNLADRELVHMINWAKRVPGFVDLTLHDQVHLLECAWLEILMIGLVWRSMEHPGKLLFAPNLLLDRNQGKCVEGMVEIFDMLLATSSRFRMMNLQGEEFVCLKSIILLNSGVYTFLSSTLKSLEEKDHIHRVLDKITDTLIHLMAKAGLTLQQQHQRLAQLLLILSHIRHMSNKGMEHLYSMKCKNVVPLYDLLLEMLDAHRLH\n",
      "\n",
      "Alignment between protein 2 and protein 3\n",
      "Number of alignments: 1\n",
      "Score = 247.0\n",
      "\n",
      "NSLALSLTADQMVSALLDAEPPILYSEYDPTRPFSEASMMGLLTNLADRELVHMINWAKRVPGFVDLTLHDQVHLLECAWLEILMIGLVWRSMEHPGKLLFAPNLLLDRNQGKCVEGMVEIFDMLLATSSRFRMMNLQGEEFVCLKSIILLNSGVYTFLSSTLKSLEEKDHIHRVLDKITDTLIHLMAKAGLTLQQQHQRLAQLLLILSHIRHMSNKGMEHLYSMKCKNVVPLYDLLLEMLDAHRLH\n",
      "|||||||||||||||||||||||||||||||||||||||||||||||||||||||||||||||||||||||||||||||||||||||||||||||||||||||||||||||||||||||||||||||||||||||||||||||||||||||||||||||||||||||||||||||||||||||||||||||||||||||||||||||||||||||||||||||||||||||||||||||||||||||\n",
      "NSLALSLTADQMVSALLDAEPPILYSEYDPTRPFSEASMMGLLTNLADRELVHMINWAKRVPGFVDLTLHDQVHLLECAWLEILMIGLVWRSMEHPGKLLFAPNLLLDRNQGKCVEGMVEIFDMLLATSSRFRMMNLQGEEFVCLKSIILLNSGVYTFLSSTLKSLEEKDHIHRVLDKITDTLIHLMAKAGLTLQQQHQRLAQLLLILSHIRHMSNKGMEHLYSMKCKNVVPLYDLLLEMLDAHRLH\n",
      "\n"
     ]
    }
   ],
   "source": [
    "sequences = [prot_1_sequence, prot_2_sequence, prot_3_sequence]\n",
    "aligner = Align.PairwiseAligner()\n",
    "\n",
    "for i, j in combinations([1, 2, 3], 2):\n",
    "    seq_i = sequences[i - 1] \n",
    "    seq_j = sequences[j - 1]\n",
    "    alignments = aligner.align(seq_i, seq_j)\n",
    "    print(\"Alignment between protein {} and protein {}\".format(i, j))\n",
    "    print(\"Number of alignments: {}\".format(len(alignments)))\n",
    "    for align in alignments:\n",
    "        print(\"Score = {:.1f}\\n\".format(align.score))\n",
    "        print(align)"
   ]
  },
  {
   "cell_type": "markdown",
   "id": "562d4ae0-aaef-439a-a572-a4cdd7d3ea06",
   "metadata": {},
   "source": [
    "<div class=\"alert alert-danger\">\n",
    "<strong>What's a sequence alignment?</strong> Performing a sequence alignment between two or more aminoacids' sequences is not straightforward, there is not a unique way to do it. The sequences must be aligned matching common segments, but be aware of the following. A sequence can be modified with mutations, insertions and deletions. As I said, it is not a trivial task. And multiple sequence alignment is a problem far from being solved. Try to make a sequence alignment of these 3 sequences (one to one) with the help of <a href='https://biopython.org/'>Biopython</a>. Check the <a href='https://biopython.org/docs/1.75/api/Bio.Align.html#Bio.Align.PairwiseAligner'>PairWiseAligner</a> of Biopython and try it.\n",
    "</div>"
   ]
  },
  {
   "cell_type": "markdown",
   "id": "3f0f0764-54b1-448a-b350-4f4e2be656bd",
   "metadata": {},
   "source": [
    "## Structural Alignment"
   ]
  },
  {
   "cell_type": "code",
   "execution_count": 45,
   "id": "ae9cb2e9-0293-4aa3-9ba5-7b95e5b78940",
   "metadata": {},
   "outputs": [
    {
     "name": "stdout",
     "output_type": "stream",
     "text": [
      "RMSD between common segments\n"
     ]
    },
    {
     "data": {
      "text/html": [
       "<div>\n",
       "<style scoped>\n",
       "    .dataframe tbody tr th:only-of-type {\n",
       "        vertical-align: middle;\n",
       "    }\n",
       "\n",
       "    .dataframe tbody tr th {\n",
       "        vertical-align: top;\n",
       "    }\n",
       "\n",
       "    .dataframe thead th {\n",
       "        text-align: right;\n",
       "    }\n",
       "</style>\n",
       "<table border=\"1\" class=\"dataframe\">\n",
       "  <thead>\n",
       "    <tr style=\"text-align: right;\">\n",
       "      <th></th>\n",
       "      <th>protein_1</th>\n",
       "      <th>protein_2</th>\n",
       "      <th>protein_3</th>\n",
       "    </tr>\n",
       "  </thead>\n",
       "  <tbody>\n",
       "    <tr>\n",
       "      <th>protein_1</th>\n",
       "      <td>0.000697</td>\n",
       "      <td>0.588740</td>\n",
       "      <td>0.588521</td>\n",
       "    </tr>\n",
       "    <tr>\n",
       "      <th>protein_2</th>\n",
       "      <td>0.588743</td>\n",
       "      <td>0.001215</td>\n",
       "      <td>0.138954</td>\n",
       "    </tr>\n",
       "    <tr>\n",
       "      <th>protein_3</th>\n",
       "      <td>0.588524</td>\n",
       "      <td>0.138945</td>\n",
       "      <td>0.001569</td>\n",
       "    </tr>\n",
       "  </tbody>\n",
       "</table>\n",
       "</div>"
      ],
      "text/plain": [
       "           protein_1  protein_2  protein_3\n",
       "protein_1   0.000697   0.588740   0.588521\n",
       "protein_2   0.588743   0.001215   0.138954\n",
       "protein_3   0.588524   0.138945   0.001569"
      ]
     },
     "execution_count": 45,
     "metadata": {},
     "output_type": "execute_result"
    }
   ],
   "source": [
    "proteins = [protein_1, protein_2, protein_3]\n",
    "aligner = Align.PairwiseAligner()\n",
    "n_proteins = len(proteins)\n",
    "\n",
    "rows = []\n",
    "\n",
    "for ii in range(n_proteins):\n",
    "    seq_i = sequences[ii]\n",
    "    row = []\n",
    "    for jj in range(n_proteins):\n",
    "        seq_j = sequences[jj]\n",
    "        # Align sequences\n",
    "        alignments = aligner.align(seq_i, seq_j)\n",
    "        align = alignments[0]\n",
    "        # Get indices of common resiudes\n",
    "        indices = align.aligned\n",
    "        start_i, end_i = indices[0][0]\n",
    "        start_j, end_j = indices[1][0]        \n",
    "        prot_i_indices = np.arange(start_i, end_i + 1)\n",
    "        prot_j_indices = np.arange(start_j, end_j + 1)\n",
    "        # Select common residues from each protein\n",
    "        prot_i_backbone = proteins[ii].atom_slice(prot_i_indices)\n",
    "        prot_j_backbone = proteins[jj].atom_slice(prot_j_indices)\n",
    "        # Compute rmsd\n",
    "        rmsd = md.rmsd(prot_i_backbone, prot_j_backbone, 0)\n",
    "        row.append(rmsd[0])\n",
    "    rows.append(row)\n",
    "    \n",
    "print(\"RMSD between common segments\")\n",
    "columns = [\"protein_1\", \"protein_2\", \"protein_3\"]\n",
    "RMSD = pd.DataFrame(rows, index=columns, columns=columns)\n",
    "RMSD"
   ]
  },
  {
   "cell_type": "markdown",
   "id": "dc5b9a80-86fb-449e-8e33-6c33792c5523",
   "metadata": {},
   "source": [
    "<div class=\"alert alert-danger\">\n",
    "<strong>What's a structural alignment?</strong> What you were trying to do here is a structural alignment. Sometimes we want to overlap structures to check their \"geometric\" similarity, and these structures are not equal. A measure of \"geometric\" similarity between objects composed by distinguishable elements is the root mean square deviation (rmsd). The problem of the structural alignment again is far from trivial, there are different approaches. But in this case it is simple: with the previous sequence alignment you know the common segments, you can then compute the rmsd of the backbone atoms belonging to those common segments. Again, do this by pairs... A vs B and A vs C, for instance.\n",
    "</div>"
   ]
  },
  {
   "cell_type": "code",
   "execution_count": 21,
   "id": "2840b3a1-97f1-4787-be1b-f70a1230b854",
   "metadata": {},
   "outputs": [],
   "source": [
    "# help(mdtraj.core.topology.Residue)"
   ]
  }
 ],
 "metadata": {
  "kernelspec": {
   "display_name": "Python 3 (ipykernel)",
   "language": "python",
   "name": "python3"
  },
  "language_info": {
   "codemirror_mode": {
    "name": "ipython",
    "version": 3
   },
   "file_extension": ".py",
   "mimetype": "text/x-python",
   "name": "python",
   "nbconvert_exporter": "python",
   "pygments_lexer": "ipython3",
   "version": "3.7.10"
  }
 },
 "nbformat": 4,
 "nbformat_minor": 5
}
