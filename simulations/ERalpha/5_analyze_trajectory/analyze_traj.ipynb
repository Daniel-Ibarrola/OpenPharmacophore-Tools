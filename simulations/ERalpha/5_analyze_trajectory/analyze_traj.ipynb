{
 "cells": [
  {
   "cell_type": "code",
   "execution_count": 1,
   "id": "b09f077a-9dec-497b-884a-dc30bb8d67b0",
   "metadata": {},
   "outputs": [],
   "source": [
    "%load_ext autoreload\n",
    "%autoreload 2"
   ]
  },
  {
   "cell_type": "code",
   "execution_count": 2,
   "id": "5db10a06-ee5b-429c-9fb7-62eb2f80d8ef",
   "metadata": {},
   "outputs": [
    {
     "name": "stderr",
     "output_type": "stream",
     "text": [
      "Warning: importing 'simtk.openmm' is deprecated.  Import 'openmm' instead.\n"
     ]
    },
    {
     "data": {
      "application/vnd.jupyter.widget-view+json": {
       "model_id": "3467d510e6b74dfe957783f02ab4a32a",
       "version_major": 2,
       "version_minor": 0
      },
      "text/plain": []
     },
     "metadata": {},
     "output_type": "display_data"
    }
   ],
   "source": [
    "import matplotlib.pyplot as plt\n",
    "import mdtraj as md\n",
    "import nglview as nv\n",
    "import numpy as np\n",
    "import os"
   ]
  },
  {
   "cell_type": "markdown",
   "id": "8f6b3b5a-26c8-424b-87d5-4cfaaae3352f",
   "metadata": {
    "tags": []
   },
   "source": [
    "## Load trajectory"
   ]
  },
  {
   "cell_type": "code",
   "execution_count": 3,
   "id": "92d5e312-0058-4097-a3a1-189e5630808d",
   "metadata": {},
   "outputs": [
    {
     "name": "stdout",
     "output_type": "stream",
     "text": [
      "<mdtraj.Trajectory with 1000 frames, 27425 atoms, 8028 residues, and unitcells>\n",
      "<mdtraj.Topology with 4 chains, 8028 residues, 27425 atoms, 19689 bonds>\n"
     ]
    }
   ],
   "source": [
    "traj_file = \"../4_complex_preparation/traj.h5\"\n",
    "traj = md.load(traj_file)\n",
    "print(traj)\n",
    "print(traj.topology)"
   ]
  },
  {
   "cell_type": "code",
   "execution_count": 4,
   "id": "bf984815-db5e-4031-81f7-3460d5c11516",
   "metadata": {},
   "outputs": [
    {
     "data": {
      "application/vnd.jupyter.widget-view+json": {
       "model_id": "4179a719ccd943c1ba7b6c90dab8aa52",
       "version_major": 2,
       "version_minor": 0
      },
      "text/plain": [
       "NGLWidget(max_frame=999)"
      ]
     },
     "metadata": {},
     "output_type": "display_data"
    }
   ],
   "source": [
    "view = nv.show_mdtraj(traj)\n",
    "#view.add_licorice(selection=\"(not protein)\")\n",
    "view"
   ]
  },
  {
   "cell_type": "markdown",
   "id": "9c2d4111-fe8b-4bbb-ba6d-4f397f5203d7",
   "metadata": {},
   "source": [
    "## Compute RMSD"
   ]
  },
  {
   "cell_type": "code",
   "execution_count": 5,
   "id": "d5bc7f99-13c8-41b4-ae2b-015928eb3e2b",
   "metadata": {},
   "outputs": [
    {
     "name": "stdout",
     "output_type": "stream",
     "text": [
      "<mdtraj.Trajectory with 1000 frames, 44 atoms, 1 residues, and unitcells>\n",
      "<mdtraj.Topology with 1 chains, 1 residues, 44 atoms, 47 bonds>\n"
     ]
    }
   ],
   "source": [
    "ligand_traj = traj.atom_slice(traj.topology.select(\"not protein and not water\"))\n",
    "# Unselect ions\n",
    "ligand_traj = ligand_traj.atom_slice(ligand_traj.topology.select(\"chainid == 0\"))\n",
    "print(ligand_traj)\n",
    "print(ligand_traj.topology)"
   ]
  },
  {
   "cell_type": "code",
   "execution_count": 6,
   "id": "c5c39848-4e70-4bc2-aa4f-47c8ce97049d",
   "metadata": {},
   "outputs": [
    {
     "name": "stdout",
     "output_type": "stream",
     "text": [
      "<mdtraj.Trajectory with 1000 frames, 4058 atoms, 250 residues, and unitcells>\n",
      "<mdtraj.Topology with 1 chains, 250 residues, 4058 atoms, 4096 bonds>\n"
     ]
    }
   ],
   "source": [
    "protein_traj = traj.atom_slice(traj.topology.select(\"protein\"))\n",
    "print(protein_traj)\n",
    "print(protein_traj.topology)"
   ]
  },
  {
   "cell_type": "code",
   "execution_count": 7,
   "id": "d053614c-92bd-423c-aecf-de5d5a1cacfe",
   "metadata": {},
   "outputs": [
    {
     "name": "stdout",
     "output_type": "stream",
     "text": [
      "(1000,)\n"
     ]
    }
   ],
   "source": [
    "rmsd_prot = md.rmsd(protein_traj, protein_traj, 0)\n",
    "rmsd_lig = md.rmsd(ligand_traj, ligand_traj, 0)\n",
    "print(rmsd_prot.shape)"
   ]
  },
  {
   "cell_type": "code",
   "execution_count": 8,
   "id": "6a4ef844-2529-454b-a1f4-62abbc78da4c",
   "metadata": {},
   "outputs": [
    {
     "data": {
      "image/png": "[encoded data removed]",
      "text/plain": [
       "<Figure size 432x288 with 1 Axes>"
      ]
     },
     "metadata": {
      "needs_background": "light"
     },
     "output_type": "display_data"
    }
   ],
   "source": [
    "time = np.linspace(0, 10, num=1000)\n",
    "\n",
    "fig, ax = plt.subplots()\n",
    "ax.plot(time, rmsd_prot, label=\"Protein\")\n",
    "ax.plot(time, rmsd_lig, label=\"Ligand\")\n",
    "ax.set_xlabel(\"Time (nanoseconds)\")\n",
    "ax.set_ylabel(\"RMSD\")\n",
    "ax.legend()\n",
    "plt.show()"
   ]
  },
  {
   "cell_type": "markdown",
   "id": "5ba1fbae-c456-47fd-9c06-d99ac680160a",
   "metadata": {},
   "source": [
    "## Get pharmacophore points for some frames"
   ]
  },
  {
   "cell_type": "code",
   "execution_count": 9,
   "id": "4b6f088c-d322-4317-97d9-5d717dbb8efb",
   "metadata": {},
   "outputs": [],
   "source": [
    "from openpharmacophore.structured_based import StructuredBasedPharmacophore "
   ]
  },
  {
   "cell_type": "code",
   "execution_count": 10,
   "id": "9589a24b-0115-4bc1-bd30-0daf4b25e989",
   "metadata": {},
   "outputs": [
    {
     "name": "stdout",
     "output_type": "stream",
     "text": [
      "First Frame: <mdtraj.Trajectory with 1 frames, 27425 atoms, 8028 residues, and unitcells>\n",
      "Middle Frame: <mdtraj.Trajectory with 1 frames, 27425 atoms, 8028 residues, and unitcells>\n",
      "Last Frame: <mdtraj.Trajectory with 1 frames, 27425 atoms, 8028 residues, and unitcells>\n"
     ]
    }
   ],
   "source": [
    "start = traj[0]\n",
    "middle = traj[499]\n",
    "end = traj[-1]\n",
    "\n",
    "print(\"First Frame: {}\".format(start))\n",
    "print(\"Middle Frame: {}\".format(middle))\n",
    "print(\"Last Frame: {}\".format(end))"
   ]
  },
  {
   "cell_type": "code",
   "execution_count": 11,
   "id": "c8836fe1-84c1-4a18-9230-0879a4013933",
   "metadata": {},
   "outputs": [],
   "source": [
    "def pharmacophore_from_frame(frame):\n",
    "    temp_filename = \"./temp.pdb\"\n",
    "    frame.save_pdb(temp_filename)\n",
    "\n",
    "    # The pdb mdtraj generates needs to be edited so that pybel can read it.\n",
    "    # The third line that contains \"MODEL\" needs to be removed for the structured \n",
    "    # based pharmacophore to work.\n",
    "    remove_line_from_file(file=temp_filename, line=\"MODEL\")\n",
    "    pharmacophore = StructuredBasedPharmacophore.from_pdb(temp_filename)\n",
    "    \n",
    "    os.remove(temp_filename)\n",
    "    return pharmacophore"
   ]
  },
  {
   "cell_type": "code",
   "execution_count": 12,
   "id": "966559ff-e9a6-44e2-a285-feef956d4af0",
   "metadata": {},
   "outputs": [],
   "source": [
    "def remove_line_from_file(file, line):\n",
    "    with open(file, \"r+\") as f:\n",
    "        d = f.readlines()\n",
    "        f.seek(0)\n",
    "        for i in d:\n",
    "            if  not i.startswith(line):\n",
    "                f.write(i)\n",
    "        f.truncate()"
   ]
  },
  {
   "cell_type": "code",
   "execution_count": 13,
   "id": "ebd2fab3-4125-49c5-b633-a26bcf7a1a42",
   "metadata": {},
   "outputs": [
    {
     "data": {
      "text/plain": [
       "StructuredBasedPharmacophore(n_elements: 5)"
      ]
     },
     "execution_count": 13,
     "metadata": {},
     "output_type": "execute_result"
    }
   ],
   "source": [
    "start_pharmacophore = pharmacophore_from_frame(start)\n",
    "start_pharmacophore"
   ]
  },
  {
   "cell_type": "code",
   "execution_count": 14,
   "id": "22f2ee6f-019f-4619-879e-b7a5c67f1534",
   "metadata": {},
   "outputs": [
    {
     "data": {
      "application/vnd.jupyter.widget-view+json": {
       "model_id": "4d520a0a712d447888f4a77412986312",
       "version_major": 2,
       "version_minor": 0
      },
      "text/plain": [
       "NGLWidget()"
      ]
     },
     "metadata": {},
     "output_type": "display_data"
    }
   ],
   "source": [
    "start_pharmacophore.show()"
   ]
  },
  {
   "cell_type": "code",
   "execution_count": 15,
   "id": "add10456-cc72-4135-9a99-c5841ddbef3d",
   "metadata": {},
   "outputs": [
    {
     "data": {
      "text/plain": [
       "StructuredBasedPharmacophore(n_elements: 4)"
      ]
     },
     "execution_count": 15,
     "metadata": {},
     "output_type": "execute_result"
    }
   ],
   "source": [
    "# Pharmacophore for middle frame\n",
    "middle_pharmacophore = pharmacophore_from_frame(middle)\n",
    "middle_pharmacophore"
   ]
  },
  {
   "cell_type": "code",
   "execution_count": 23,
   "id": "f768295e-cb53-46f9-94f9-fc7e891da4ed",
   "metadata": {},
   "outputs": [
    {
     "data": {
      "text/plain": [
       "[HBAcceptorSphereAndVector(center: (26.493, 19.812, 22.445); radius: 1.0; direction: (0.2016, -0.8838, 0.4222)),\n",
       " HBAcceptorSphereAndVector(center: (36.179, 15.285, 24.479); radius: 1.0; direction: (-0.6204, 0.5922, 0.5142)),\n",
       " HBDonorSphereAndVector(center: (26.493, 19.812, 22.445); radius: 1.0; direction: (-0.1575, 0.9459, 0.2835)),\n",
       " HydrophobicSphere(center: (34.5338, 15.4854, 22.6358); radius: 1.0)]"
      ]
     },
     "execution_count": 23,
     "metadata": {},
     "output_type": "execute_result"
    }
   ],
   "source": [
    "middle_pharmacophore.elements"
   ]
  },
  {
   "cell_type": "code",
   "execution_count": 16,
   "id": "8baf43ae-437b-4d7e-86da-28c3df242522",
   "metadata": {},
   "outputs": [
    {
     "data": {
      "application/vnd.jupyter.widget-view+json": {
       "model_id": "81f69d386147406b850efe1942bb11da",
       "version_major": 2,
       "version_minor": 0
      },
      "text/plain": [
       "NGLWidget()"
      ]
     },
     "metadata": {},
     "output_type": "display_data"
    }
   ],
   "source": [
    "middle_pharmacophore.show()"
   ]
  },
  {
   "cell_type": "code",
   "execution_count": 17,
   "id": "1d02627d-a81d-4710-a91d-d26b28a74727",
   "metadata": {},
   "outputs": [
    {
     "data": {
      "text/plain": [
       "StructuredBasedPharmacophore(n_elements: 4)"
      ]
     },
     "execution_count": 17,
     "metadata": {},
     "output_type": "execute_result"
    }
   ],
   "source": [
    "end_pharmacophore = pharmacophore_from_frame(end)\n",
    "end_pharmacophore"
   ]
  },
  {
   "cell_type": "code",
   "execution_count": 21,
   "id": "41eccc09-d0d7-45b3-965c-3c8f320b6728",
   "metadata": {},
   "outputs": [
    {
     "data": {
      "image/png": "[encoded data removed]",
      "text/plain": [
       "<rdkit.Chem.rdchem.Mol at 0x7fda4d44b350>"
      ]
     },
     "execution_count": 21,
     "metadata": {},
     "output_type": "execute_result"
    }
   ],
   "source": [
    "end_pharmacophore.ligand"
   ]
  },
  {
   "cell_type": "code",
   "execution_count": 22,
   "id": "2930a106-244f-47c7-8f85-f7d423eb5500",
   "metadata": {},
   "outputs": [
    {
     "data": {
      "text/plain": [
       "[HBAcceptorSphereAndVector(center: (21.4, 23.433, 23.959); radius: 1.0; direction: (0.9029, 0.0437, 0.4276)),\n",
       " HBAcceptorSphereAndVector(center: (32.187, 20.784, 24.975); radius: 1.0; direction: (-0.8643, 0.3032, 0.4012)),\n",
       " HBDonorSphereAndVector(center: (21.4, 23.433, 23.959); radius: 1.0; direction: (-0.9257, -0.2297, 0.3006)),\n",
       " HydrophobicSphere(center: (30.007, 20.079, 23.7292); radius: 1.0)]"
      ]
     },
     "execution_count": 22,
     "metadata": {},
     "output_type": "execute_result"
    }
   ],
   "source": [
    "end_pharmacophore.elements"
   ]
  },
  {
   "cell_type": "code",
   "execution_count": 18,
   "id": "56a73a59-cf66-4409-b79c-0c4276ce1a09",
   "metadata": {},
   "outputs": [
    {
     "data": {
      "application/vnd.jupyter.widget-view+json": {
       "model_id": "68fd27515ddf4aab9246e6feae4ff3fa",
       "version_major": 2,
       "version_minor": 0
      },
      "text/plain": [
       "NGLWidget()"
      ]
     },
     "metadata": {},
     "output_type": "display_data"
    }
   ],
   "source": [
    "end_pharmacophore.show()"
   ]
  },
  {
   "cell_type": "code",
   "execution_count": 20,
   "id": "36ad44eb-c993-4b4d-8421-8a6d45fa180c",
   "metadata": {},
   "outputs": [
    {
     "data": {
      "text/plain": [
       "1000"
      ]
     },
     "execution_count": 20,
     "metadata": {},
     "output_type": "execute_result"
    }
   ],
   "source": [
    "traj.n_frames"
   ]
  }
 ],
 "metadata": {
  "kernelspec": {
   "display_name": "Python 3 (ipykernel)",
   "language": "python",
   "name": "python3"
  },
  "language_info": {
   "codemirror_mode": {
    "name": "ipython",
    "version": 3
   },
   "file_extension": ".py",
   "mimetype": "text/x-python",
   "name": "python",
   "nbconvert_exporter": "python",
   "pygments_lexer": "ipython3",
   "version": "3.7.10"
  }
 },
 "nbformat": 4,
 "nbformat_minor": 5
}
