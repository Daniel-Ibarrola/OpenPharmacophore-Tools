{
 "cells": [
  {
   "cell_type": "code",
   "execution_count": 1,
   "id": "49c78c2e-0c6f-471b-90d5-56243b7392e9",
   "metadata": {},
   "outputs": [],
   "source": [
    "import copy\n",
    "import networkx as nx\n",
    "import numpy as np"
   ]
  },
  {
   "cell_type": "markdown",
   "id": "1dbd9ce8-b212-42bc-a5e7-fae1aaf39eb0",
   "metadata": {},
   "source": [
    "# Clique detection algorithm\n",
    "\n",
    "In this notebook we'll implement the clique detection algorithm on a set consisting of 3 complete small graphs. This algorithm is a variant of the subgraph mining algorithm which consist of finding graphs that are isomorphic to a subgraph of another graph.\n",
    "\n",
    "The problem of finding an isomorphism between two graphs can be reframed as finding two graphs whose canonical label is equal. The canonical label of a graph is a string representation of a graph which is obtained by concatenating the rows of it's adjacency matrix. There are many different labels for a given graph, so the one with the minimum lexicographical order is taken and it's representative of the graph. If another graph has the same canonical label, then they are isomorphic. Thus, the problem of ismorphism is reduced to a string comparison problem. \n",
    "\n",
    "First we'll create a set of 3 graphs. Each of these graphs will contain a 3-clique that is common to all. The algorithm should be able to find this 3-clique.\n",
    "\n",
    "The graphs will be named G, J and H. The first two will contain 4 nodes each and the latter will contain 6 nodes. We'll create them in network-x to visualize them."
   ]
  },
  {
   "cell_type": "code",
   "execution_count": 2,
   "id": "c1ec39ce-6f9b-42e7-ad35-b4483b80afee",
   "metadata": {},
   "outputs": [],
   "source": [
    "clique = [\n",
    "        (\"A\", \"D\"),\n",
    "        (\"A\", \"R\"),\n",
    "        (\"D\", \"R\"),\n",
    "    ]"
   ]
  },
  {
   "cell_type": "code",
   "execution_count": 3,
   "id": "ffb2e649-7dbf-417c-8c2a-f555c5a26287",
   "metadata": {},
   "outputs": [],
   "source": [
    "# Create G\n",
    "\n",
    "G = nx.Graph()\n",
    "edges = [\n",
    "    (\"A\", \"D\"),\n",
    "    (\"A\", \"R\"),\n",
    "    (\"A\", \"N\"),\n",
    "    (\"D\", \"N\"),\n",
    "    (\"D\", \"R\"),\n",
    "    (\"N\", \"R\"),\n",
    "]\n",
    "\n",
    "labels = [4, 5, 3, 8, 2, 4]\n",
    "\n",
    "for ii in range(len(edges)):\n",
    "    if edges[ii] in clique:\n",
    "        G.add_edge(edges[ii][0], edges[ii][1], dis=labels[ii], color=\"red\")\n",
    "    else:\n",
    "        G.add_edge(edges[ii][0], edges[ii][1], dis=labels[ii], color=\"black\")\n",
    "\n",
    "assert G.number_of_edges() == (G.number_of_nodes() * (G.number_of_nodes() - 1)) / 2 # Condition for complete graphs"
   ]
  },
  {
   "cell_type": "code",
   "execution_count": 6,
   "id": "67feee27-f113-4b72-a1ea-550611760bc3",
   "metadata": {},
   "outputs": [],
   "source": [
    "# Create J\n",
    "# J is very similar to G. The only difference is the label N is replaced by P\n",
    "\n",
    "J = nx.Graph()\n",
    "edges = [\n",
    "    (\"A\", \"D\"),\n",
    "    (\"A\", \"R\"),\n",
    "    (\"A\", \"P\"),\n",
    "    (\"D\", \"P\"),\n",
    "    (\"D\", \"R\"),\n",
    "    (\"P\", \"R\"),\n",
    "]\n",
    "labels = [4, 5, 3, 8, 2, 4]\n",
    "\n",
    "for ii in range(len(edges)):\n",
    "    if edges[ii] in clique:\n",
    "        J.add_edge(edges[ii][0], edges[ii][1], dis=labels[ii], color=\"red\")\n",
    "    else:\n",
    "        J.add_edge(edges[ii][0], edges[ii][1], dis=labels[ii], color=\"black\")\n",
    "\n",
    "assert J.number_of_edges() == (J.number_of_nodes() * (J.number_of_nodes() - 1)) / 2 # Condition for complete graphs"
   ]
  },
  {
   "cell_type": "code",
   "execution_count": 7,
   "id": "a7cc21ff-b07a-4016-b126-fdc2f0668c89",
   "metadata": {},
   "outputs": [],
   "source": [
    "# Create H\n",
    "# H is a supergraph of G\n",
    "\n",
    "H = copy.deepcopy(G)\n",
    "edges = [\n",
    "    (\"A\", \"H\"),\n",
    "    (\"A\", \"P\"),\n",
    "    (\"D\", \"H\"),\n",
    "    (\"D\", \"P\"),\n",
    "    (\"N\", \"H\"),\n",
    "    (\"N\", \"P\"),\n",
    "    (\"R\", \"H\"),\n",
    "    (\"R\", \"P\"),\n",
    "    (\"H\", \"P\")\n",
    "]\n",
    "labels = [4, 5, 3, 5, 6, 2, 8, 7, 4]\n",
    "\n",
    "for ii in range(len(edges)):\n",
    "    H.add_edge(edges[ii][0], edges[ii][1], dis=labels[ii], color=\"black\")\n",
    "\n",
    "assert H.number_of_edges() == (H.number_of_nodes() * (H.number_of_nodes() - 1)) / 2 # Condition for complete graphs"
   ]
  },
  {
   "cell_type": "code",
   "execution_count": 8,
   "id": "7f1ba831-bc59-446d-b14a-85f4a4a81891",
   "metadata": {},
   "outputs": [],
   "source": [
    "def draw_graph(graph):\n",
    "    \"\"\" Function to draw the graphs and color the 3-clique that all share.\n",
    "    \"\"\"\n",
    "    pos = nx.circular_layout(graph)\n",
    "    colors = [graph[u][v][\"color\"] for u,v in graph.edges]\n",
    "    \n",
    "    nx.draw(graph, pos, edge_color=colors, with_labels=True)\n",
    "            "
   ]
  },
  {
   "cell_type": "code",
   "execution_count": 9,
   "id": "35dfbb7f-78da-4b25-9aa7-b94fdfeb2893",
   "metadata": {},
   "outputs": [
    {
     "data": {
      "image/png": "[encoded data removed]",
      "text/plain": [
       "<Figure size 432x288 with 1 Axes>"
      ]
     },
     "metadata": {},
     "output_type": "display_data"
    }
   ],
   "source": [
    "draw_graph(G)"
   ]
  },
  {
   "cell_type": "code",
   "execution_count": 10,
   "id": "b8559854-6aaf-4560-a601-66faca8514c2",
   "metadata": {},
   "outputs": [
    {
     "data": {
      "image/png": "[encoded data removed]",
      "text/plain": [
       "<Figure size 432x288 with 1 Axes>"
      ]
     },
     "metadata": {},
     "output_type": "display_data"
    }
   ],
   "source": [
    "draw_graph(J)"
   ]
  },
  {
   "cell_type": "code",
   "execution_count": 11,
   "id": "83a2054c-be94-4ef6-9199-18837574321e",
   "metadata": {},
   "outputs": [
    {
     "data": {
      "image/png": "[encoded data removed]",
      "text/plain": [
       "<Figure size 432x288 with 1 Axes>"
      ]
     },
     "metadata": {},
     "output_type": "display_data"
    }
   ],
   "source": [
    "draw_graph(H)"
   ]
  }
 ],
 "metadata": {
  "kernelspec": {
   "display_name": "Python 3 (ipykernel)",
   "language": "python",
   "name": "python3"
  },
  "language_info": {
   "codemirror_mode": {
    "name": "ipython",
    "version": 3
   },
   "file_extension": ".py",
   "mimetype": "text/x-python",
   "name": "python",
   "nbconvert_exporter": "python",
   "pygments_lexer": "ipython3",
   "version": "3.7.10"
  }
 },
 "nbformat": 4,
 "nbformat_minor": 5
}
