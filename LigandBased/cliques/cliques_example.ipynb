{
 "cells": [
  {
   "cell_type": "code",
   "execution_count": 1,
   "id": "49c78c2e-0c6f-471b-90d5-56243b7392e9",
   "metadata": {},
   "outputs": [],
   "source": [
    "%matplotlib inline\n",
    "import bisect\n",
    "import copy\n",
    "import matplotlib.pyplot as plt\n",
    "import networkx as nx\n",
    "import numpy as np"
   ]
  },
  {
   "cell_type": "markdown",
   "id": "1dbd9ce8-b212-42bc-a5e7-fae1aaf39eb0",
   "metadata": {},
   "source": [
    "# Clique detection algorithm\n",
    "\n",
    "In this notebook we'll implement the clique detection algorithm on a set consisting of 3 complete small graphs. This algorithm is a variant of the subgraph mining algorithm which consist of finding graphs that are isomorphic to a subgraph of another graph.\n",
    "\n",
    "The problem of finding an isomorphism between two graphs can be reframed as finding two graphs whose canonical label is equal. The canonical label of a graph is a string representation of a graph which is obtained by concatenating the rows of it's adjacency matrix. There are many different labels for a given graph, so the one with the minimum lexicographical order is taken and it's representative of the graph. If another graph has the same canonical label, then they are isomorphic. Thus, the problem of ismorphism is reduced to a string comparison problem. \n",
    "\n",
    "First we'll create a set of 3 graphs. Each of these graphs will contain a 3-clique that is common to all. The algorithm should be able to find this 3-clique.\n",
    "\n",
    "The graphs will be named G, J and H. The first two will contain 4 nodes each and the latter will contain 6 nodes. We'll create them in network-x to visualize them."
   ]
  },
  {
   "cell_type": "code",
   "execution_count": 2,
   "id": "c1ec39ce-6f9b-42e7-ad35-b4483b80afee",
   "metadata": {},
   "outputs": [],
   "source": [
    "# This is the clique that is common to all graphs in the set\n",
    "clique = [\n",
    "        (\"A\", \"D\"),\n",
    "        (\"A\", \"R\"),\n",
    "        (\"D\", \"R\"),\n",
    "    ]"
   ]
  },
  {
   "cell_type": "code",
   "execution_count": 3,
   "id": "ffb2e649-7dbf-417c-8c2a-f555c5a26287",
   "metadata": {},
   "outputs": [],
   "source": [
    "# Create G\n",
    "\n",
    "G = nx.Graph()\n",
    "G.name = \"G\"\n",
    "edges = [\n",
    "    (\"A\", \"D\"),\n",
    "    (\"A\", \"N\"),\n",
    "    (\"A\", \"R\"),\n",
    "    (\"D\", \"N\"),\n",
    "    (\"D\", \"R\"),\n",
    "    (\"N\", \"R\"),\n",
    "]\n",
    "\n",
    "labels = [4, 3, 5, 8, 2, 4]\n",
    "\n",
    "for ii in range(len(edges)):\n",
    "    if edges[ii] in clique:\n",
    "        G.add_edge(edges[ii][0], edges[ii][1], dis=labels[ii], color=\"red\")\n",
    "    else:\n",
    "        G.add_edge(edges[ii][0], edges[ii][1], dis=labels[ii], color=\"black\")\n",
    "\n",
    "assert G.number_of_edges() == (G.number_of_nodes() * (G.number_of_nodes() - 1)) / 2 # Condition for complete graphs"
   ]
  },
  {
   "cell_type": "code",
   "execution_count": 4,
   "id": "67feee27-f113-4b72-a1ea-550611760bc3",
   "metadata": {},
   "outputs": [],
   "source": [
    "# Create J\n",
    "# J is very similar to G. The only difference is the label N is replaced by P\n",
    "\n",
    "J = nx.Graph()\n",
    "J.name = \"J\"\n",
    "edges = [\n",
    "    (\"A\", \"D\"),\n",
    "    (\"A\", \"P\"),\n",
    "    (\"A\", \"R\"),\n",
    "    (\"D\", \"P\"),\n",
    "    (\"D\", \"R\"),\n",
    "    (\"P\", \"R\"),\n",
    "]\n",
    "labels = [4, 3, 5, 8, 2, 4]\n",
    "\n",
    "for ii in range(len(edges)):\n",
    "    if edges[ii] in clique:\n",
    "        J.add_edge(edges[ii][0], edges[ii][1], dis=labels[ii], color=\"red\")\n",
    "    else:\n",
    "        J.add_edge(edges[ii][0], edges[ii][1], dis=labels[ii], color=\"black\")\n",
    "\n",
    "assert J.number_of_edges() == (J.number_of_nodes() * (J.number_of_nodes() - 1)) / 2 # Condition for complete graphs"
   ]
  },
  {
   "cell_type": "code",
   "execution_count": 5,
   "id": "a7cc21ff-b07a-4016-b126-fdc2f0668c89",
   "metadata": {},
   "outputs": [],
   "source": [
    "# Create H\n",
    "# H is a supergraph of G\n",
    "\n",
    "H = copy.deepcopy(G)\n",
    "H.name = \"H\"\n",
    "edges = [\n",
    "    (\"A\", \"H\"),\n",
    "    (\"A\", \"P\"),\n",
    "    (\"D\", \"H\"),\n",
    "    (\"D\", \"P\"),\n",
    "    (\"N\", \"H\"),\n",
    "    (\"N\", \"P\"),\n",
    "    (\"R\", \"H\"),\n",
    "    (\"R\", \"P\"),\n",
    "    (\"H\", \"P\")\n",
    "]\n",
    "labels = [4, 3, 5, 5, 6, 2, 8, 7, 4]\n",
    "\n",
    "for ii in range(len(edges)):\n",
    "    H.add_edge(edges[ii][0], edges[ii][1], dis=labels[ii], color=\"black\")\n",
    "\n",
    "assert H.number_of_edges() == (H.number_of_nodes() * (H.number_of_nodes() - 1)) / 2 # Condition for complete graphs"
   ]
  },
  {
   "cell_type": "code",
   "execution_count": 6,
   "id": "7f1ba831-bc59-446d-b14a-85f4a4a81891",
   "metadata": {},
   "outputs": [],
   "source": [
    "def draw_graphs(graphs):\n",
    "    \"\"\" Function to draw the graphs and color the 3-clique that all share.\n",
    "    \n",
    "        Parameters\n",
    "        ----------\n",
    "        graphs : list of networkx.Graph\n",
    "            List of graphs\n",
    "    \"\"\"\n",
    "    fig, axes = plt.subplots(nrows=1, ncols=3, figsize=(25, 8))\n",
    "    \n",
    "    for ii, graph in enumerate(graphs):\n",
    "        pos = nx.circular_layout(graph)\n",
    "        colors = [graph[u][v][\"color\"] for u,v in graph.edges]\n",
    "        nx.draw(graph, pos, ax=axes[ii] ,edge_color=colors, with_labels=True)\n",
    "        axes[ii].set_axis_off()\n",
    "        \n",
    "    plt.show()"
   ]
  },
  {
   "cell_type": "code",
   "execution_count": 7,
   "id": "35dfbb7f-78da-4b25-9aa7-b94fdfeb2893",
   "metadata": {},
   "outputs": [
    {
     "data": {
      "image/png": "[encoded data removed]",
      "text/plain": [
       "<Figure size 1800x576 with 3 Axes>"
      ]
     },
     "metadata": {},
     "output_type": "display_data"
    }
   ],
   "source": [
    "draw_graphs([G, J, H])"
   ]
  },
  {
   "cell_type": "markdown",
   "id": "6ba697f1-e7b4-434a-8789-953866f888ac",
   "metadata": {
    "tags": []
   },
   "source": [
    "## Adjacency matrix and canonical code\n",
    "\n",
    "We will represent each graph as an adjacency matrix. With this, we can get the canonical code of the graph.\n",
    "\n",
    "For this problem we will use an adjacency matrix whose diagonal entries are the node labels, and the other entries correspond to the edges labels.\n",
    "\n",
    "A graph can have multiple adjacency matrices, depending on the order on which the nodes and edges are added to the matrix."
   ]
  },
  {
   "cell_type": "code",
   "execution_count": 8,
   "id": "957663b3-2747-4c2f-9603-9346627f03f9",
   "metadata": {},
   "outputs": [],
   "source": [
    "def adjacency_matrix(graph):\n",
    "    \"\"\" Construct the adjacency matrix of the graph.\n",
    "    \n",
    "        Parameters\n",
    "        ----------\n",
    "        graph : networkx.Graph\n",
    "            The graph.\n",
    "            \n",
    "        Returns\n",
    "        -------\n",
    "        adjacency_matrix : np.ndarray of shape(n_nodes, n_nodes)\n",
    "            The adjacency matrix.\n",
    "    \"\"\"\n",
    "    n_nodes = graph.number_of_nodes()\n",
    "    adj_matrix = np.empty((n_nodes, n_nodes), dtype=object)\n",
    "    \n",
    "    for ii, node in enumerate(graph.nodes):\n",
    "        for jj, neighbor in enumerate(graph[node]):\n",
    "            if ii == jj:\n",
    "                adj_matrix[ii, jj] = node\n",
    "            else:\n",
    "                adj_matrix[ii, jj] = str(graph[node][neighbor][\"dis\"])\n",
    "                adj_matrix[jj, ii] = str(graph[node][neighbor][\"dis\"])\n",
    "    \n",
    "    adj_matrix[ii, jj + 1] = node \n",
    "                \n",
    "    return adj_matrix\n",
    "    "
   ]
  },
  {
   "cell_type": "code",
   "execution_count": 9,
   "id": "6113c3b0-f45b-402c-a54a-263d34d7ccc8",
   "metadata": {},
   "outputs": [
    {
     "name": "stdout",
     "output_type": "stream",
     "text": [
      "Graph G:\n",
      "[['A' '4' '3' '5']\n",
      " ['4' 'D' '8' '2']\n",
      " ['3' '8' 'N' '4']\n",
      " ['5' '2' '4' 'R']]\n",
      "Graph H:\n",
      "[['A' '4' '3' '5' '4' '3']\n",
      " ['4' 'D' '8' '2' '5' '5']\n",
      " ['3' '8' 'N' '4' '6' '2']\n",
      " ['5' '2' '4' 'R' '8' '7']\n",
      " ['4' '5' '6' '8' 'H' '4']\n",
      " ['3' '5' '2' '7' '4' 'P']]\n",
      "Graph J:\n",
      "[['A' '4' '3' '5']\n",
      " ['4' 'D' '8' '2']\n",
      " ['3' '8' 'P' '4']\n",
      " ['5' '2' '4' 'R']]\n"
     ]
    }
   ],
   "source": [
    "matrices = []\n",
    "for graph in [G, H, J]:\n",
    "    matrix = adjacency_matrix(graph)\n",
    "    matrices.append(matrix)\n",
    "    print(f\"Graph {graph.name}:\")\n",
    "    print(matrix)"
   ]
  },
  {
   "cell_type": "markdown",
   "id": "13a6aff6-30a5-4007-b2ad-c5bdec9c5274",
   "metadata": {},
   "source": [
    "A graph has (number of edges)! canonical codes. In the case of a graph in which all node labels are different the minimum canonical code can be obtained by sorting the nodes. It gets more complicated for graphs with repeated labels as the labels of the edges also need to be considered.\n",
    "\n",
    "The minimum canonical code for our graphs are:\n",
    "- For G: AD4N38R524\n",
    "- For H: AD4P38R524\n",
    "- For J: AD4H45N386P3542R52847\n"
   ]
  },
  {
   "cell_type": "code",
   "execution_count": 10,
   "id": "14edd4b6-c8b3-4efd-9d5e-99444bbc02c4",
   "metadata": {},
   "outputs": [],
   "source": [
    "def canonical_label(adjacency_matrix):\n",
    "    \"\"\"Construct the canonical label for a graph from it's adjacency matrix.\n",
    "    \n",
    "        Parameters\n",
    "        ----------\n",
    "        adjacency_matrix : np.ndarray of shape(n_nodes, n_nodes)\n",
    "            The adjacency matrix.\n",
    "        \n",
    "        Returns\n",
    "        -------\n",
    "        can_label : str\n",
    "            The canonical code\n",
    "        \n",
    "        Note\n",
    "        -----\n",
    "        The minimum lexicographical labeling will not necesarily be obtained.\n",
    "    \n",
    "    \"\"\"\n",
    "    n_nodes = adjacency_matrix.shape[0]\n",
    "    \n",
    "    # Add the first node label\n",
    "    can_label = adjacency_matrix[0, 0]\n",
    "    for ii in range(1, n_nodes):\n",
    "        # Get the node label\n",
    "        can_label += adjacency_matrix[ii, ii]\n",
    "        # Now we add the edges labels \n",
    "        for jj in range(ii):\n",
    "            can_label += adjacency_matrix[jj, ii]\n",
    "   \n",
    "    \n",
    "    n_edges = (n_nodes * (n_nodes - 1)) / 2\n",
    "    assert len(can_label) == n_edges + n_nodes\n",
    "    return can_label"
   ]
  },
  {
   "cell_type": "code",
   "execution_count": 11,
   "id": "77343eef-2faa-4c58-b2d7-87043e21f900",
   "metadata": {},
   "outputs": [
    {
     "name": "stdout",
     "output_type": "stream",
     "text": [
      "G label is AD4N38R524\n",
      "H label is AD4N38R524H4568P35274\n",
      "J label is AD4P38R524\n"
     ]
    }
   ],
   "source": [
    "canonical_labels = []\n",
    "graphs = [G, H, J]\n",
    "for ii in range(len(matrices)):\n",
    "    label = canonical_label(matrices[ii])\n",
    "    print(f\"{graphs[ii].name} label is {label}\")\n",
    "    canonical_labels.append(label)"
   ]
  },
  {
   "cell_type": "markdown",
   "id": "0089da19-c30f-4a1a-8ef0-80046b7fe4fe",
   "metadata": {},
   "source": [
    "The canonical code for G and H corresponds to the minimum canonical code. This happened because when we constructed the adjacency matrix, the nodes were sorted in alphabetical order. However, for H this was not the case and the code obtained is not the minimum adjacency code."
   ]
  },
  {
   "cell_type": "code",
   "execution_count": 12,
   "id": "af154ac8-8428-43b8-bcd1-ca549dcbd3c0",
   "metadata": {},
   "outputs": [],
   "source": [
    "def minimum_canonical_code(graph):\n",
    "    \"\"\" Get the minimum canonical code of a graph. It assumes that all the nodes have unique labels.\n",
    "    \n",
    "        Parameters\n",
    "        ----------\n",
    "        graph : networkx.graph\n",
    "            A graph\n",
    "        \n",
    "        Returns\n",
    "        -------\n",
    "        can_label\n",
    "            The minimum canonical label of the graph.\n",
    "    \"\"\"\n",
    "    nodes = sorted(graph.nodes)\n",
    "    visited = [nodes[0]]\n",
    "    \n",
    "    can_label = nodes[0]\n",
    "    for node in nodes[1:]:\n",
    "        can_label += node\n",
    "        for v in visited:\n",
    "            can_label += str(graph[node][v][\"dis\"])\n",
    "        visited.append(node)\n",
    "    \n",
    "    assert len(can_label) == graph.number_of_nodes() + graph.number_of_edges()\n",
    "    return can_label"
   ]
  },
  {
   "cell_type": "code",
   "execution_count": 13,
   "id": "20c33b97-0934-409f-af1f-6e8f259b5283",
   "metadata": {},
   "outputs": [
    {
     "name": "stdout",
     "output_type": "stream",
     "text": [
      "G label is AD4N38R524\n",
      "H label is AD4H45N386P3542R52847\n",
      "J label is AD4P38R524\n"
     ]
    }
   ],
   "source": [
    "canonical_labels = []\n",
    "graphs = [G, H, J]\n",
    "for ii in range(len(graphs)):\n",
    "    label = minimum_canonical_code(graphs[ii])\n",
    "    print(f\"{graphs[ii].name} label is {label}\")\n",
    "    canonical_labels.append(label)"
   ]
  },
  {
   "cell_type": "markdown",
   "id": "62aefdae-872d-4f43-a0ea-be94f048d07c",
   "metadata": {},
   "source": [
    "### Graphs with repeated labels\n",
    "\n",
    "To be useful the algorithm also need to be able to handle graphs with repeated labels. Now we create a set of graphs with repeated labels and obtain their minimum canonical code."
   ]
  },
  {
   "cell_type": "code",
   "execution_count": 14,
   "id": "a9630355-7ca2-42f3-a06c-93a88c3a9276",
   "metadata": {},
   "outputs": [],
   "source": [
    "graph1 = nx.Graph()\n",
    "graph1.name = \"Graph 1\"\n",
    "\n",
    "nodes = [\n",
    "    (1, \"A\"),\n",
    "    (2, \"A\"),\n",
    "    (3, \"D\"),\n",
    "    (4, \"R\"),\n",
    "]\n",
    "\n",
    "edges = [\n",
    "    (1, 2, 3), # node1, node2, edgelabel\n",
    "    (1, 3, 4),\n",
    "    (1, 4, 5),\n",
    "    (2, 3, 8),\n",
    "    (2, 4, 4),\n",
    "    (3, 4, 2)\n",
    "]\n",
    "\n",
    "\n",
    "for node in nodes:\n",
    "    graph1.add_node(node[0], feat_type=node[1])\n",
    "\n",
    "for edge in edges:\n",
    "    graph1.add_edge(edge[0], edge[1], distance=edge[2])\n",
    "    \n",
    "assert graph1.number_of_edges() == (graph1.number_of_nodes() * (graph1.number_of_nodes() - 1)) / 2 # Condition for complete graphs"
   ]
  },
  {
   "cell_type": "code",
   "execution_count": 15,
   "id": "02a96678-7c8e-430f-8d59-1532f5994814",
   "metadata": {},
   "outputs": [],
   "source": [
    "graph2 = nx.Graph()\n",
    "graph2.name = \"Graph 2\"\n",
    "\n",
    "nodes = [\n",
    "    (1, \"A\"),\n",
    "    (2, \"R\"),\n",
    "    (3, \"H\"),\n",
    "    (4, \"D\"),\n",
    "    (5, \"H\")\n",
    "]\n",
    "\n",
    "edges = [\n",
    "    (1, 2, 7), # node1, node2, edgelabel\n",
    "    (1, 3, 2),\n",
    "    (1, 4, 6),\n",
    "    (1, 5, 5),\n",
    "    (2, 3, 4),\n",
    "    (2, 4, 3),\n",
    "    (2, 5, 5),\n",
    "    (3, 4, 8),\n",
    "    (3, 5, 5),\n",
    "    (4, 5, 4)\n",
    "]\n",
    "\n",
    "\n",
    "for node in nodes:\n",
    "    graph2.add_node(node[0], feat_type=node[1])\n",
    "\n",
    "for edge in edges:\n",
    "    graph2.add_edge(edge[0], edge[1], distance=edge[2])\n",
    "    \n",
    "assert graph2.number_of_edges() == (graph2.number_of_nodes() * (graph2.number_of_nodes() - 1)) / 2 # Condition for complete graphs"
   ]
  },
  {
   "cell_type": "code",
   "execution_count": 16,
   "id": "181a8804-b7f8-4939-91b7-b63101e57e3e",
   "metadata": {},
   "outputs": [],
   "source": [
    "graph3 = nx.Graph()\n",
    "graph3.name = \"Graph 3\"\n",
    "\n",
    "nodes = [\n",
    "    (1, \"D\"),\n",
    "    (2, \"R\"),\n",
    "    (3, \"R\"),\n",
    "    (4, \"A\"),\n",
    "    (5, \"D\"),\n",
    "    (6, \"R\"),\n",
    "]\n",
    "\n",
    "edges = [\n",
    "    (1, 2, 4), # node1, node2, edgelabel\n",
    "    (1, 3, 8),\n",
    "    (1, 4, 2),\n",
    "    (1, 5, 5),\n",
    "    (1, 6, 7),\n",
    "    (2, 3, 3),\n",
    "    (2, 4, 7),\n",
    "    (2, 5, 9),\n",
    "    (2, 6, 8),\n",
    "    (3, 4, 6),\n",
    "    (3, 5, 4),\n",
    "    (3, 6, 3),\n",
    "    (4, 5, 5),\n",
    "    (4, 6, 2),\n",
    "    (5, 6, 3),\n",
    "]\n",
    "\n",
    "\n",
    "for node in nodes:\n",
    "    graph3.add_node(node[0], feat_type=node[1])\n",
    "\n",
    "for edge in edges:\n",
    "    graph3.add_edge(edge[0], edge[1], distance=edge[2])\n",
    "    \n",
    "assert graph3.number_of_edges() == (graph3.number_of_nodes() * (graph3.number_of_nodes() - 1)) / 2 # Condition for complete graphs"
   ]
  },
  {
   "cell_type": "code",
   "execution_count": 33,
   "id": "04b247ab-160d-4d5c-b643-e8191f077e32",
   "metadata": {},
   "outputs": [],
   "source": [
    "k3 = nx.Graph()\n",
    "nodes = [(1, \"A\"),(2, \"A\"),(3, \"A\")]\n",
    "edges = [(1, 2, 4),(1, 3, 3),(2, 3, 2)]\n",
    "for node in nodes:\n",
    "    k3.add_node(node[0], feat_type=node[1])\n",
    "for edge in edges:\n",
    "    k3.add_edge(edge[0], edge[1], distance=edge[2])     \n",
    "assert k3.number_of_edges() == (k3.number_of_nodes() * (k3.number_of_nodes() - 1)) / 2 # Condition for complete graphs"
   ]
  },
  {
   "cell_type": "code",
   "execution_count": 42,
   "id": "7cee8a0e-2cf6-4942-8a7c-5910fb25d783",
   "metadata": {},
   "outputs": [
    {
     "data": {
      "text/plain": [
       "[(2, 3, 2), (1, 3, 3), (1, 2, 4)]"
      ]
     },
     "execution_count": 42,
     "metadata": {},
     "output_type": "execute_result"
    }
   ],
   "source": [
    "sorted(k3.edges.data(\"distance\"), key=lambda item: item[2])"
   ]
  },
  {
   "cell_type": "code",
   "execution_count": 35,
   "id": "e48c23b0-d7d0-4ccb-87f4-6f8371f4bc4c",
   "metadata": {},
   "outputs": [
    {
     "data": {
      "text/plain": [
       "(2, 3, 2)"
      ]
     },
     "execution_count": 35,
     "metadata": {},
     "output_type": "execute_result"
    }
   ],
   "source": [
    "edge = min(k3.edges.data(\"distance\"), key=lambda item: item[2])\n",
    "edge"
   ]
  },
  {
   "cell_type": "code",
   "execution_count": 41,
   "id": "f743d98b-9412-4b91-a96d-32d2a3c73d4d",
   "metadata": {},
   "outputs": [
    {
     "name": "stdout",
     "output_type": "stream",
     "text": [
      "{1: {'distance': 4}, 3: {'distance': 2}}\n",
      "{1: {'distance': 3}, 2: {'distance': 2}}\n"
     ]
    }
   ],
   "source": [
    "print(k3[2])\n",
    "print(k3[3])"
   ]
  },
  {
   "cell_type": "code",
   "execution_count": 45,
   "id": "20cd42fe-6a56-45ff-8c24-a0e682d5530c",
   "metadata": {},
   "outputs": [
    {
     "data": {
      "text/plain": [
       "True"
      ]
     },
     "execution_count": 45,
     "metadata": {},
     "output_type": "execute_result"
    }
   ],
   "source": [
    "\"\" < \"1\""
   ]
  }
 ],
 "metadata": {
  "kernelspec": {
   "display_name": "Python 3 (ipykernel)",
   "language": "python",
   "name": "python3"
  },
  "language_info": {
   "codemirror_mode": {
    "name": "ipython",
    "version": 3
   },
   "file_extension": ".py",
   "mimetype": "text/x-python",
   "name": "python",
   "nbconvert_exporter": "python",
   "pygments_lexer": "ipython3",
   "version": "3.7.10"
  }
 },
 "nbformat": 4,
 "nbformat_minor": 5
}
