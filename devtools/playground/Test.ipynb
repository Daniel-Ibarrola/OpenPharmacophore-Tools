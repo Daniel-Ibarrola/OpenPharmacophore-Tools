{
 "cells": [
  {
   "cell_type": "code",
   "execution_count": 1,
   "id": "c6d5ea28-c3c7-41d7-9bba-65acac086b0a",
   "metadata": {},
   "outputs": [],
   "source": [
    "%load_ext autoreload\n",
    "%autoreload 2"
   ]
  },
  {
   "cell_type": "code",
   "execution_count": 2,
   "id": "91542d63-fcee-4382-b7a2-a589da7c8700",
   "metadata": {},
   "outputs": [
    {
     "data": {
      "application/vnd.jupyter.widget-view+json": {
       "model_id": "a000729ce5ef4bf1848983a9d4170477",
       "version_major": 2,
       "version_minor": 0
      },
      "text/plain": []
     },
     "metadata": {},
     "output_type": "display_data"
    }
   ],
   "source": [
    "import molsysmt as msm\n",
    "import openpharmacophore as oph"
   ]
  },
  {
   "cell_type": "code",
   "execution_count": 3,
   "id": "5f37f797-96d2-4056-8baa-30116d66365d",
   "metadata": {},
   "outputs": [
    {
     "name": "stderr",
     "output_type": "stream",
     "text": [
      "/home/diego/Projects/MolSysMT/molsysmt/native/io/topology/classes/mmtf_MMTFDecoder.py:43: UserWarning: The structure in the PDB has biological assemblies. There are geometrical transformations proposed in the structure. See the following issue in the source code repository: https://github.com/uibcdf/MolSysMT/issues/33\n",
      "  warnings.warn(warning_message)\n"
     ]
    }
   ],
   "source": [
    "ligands = msm.convert('1QKU', to_form='molsysmt.MolSys', selection='molecule_type==\"small molecule\"')"
   ]
  },
  {
   "cell_type": "code",
   "execution_count": 4,
   "id": "bff26e9a-efc0-4f96-9a57-8991578733cf",
   "metadata": {},
   "outputs": [
    {
     "data": {
      "text/html": [
       "<style type=\"text/css\">\n",
       "</style>\n",
       "<table id=\"T_f44e2_\">\n",
       "  <thead>\n",
       "    <tr>\n",
       "      <th class=\"col_heading level0 col0\" >index</th>\n",
       "      <th class=\"col_heading level0 col1\" >name</th>\n",
       "      <th class=\"col_heading level0 col2\" >type</th>\n",
       "      <th class=\"col_heading level0 col3\" >n atoms</th>\n",
       "      <th class=\"col_heading level0 col4\" >n groups</th>\n",
       "      <th class=\"col_heading level0 col5\" >n components</th>\n",
       "      <th class=\"col_heading level0 col6\" >chain index</th>\n",
       "      <th class=\"col_heading level0 col7\" >entity index</th>\n",
       "      <th class=\"col_heading level0 col8\" >entity name</th>\n",
       "    </tr>\n",
       "  </thead>\n",
       "  <tbody>\n",
       "    <tr>\n",
       "      <td id=\"T_f44e2_row0_col0\" class=\"data row0 col0\" >0</td>\n",
       "      <td id=\"T_f44e2_row0_col1\" class=\"data row0 col1\" >ESTRADIOL</td>\n",
       "      <td id=\"T_f44e2_row0_col2\" class=\"data row0 col2\" >small molecule</td>\n",
       "      <td id=\"T_f44e2_row0_col3\" class=\"data row0 col3\" >20</td>\n",
       "      <td id=\"T_f44e2_row0_col4\" class=\"data row0 col4\" >1</td>\n",
       "      <td id=\"T_f44e2_row0_col5\" class=\"data row0 col5\" >1</td>\n",
       "      <td id=\"T_f44e2_row0_col6\" class=\"data row0 col6\" >0</td>\n",
       "      <td id=\"T_f44e2_row0_col7\" class=\"data row0 col7\" >0</td>\n",
       "      <td id=\"T_f44e2_row0_col8\" class=\"data row0 col8\" >ESTRADIOL</td>\n",
       "    </tr>\n",
       "    <tr>\n",
       "      <td id=\"T_f44e2_row1_col0\" class=\"data row1 col0\" >1</td>\n",
       "      <td id=\"T_f44e2_row1_col1\" class=\"data row1 col1\" >ESTRADIOL</td>\n",
       "      <td id=\"T_f44e2_row1_col2\" class=\"data row1 col2\" >small molecule</td>\n",
       "      <td id=\"T_f44e2_row1_col3\" class=\"data row1 col3\" >20</td>\n",
       "      <td id=\"T_f44e2_row1_col4\" class=\"data row1 col4\" >1</td>\n",
       "      <td id=\"T_f44e2_row1_col5\" class=\"data row1 col5\" >1</td>\n",
       "      <td id=\"T_f44e2_row1_col6\" class=\"data row1 col6\" >1</td>\n",
       "      <td id=\"T_f44e2_row1_col7\" class=\"data row1 col7\" >0</td>\n",
       "      <td id=\"T_f44e2_row1_col8\" class=\"data row1 col8\" >ESTRADIOL</td>\n",
       "    </tr>\n",
       "    <tr>\n",
       "      <td id=\"T_f44e2_row2_col0\" class=\"data row2 col0\" >2</td>\n",
       "      <td id=\"T_f44e2_row2_col1\" class=\"data row2 col1\" >ESTRADIOL</td>\n",
       "      <td id=\"T_f44e2_row2_col2\" class=\"data row2 col2\" >small molecule</td>\n",
       "      <td id=\"T_f44e2_row2_col3\" class=\"data row2 col3\" >20</td>\n",
       "      <td id=\"T_f44e2_row2_col4\" class=\"data row2 col4\" >1</td>\n",
       "      <td id=\"T_f44e2_row2_col5\" class=\"data row2 col5\" >1</td>\n",
       "      <td id=\"T_f44e2_row2_col6\" class=\"data row2 col6\" >2</td>\n",
       "      <td id=\"T_f44e2_row2_col7\" class=\"data row2 col7\" >0</td>\n",
       "      <td id=\"T_f44e2_row2_col8\" class=\"data row2 col8\" >ESTRADIOL</td>\n",
       "    </tr>\n",
       "  </tbody>\n",
       "</table>\n"
      ],
      "text/plain": [
       "<pandas.io.formats.style.Styler at 0x7fc6c4bff350>"
      ]
     },
     "execution_count": 4,
     "metadata": {},
     "output_type": "execute_result"
    }
   ],
   "source": [
    "msm.info(ligands, target='molecule')"
   ]
  },
  {
   "cell_type": "code",
   "execution_count": 5,
   "id": "6432a8b3-5f44-4164-8d39-21ccf079200c",
   "metadata": {},
   "outputs": [],
   "source": [
    "ligand = msm.extract(ligands, selection='molecule_index==0')"
   ]
  },
  {
   "cell_type": "code",
   "execution_count": 6,
   "id": "67e83333-2f41-4ba7-9ea3-02d648e03932",
   "metadata": {},
   "outputs": [
    {
     "data": {
      "text/html": [
       "<style type=\"text/css\">\n",
       "</style>\n",
       "<table id=\"T_01b29_\">\n",
       "  <thead>\n",
       "    <tr>\n",
       "      <th class=\"col_heading level0 col0\" >form</th>\n",
       "      <th class=\"col_heading level0 col1\" >n_atoms</th>\n",
       "      <th class=\"col_heading level0 col2\" >n_groups</th>\n",
       "      <th class=\"col_heading level0 col3\" >n_components</th>\n",
       "      <th class=\"col_heading level0 col4\" >n_chains</th>\n",
       "      <th class=\"col_heading level0 col5\" >n_molecules</th>\n",
       "      <th class=\"col_heading level0 col6\" >n_entities</th>\n",
       "      <th class=\"col_heading level0 col7\" >n_small_molecules</th>\n",
       "      <th class=\"col_heading level0 col8\" >n_frames</th>\n",
       "    </tr>\n",
       "  </thead>\n",
       "  <tbody>\n",
       "    <tr>\n",
       "      <td id=\"T_01b29_row0_col0\" class=\"data row0 col0\" >molsysmt.MolSys</td>\n",
       "      <td id=\"T_01b29_row0_col1\" class=\"data row0 col1\" >20</td>\n",
       "      <td id=\"T_01b29_row0_col2\" class=\"data row0 col2\" >1</td>\n",
       "      <td id=\"T_01b29_row0_col3\" class=\"data row0 col3\" >1</td>\n",
       "      <td id=\"T_01b29_row0_col4\" class=\"data row0 col4\" >1</td>\n",
       "      <td id=\"T_01b29_row0_col5\" class=\"data row0 col5\" >1</td>\n",
       "      <td id=\"T_01b29_row0_col6\" class=\"data row0 col6\" >1</td>\n",
       "      <td id=\"T_01b29_row0_col7\" class=\"data row0 col7\" >1</td>\n",
       "      <td id=\"T_01b29_row0_col8\" class=\"data row0 col8\" >1</td>\n",
       "    </tr>\n",
       "  </tbody>\n",
       "</table>\n"
      ],
      "text/plain": [
       "<pandas.io.formats.style.Styler at 0x7fc6c4bcda10>"
      ]
     },
     "execution_count": 6,
     "metadata": {},
     "output_type": "execute_result"
    }
   ],
   "source": [
    "msm.info(ligand)"
   ]
  },
  {
   "cell_type": "code",
   "execution_count": 7,
   "id": "6c0b295a-a565-4d21-99f7-25fd29b11352",
   "metadata": {},
   "outputs": [
    {
     "data": {
      "application/vnd.jupyter.widget-view+json": {
       "model_id": "f54ac0389dd24314a8319ef113029845",
       "version_major": 2,
       "version_minor": 0
      },
      "text/plain": [
       "NGLWidget()"
      ]
     },
     "metadata": {},
     "output_type": "display_data"
    }
   ],
   "source": [
    "msm.view(ligand)"
   ]
  },
  {
   "cell_type": "code",
   "execution_count": null,
   "id": "b172a248-443c-4760-95cb-c0eb88160b13",
   "metadata": {},
   "outputs": [],
   "source": [
    "msm.get(ligand, target='molecule', selection='all', n_molecules=True, molecule_type=True)"
   ]
  },
  {
   "cell_type": "code",
   "execution_count": null,
   "id": "2fae3c01-084f-4c57-8326-4634f6f611f9",
   "metadata": {},
   "outputs": [],
   "source": [
    "pharmacophore = oph.pharmacophore_extraction.pharmer(ligand, selection='all', frame_indices='all')"
   ]
  }
 ],
 "metadata": {
  "kernelspec": {
   "display_name": "Python 3",
   "language": "python",
   "name": "python3"
  },
  "language_info": {
   "codemirror_mode": {
    "name": "ipython",
    "version": 3
   },
   "file_extension": ".py",
   "mimetype": "text/x-python",
   "name": "python",
   "nbconvert_exporter": "python",
   "pygments_lexer": "ipython3",
   "version": "3.7.10"
  }
 },
 "nbformat": 4,
 "nbformat_minor": 5
}
