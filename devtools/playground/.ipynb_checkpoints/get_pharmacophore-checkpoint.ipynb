{
 "cells": [
  {
   "cell_type": "code",
   "execution_count": 1,
   "id": "3944cea0-ebb0-4824-9f30-1b59861484d7",
   "metadata": {},
   "outputs": [],
   "source": [
    "from rdkit import Chem"
   ]
  },
  {
   "cell_type": "code",
   "execution_count": 2,
   "id": "3688425e-538f-4a01-a062-e63a1654efe8",
   "metadata": {},
   "outputs": [],
   "source": [
    "molecule='CCCCc1nc(Cl)c(C(=O)O)n1Cc4ccc(c2ccccc2c3nnn[nH]3)cc4'"
   ]
  },
  {
   "cell_type": "code",
   "execution_count": 7,
   "id": "58ecd0c8-f3ff-47e9-86b4-7d6173dfeeec",
   "metadata": {},
   "outputs": [],
   "source": [
    "molecule = 'ABCD'"
   ]
  },
  {
   "cell_type": "code",
   "execution_count": 8,
   "id": "49539143-e78e-4326-93fe-43d473147bf4",
   "metadata": {},
   "outputs": [
    {
     "name": "stderr",
     "output_type": "stream",
     "text": [
      "RDKit ERROR: [23:36:45] SMILES Parse Error: syntax error while parsing: ABCD\n",
      "RDKit ERROR: [23:36:45] SMILES Parse Error: Failed parsing SMILES 'ABCD' for input: 'ABCD'\n"
     ]
    }
   ],
   "source": [
    "aa = Chem.MolFromSmiles(molecule)"
   ]
  },
  {
   "cell_type": "code",
   "execution_count": 6,
   "id": "047d2176-bbf0-4689-86b6-079c3fd2a8e8",
   "metadata": {},
   "outputs": [
    {
     "data": {
      "text/plain": [
       "rdkit.Chem.rdchem.Mol"
      ]
     },
     "execution_count": 6,
     "metadata": {},
     "output_type": "execute_result"
    }
   ],
   "source": [
    "type(aa)"
   ]
  },
  {
   "cell_type": "code",
   "execution_count": null,
   "id": "9c0b7465-5a99-488f-8e63-d073e39b4c18",
   "metadata": {},
   "outputs": [],
   "source": []
  },
  {
   "cell_type": "code",
   "execution_count": null,
   "id": "10ba438e-29a0-4731-8f85-45d84817b53e",
   "metadata": {},
   "outputs": [],
   "source": [
    "oph.conformers_generation.rdkit_blabla(molecule, n_conformers=10, to_form=None)"
   ]
  },
  {
   "cell_type": "code",
   "execution_count": null,
   "id": "51bee6bd-ed7e-4b40-823b-6c441d046d83",
   "metadata": {},
   "outputs": [],
   "source": []
  }
 ],
 "metadata": {
  "kernelspec": {
   "display_name": "Python 3",
   "language": "python",
   "name": "python3"
  },
  "language_info": {
   "codemirror_mode": {
    "name": "ipython",
    "version": 3
   },
   "file_extension": ".py",
   "mimetype": "text/x-python",
   "name": "python",
   "nbconvert_exporter": "python",
   "pygments_lexer": "ipython3",
   "version": "3.7.10"
  }
 },
 "nbformat": 4,
 "nbformat_minor": 5
}
