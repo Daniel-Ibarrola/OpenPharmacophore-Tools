{
 "cells": [
  {
   "cell_type": "code",
   "execution_count": 1,
   "id": "5ea62048-93b8-4ff3-a39e-6dfb77e8c205",
   "metadata": {},
   "outputs": [
    {
     "data": {
      "application/vnd.jupyter.widget-view+json": {
       "model_id": "350fc50d59044326a2c90ad736d2ec24",
       "version_major": 2,
       "version_minor": 0
      },
      "text/plain": []
     },
     "metadata": {},
     "output_type": "display_data"
    }
   ],
   "source": [
    "import openpharmacophore as oph\n",
    "import pyunitwizard as puw\n",
    "import numpy as np\n",
    "import nglview as nv"
   ]
  },
  {
   "cell_type": "markdown",
   "id": "eac1157c-752e-4080-b26d-f2d0247fa412",
   "metadata": {},
   "source": [
    "# Building a Pharmacophore by hand"
   ]
  },
  {
   "cell_type": "code",
   "execution_count": 3,
   "id": "f8689017-72e6-40b0-81f6-fcfc129009ca",
   "metadata": {},
   "outputs": [],
   "source": [
    "pharmacophore = oph.Pharmacophore()\n",
    "\n",
    "center = puw.quantity([1,1,0],'nm')\n",
    "radius = puw.quantity(1.0,'nm')\n",
    "element = oph.pharmacophoric_elements.PositiveChargeSphere(center, radius)\n",
    "pharmacophore.add_element(element)\n",
    "\n",
    "center = puw.quantity([0,-1,0],'nm')\n",
    "radius = puw.quantity(1.0,'nm')\n",
    "element = oph.pharmacophoric_elements.NegativeChargeSphere(center, radius)\n",
    "pharmacophore.add_element(element)\n",
    "\n",
    "center = puw.quantity([0,-1,-3],'nm')\n",
    "radius = puw.quantity(1.0,'nm')\n",
    "direction = [1,1,1]\n",
    "element = oph.pharmacophoric_elements.HBAcceptorSphereAndVector(center, radius, direction)\n",
    "pharmacophore.add_element(element)\n",
    "\n",
    "center = puw.quantity([2,-2,2],'nm')\n",
    "radius = puw.quantity(1.0,'nm')\n",
    "element = oph.pharmacophoric_elements.AromaticRingSphere(center, radius)\n",
    "pharmacophore.add_element(element)\n",
    "\n",
    "center = puw.quantity([-2,1,1],'nm')\n",
    "sigma = puw.quantity(1.0,'nm')\n",
    "element = oph.pharmacophoric_elements.HydrophobicGaussianKernel(center, sigma)\n",
    "pharmacophore.add_element(element)"
   ]
  },
  {
   "cell_type": "code",
   "execution_count": 4,
   "id": "690264a1-539b-4192-ad52-d1d18100ef83",
   "metadata": {},
   "outputs": [
    {
     "data": {
      "application/vnd.jupyter.widget-view+json": {
       "model_id": "e10ed79f58034b78a53359cf822ba30a",
       "version_major": 2,
       "version_minor": 0
      },
      "text/plain": [
       "NGLWidget()"
      ]
     },
     "metadata": {},
     "output_type": "display_data"
    }
   ],
   "source": [
    "view = nv.NGLWidget()\n",
    "pharmacophore.add_to_NGLView(view)\n",
    "view.control.zoom(0.8)\n",
    "view"
   ]
  },
  {
   "cell_type": "code",
   "execution_count": null,
   "id": "97bfa4d9-f5d8-4319-bc13-c93f4605d950",
   "metadata": {},
   "outputs": [],
   "source": []
  }
 ],
 "metadata": {
  "kernelspec": {
   "display_name": "Python 3",
   "language": "python",
   "name": "python3"
  },
  "language_info": {
   "codemirror_mode": {
    "name": "ipython",
    "version": 3
   },
   "file_extension": ".py",
   "mimetype": "text/x-python",
   "name": "python",
   "nbconvert_exporter": "python",
   "pygments_lexer": "ipython3",
   "version": "3.7.10"
  }
 },
 "nbformat": 4,
 "nbformat_minor": 5
}
