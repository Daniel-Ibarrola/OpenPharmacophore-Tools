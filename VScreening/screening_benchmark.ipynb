{
 "cells": [
  {
   "cell_type": "code",
   "execution_count": 1,
   "id": "44070f1f-8ec5-44a8-80ef-1c71acaa2c4b",
   "metadata": {},
   "outputs": [
    {
     "data": {
      "application/vnd.jupyter.widget-view+json": {
       "model_id": "e7053fb2401844ed8e912c01e7c30051",
       "version_major": 2,
       "version_minor": 0
      },
      "text/plain": []
     },
     "metadata": {},
     "output_type": "display_data"
    },
    {
     "name": "stderr",
     "output_type": "stream",
     "text": [
      "2022-01-03 12:36:52,413 [WARNING] [__init__.py:5] root: Warning: importing 'simtk.openmm' is deprecated.  Import 'openmm' instead.\n"
     ]
    }
   ],
   "source": [
    "from collections import namedtuple\n",
    "from openpharmacophore.algorithms.alignment import apply_radii_to_bounds, transform_embeddings\n",
    "import openpharmacophore as oph\n",
    "\n",
    "from rdkit import Chem, RDConfig\n",
    "from rdkit.Chem import ChemicalFeatures, rdDistGeom\n",
    "from rdkit.Chem.Pharm3D import EmbedLib\n",
    "\n",
    "import os\n",
    "from multiprocessing import Pool, Queue\n",
    "from operator import itemgetter"
   ]
  },
  {
   "cell_type": "markdown",
   "id": "370d3dc4-a312-48e0-8e3b-686897d7efb7",
   "metadata": {},
   "source": [
    "# Benchmark of Virtual Screening of a ZINC set\n",
    "\n",
    "We will compute the average time it takes to screen the shards subset of ZINC database. This is set consist of approximately 1,200,000 molecules. For this, we will use a structured based pharmacophore consisting of 4 pharmacophoric points.\n",
    "\n",
    "The purpose of this notebooks is to compare the time it takes to screen a small set of molecules to optimize the screening algorithms."
   ]
  },
  {
   "cell_type": "code",
   "execution_count": 3,
   "id": "ea144317-efbb-43f1-b8b7-d51f7525723d",
   "metadata": {},
   "outputs": [],
   "source": [
    "# Download the shards subset\n",
    "\n",
    "download = False # Change this to download subset\n",
    "download_path=\"./data/zinc/shards\"\n",
    "\n",
    "if download:\n",
    "    zinc_client = oph.ZincClient()\n",
    "    zinc_client.download_predifined_subset(download_path=download_path,\n",
    "                                           subset=\"shards\",\n",
    "                                           fileformat=\"smi\")"
   ]
  },
  {
   "cell_type": "markdown",
   "id": "8da91a33-4eea-4c2e-aad2-17013d7c0e7a",
   "metadata": {},
   "source": [
    "## Obtain a pharmacophore\n",
    "\n",
    "We derive a pharmacophore for the PDB 1M70, and remove some of it's pharmacophoric points so the screening algorithm finds more molecules that fit the pharmacophore. If the pharmacophore has a lot of pharmacophoric points, the screeing algorithm won't find any matches and it will perform much faster, thus we will not be able to compare it's performance."
   ]
  },
  {
   "cell_type": "code",
   "execution_count": 4,
   "id": "5c00edd3-ee72-43a6-8595-dea0e40b463b",
   "metadata": {},
   "outputs": [
    {
     "data": {
      "text/plain": [
       "StructuredBasedPharmacophore(n_elements: 4)"
      ]
     },
     "execution_count": 4,
     "metadata": {},
     "output_type": "execute_result"
    }
   ],
   "source": [
    "sb_pharmacophore = oph.StructuredBasedPharmacophore().from_pdb(\"1M7O\", ligand_id=\"3PG:A:5401\")\n",
    "sb_pharmacophore.remove_elements([0, 1, 3, 4])\n",
    "sb_pharmacophore"
   ]
  },
  {
   "cell_type": "code",
   "execution_count": 5,
   "id": "b84d78dc-edd8-4b43-ac25-b3ee198a788b",
   "metadata": {},
   "outputs": [
    {
     "data": {
      "application/vnd.jupyter.widget-view+json": {
       "model_id": "4c2a435b887d41a3bc5e3ddc75cf1aab",
       "version_major": 2,
       "version_minor": 0
      },
      "text/plain": [
       "NGLWidget()"
      ]
     },
     "metadata": {},
     "output_type": "display_data"
    }
   ],
   "source": [
    "sb_pharmacophore.show()"
   ]
  },
  {
   "cell_type": "code",
   "execution_count": 9,
   "id": "b54496e0-29d5-471d-8864-ea9984b483d2",
   "metadata": {},
   "outputs": [],
   "source": [
    "zinc_screener = oph.VirtualScreening(sb_pharmacophore)"
   ]
  },
  {
   "cell_type": "code",
   "execution_count": 7,
   "id": "3b20c9bd-0637-4b47-b365-485390271722",
   "metadata": {},
   "outputs": [
    {
     "data": {
      "application/vnd.jupyter.widget-view+json": {
       "model_id": "da942b9996664cf0b40786b79dad2215",
       "version_major": 2,
       "version_minor": 0
      },
      "text/plain": [
       "  0%|          | 0/136 [00:00<?, ?it/s]"
      ]
     },
     "metadata": {},
     "output_type": "display_data"
    }
   ],
   "source": [
    "zinc_screener.screen_db_from_dir(download_path)"
   ]
  },
  {
   "cell_type": "code",
   "execution_count": 8,
   "id": "549fe805-54a6-48a8-97ef-c0c0f82ca7a4",
   "metadata": {},
   "outputs": [
    {
     "name": "stdout",
     "output_type": "stream",
     "text": [
      "Virtual Screening Results\n",
      "-------------------------\n",
      "\n",
      "Molecules scanned:                            1,254,835\n",
      "Molecules matched to pharmacophore:              30,047\n",
      "Molecules that didn't match the pharmacophore: 1,224,307\n",
      "Lowest  SSD value:     0.1348\n",
      "Highest SSD value:    21.6753\n",
      "Average SSD value:     3.8425\n",
      "\n",
      "Top 5 molecules:\n",
      "\n",
      "   ID            SSD\n",
      "-------       ------\n",
      "42393881      0.1348\n",
      "990021182     0.1518\n",
      "601435566     0.1542\n",
      "70451404      0.1556\n",
      "82475853      0.1629\n",
      "\n"
     ]
    }
   ],
   "source": [
    "zinc_screener.print_report()"
   ]
  },
  {
   "cell_type": "code",
   "execution_count": 10,
   "id": "abdfa461-f4b0-438e-8bf6-982475e25057",
   "metadata": {},
   "outputs": [
    {
     "data": {
      "application/vnd.jupyter.widget-view+json": {
       "model_id": "6deaaecc593342c8bcc1c731de8ae413",
       "version_major": 2,
       "version_minor": 0
      },
      "text/plain": [
       "  0%|          | 0/136 [00:00<?, ?it/s]"
      ]
     },
     "metadata": {},
     "output_type": "display_data"
    },
    {
     "data": {
      "application/vnd.jupyter.widget-view+json": {
       "model_id": "c5de042561f24054930180233fee73e1",
       "version_major": 2,
       "version_minor": 0
      },
      "text/plain": [
       "  0%|          | 0/136 [00:00<?, ?it/s]"
      ]
     },
     "metadata": {},
     "output_type": "display_data"
    },
    {
     "data": {
      "application/vnd.jupyter.widget-view+json": {
       "model_id": "e1cc3e58fd4548189f1db43d04e77a79",
       "version_major": 2,
       "version_minor": 0
      },
      "text/plain": [
       "  0%|          | 0/136 [00:00<?, ?it/s]"
      ]
     },
     "metadata": {},
     "output_type": "display_data"
    },
    {
     "data": {
      "application/vnd.jupyter.widget-view+json": {
       "model_id": "9e8472715941489db9aee9cbd5eb0286",
       "version_major": 2,
       "version_minor": 0
      },
      "text/plain": [
       "  0%|          | 0/136 [00:00<?, ?it/s]"
      ]
     },
     "metadata": {},
     "output_type": "display_data"
    },
    {
     "data": {
      "application/vnd.jupyter.widget-view+json": {
       "model_id": "3c7cbb3834914aba949e238285973656",
       "version_major": 2,
       "version_minor": 0
      },
      "text/plain": [
       "  0%|          | 0/136 [00:00<?, ?it/s]"
      ]
     },
     "metadata": {},
     "output_type": "display_data"
    },
    {
     "data": {
      "application/vnd.jupyter.widget-view+json": {
       "model_id": "0665c384d51a46f7a4f87f1dd8113904",
       "version_major": 2,
       "version_minor": 0
      },
      "text/plain": [
       "  0%|          | 0/136 [00:00<?, ?it/s]"
      ]
     },
     "metadata": {},
     "output_type": "display_data"
    },
    {
     "data": {
      "application/vnd.jupyter.widget-view+json": {
       "model_id": "df155eeaf6e44457993644049345ce84",
       "version_major": 2,
       "version_minor": 0
      },
      "text/plain": [
       "  0%|          | 0/136 [00:00<?, ?it/s]"
      ]
     },
     "metadata": {},
     "output_type": "display_data"
    },
    {
     "data": {
      "application/vnd.jupyter.widget-view+json": {
       "model_id": "967edd2e18fe43b7a824795bb1c96d3c",
       "version_major": 2,
       "version_minor": 0
      },
      "text/plain": [
       "  0%|          | 0/136 [00:00<?, ?it/s]"
      ]
     },
     "metadata": {},
     "output_type": "display_data"
    },
    {
     "name": "stdout",
     "output_type": "stream",
     "text": [
      "27min 44s ± 17.5 s per loop (mean ± std. dev. of 7 runs, 1 loop each)\n"
     ]
    }
   ],
   "source": [
    "%timeit zinc_screener.screen_db_from_dir(download_path)"
   ]
  },
  {
   "cell_type": "code",
   "execution_count": 11,
   "id": "ae44d74e-0e25-4ecb-9d97-c55342cd79ad",
   "metadata": {},
   "outputs": [
    {
     "name": "stdout",
     "output_type": "stream",
     "text": [
      "Virtual Screening Results\n",
      "-------------------------\n",
      "\n",
      "Molecules scanned:                            1,254,835\n",
      "Molecules matched to pharmacophore:              30,047\n",
      "Molecules that didn't match the pharmacophore: 1,224,307\n",
      "Lowest  SSD value:     0.1348\n",
      "Highest SSD value:    21.6753\n",
      "Average SSD value:     3.8425\n",
      "\n",
      "Top 5 molecules:\n",
      "\n",
      "   ID            SSD\n",
      "-------       ------\n",
      "42393881      0.1348\n",
      "990021182     0.1518\n",
      "601435566     0.1542\n",
      "70451404      0.1556\n",
      "82475853      0.1629\n",
      "\n"
     ]
    }
   ],
   "source": [
    "zinc_screener.print_report()"
   ]
  },
  {
   "cell_type": "markdown",
   "id": "4efd1b6b-a2d6-4d3b-b1fb-d58cb1679893",
   "metadata": {},
   "source": [
    "The dataset we are screening is stored in 136 different files for a total of 1,254,835 molecules. In my computer it takes a while to run even tough there are no many files. This suggests that the process may not be IO bound. \n",
    "\n",
    "The average time on my computer was of 27 min. In the next section we'll try to see if screening time improves by taking advantage of the multiple cores on my computer. "
   ]
  },
  {
   "cell_type": "markdown",
   "id": "80989c1d-8b30-4850-af7d-978ccd8c53e4",
   "metadata": {},
   "source": [
    "## Using multiprocessing"
   ]
  },
  {
   "cell_type": "markdown",
   "id": "f225fbeb-5fca-40ed-ba54-0d47552a7b84",
   "metadata": {},
   "source": [
    "We will make use of the multiprocessing module to perform the same virtual screening that we did above. On my cumputer with an intel i7 processor (8 cores), a performance gain should be expected."
   ]
  },
  {
   "cell_type": "code",
   "execution_count": 7,
   "id": "c43d0086-e2b5-4f03-87c7-20ae45b276d3",
   "metadata": {},
   "outputs": [],
   "source": [
    "Match = namedtuple(\"Match\", [\"score\", \"id\", \"mol\"])\n",
    "\n",
    "def get_rdkit_pharmacophore(pharmacophore):\n",
    "    rdkit_pharmacophore, radii = pharmacophore.to_rdkit()\n",
    "    apply_radii_to_bounds(radii, rdkit_pharmacophore)\n",
    "\n",
    "    return rdkit_pharmacophore\n",
    "        \n",
    "rdkit_pharmacophore = get_rdkit_pharmacophore(sb_pharmacophore)\n",
    "featFactory = ChemicalFeatures.BuildFeatureFactory(os.path.join(RDConfig.RDDataDir,\n",
    "                                                                     'BaseFeatures.fdef'))\n",
    "\n",
    "def align_molecule(mol):\n",
    "    \"\"\" Align a molecules to a given pharmacophore.\n",
    "\n",
    "    Parameters\n",
    "    ----------\n",
    "    mol : rdkit.Chem.mol\n",
    "        Molecule to align.\n",
    "\n",
    "    \"\"\"\n",
    "\n",
    "    bounds_matrix = rdDistGeom.GetMoleculeBoundsMatrix(mol)\n",
    "    # Check if the molecule features can match with the pharmacophore.\n",
    "    can_match, all_matches = EmbedLib.MatchPharmacophoreToMol(mol, featFactory, rdkit_pharmacophore)\n",
    "    # all_matches is a list of tuples where each tuple contains the chemical features\n",
    "    if can_match:\n",
    "        # Match the molecule to the pharmacophore without aligning it\n",
    "        failed, bounds_matrix_matched, matched_mols, match_details = EmbedLib.MatchPharmacophore(all_matches, \n",
    "                                                                                        bounds_matrix,\n",
    "                                                                                        rdkit_pharmacophore, \n",
    "                                                                                        useDownsampling=True)\n",
    "        if failed:\n",
    "            return\n",
    "    else:\n",
    "        return\n",
    "    atom_match = [list(x.GetAtomIds()) for x in matched_mols]\n",
    "    try:\n",
    "        mol_H = Chem.AddHs(mol)\n",
    "        # Embed molecule onto the pharmacophore\n",
    "        # embeddings is a list of molecules with a single conformer\n",
    "        b_matrix, embeddings, num_fail = EmbedLib.EmbedPharmacophore(mol_H, atom_match, rdkit_pharmacophore, count=10)\n",
    "    except Exception as e:\n",
    "        return\n",
    "    # Align embeddings to the pharmacophore \n",
    "    SSDs = transform_embeddings(rdkit_pharmacophore, embeddings, atom_match) \n",
    "    if len(SSDs) == 0:\n",
    "        return\n",
    "    best_fit_index = min(enumerate(SSDs), key=itemgetter(1))[0]\n",
    "\n",
    "    try:\n",
    "        mol_id = mol.GetProp(\"_Name\")\n",
    "    except:\n",
    "        mol_id = None\n",
    "\n",
    "    matched_mol = Match(SSDs[best_fit_index], mol_id, embeddings[best_fit_index]) \n",
    "    # Append to list in ordered manner\n",
    "    "
   ]
  },
  {
   "cell_type": "code",
   "execution_count": 8,
   "id": "551bdd6a-6a35-48b1-8f1c-0b8798f40531",
   "metadata": {},
   "outputs": [
    {
     "name": "stdout",
     "output_type": "stream",
     "text": [
      "NUmber of files: 136\n"
     ]
    }
   ],
   "source": [
    "def get_files(path):\n",
    "    file_queue = Queue()\n",
    "    for root, directory, files in os.walk(path):\n",
    "        if '.ipynb_checkpoints' in root:\n",
    "            continue\n",
    "        for file in files:\n",
    "            file_queue.put(os.path.join(root, file))\n",
    "    \n",
    "    return file_queue\n",
    "\n",
    "file_queue = get_files(download_path)\n",
    "print(f\"Number of files: {file_queue.qsize()}\")"
   ]
  },
  {
   "cell_type": "code",
   "execution_count": 9,
   "id": "88d591b1-8c9a-494a-8a93-e836f7e8af02",
   "metadata": {},
   "outputs": [],
   "source": [
    "def screen_files(file_queue):\n",
    "    while not file_queue.empty():\n",
    "        file = file_queue.get()\n",
    "        with open(file, \"r\") as fp:\n",
    "            fp.readline()\n",
    "            for line in fp:\n",
    "                splitted_line = line.split()\n",
    "                smiles = splitted_line[0]\n",
    "                zinc_id = splitted_line[1]\n",
    "                molecule = Chem.MolFromSmiles(smiles)\n",
    "                molecule.SetProp(\"_Name\", zinc_id)\n",
    "                align_molecule(molecule)\n",
    "        # print(\"Scanned File!\")"
   ]
  },
  {
   "cell_type": "code",
   "execution_count": 10,
   "id": "692f3015-763b-44d4-b2f4-d3abcea0c9e6",
   "metadata": {},
   "outputs": [],
   "source": [
    "def virtual_screening():\n",
    "    \n",
    "    file_queue = get_files(\"./data/shards\")\n",
    "    \n",
    "    pool = Pool(None, screen_files, (file_queue,))\n",
    "    pool.close()\n",
    "    pool.join()"
   ]
  },
  {
   "cell_type": "code",
   "execution_count": 13,
   "id": "f2d134f2-45fb-4716-9a7d-7f7d5024b741",
   "metadata": {},
   "outputs": [
    {
     "name": "stdout",
     "output_type": "stream",
     "text": [
      "9min 7s ± 2.49 s per loop (mean ± std. dev. of 7 runs, 1 loop each)\n"
     ]
    }
   ],
   "source": [
    "%timeit virtual_screening()"
   ]
  },
  {
   "cell_type": "markdown",
   "id": "0a4cf9e4-d362-4bd6-8437-c4b52bec70af",
   "metadata": {},
   "source": [
    "The average time is reduced significantly from 27min to 9min. This is more evidence that the process is CPU bound and we should expect better performance by taking advantage of multiple cores. "
   ]
  }
 ],
 "metadata": {
  "kernelspec": {
   "display_name": "Python 3 (ipykernel)",
   "language": "python",
   "name": "python3"
  },
  "language_info": {
   "codemirror_mode": {
    "name": "ipython",
    "version": 3
   },
   "file_extension": ".py",
   "mimetype": "text/x-python",
   "name": "python",
   "nbconvert_exporter": "python",
   "pygments_lexer": "ipython3",
   "version": "3.7.10"
  }
 },
 "nbformat": 4,
 "nbformat_minor": 5
}
