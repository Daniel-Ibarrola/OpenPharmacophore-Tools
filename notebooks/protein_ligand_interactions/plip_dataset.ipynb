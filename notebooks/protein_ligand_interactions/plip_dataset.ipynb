{
 "cells": [
  {
   "cell_type": "markdown",
   "id": "6f5caf23-7856-4276-a4f3-156ee838a9bd",
   "metadata": {},
   "source": [
    "# Plip dataset\n",
    "\n",
    "We inspect the plip dataset which will later be used to find protein-ligand interactions"
   ]
  },
  {
   "cell_type": "code",
   "execution_count": 1,
   "id": "8db95f3c-3883-40a0-80e2-1b6074e0a9f8",
   "metadata": {},
   "outputs": [
    {
     "data": {
      "application/vnd.jupyter.widget-view+json": {
       "model_id": "357df71eac404f029e80e4669ae38db4",
       "version_major": 2,
       "version_minor": 0
      },
      "text/plain": []
     },
     "metadata": {},
     "output_type": "display_data"
    }
   ],
   "source": [
    "import openpharmacophore.pharmacophore.pl_interactions as pli\n",
    "import mdtraj as mdt\n",
    "import nglview as nv\n",
    "import numpy as np\n",
    "from rdkit import Chem\n",
    "\n",
    "from collections import defaultdict\n",
    "import os\n",
    "from pprint import pprint"
   ]
  },
  {
   "cell_type": "markdown",
   "id": "e0dc7725-9af0-464d-9ef7-49b461792330",
   "metadata": {},
   "source": [
    "## Load the files"
   ]
  },
  {
   "cell_type": "code",
   "execution_count": 2,
   "id": "06e77947-cc1e-4b70-bcc0-683ad6eea6da",
   "metadata": {},
   "outputs": [
    {
     "data": {
      "text/plain": [
       "True"
      ]
     },
     "execution_count": 2,
     "metadata": {},
     "output_type": "execute_result"
    }
   ],
   "source": [
    "data_dir = \"../../datasets/ligand-receptor/test_cases/plip\"\n",
    "os.path.isdir(data_dir)"
   ]
  },
  {
   "cell_type": "code",
   "execution_count": 3,
   "id": "7542a739-bb94-4020-af93-eeea912f61b3",
   "metadata": {},
   "outputs": [],
   "source": [
    "pdbs = []\n",
    "smi_files = []\n",
    "pdb_ligands = defaultdict(list)\n",
    "\n",
    "for root, _, filenames in os.walk(data_dir):\n",
    "    for file in filenames:\n",
    "        pdb_name = root.split(\"/\")[-1]\n",
    "        if file.endswith(\".pdb\"):\n",
    "            if len(file.split(\"_\")) == 1:\n",
    "                pdbs.append(file)\n",
    "            else:\n",
    "                pdb_ligands[pdb_name].append(file)\n",
    "            \n",
    "        elif file.endswith(\".smi\"):\n",
    "            smi_files.append(os.path.join(root, file))"
   ]
  },
  {
   "cell_type": "code",
   "execution_count": 4,
   "id": "92cb191e-cd38-4e18-ac37-e3433f10426b",
   "metadata": {},
   "outputs": [
    {
     "data": {
      "text/plain": [
       "['2REG.pdb', '3BBH.pdb', '4MWW.pdb', '1M7W.pdb', '1XDN.pdb']"
      ]
     },
     "execution_count": 4,
     "metadata": {},
     "output_type": "execute_result"
    }
   ],
   "source": [
    "pdbs"
   ]
  },
  {
   "cell_type": "code",
   "execution_count": 5,
   "id": "bbc4bd4a-e974-42ff-919c-011d591350cf",
   "metadata": {},
   "outputs": [
    {
     "data": {
      "text/plain": [
       "['../../datasets/ligand-receptor/test_cases/plip/2REG/ligands.smi',\n",
       " '../../datasets/ligand-receptor/test_cases/plip/3BBH/ligands.smi',\n",
       " '../../datasets/ligand-receptor/test_cases/plip/4MWW/ligands.smi',\n",
       " '../../datasets/ligand-receptor/test_cases/plip/1M7W/ligands.smi',\n",
       " '../../datasets/ligand-receptor/test_cases/plip/1XDN/ligands.smi']"
      ]
     },
     "execution_count": 5,
     "metadata": {},
     "output_type": "execute_result"
    }
   ],
   "source": [
    "smi_files"
   ]
  },
  {
   "cell_type": "code",
   "execution_count": 6,
   "id": "ef4d6670-02c7-4894-8200-000ac13d610e",
   "metadata": {},
   "outputs": [
    {
     "data": {
      "text/plain": [
       "defaultdict(list,\n",
       "            {'2REG': ['CHT_D_chain.pdb', 'CHT_C_chain.pdb', 'CHT_A_chain.pdb'],\n",
       "             '3BBH': ['SFG_B_chain.pdb',\n",
       "              'GOL_C_chain.pdb',\n",
       "              'GOL_F_chain.pdb',\n",
       "              'GOL_D_chain.pdb',\n",
       "              'SFG_D_chain.pdb',\n",
       "              'GOL_A_chain.pdb',\n",
       "              'GOL_B_chain.pdb',\n",
       "              'SFG_C_chain.pdb',\n",
       "              'SFG_A_chain.pdb'],\n",
       "             '4MWW': ['NAG_A_chain.pdb',\n",
       "              'BMA_A_chain.pdb',\n",
       "              'BMA_B_chain.pdb',\n",
       "              'NAG_B_chain.pdb',\n",
       "              'G39_A_chain.pdb',\n",
       "              'MAN_A_chain.pdb',\n",
       "              'NAG_C_chain.pdb',\n",
       "              'MAN_B_chain.pdb',\n",
       "              'G39_C_chain.pdb'],\n",
       "             '1M7W': ['DAO_F_chain.pdb',\n",
       "              'DAO_B_chain.pdb',\n",
       "              'DAO_D_chain.pdb',\n",
       "              'DAO_H_chain.pdb',\n",
       "              'DAO_A_chain.pdb',\n",
       "              'DAO_C_chain.pdb',\n",
       "              'DAO_E_chain.pdb',\n",
       "              'DAO_G_chain.pdb'],\n",
       "             '1XDN': ['ATP_A_chain.pdb', 'ATP_B_chain.pdb']})"
      ]
     },
     "execution_count": 6,
     "metadata": {},
     "output_type": "execute_result"
    }
   ],
   "source": [
    "pdb_ligands"
   ]
  },
  {
   "cell_type": "markdown",
   "id": "46d0f363-c3f3-4445-b003-5ae335775cad",
   "metadata": {},
   "source": [
    "## HNF4 alpha ligand binding domain. Hydrophobic interactions\n",
    "\n",
    "HNF4 alpha ligand binding domain and lauric acid. PDB id is 1M7W"
   ]
  },
  {
   "cell_type": "markdown",
   "id": "ba727762-33c3-4571-aab6-367e372ca615",
   "metadata": {},
   "source": [
    "### Extract a chain"
   ]
  },
  {
   "cell_type": "code",
   "execution_count": 7,
   "id": "101131f0-08eb-48f8-a468-42be1a881d07",
   "metadata": {},
   "outputs": [],
   "source": [
    "def print_traf_info(traj):\n",
    "    \n",
    "    print(f\"Num atoms: {traj.n_atoms}\")\n",
    "    print(f\"Num chains: {traj.n_chains}\")\n",
    "    print(f\"Num residues: {traj.n_residues}\")\n",
    "    \n",
    "\n",
    "def full_file_path(file_name):\n",
    "    name = file_name.split(\".\")[0] + \"/\" + file_name\n",
    "    return os.path.join(data_dir, name)"
   ]
  },
  {
   "cell_type": "code",
   "execution_count": 8,
   "id": "5ebd0217-7783-48a9-b740-55cf63c8c6e8",
   "metadata": {},
   "outputs": [
    {
     "name": "stdout",
     "output_type": "stream",
     "text": [
      "Num atoms: 7176\n",
      "Num chains: 12\n",
      "Num residues: 960\n"
     ]
    }
   ],
   "source": [
    "index = 3\n",
    "traj_1 = mdt.load(full_file_path(pdbs[index]))\n",
    "print_traf_info(traj_1)"
   ]
  },
  {
   "cell_type": "code",
   "execution_count": 9,
   "id": "a6005334-cee7-4d95-9a18-f81996cf5249",
   "metadata": {},
   "outputs": [
    {
     "data": {
      "application/vnd.jupyter.widget-view+json": {
       "model_id": "67ac761b73394cfbb6a57dbd1a6a1f20",
       "version_major": 2,
       "version_minor": 0
      },
      "text/plain": [
       "NGLWidget()"
      ]
     },
     "metadata": {},
     "output_type": "display_data"
    }
   ],
   "source": [
    "nv.show_mdtraj(traj_1)"
   ]
  },
  {
   "cell_type": "code",
   "execution_count": 10,
   "id": "f737df20-ce2b-4103-8204-d5dac59c85d6",
   "metadata": {},
   "outputs": [],
   "source": [
    "df, _ = traj_1.topology.to_dataframe()"
   ]
  },
  {
   "cell_type": "code",
   "execution_count": 11,
   "id": "9207b762-82ae-40cf-a7b9-1bf15a7c0b0e",
   "metadata": {},
   "outputs": [
    {
     "data": {
      "text/html": [
       "<div>\n",
       "<style scoped>\n",
       "    .dataframe tbody tr th:only-of-type {\n",
       "        vertical-align: middle;\n",
       "    }\n",
       "\n",
       "    .dataframe tbody tr th {\n",
       "        vertical-align: top;\n",
       "    }\n",
       "\n",
       "    .dataframe thead th {\n",
       "        text-align: right;\n",
       "    }\n",
       "</style>\n",
       "<table border=\"1\" class=\"dataframe\">\n",
       "  <thead>\n",
       "    <tr style=\"text-align: right;\">\n",
       "      <th></th>\n",
       "      <th>serial</th>\n",
       "      <th>name</th>\n",
       "      <th>element</th>\n",
       "      <th>resSeq</th>\n",
       "      <th>resName</th>\n",
       "      <th>chainID</th>\n",
       "      <th>segmentID</th>\n",
       "    </tr>\n",
       "  </thead>\n",
       "  <tbody>\n",
       "    <tr>\n",
       "      <th>7046</th>\n",
       "      <td>7051</td>\n",
       "      <td>O1</td>\n",
       "      <td>O</td>\n",
       "      <td>700</td>\n",
       "      <td>DAO</td>\n",
       "      <td>4</td>\n",
       "      <td></td>\n",
       "    </tr>\n",
       "    <tr>\n",
       "      <th>7047</th>\n",
       "      <td>7052</td>\n",
       "      <td>O2</td>\n",
       "      <td>O</td>\n",
       "      <td>700</td>\n",
       "      <td>DAO</td>\n",
       "      <td>4</td>\n",
       "      <td></td>\n",
       "    </tr>\n",
       "    <tr>\n",
       "      <th>7048</th>\n",
       "      <td>7053</td>\n",
       "      <td>C1</td>\n",
       "      <td>C</td>\n",
       "      <td>700</td>\n",
       "      <td>DAO</td>\n",
       "      <td>4</td>\n",
       "      <td></td>\n",
       "    </tr>\n",
       "    <tr>\n",
       "      <th>7049</th>\n",
       "      <td>7054</td>\n",
       "      <td>C2</td>\n",
       "      <td>C</td>\n",
       "      <td>700</td>\n",
       "      <td>DAO</td>\n",
       "      <td>4</td>\n",
       "      <td></td>\n",
       "    </tr>\n",
       "    <tr>\n",
       "      <th>7050</th>\n",
       "      <td>7055</td>\n",
       "      <td>C3</td>\n",
       "      <td>C</td>\n",
       "      <td>700</td>\n",
       "      <td>DAO</td>\n",
       "      <td>4</td>\n",
       "      <td></td>\n",
       "    </tr>\n",
       "    <tr>\n",
       "      <th>7051</th>\n",
       "      <td>7056</td>\n",
       "      <td>C4</td>\n",
       "      <td>C</td>\n",
       "      <td>700</td>\n",
       "      <td>DAO</td>\n",
       "      <td>4</td>\n",
       "      <td></td>\n",
       "    </tr>\n",
       "    <tr>\n",
       "      <th>7052</th>\n",
       "      <td>7057</td>\n",
       "      <td>C5</td>\n",
       "      <td>C</td>\n",
       "      <td>700</td>\n",
       "      <td>DAO</td>\n",
       "      <td>4</td>\n",
       "      <td></td>\n",
       "    </tr>\n",
       "    <tr>\n",
       "      <th>7053</th>\n",
       "      <td>7058</td>\n",
       "      <td>C6</td>\n",
       "      <td>C</td>\n",
       "      <td>700</td>\n",
       "      <td>DAO</td>\n",
       "      <td>4</td>\n",
       "      <td></td>\n",
       "    </tr>\n",
       "    <tr>\n",
       "      <th>7054</th>\n",
       "      <td>7059</td>\n",
       "      <td>C7</td>\n",
       "      <td>C</td>\n",
       "      <td>700</td>\n",
       "      <td>DAO</td>\n",
       "      <td>4</td>\n",
       "      <td></td>\n",
       "    </tr>\n",
       "    <tr>\n",
       "      <th>7055</th>\n",
       "      <td>7060</td>\n",
       "      <td>C8</td>\n",
       "      <td>C</td>\n",
       "      <td>700</td>\n",
       "      <td>DAO</td>\n",
       "      <td>4</td>\n",
       "      <td></td>\n",
       "    </tr>\n",
       "    <tr>\n",
       "      <th>7056</th>\n",
       "      <td>7061</td>\n",
       "      <td>C9</td>\n",
       "      <td>C</td>\n",
       "      <td>700</td>\n",
       "      <td>DAO</td>\n",
       "      <td>4</td>\n",
       "      <td></td>\n",
       "    </tr>\n",
       "    <tr>\n",
       "      <th>7057</th>\n",
       "      <td>7062</td>\n",
       "      <td>C10</td>\n",
       "      <td>C</td>\n",
       "      <td>700</td>\n",
       "      <td>DAO</td>\n",
       "      <td>4</td>\n",
       "      <td></td>\n",
       "    </tr>\n",
       "    <tr>\n",
       "      <th>7058</th>\n",
       "      <td>7063</td>\n",
       "      <td>C11</td>\n",
       "      <td>C</td>\n",
       "      <td>700</td>\n",
       "      <td>DAO</td>\n",
       "      <td>4</td>\n",
       "      <td></td>\n",
       "    </tr>\n",
       "    <tr>\n",
       "      <th>7059</th>\n",
       "      <td>7064</td>\n",
       "      <td>C12</td>\n",
       "      <td>C</td>\n",
       "      <td>700</td>\n",
       "      <td>DAO</td>\n",
       "      <td>4</td>\n",
       "      <td></td>\n",
       "    </tr>\n",
       "  </tbody>\n",
       "</table>\n",
       "</div>"
      ],
      "text/plain": [
       "      serial name element  resSeq resName  chainID segmentID\n",
       "7046    7051   O1       O     700     DAO        4          \n",
       "7047    7052   O2       O     700     DAO        4          \n",
       "7048    7053   C1       C     700     DAO        4          \n",
       "7049    7054   C2       C     700     DAO        4          \n",
       "7050    7055   C3       C     700     DAO        4          \n",
       "7051    7056   C4       C     700     DAO        4          \n",
       "7052    7057   C5       C     700     DAO        4          \n",
       "7053    7058   C6       C     700     DAO        4          \n",
       "7054    7059   C7       C     700     DAO        4          \n",
       "7055    7060   C8       C     700     DAO        4          \n",
       "7056    7061   C9       C     700     DAO        4          \n",
       "7057    7062  C10       C     700     DAO        4          \n",
       "7058    7063  C11       C     700     DAO        4          \n",
       "7059    7064  C12       C     700     DAO        4          "
      ]
     },
     "execution_count": 11,
     "metadata": {},
     "output_type": "execute_result"
    }
   ],
   "source": [
    "df[df[\"chainID\"] == 4]"
   ]
  },
  {
   "cell_type": "code",
   "execution_count": 12,
   "id": "c00ae426-ed9d-46f5-a246-beafa5d00981",
   "metadata": {},
   "outputs": [
    {
     "name": "stdout",
     "output_type": "stream",
     "text": [
      "Num atoms: 1791\n",
      "Num chains: 2\n",
      "Num residues: 224\n"
     ]
    }
   ],
   "source": [
    "# Extract a single chain with a ligand\n",
    "chains = [0, 4]\n",
    "traj_chain_A = traj_1.atom_slice(\n",
    "        [atom.index for atom in traj_1.topology.atoms if (atom.residue.chain.index in chains)]\n",
    "    )\n",
    "print_traf_info(traj_chain_A)"
   ]
  },
  {
   "cell_type": "code",
   "execution_count": 13,
   "id": "0724db27-9dbe-477e-800e-3de997380c5e",
   "metadata": {},
   "outputs": [
    {
     "data": {
      "application/vnd.jupyter.widget-view+json": {
       "model_id": "1864e7a4b7274c1a8847bb3b16b8b9b8",
       "version_major": 2,
       "version_minor": 0
      },
      "text/plain": [
       "NGLWidget()"
      ]
     },
     "metadata": {},
     "output_type": "display_data"
    }
   ],
   "source": [
    "nv.show_mdtraj(traj_chain_A)"
   ]
  },
  {
   "cell_type": "markdown",
   "id": "5a376697-b71b-4e4b-a356-c2e09e646c70",
   "metadata": {},
   "source": [
    "### Inspect the ligand"
   ]
  },
  {
   "cell_type": "code",
   "execution_count": null,
   "id": "8c67d3f8-4989-4b5e-82d1-a84dbbd21daa",
   "metadata": {},
   "outputs": [],
   "source": []
  }
 ],
 "metadata": {
  "kernelspec": {
   "display_name": "Python 3 (ipykernel)",
   "language": "python",
   "name": "python3"
  },
  "language_info": {
   "codemirror_mode": {
    "name": "ipython",
    "version": 3
   },
   "file_extension": ".py",
   "mimetype": "text/x-python",
   "name": "python",
   "nbconvert_exporter": "python",
   "pygments_lexer": "ipython3",
   "version": "3.7.12"
  }
 },
 "nbformat": 4,
 "nbformat_minor": 5
}
