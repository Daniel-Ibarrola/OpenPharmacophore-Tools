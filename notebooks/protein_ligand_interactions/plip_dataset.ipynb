{
 "cells": [
  {
   "cell_type": "markdown",
   "id": "6f5caf23-7856-4276-a4f3-156ee838a9bd",
   "metadata": {},
   "source": [
    "# Plip dataset\n",
    "\n",
    "We inspect the plip dataset which will later be used to find protein-ligand interactions. For each protein-ligand complex we will extract a single peptidic chain with a ligand (in case there are multiple), we'll fix the ligand bond orders and save both the protein and ligand to new files.\n",
    "\n",
    "With the data we obtain from this notebook we'll then be ready to compute protein-ligand interactions and compare with plip's paper:\n",
    "\n",
    "- Salentin,S. et al. PLIP: fully automated protein-ligand interaction profiler. Nucl. Acids Res. (1 July 2015) 43 (W1): W443-W447. doi: 10.1093/nar/gkv315"
   ]
  },
  {
   "cell_type": "code",
   "execution_count": 1,
   "id": "8db95f3c-3883-40a0-80e2-1b6074e0a9f8",
   "metadata": {},
   "outputs": [
    {
     "data": {
      "application/vnd.jupyter.widget-view+json": {
       "model_id": "42df193a93d24333a060ebb588189175",
       "version_major": 2,
       "version_minor": 0
      },
      "text/plain": []
     },
     "metadata": {},
     "output_type": "display_data"
    }
   ],
   "source": [
    "import pl_interactions as pli\n",
    "import mdtraj as mdt\n",
    "import nglview as nv\n",
    "import numpy as np\n",
    "from rdkit.Chem import AllChem as Chem\n",
    "\n",
    "from copy import deepcopy\n",
    "from collections import defaultdict\n",
    "import os\n",
    "from pprint import pprint"
   ]
  },
  {
   "cell_type": "markdown",
   "id": "e0dc7725-9af0-464d-9ef7-49b461792330",
   "metadata": {},
   "source": [
    "## Load the files"
   ]
  },
  {
   "cell_type": "code",
   "execution_count": 2,
   "id": "06e77947-cc1e-4b70-bcc0-683ad6eea6da",
   "metadata": {},
   "outputs": [
    {
     "data": {
      "text/plain": [
       "True"
      ]
     },
     "execution_count": 2,
     "metadata": {},
     "output_type": "execute_result"
    }
   ],
   "source": [
    "data_dir = \"../../datasets/ligand-receptor/test_cases/plip\"\n",
    "os.path.isdir(data_dir)"
   ]
  },
  {
   "cell_type": "code",
   "execution_count": 3,
   "id": "7542a739-bb94-4020-af93-eeea912f61b3",
   "metadata": {},
   "outputs": [],
   "source": [
    "pdbs = []\n",
    "smi_files = []\n",
    "pdb_ligands = defaultdict(list)\n",
    "\n",
    "for root, _, filenames in os.walk(data_dir):\n",
    "    for file in filenames:\n",
    "        pdb_name = root.split(\"/\")[-1]\n",
    "        if file.endswith(\".pdb\"):\n",
    "            if len(file.split(\"_\")) == 1:\n",
    "                pdbs.append(file)\n",
    "            else:\n",
    "                pdb_ligands[pdb_name].append(file)\n",
    "            \n",
    "        elif file.endswith(\".smi\"):\n",
    "            smi_files.append(os.path.join(root, file))"
   ]
  },
  {
   "cell_type": "code",
   "execution_count": null,
   "id": "92cb191e-cd38-4e18-ac37-e3433f10426b",
   "metadata": {},
   "outputs": [
    {
     "data": {
      "text/plain": [
       "['2REG.pdb', '3BBH.pdb', '4MWW.pdb', '1M7W.pdb', '1XDN.pdb']"
      ]
     },
     "execution_count": 4,
     "metadata": {},
     "output_type": "execute_result"
    }
   ],
   "source": [
    "pdbs"
   ]
  },
  {
   "cell_type": "code",
   "execution_count": 5,
   "id": "bbc4bd4a-e974-42ff-919c-011d591350cf",
   "metadata": {},
   "outputs": [
    {
     "data": {
      "text/plain": [
       "['../../datasets/ligand-receptor/test_cases/plip/2REG/ligands.smi',\n",
       " '../../datasets/ligand-receptor/test_cases/plip/3BBH/ligands.smi',\n",
       " '../../datasets/ligand-receptor/test_cases/plip/4MWW/ligands.smi',\n",
       " '../../datasets/ligand-receptor/test_cases/plip/1M7W/ligands.smi',\n",
       " '../../datasets/ligand-receptor/test_cases/plip/1XDN/ligands.smi']"
      ]
     },
     "execution_count": 5,
     "metadata": {},
     "output_type": "execute_result"
    }
   ],
   "source": [
    "smi_files"
   ]
  },
  {
   "cell_type": "code",
   "execution_count": 6,
   "id": "ef4d6670-02c7-4894-8200-000ac13d610e",
   "metadata": {},
   "outputs": [
    {
     "data": {
      "text/plain": [
       "defaultdict(list,\n",
       "            {'2REG': ['CHT_D_chain.pdb', 'CHT_C_chain.pdb'],\n",
       "             '3BBH': ['GOL_C_chain.pdb',\n",
       "              'GOL_F_chain.pdb',\n",
       "              'GOL_D_chain.pdb',\n",
       "              'SFG_D_chain.pdb',\n",
       "              'SFG_C_chain.pdb'],\n",
       "             '4MWW': ['BMA_B_chain.pdb',\n",
       "              'NAG_B_chain.pdb',\n",
       "              'NAG_C_chain.pdb',\n",
       "              'MAN_B_chain.pdb',\n",
       "              'G39_C_chain.pdb'],\n",
       "             '1M7W': ['DAO_F_chain.pdb',\n",
       "              'DAO_H_chain.pdb',\n",
       "              'DAO_E_chain.pdb',\n",
       "              'DAO_G_chain.pdb'],\n",
       "             '1XDN': ['ATP_B_chain.pdb']})"
      ]
     },
     "execution_count": 6,
     "metadata": {},
     "output_type": "execute_result"
    }
   ],
   "source": [
    "pdb_ligands"
   ]
  },
  {
   "cell_type": "markdown",
   "id": "46d0f363-c3f3-4445-b003-5ae335775cad",
   "metadata": {},
   "source": [
    "## HNF4 alpha ligand binding domain (Hhydrophobic interactions).\n",
    "\n",
    "HNF4 alpha ligand binding domain and lauric acid. PDB id is 1M7W"
   ]
  },
  {
   "cell_type": "markdown",
   "id": "ba727762-33c3-4571-aab6-367e372ca615",
   "metadata": {},
   "source": [
    "### Extract a chain"
   ]
  },
  {
   "cell_type": "code",
   "execution_count": 7,
   "id": "101131f0-08eb-48f8-a468-42be1a881d07",
   "metadata": {},
   "outputs": [],
   "source": [
    "def print_traf_info(traj):\n",
    "    \n",
    "    print(f\"Num atoms: {traj.n_atoms}\")\n",
    "    print(f\"Num chains: {traj.n_chains}\")\n",
    "    print(f\"Num residues: {traj.n_residues}\")\n",
    "    \n",
    "\n",
    "def full_file_path(file_name):\n",
    "    name = file_name.split(\".\")[0] + \"/\" + file_name\n",
    "    return os.path.join(data_dir, name)"
   ]
  },
  {
   "cell_type": "code",
   "execution_count": 8,
   "id": "5ebd0217-7783-48a9-b740-55cf63c8c6e8",
   "metadata": {},
   "outputs": [
    {
     "name": "stdout",
     "output_type": "stream",
     "text": [
      "Num atoms: 7176\n",
      "Num chains: 12\n",
      "Num residues: 960\n"
     ]
    }
   ],
   "source": [
    "index = 3\n",
    "pdb_id = \"1M7W\"\n",
    "traj_1m7w = mdt.load(full_file_path(pdbs[index]))\n",
    "print_traf_info(traj_1m7w)"
   ]
  },
  {
   "cell_type": "code",
   "execution_count": 9,
   "id": "a6005334-cee7-4d95-9a18-f81996cf5249",
   "metadata": {},
   "outputs": [
    {
     "data": {
      "application/vnd.jupyter.widget-view+json": {
       "model_id": "326fd98d52ea41bf94e92de381e7f5ef",
       "version_major": 2,
       "version_minor": 0
      },
      "text/plain": [
       "NGLWidget()"
      ]
     },
     "metadata": {},
     "output_type": "display_data"
    }
   ],
   "source": [
    "nv.show_mdtraj(traj_1m7w)"
   ]
  },
  {
   "cell_type": "code",
   "execution_count": 10,
   "id": "f737df20-ce2b-4103-8204-d5dac59c85d6",
   "metadata": {},
   "outputs": [],
   "source": [
    "df, _ = traj_1m7w.topology.to_dataframe()"
   ]
  },
  {
   "cell_type": "code",
   "execution_count": 11,
   "id": "9207b762-82ae-40cf-a7b9-1bf15a7c0b0e",
   "metadata": {},
   "outputs": [
    {
     "data": {
      "text/html": [
       "<div>\n",
       "<style scoped>\n",
       "    .dataframe tbody tr th:only-of-type {\n",
       "        vertical-align: middle;\n",
       "    }\n",
       "\n",
       "    .dataframe tbody tr th {\n",
       "        vertical-align: top;\n",
       "    }\n",
       "\n",
       "    .dataframe thead th {\n",
       "        text-align: right;\n",
       "    }\n",
       "</style>\n",
       "<table border=\"1\" class=\"dataframe\">\n",
       "  <thead>\n",
       "    <tr style=\"text-align: right;\">\n",
       "      <th></th>\n",
       "      <th>serial</th>\n",
       "      <th>name</th>\n",
       "      <th>element</th>\n",
       "      <th>resSeq</th>\n",
       "      <th>resName</th>\n",
       "      <th>chainID</th>\n",
       "      <th>segmentID</th>\n",
       "    </tr>\n",
       "  </thead>\n",
       "  <tbody>\n",
       "    <tr>\n",
       "      <th>7046</th>\n",
       "      <td>7051</td>\n",
       "      <td>O1</td>\n",
       "      <td>O</td>\n",
       "      <td>700</td>\n",
       "      <td>DAO</td>\n",
       "      <td>4</td>\n",
       "      <td></td>\n",
       "    </tr>\n",
       "    <tr>\n",
       "      <th>7047</th>\n",
       "      <td>7052</td>\n",
       "      <td>O2</td>\n",
       "      <td>O</td>\n",
       "      <td>700</td>\n",
       "      <td>DAO</td>\n",
       "      <td>4</td>\n",
       "      <td></td>\n",
       "    </tr>\n",
       "    <tr>\n",
       "      <th>7048</th>\n",
       "      <td>7053</td>\n",
       "      <td>C1</td>\n",
       "      <td>C</td>\n",
       "      <td>700</td>\n",
       "      <td>DAO</td>\n",
       "      <td>4</td>\n",
       "      <td></td>\n",
       "    </tr>\n",
       "    <tr>\n",
       "      <th>7049</th>\n",
       "      <td>7054</td>\n",
       "      <td>C2</td>\n",
       "      <td>C</td>\n",
       "      <td>700</td>\n",
       "      <td>DAO</td>\n",
       "      <td>4</td>\n",
       "      <td></td>\n",
       "    </tr>\n",
       "    <tr>\n",
       "      <th>7050</th>\n",
       "      <td>7055</td>\n",
       "      <td>C3</td>\n",
       "      <td>C</td>\n",
       "      <td>700</td>\n",
       "      <td>DAO</td>\n",
       "      <td>4</td>\n",
       "      <td></td>\n",
       "    </tr>\n",
       "    <tr>\n",
       "      <th>7051</th>\n",
       "      <td>7056</td>\n",
       "      <td>C4</td>\n",
       "      <td>C</td>\n",
       "      <td>700</td>\n",
       "      <td>DAO</td>\n",
       "      <td>4</td>\n",
       "      <td></td>\n",
       "    </tr>\n",
       "    <tr>\n",
       "      <th>7052</th>\n",
       "      <td>7057</td>\n",
       "      <td>C5</td>\n",
       "      <td>C</td>\n",
       "      <td>700</td>\n",
       "      <td>DAO</td>\n",
       "      <td>4</td>\n",
       "      <td></td>\n",
       "    </tr>\n",
       "    <tr>\n",
       "      <th>7053</th>\n",
       "      <td>7058</td>\n",
       "      <td>C6</td>\n",
       "      <td>C</td>\n",
       "      <td>700</td>\n",
       "      <td>DAO</td>\n",
       "      <td>4</td>\n",
       "      <td></td>\n",
       "    </tr>\n",
       "    <tr>\n",
       "      <th>7054</th>\n",
       "      <td>7059</td>\n",
       "      <td>C7</td>\n",
       "      <td>C</td>\n",
       "      <td>700</td>\n",
       "      <td>DAO</td>\n",
       "      <td>4</td>\n",
       "      <td></td>\n",
       "    </tr>\n",
       "    <tr>\n",
       "      <th>7055</th>\n",
       "      <td>7060</td>\n",
       "      <td>C8</td>\n",
       "      <td>C</td>\n",
       "      <td>700</td>\n",
       "      <td>DAO</td>\n",
       "      <td>4</td>\n",
       "      <td></td>\n",
       "    </tr>\n",
       "    <tr>\n",
       "      <th>7056</th>\n",
       "      <td>7061</td>\n",
       "      <td>C9</td>\n",
       "      <td>C</td>\n",
       "      <td>700</td>\n",
       "      <td>DAO</td>\n",
       "      <td>4</td>\n",
       "      <td></td>\n",
       "    </tr>\n",
       "    <tr>\n",
       "      <th>7057</th>\n",
       "      <td>7062</td>\n",
       "      <td>C10</td>\n",
       "      <td>C</td>\n",
       "      <td>700</td>\n",
       "      <td>DAO</td>\n",
       "      <td>4</td>\n",
       "      <td></td>\n",
       "    </tr>\n",
       "    <tr>\n",
       "      <th>7058</th>\n",
       "      <td>7063</td>\n",
       "      <td>C11</td>\n",
       "      <td>C</td>\n",
       "      <td>700</td>\n",
       "      <td>DAO</td>\n",
       "      <td>4</td>\n",
       "      <td></td>\n",
       "    </tr>\n",
       "    <tr>\n",
       "      <th>7059</th>\n",
       "      <td>7064</td>\n",
       "      <td>C12</td>\n",
       "      <td>C</td>\n",
       "      <td>700</td>\n",
       "      <td>DAO</td>\n",
       "      <td>4</td>\n",
       "      <td></td>\n",
       "    </tr>\n",
       "  </tbody>\n",
       "</table>\n",
       "</div>"
      ],
      "text/plain": [
       "      serial name element  resSeq resName  chainID segmentID\n",
       "7046    7051   O1       O     700     DAO        4          \n",
       "7047    7052   O2       O     700     DAO        4          \n",
       "7048    7053   C1       C     700     DAO        4          \n",
       "7049    7054   C2       C     700     DAO        4          \n",
       "7050    7055   C3       C     700     DAO        4          \n",
       "7051    7056   C4       C     700     DAO        4          \n",
       "7052    7057   C5       C     700     DAO        4          \n",
       "7053    7058   C6       C     700     DAO        4          \n",
       "7054    7059   C7       C     700     DAO        4          \n",
       "7055    7060   C8       C     700     DAO        4          \n",
       "7056    7061   C9       C     700     DAO        4          \n",
       "7057    7062  C10       C     700     DAO        4          \n",
       "7058    7063  C11       C     700     DAO        4          \n",
       "7059    7064  C12       C     700     DAO        4          "
      ]
     },
     "execution_count": 11,
     "metadata": {},
     "output_type": "execute_result"
    }
   ],
   "source": [
    "df[df[\"chainID\"] == 4]"
   ]
  },
  {
   "cell_type": "code",
   "execution_count": 12,
   "id": "c00ae426-ed9d-46f5-a246-beafa5d00981",
   "metadata": {},
   "outputs": [
    {
     "name": "stdout",
     "output_type": "stream",
     "text": [
      "Num atoms: 1791\n",
      "Num chains: 2\n",
      "Num residues: 224\n"
     ]
    }
   ],
   "source": [
    "# Extract a single chain with a ligand\n",
    "chains = [0, 4]\n",
    "traj_1m7w_A = traj_1m7w.atom_slice(\n",
    "        [atom.index for atom in traj_1m7w.topology.atoms if (atom.residue.chain.index in chains)]\n",
    "    )\n",
    "print_traf_info(traj_1m7w_A)"
   ]
  },
  {
   "cell_type": "code",
   "execution_count": 13,
   "id": "0724db27-9dbe-477e-800e-3de997380c5e",
   "metadata": {},
   "outputs": [
    {
     "data": {
      "application/vnd.jupyter.widget-view+json": {
       "model_id": "d22df692af354bf3aaa53f04a4c7833f",
       "version_major": 2,
       "version_minor": 0
      },
      "text/plain": [
       "NGLWidget()"
      ]
     },
     "metadata": {},
     "output_type": "display_data"
    }
   ],
   "source": [
    "nv.show_mdtraj(traj_1m7w_A)"
   ]
  },
  {
   "cell_type": "markdown",
   "id": "5a376697-b71b-4e4b-a356-c2e09e646c70",
   "metadata": {},
   "source": [
    "### Inspect the ligand\n",
    "\n",
    "Inspection of the ligand from the pdb file reveals that bond orders are incorrect. We proceed to fix that."
   ]
  },
  {
   "cell_type": "code",
   "execution_count": 14,
   "id": "d75fc944-5cb0-4ac7-b7d1-2b0e43b35e58",
   "metadata": {},
   "outputs": [],
   "source": [
    "def remove_conformers(molecule):\n",
    "    \"\"\" Returns a molecule with 0 conformers. \"\"\"\n",
    "    mol = deepcopy(molecule)\n",
    "    mol.RemoveAllConformers()\n",
    "    return mol"
   ]
  },
  {
   "cell_type": "code",
   "execution_count": 15,
   "id": "8c67d3f8-4989-4b5e-82d1-a84dbbd21daa",
   "metadata": {},
   "outputs": [
    {
     "name": "stdout",
     "output_type": "stream",
     "text": [
      "['DAO_F_chain.pdb', 'DAO_H_chain.pdb', 'DAO_E_chain.pdb', 'DAO_G_chain.pdb']\n"
     ]
    }
   ],
   "source": [
    "print(pdb_ligands[pdb_id])"
   ]
  },
  {
   "cell_type": "code",
   "execution_count": 16,
   "id": "a3678fa0-7949-4ffd-8a4c-83236c0bf10c",
   "metadata": {},
   "outputs": [
    {
     "name": "stdout",
     "output_type": "stream",
     "text": [
      "DAO number of atoms pdb ligand: 14\n"
     ]
    },
    {
     "data": {
      "image/png": "[encoded data removed]",
      "text/plain": [
       "<rdkit.Chem.rdchem.Mol at 0x7f0690cf6580>"
      ]
     },
     "execution_count": 16,
     "metadata": {},
     "output_type": "execute_result"
    }
   ],
   "source": [
    "dao_pdb = Chem.MolFromPDBFile(os.path.join(data_dir, pdb_id, pdb_ligands[pdb_id][0]))\n",
    "print(f\"DAO number of atoms pdb ligand: {dao_pdb.GetNumAtoms()}\")\n",
    "remove_conformers(dao_pdb)  # Remove conformers for pretty drawing"
   ]
  },
  {
   "cell_type": "code",
   "execution_count": 17,
   "id": "94b07763-4738-4034-912a-9efff6aa3ee9",
   "metadata": {},
   "outputs": [
    {
     "data": {
      "text/plain": [
       "[<rdkit.Chem.rdchem.Mol at 0x7f0690cf8170>]"
      ]
     },
     "execution_count": 17,
     "metadata": {},
     "output_type": "execute_result"
    }
   ],
   "source": [
    "supplier = Chem.SmilesMolSupplier(smi_files[index], titleLine=False)\n",
    "ligands = [mol for mol in supplier if mol is not None]\n",
    "ligands"
   ]
  },
  {
   "cell_type": "code",
   "execution_count": 18,
   "id": "5e7b8934-de2b-4f4a-933d-5c35bdb1b43f",
   "metadata": {},
   "outputs": [
    {
     "data": {
      "image/png": "[encoded data removed]",
      "text/plain": [
       "<rdkit.Chem.rdchem.Mol at 0x7f0690cf8170>"
      ]
     },
     "execution_count": 18,
     "metadata": {},
     "output_type": "execute_result"
    }
   ],
   "source": [
    "dao_smi = ligands[0]\n",
    "dao_smi"
   ]
  },
  {
   "cell_type": "code",
   "execution_count": 19,
   "id": "e316dc56-e9a1-42f5-8483-dc842124b8da",
   "metadata": {},
   "outputs": [
    {
     "name": "stderr",
     "output_type": "stream",
     "text": [
      "[11:42:45] WARNING: More than one matching pattern found - picking one\n",
      "\n"
     ]
    },
    {
     "data": {
      "image/png": "[encoded data removed]",
      "text/plain": [
       "<rdkit.Chem.rdchem.Mol at 0x7f06b927b830>"
      ]
     },
     "execution_count": 19,
     "metadata": {},
     "output_type": "execute_result"
    }
   ],
   "source": [
    "# Fixed mol\n",
    "dao = Chem.AssignBondOrdersFromTemplate(dao_smi, dao_pdb)\n",
    "dao"
   ]
  },
  {
   "cell_type": "code",
   "execution_count": 20,
   "id": "7debf423-369a-416e-9137-69222e2c2b6a",
   "metadata": {},
   "outputs": [],
   "source": [
    "def mol_to_sdf(file_path, mol):\n",
    "    writer = Chem.SDWriter(file_path)\n",
    "    writer.write(mol, confId=0)"
   ]
  },
  {
   "cell_type": "code",
   "execution_count": 21,
   "id": "c52070bb-400a-455c-af6e-76b08c66e33d",
   "metadata": {},
   "outputs": [],
   "source": [
    "# Save fixed ligand and chain\n",
    "mol_to_sdf(\"./data/1m7w/dao.sdf\", dao)\n",
    "traj_1m7w_A.save_pdb(\"./data/1m7w/1m7w_A_chain.pdb\")"
   ]
  },
  {
   "cell_type": "markdown",
   "id": "ed146f90-cc99-41f0-979c-b692f4d839c6",
   "metadata": {},
   "source": [
    "## M. jannaschii Nep1 and Sinefungin (hydrogen bonding)\n",
    "\n",
    "PDB id is 3BBH"
   ]
  },
  {
   "cell_type": "code",
   "execution_count": 22,
   "id": "5d4ca4c4-bdfa-457e-a22f-e196eccc4bc3",
   "metadata": {},
   "outputs": [
    {
     "name": "stdout",
     "output_type": "stream",
     "text": [
      "Num atoms: 3655\n",
      "Num chains: 6\n",
      "Num residues: 609\n"
     ]
    }
   ],
   "source": [
    "index = 1\n",
    "pdb_id = \"3BBH\"\n",
    "traj_3bbh = mdt.load(full_file_path(pdbs[index]))\n",
    "print_traf_info(traj_3bbh)"
   ]
  },
  {
   "cell_type": "code",
   "execution_count": 23,
   "id": "46be450e-3fe1-4b68-8d7b-31a1e194834d",
   "metadata": {},
   "outputs": [
    {
     "data": {
      "application/vnd.jupyter.widget-view+json": {
       "model_id": "b6bc238869914d6a879e16bf3ca3a0b3",
       "version_major": 2,
       "version_minor": 0
      },
      "text/plain": [
       "NGLWidget()"
      ]
     },
     "metadata": {},
     "output_type": "display_data"
    }
   ],
   "source": [
    "nv.show_mdtraj(traj_3bbh)"
   ]
  },
  {
   "cell_type": "code",
   "execution_count": 24,
   "id": "c59dcc45-df6b-4a74-8289-1a19370a6d23",
   "metadata": {},
   "outputs": [
    {
     "data": {
      "text/plain": [
       "['SFG:C', 'GOL:C', 'SFG:D', 'GOL:D', 'GOL:F']"
      ]
     },
     "execution_count": 24,
     "metadata": {},
     "output_type": "execute_result"
    }
   ],
   "source": [
    "pli.find_ligands_in_traj(traj_3bbh)"
   ]
  },
  {
   "cell_type": "code",
   "execution_count": 25,
   "id": "6be960fc-10f9-41f2-a815-3de2d5e7caa4",
   "metadata": {},
   "outputs": [],
   "source": [
    "df, _ = traj_3bbh.topology.to_dataframe()"
   ]
  },
  {
   "cell_type": "code",
   "execution_count": 26,
   "id": "244e1cff-e546-4d32-934a-26e4ad4d0c1d",
   "metadata": {},
   "outputs": [
    {
     "data": {
      "text/html": [
       "<div>\n",
       "<style scoped>\n",
       "    .dataframe tbody tr th:only-of-type {\n",
       "        vertical-align: middle;\n",
       "    }\n",
       "\n",
       "    .dataframe tbody tr th {\n",
       "        vertical-align: top;\n",
       "    }\n",
       "\n",
       "    .dataframe thead th {\n",
       "        text-align: right;\n",
       "    }\n",
       "</style>\n",
       "<table border=\"1\" class=\"dataframe\">\n",
       "  <thead>\n",
       "    <tr style=\"text-align: right;\">\n",
       "      <th></th>\n",
       "      <th>serial</th>\n",
       "      <th>name</th>\n",
       "      <th>element</th>\n",
       "      <th>resSeq</th>\n",
       "      <th>resName</th>\n",
       "      <th>chainID</th>\n",
       "      <th>segmentID</th>\n",
       "    </tr>\n",
       "  </thead>\n",
       "  <tbody>\n",
       "    <tr>\n",
       "      <th>3372</th>\n",
       "      <td>3375</td>\n",
       "      <td>N</td>\n",
       "      <td>N</td>\n",
       "      <td>206</td>\n",
       "      <td>SFG</td>\n",
       "      <td>2</td>\n",
       "      <td></td>\n",
       "    </tr>\n",
       "    <tr>\n",
       "      <th>3373</th>\n",
       "      <td>3376</td>\n",
       "      <td>CA</td>\n",
       "      <td>C</td>\n",
       "      <td>206</td>\n",
       "      <td>SFG</td>\n",
       "      <td>2</td>\n",
       "      <td></td>\n",
       "    </tr>\n",
       "    <tr>\n",
       "      <th>3374</th>\n",
       "      <td>3377</td>\n",
       "      <td>C</td>\n",
       "      <td>C</td>\n",
       "      <td>206</td>\n",
       "      <td>SFG</td>\n",
       "      <td>2</td>\n",
       "      <td></td>\n",
       "    </tr>\n",
       "    <tr>\n",
       "      <th>3375</th>\n",
       "      <td>3378</td>\n",
       "      <td>O</td>\n",
       "      <td>O</td>\n",
       "      <td>206</td>\n",
       "      <td>SFG</td>\n",
       "      <td>2</td>\n",
       "      <td></td>\n",
       "    </tr>\n",
       "    <tr>\n",
       "      <th>3376</th>\n",
       "      <td>3379</td>\n",
       "      <td>OXT</td>\n",
       "      <td>O</td>\n",
       "      <td>206</td>\n",
       "      <td>SFG</td>\n",
       "      <td>2</td>\n",
       "      <td></td>\n",
       "    </tr>\n",
       "    <tr>\n",
       "      <th>3377</th>\n",
       "      <td>3380</td>\n",
       "      <td>CB</td>\n",
       "      <td>C</td>\n",
       "      <td>206</td>\n",
       "      <td>SFG</td>\n",
       "      <td>2</td>\n",
       "      <td></td>\n",
       "    </tr>\n",
       "    <tr>\n",
       "      <th>3378</th>\n",
       "      <td>3381</td>\n",
       "      <td>CG</td>\n",
       "      <td>C</td>\n",
       "      <td>206</td>\n",
       "      <td>SFG</td>\n",
       "      <td>2</td>\n",
       "      <td></td>\n",
       "    </tr>\n",
       "    <tr>\n",
       "      <th>3379</th>\n",
       "      <td>3382</td>\n",
       "      <td>CD</td>\n",
       "      <td>C</td>\n",
       "      <td>206</td>\n",
       "      <td>SFG</td>\n",
       "      <td>2</td>\n",
       "      <td></td>\n",
       "    </tr>\n",
       "    <tr>\n",
       "      <th>3380</th>\n",
       "      <td>3383</td>\n",
       "      <td>NE</td>\n",
       "      <td>N</td>\n",
       "      <td>206</td>\n",
       "      <td>SFG</td>\n",
       "      <td>2</td>\n",
       "      <td></td>\n",
       "    </tr>\n",
       "    <tr>\n",
       "      <th>3381</th>\n",
       "      <td>3384</td>\n",
       "      <td>C5'</td>\n",
       "      <td>C</td>\n",
       "      <td>206</td>\n",
       "      <td>SFG</td>\n",
       "      <td>2</td>\n",
       "      <td></td>\n",
       "    </tr>\n",
       "  </tbody>\n",
       "</table>\n",
       "</div>"
      ],
      "text/plain": [
       "      serial name element  resSeq resName  chainID segmentID\n",
       "3372    3375    N       N     206     SFG        2          \n",
       "3373    3376   CA       C     206     SFG        2          \n",
       "3374    3377    C       C     206     SFG        2          \n",
       "3375    3378    O       O     206     SFG        2          \n",
       "3376    3379  OXT       O     206     SFG        2          \n",
       "3377    3380   CB       C     206     SFG        2          \n",
       "3378    3381   CG       C     206     SFG        2          \n",
       "3379    3382   CD       C     206     SFG        2          \n",
       "3380    3383   NE       N     206     SFG        2          \n",
       "3381    3384  C5'       C     206     SFG        2          "
      ]
     },
     "execution_count": 26,
     "metadata": {},
     "output_type": "execute_result"
    }
   ],
   "source": [
    "# Chain 3 contains two ligands SFG and GOL. We are only interested in SFG\n",
    "df[df[\"chainID\"] == 2].head(10)"
   ]
  },
  {
   "cell_type": "code",
   "execution_count": 27,
   "id": "44928a0d-769a-49a1-aa92-7848b8f74029",
   "metadata": {},
   "outputs": [
    {
     "name": "stdout",
     "output_type": "stream",
     "text": [
      "Num atoms: 1713\n",
      "Num chains: 2\n",
      "Num residues: 205\n"
     ]
    }
   ],
   "source": [
    "# Extract chain with protein and single ligand\n",
    "chains = [0, 2]\n",
    "\n",
    "atom_indices = []\n",
    "for atom in traj_3bbh.topology.atoms:\n",
    "    if atom.residue.chain.index == chains[0]:\n",
    "        atom_indices.append(atom.index)\n",
    "    elif atom.residue.chain.index == chains[1] and atom.residue.name == \"SFG\":\n",
    "        atom_indices.append(atom.index)\n",
    "    \n",
    "traj_3bbh_A = traj_3bbh.atom_slice(atom_indices)\n",
    "print_traf_info(traj_3bbh_A)"
   ]
  },
  {
   "cell_type": "code",
   "execution_count": 28,
   "id": "c4149a6e-9071-445e-9dd2-4ab99a2ad71c",
   "metadata": {},
   "outputs": [
    {
     "data": {
      "application/vnd.jupyter.widget-view+json": {
       "model_id": "639aea7d742b46478dda3895a820ca28",
       "version_major": 2,
       "version_minor": 0
      },
      "text/plain": [
       "NGLWidget()"
      ]
     },
     "metadata": {},
     "output_type": "display_data"
    }
   ],
   "source": [
    "traj_ligand = mdt.load(os.path.join(data_dir, pdb_id, pdb_ligands[pdb_id][-1]))\n",
    "nv.show_mdtraj(traj_ligand)"
   ]
  },
  {
   "cell_type": "code",
   "execution_count": 29,
   "id": "93601433-8873-49e2-a959-f78bd15e8ba5",
   "metadata": {},
   "outputs": [
    {
     "data": {
      "application/vnd.jupyter.widget-view+json": {
       "model_id": "7ca81a0f39a74b6ea19c41ce1c158893",
       "version_major": 2,
       "version_minor": 0
      },
      "text/plain": [
       "NGLWidget()"
      ]
     },
     "metadata": {},
     "output_type": "display_data"
    }
   ],
   "source": [
    "view = nv.show_mdtraj(traj_3bbh_A)\n",
    "view.add_component(traj_ligand)\n",
    "view"
   ]
  },
  {
   "cell_type": "markdown",
   "id": "8e76f4ce-4374-44c0-8828-83efdaa8c0e1",
   "metadata": {},
   "source": [
    "Why does the ligand look like a stick?"
   ]
  },
  {
   "cell_type": "markdown",
   "id": "dccd075c-4f3f-4c81-b6a6-608373dfcbb4",
   "metadata": {},
   "source": [
    "### Inspect ligand"
   ]
  },
  {
   "cell_type": "code",
   "execution_count": 30,
   "id": "2f881a1b-7cfc-4cf5-a242-dd0f035b4935",
   "metadata": {},
   "outputs": [
    {
     "name": "stdout",
     "output_type": "stream",
     "text": [
      "['GOL_C_chain.pdb', 'GOL_F_chain.pdb', 'GOL_D_chain.pdb', 'SFG_D_chain.pdb', 'SFG_C_chain.pdb']\n"
     ]
    }
   ],
   "source": [
    "print(pdb_ligands[pdb_id])"
   ]
  },
  {
   "cell_type": "code",
   "execution_count": 31,
   "id": "4f0bfdaa-e08d-404f-a00a-26a48e2d112a",
   "metadata": {},
   "outputs": [
    {
     "name": "stdout",
     "output_type": "stream",
     "text": [
      "SFG number of atoms pdb ligand: 27\n"
     ]
    },
    {
     "data": {
      "image/png": "[encoded data removed]",
      "text/plain": [
       "<rdkit.Chem.rdchem.Mol at 0x7f0690c72260>"
      ]
     },
     "execution_count": 31,
     "metadata": {},
     "output_type": "execute_result"
    }
   ],
   "source": [
    "sfg_pdb = Chem.MolFromPDBFile(os.path.join(data_dir, pdb_id, pdb_ligands[pdb_id][-1]))\n",
    "print(f\"SFG number of atoms pdb ligand: {sfg_pdb.GetNumAtoms()}\")\n",
    "remove_conformers(sfg_pdb)  # Remove conformers for pretty drawing"
   ]
  },
  {
   "cell_type": "code",
   "execution_count": 32,
   "id": "9f23d5ec-f42c-4e8b-8658-727b29e41013",
   "metadata": {},
   "outputs": [
    {
     "data": {
      "text/plain": [
       "[<rdkit.Chem.rdchem.Mol at 0x7f0690c72f80>,\n",
       " <rdkit.Chem.rdchem.Mol at 0x7f0690c72e90>]"
      ]
     },
     "execution_count": 32,
     "metadata": {},
     "output_type": "execute_result"
    }
   ],
   "source": [
    "supplier = Chem.SmilesMolSupplier(smi_files[index], titleLine=False)\n",
    "ligands = [mol for mol in supplier if mol is not None]\n",
    "ligands"
   ]
  },
  {
   "cell_type": "code",
   "execution_count": 33,
   "id": "5f0566d9-1e87-4769-91e3-985eef95ac02",
   "metadata": {},
   "outputs": [
    {
     "name": "stdout",
     "output_type": "stream",
     "text": [
      "SFG number of atoms smi ligand: 27\n"
     ]
    },
    {
     "data": {
      "image/png": "[encoded data removed]",
      "text/plain": [
       "<rdkit.Chem.rdchem.Mol at 0x7f0690c72f80>"
      ]
     },
     "execution_count": 33,
     "metadata": {},
     "output_type": "execute_result"
    }
   ],
   "source": [
    "sfg_smi = ligands[0]\n",
    "print(f\"SFG number of atoms smi ligand: {sfg_smi.GetNumAtoms()}\")\n",
    "sfg_smi"
   ]
  },
  {
   "cell_type": "code",
   "execution_count": 34,
   "id": "f4090670-85ac-48d4-9bc9-6c195bf5ec62",
   "metadata": {},
   "outputs": [
    {
     "name": "stderr",
     "output_type": "stream",
     "text": [
      "[11:42:45] WARNING: More than one matching pattern found - picking one\n",
      "\n"
     ]
    },
    {
     "data": {
      "image/png": "[encoded data removed]",
      "text/plain": [
       "<rdkit.Chem.rdchem.Mol at 0x7f0690b75970>"
      ]
     },
     "execution_count": 34,
     "metadata": {},
     "output_type": "execute_result"
    }
   ],
   "source": [
    "# fixed ligand\n",
    "sfg = Chem.AssignBondOrdersFromTemplate(sfg_smi, sfg_pdb)\n",
    "sfg"
   ]
  },
  {
   "cell_type": "code",
   "execution_count": 35,
   "id": "bae25b9e-fe4e-4709-bf4f-32701e3a0d09",
   "metadata": {},
   "outputs": [],
   "source": [
    "# Save fixed ligand and extracted chain\n",
    "mol_to_sdf(\"./data/3bbh/sfg.sdf\", sfg)\n",
    "traj_3bbh_A.save_pdb(\"./data/3bbh/3bbh_A_chain.pdb\")"
   ]
  },
  {
   "cell_type": "markdown",
   "id": "ebcce10c-96bb-4a98-889d-d490eb673557",
   "metadata": {},
   "source": [
    "## Trypanosoma brucei RNA editing ligase 1 and ATP (aromatic stacking)\n",
    "\n",
    "Pdb id is 1XDN"
   ]
  },
  {
   "cell_type": "code",
   "execution_count": 36,
   "id": "b5e9cf9d-4cc1-4895-a1d1-19257d1fbc4e",
   "metadata": {},
   "outputs": [
    {
     "name": "stdout",
     "output_type": "stream",
     "text": [
      "Num atoms: 2591\n",
      "Num chains: 2\n",
      "Num residues: 707\n"
     ]
    }
   ],
   "source": [
    "index = -1\n",
    "pdb_id = \"1XDN\"\n",
    "traj_1xdn = mdt.load(full_file_path(pdbs[index]))\n",
    "print_traf_info(traj_1xdn)"
   ]
  },
  {
   "cell_type": "code",
   "execution_count": 37,
   "id": "5b80d211-16a2-466f-a39a-effc3326fb35",
   "metadata": {},
   "outputs": [
    {
     "data": {
      "application/vnd.jupyter.widget-view+json": {
       "model_id": "d1d1f825acec446fa54c4439b974a144",
       "version_major": 2,
       "version_minor": 0
      },
      "text/plain": [
       "NGLWidget()"
      ]
     },
     "metadata": {},
     "output_type": "display_data"
    }
   ],
   "source": [
    "nv.show_mdtraj(traj_1xdn)"
   ]
  },
  {
   "cell_type": "code",
   "execution_count": 38,
   "id": "c9b3fef7-d71c-4b95-9480-ac85c45c35f2",
   "metadata": {},
   "outputs": [
    {
     "data": {
      "text/plain": [
       "['ATP:B']"
      ]
     },
     "execution_count": 38,
     "metadata": {},
     "output_type": "execute_result"
    }
   ],
   "source": [
    "pli.find_ligands_in_traj(traj_1xdn)"
   ]
  },
  {
   "cell_type": "markdown",
   "id": "0dbf5ca9-227b-49fa-9fac-4a40ac10c4c3",
   "metadata": {},
   "source": [
    "### Inspect ligand"
   ]
  },
  {
   "cell_type": "code",
   "execution_count": 39,
   "id": "3b610792-471c-40ca-a738-417efe0945c3",
   "metadata": {},
   "outputs": [
    {
     "name": "stdout",
     "output_type": "stream",
     "text": [
      "['ATP_B_chain.pdb']\n"
     ]
    }
   ],
   "source": [
    "print(pdb_ligands[pdb_id])"
   ]
  },
  {
   "cell_type": "code",
   "execution_count": 40,
   "id": "e8c9e450-7f47-4201-a659-5b25994491aa",
   "metadata": {},
   "outputs": [
    {
     "name": "stdout",
     "output_type": "stream",
     "text": [
      "ATP number of atoms pdb ligand: 31\n"
     ]
    },
    {
     "data": {
      "image/png": "[encoded data removed]",
      "text/plain": [
       "<rdkit.Chem.rdchem.Mol at 0x7f0690cb9cb0>"
      ]
     },
     "execution_count": 40,
     "metadata": {},
     "output_type": "execute_result"
    }
   ],
   "source": [
    "atp_pdb = Chem.MolFromPDBFile(os.path.join(data_dir, pdb_id, pdb_ligands[pdb_id][0]))\n",
    "print(f\"ATP number of atoms pdb ligand: {atp_pdb.GetNumAtoms()}\")\n",
    "remove_conformers(atp_pdb)  # Remove conformers for pretty drawing"
   ]
  },
  {
   "cell_type": "code",
   "execution_count": 41,
   "id": "9d24edf2-b276-4439-b060-d3332a0b469c",
   "metadata": {},
   "outputs": [
    {
     "data": {
      "text/plain": [
       "[<rdkit.Chem.rdchem.Mol at 0x7f0690c137b0>,\n",
       " <rdkit.Chem.rdchem.Mol at 0x7f0690c13670>]"
      ]
     },
     "execution_count": 41,
     "metadata": {},
     "output_type": "execute_result"
    }
   ],
   "source": [
    "supplier = Chem.SmilesMolSupplier(smi_files[index], titleLine=False)\n",
    "ligands = [mol for mol in supplier if mol is not None]\n",
    "ligands"
   ]
  },
  {
   "cell_type": "code",
   "execution_count": 42,
   "id": "191d01bd-7026-4c36-abee-1df94a2586f4",
   "metadata": {},
   "outputs": [
    {
     "name": "stdout",
     "output_type": "stream",
     "text": [
      "ATP number of atoms smi ligand: 31\n"
     ]
    },
    {
     "data": {
      "image/png": "[encoded data removed]",
      "text/plain": [
       "<rdkit.Chem.rdchem.Mol at 0x7f0690c13670>"
      ]
     },
     "execution_count": 42,
     "metadata": {},
     "output_type": "execute_result"
    }
   ],
   "source": [
    "atp_smi = ligands[1]\n",
    "print(f\"ATP number of atoms smi ligand: {atp_smi.GetNumAtoms()}\")\n",
    "atp_smi"
   ]
  },
  {
   "cell_type": "code",
   "execution_count": 43,
   "id": "0dccf08f-7032-4e5b-800e-30cf6c419cdc",
   "metadata": {},
   "outputs": [
    {
     "name": "stderr",
     "output_type": "stream",
     "text": [
      "[11:42:45] WARNING: More than one matching pattern found - picking one\n",
      "\n"
     ]
    },
    {
     "data": {
      "image/png": "[encoded data removed]",
      "text/plain": [
       "<rdkit.Chem.rdchem.Mol at 0x7f0690b1ecf0>"
      ]
     },
     "execution_count": 43,
     "metadata": {},
     "output_type": "execute_result"
    }
   ],
   "source": [
    "# fixed ligand\n",
    "atp = Chem.AssignBondOrdersFromTemplate(atp_smi, atp_pdb)\n",
    "atp"
   ]
  },
  {
   "cell_type": "code",
   "execution_count": 44,
   "id": "63b890a5-90fe-4248-ab3f-2e7809990661",
   "metadata": {},
   "outputs": [],
   "source": [
    "# Save fixed ligand and extracted chain\n",
    "mol_to_sdf(\"./data/1xdn/atp.sdf\", atp)\n",
    "traj_1xdn.save_pdb(\"./data/1xdn/1xdn.pdb\")"
   ]
  },
  {
   "cell_type": "markdown",
   "id": "5c3b6830-301a-455f-b591-49858afa6f6b",
   "metadata": {},
   "source": [
    "## ABC-transporter choline binding protein and choline (pi-cation interactions)\n",
    "Pdb id is 2REG"
   ]
  },
  {
   "cell_type": "code",
   "execution_count": 45,
   "id": "3fd24551-29c1-4af5-8d6d-13b33ea1b189",
   "metadata": {},
   "outputs": [
    {
     "name": "stdout",
     "output_type": "stream",
     "text": [
      "Num atoms: 4667\n",
      "Num chains: 6\n",
      "Num residues: 850\n"
     ]
    }
   ],
   "source": [
    "index = 0\n",
    "pdb_id = \"2REG\"\n",
    "traj_2reg = mdt.load(full_file_path(pdbs[index]))\n",
    "print_traf_info(traj_2reg)"
   ]
  },
  {
   "cell_type": "code",
   "execution_count": 46,
   "id": "9bdd9d41-e0c9-45ae-93c8-0131dca94ba7",
   "metadata": {},
   "outputs": [
    {
     "data": {
      "text/plain": [
       "['CHT:C', 'CHT:D']"
      ]
     },
     "execution_count": 46,
     "metadata": {},
     "output_type": "execute_result"
    }
   ],
   "source": [
    "pli.find_ligands_in_traj(traj_2reg)"
   ]
  },
  {
   "cell_type": "code",
   "execution_count": 47,
   "id": "40352031-1edb-4921-bc26-d5bd9ace2125",
   "metadata": {},
   "outputs": [
    {
     "data": {
      "application/vnd.jupyter.widget-view+json": {
       "model_id": "74447c9488f7477eb9535010e595f001",
       "version_major": 2,
       "version_minor": 0
      },
      "text/plain": [
       "NGLWidget()"
      ]
     },
     "metadata": {},
     "output_type": "display_data"
    }
   ],
   "source": [
    "nv.show_mdtraj(traj_2reg)"
   ]
  },
  {
   "cell_type": "code",
   "execution_count": 48,
   "id": "005c39f1-7c23-4c7b-ad48-2f5904c0556f",
   "metadata": {},
   "outputs": [
    {
     "name": "stdout",
     "output_type": "stream",
     "text": [
      "Num atoms: 2203\n",
      "Num chains: 2\n",
      "Num residues: 291\n"
     ]
    }
   ],
   "source": [
    "# Extract a single chain with a ligand\n",
    "chains = [0, 2]\n",
    "traj_2reg_A = traj_2reg.atom_slice(\n",
    "        [atom.index for atom in traj_2reg.topology.atoms if (atom.residue.chain.index in chains)]\n",
    "    )\n",
    "print_traf_info(traj_2reg_A)"
   ]
  },
  {
   "cell_type": "code",
   "execution_count": 49,
   "id": "1ad6eeb8-a27b-4bb9-b526-dc6e48e20ed6",
   "metadata": {},
   "outputs": [
    {
     "data": {
      "application/vnd.jupyter.widget-view+json": {
       "model_id": "c3110a0720c94190923bf9bd3431de35",
       "version_major": 2,
       "version_minor": 0
      },
      "text/plain": [
       "NGLWidget()"
      ]
     },
     "metadata": {},
     "output_type": "display_data"
    }
   ],
   "source": [
    "nv.show_mdtraj(traj_2reg_A)"
   ]
  },
  {
   "cell_type": "markdown",
   "id": "05eb12d6-488c-48b5-bd15-4f20e4b8750e",
   "metadata": {},
   "source": [
    "### Inspect ligands"
   ]
  },
  {
   "cell_type": "code",
   "execution_count": 50,
   "id": "6afabf26-be92-48ff-902b-f8e83f826ca8",
   "metadata": {},
   "outputs": [
    {
     "name": "stdout",
     "output_type": "stream",
     "text": [
      "['CHT_D_chain.pdb', 'CHT_C_chain.pdb']\n"
     ]
    }
   ],
   "source": [
    "print(pdb_ligands[pdb_id])"
   ]
  },
  {
   "cell_type": "code",
   "execution_count": 51,
   "id": "40e7deac-7644-48fa-8876-ff5ba6705812",
   "metadata": {},
   "outputs": [
    {
     "name": "stdout",
     "output_type": "stream",
     "text": [
      "CHT number of atoms pdb ligand: 7\n"
     ]
    },
    {
     "data": {
      "image/png": "[encoded data removed]",
      "text/plain": [
       "<rdkit.Chem.rdchem.Mol at 0x7f06905fb1c0>"
      ]
     },
     "execution_count": 51,
     "metadata": {},
     "output_type": "execute_result"
    }
   ],
   "source": [
    "cht_pdb = Chem.MolFromPDBFile(os.path.join(data_dir, pdb_id, pdb_ligands[pdb_id][-1]))\n",
    "print(f\"CHT number of atoms pdb ligand: {cht_pdb.GetNumAtoms()}\")\n",
    "remove_conformers(cht_pdb)  # Remove conformers for pretty drawing"
   ]
  },
  {
   "cell_type": "code",
   "execution_count": 52,
   "id": "bd411d72-91e8-49ab-89c2-df2e015c619f",
   "metadata": {},
   "outputs": [
    {
     "data": {
      "text/plain": [
       "[<rdkit.Chem.rdchem.Mol at 0x7f06905fba80>]"
      ]
     },
     "execution_count": 52,
     "metadata": {},
     "output_type": "execute_result"
    }
   ],
   "source": [
    "supplier = Chem.SmilesMolSupplier(smi_files[index], titleLine=False)\n",
    "ligands = [mol for mol in supplier if mol is not None]\n",
    "ligands"
   ]
  },
  {
   "cell_type": "code",
   "execution_count": 53,
   "id": "c8bbfa66-8602-4270-a940-40bd6855b34a",
   "metadata": {},
   "outputs": [
    {
     "name": "stdout",
     "output_type": "stream",
     "text": [
      "CHT number of atoms smi ligand: 7\n"
     ]
    },
    {
     "data": {
      "image/png": "[encoded data removed]",
      "text/plain": [
       "<rdkit.Chem.rdchem.Mol at 0x7f06905fba80>"
      ]
     },
     "execution_count": 53,
     "metadata": {},
     "output_type": "execute_result"
    }
   ],
   "source": [
    "cht_smi = ligands[0]\n",
    "print(f\"CHT number of atoms smi ligand: {cht_pdb.GetNumAtoms()}\")\n",
    "cht_smi"
   ]
  },
  {
   "cell_type": "code",
   "execution_count": 54,
   "id": "19da2cf7-f8cd-4ec9-b9d5-a68f43e3d4ce",
   "metadata": {},
   "outputs": [
    {
     "data": {
      "image/png": "[encoded data removed]",
      "text/plain": [
       "<rdkit.Chem.rdchem.Mol at 0x7f06b919c7b0>"
      ]
     },
     "execution_count": 54,
     "metadata": {},
     "output_type": "execute_result"
    }
   ],
   "source": [
    "# This one doesn't need fixing but still...\n",
    "cht = Chem.AssignBondOrdersFromTemplate(cht_smi, cht_pdb)\n",
    "cht"
   ]
  },
  {
   "cell_type": "code",
   "execution_count": 55,
   "id": "8616e49b-d601-475c-a762-04713abf8833",
   "metadata": {},
   "outputs": [],
   "source": [
    "# Save fixed ligand and extracted chain\n",
    "mol_to_sdf(\"./data/2reg/cht.sdf\", cht)\n",
    "traj_2reg_A.save_pdb(\"./data/2reg/2reg.pdb\")"
   ]
  },
  {
   "cell_type": "markdown",
   "id": "ebbd30b0-5541-4819-8c93-e8f0b4412e2a",
   "metadata": {},
   "source": [
    "## Shanghai N9 neuraminidase and oseltamivir carboxylate (salt bridges)\n",
    "\n",
    "PDB id is 4MWW"
   ]
  },
  {
   "cell_type": "code",
   "execution_count": 56,
   "id": "1e78d2d8-6883-4bea-b15b-81ace9bf244b",
   "metadata": {},
   "outputs": [
    {
     "name": "stdout",
     "output_type": "stream",
     "text": [
      "Num atoms: 3698\n",
      "Num chains: 3\n",
      "Num residues: 892\n"
     ]
    }
   ],
   "source": [
    "index = 2\n",
    "pdb_id = \"4MWW\"\n",
    "traj_4mmw = mdt.load(full_file_path(pdbs[index]))\n",
    "print_traf_info(traj_4mmw)"
   ]
  },
  {
   "cell_type": "code",
   "execution_count": 57,
   "id": "1df4467d-0ffa-4a8a-aa71-64e0e075597b",
   "metadata": {},
   "outputs": [
    {
     "data": {
      "text/plain": [
       "['NAG:B', 'BMA:B', 'MAN:B', 'NAG:C', 'G39:C']"
      ]
     },
     "execution_count": 57,
     "metadata": {},
     "output_type": "execute_result"
    }
   ],
   "source": [
    "pli.find_ligands_in_traj(traj_4mmw)"
   ]
  },
  {
   "cell_type": "code",
   "execution_count": 58,
   "id": "657e6d55-b47b-408c-91a0-be077c364251",
   "metadata": {},
   "outputs": [
    {
     "data": {
      "application/vnd.jupyter.widget-view+json": {
       "model_id": "e5ee66383d354cab97565e7589ab654b",
       "version_major": 2,
       "version_minor": 0
      },
      "text/plain": [
       "NGLWidget()"
      ]
     },
     "metadata": {},
     "output_type": "display_data"
    }
   ],
   "source": [
    "nv.show_mdtraj(traj_4mmw)"
   ]
  },
  {
   "cell_type": "code",
   "execution_count": 59,
   "id": "15727baf-cafc-426a-8106-20808b5c0318",
   "metadata": {},
   "outputs": [
    {
     "name": "stdout",
     "output_type": "stream",
     "text": [
      "Num atoms: 3073\n",
      "Num chains: 2\n",
      "Num residues: 389\n"
     ]
    }
   ],
   "source": [
    "# Extract the protein with the G39 ligand\n",
    "atom_indices = []\n",
    "\n",
    "for atom in traj_4mmw.topology.atoms:\n",
    "    if atom.residue.chain.index == 0 or \\\n",
    "        atom.residue.name == \"G39\":\n",
    "        atom_indices.append(atom.index)\n",
    "\n",
    "traj_4mmw = traj_4mmw.atom_slice(atom_indices)\n",
    "print_traf_info(traj_4mmw)"
   ]
  },
  {
   "cell_type": "code",
   "execution_count": 60,
   "id": "4984b9f2-9b45-4adb-a78b-474901b5e309",
   "metadata": {},
   "outputs": [
    {
     "data": {
      "application/vnd.jupyter.widget-view+json": {
       "model_id": "4efa6f6b6e794aa39fc5073d2de1c3db",
       "version_major": 2,
       "version_minor": 0
      },
      "text/plain": [
       "NGLWidget()"
      ]
     },
     "metadata": {},
     "output_type": "display_data"
    }
   ],
   "source": [
    "nv.show_mdtraj(traj_4mmw)"
   ]
  },
  {
   "cell_type": "markdown",
   "id": "3f2b442d-aeb3-48f5-ace3-68ffc70049d6",
   "metadata": {},
   "source": [
    "### Inspect the ligandprint(pdb_ligands[pdb_id])"
   ]
  },
  {
   "cell_type": "code",
   "execution_count": 61,
   "id": "73b3debe-bd1d-45cb-b138-21334014b057",
   "metadata": {},
   "outputs": [
    {
     "name": "stdout",
     "output_type": "stream",
     "text": [
      "['BMA_B_chain.pdb', 'NAG_B_chain.pdb', 'NAG_C_chain.pdb', 'MAN_B_chain.pdb', 'G39_C_chain.pdb']\n"
     ]
    }
   ],
   "source": [
    "print(pdb_ligands[pdb_id])"
   ]
  },
  {
   "cell_type": "code",
   "execution_count": 62,
   "id": "21daafeb-c668-4439-a9b7-12a189330f15",
   "metadata": {},
   "outputs": [
    {
     "name": "stdout",
     "output_type": "stream",
     "text": [
      "G39 number of atoms pdb ligand: 20\n"
     ]
    },
    {
     "data": {
      "image/png": "[encoded data removed]",
      "text/plain": [
       "<rdkit.Chem.rdchem.Mol at 0x7f0690226030>"
      ]
     },
     "execution_count": 62,
     "metadata": {},
     "output_type": "execute_result"
    }
   ],
   "source": [
    "g39_pdb = Chem.MolFromPDBFile(os.path.join(data_dir, pdb_id, pdb_ligands[pdb_id][-1]))\n",
    "print(f\"G39 number of atoms pdb ligand: {g39_pdb.GetNumAtoms()}\")\n",
    "remove_conformers(g39_pdb)  # Remove conformers for pretty drawing"
   ]
  },
  {
   "cell_type": "code",
   "execution_count": 63,
   "id": "155af8fa-51ad-4fce-8fdb-d6cbcf4f53fb",
   "metadata": {},
   "outputs": [
    {
     "data": {
      "text/plain": [
       "[<rdkit.Chem.rdchem.Mol at 0x7f0690226b20>,\n",
       " <rdkit.Chem.rdchem.Mol at 0x7f0690226a30>,\n",
       " <rdkit.Chem.rdchem.Mol at 0x7f0690226bc0>,\n",
       " <rdkit.Chem.rdchem.Mol at 0x7f0690226ad0>]"
      ]
     },
     "execution_count": 63,
     "metadata": {},
     "output_type": "execute_result"
    }
   ],
   "source": [
    "supplier = Chem.SmilesMolSupplier(smi_files[index], titleLine=False)\n",
    "ligands = [mol for mol in supplier if mol is not None]\n",
    "ligands"
   ]
  },
  {
   "cell_type": "code",
   "execution_count": 64,
   "id": "28dda06f-95b6-4c74-ae2b-860074f93e37",
   "metadata": {},
   "outputs": [
    {
     "name": "stdout",
     "output_type": "stream",
     "text": [
      "G39 number of atoms smi ligand: 20\n"
     ]
    },
    {
     "data": {
      "image/png": "[encoded data removed]",
      "text/plain": [
       "<rdkit.Chem.rdchem.Mol at 0x7f069022d4e0>"
      ]
     },
     "execution_count": 64,
     "metadata": {},
     "output_type": "execute_result"
    }
   ],
   "source": [
    "g39_smi = ligands[-1]\n",
    "print(f\"G39 number of atoms smi ligand: {g39_smi.GetNumAtoms()}\")\n",
    "remove_conformers(g39_smi)  # Remove conformers for pretty drawing"
   ]
  },
  {
   "cell_type": "code",
   "execution_count": 65,
   "id": "932d7665-208b-4350-a613-8d8177748621",
   "metadata": {},
   "outputs": [
    {
     "name": "stderr",
     "output_type": "stream",
     "text": [
      "[11:42:46] WARNING: More than one matching pattern found - picking one\n",
      "\n"
     ]
    },
    {
     "data": {
      "image/png": "[encoded data removed]",
      "text/plain": [
       "<rdkit.Chem.rdchem.Mol at 0x7f0690534170>"
      ]
     },
     "execution_count": 65,
     "metadata": {},
     "output_type": "execute_result"
    }
   ],
   "source": [
    "# Fixed_ligand\n",
    "g39 = Chem.AssignBondOrdersFromTemplate(g39_smi, g39_pdb)\n",
    "g39"
   ]
  },
  {
   "cell_type": "code",
   "execution_count": 66,
   "id": "fb6231e0-9fea-4e8d-a0dd-f344459a0e1e",
   "metadata": {},
   "outputs": [],
   "source": [
    "# Save fixed ligand and extracted chain\n",
    "mol_to_sdf(\"./data/4mww/g39.sdf\", g39)\n",
    "traj_2reg_A.save_pdb(\"./data/4mww/4mww.pdb\")"
   ]
  }
 ],
 "metadata": {
  "kernelspec": {
   "display_name": "Python 3 (ipykernel)",
   "language": "python",
   "name": "python3"
  },
  "language_info": {
   "codemirror_mode": {
    "name": "ipython",
    "version": 3
   },
   "file_extension": ".py",
   "mimetype": "text/x-python",
   "name": "python",
   "nbconvert_exporter": "python",
   "pygments_lexer": "ipython3",
   "version": "3.7.12"
  }
 },
 "nbformat": 4,
 "nbformat_minor": 5
}
