{
 "cells": [
  {
   "cell_type": "markdown",
   "id": "08cd708c-de9d-468c-aa3d-61106d9ede99",
   "metadata": {},
   "source": [
    "# Comparison of chemical features\n",
    "\n",
    "A comparisson of chemical features obtained in a molecule ussing smarts patterns and rdkit\n",
    "feature factory."
   ]
  },
  {
   "cell_type": "code",
   "execution_count": 1,
   "id": "068feac1-1e23-407a-babd-fd8fb240c989",
   "metadata": {},
   "outputs": [
    {
     "data": {
      "application/vnd.jupyter.widget-view+json": {
       "model_id": "6084a5f7d9ce425ab04ff10abc6f9b1b",
       "version_major": 2,
       "version_minor": 0
      },
      "text/plain": []
     },
     "metadata": {},
     "output_type": "display_data"
    }
   ],
   "source": [
    "import openpharmacophore.pharmacophore.pl_interactions as pli\n",
    "from rdkit import RDConfig, Chem\n",
    "from rdkit.Chem import ChemicalFeatures\n",
    "from rdkit.Chem.AllChem import EmbedMultipleConfs\n",
    "import numpy as np\n",
    "import nglview as nv\n",
    "\n",
    "from view_feats import add_features_to_view\n",
    "\n",
    "from collections import defaultdict\n",
    "import os"
   ]
  },
  {
   "cell_type": "code",
   "execution_count": 2,
   "id": "5985cf80-a52a-4bfa-aa58-f6d266e89ca8",
   "metadata": {},
   "outputs": [],
   "source": [
    "def get_chemical_features(molecule):\n",
    "    \"\"\" Find chemical features in a molecule using rdkit feature factory.\n",
    "    \n",
    "        Returns\n",
    "        -------\n",
    "        dict[str, list[np.ndarray]]\n",
    "    \"\"\"\n",
    "    features = defaultdict(list)\n",
    "    # Use rdkit feature factory\n",
    "    fdefName = os.path.join(RDConfig.RDDataDir, 'BaseFeatures.fdef')\n",
    "    featdef = ChemicalFeatures.BuildFeatureFactory(fdefName)\n",
    "    chemical_features = featdef.GetFeaturesForMol(molecule)\n",
    "    for feature in chemical_features:\n",
    "        feat_name = feature.GetFamily()\n",
    "        atom_indices = feature.GetAtomIds()\n",
    "        if len(atom_indices) > 0:\n",
    "            features[feat_name].append(atom_indices)\n",
    "\n",
    "    return features\n",
    "\n",
    "\n",
    "def get_feature_coords(ligand, atom_indices, conformer_index):\n",
    "    \"\"\" Obtain the coordinates and if specified the directionality of a chemical feature.\n",
    "\n",
    "        Parameters\n",
    "        ----------\n",
    "        ligand : rdkit.Chem.Mol\n",
    "            A ligand\n",
    "\n",
    "        conformer_index : int\n",
    "            The conformer whose coordinates will be used to obtain the pharmacophoric\n",
    "            points.\n",
    "\n",
    "        Returns\n",
    "        -------\n",
    "        coords : np.ndarray of shape (3,)\n",
    "\n",
    "\n",
    "    \"\"\"\n",
    "    if len(atom_indices) > 1:\n",
    "        # Find the centroid\n",
    "        # Aromatic, hydrophobic, positive or negative feature\n",
    "        coords = _feature_centroid(ligand, atom_indices, conformer_index)\n",
    "        # Find direction vector\n",
    "    else:\n",
    "        # Find the centroid\n",
    "        # Donor or acceptor feature\n",
    "        position = ligand.GetConformer(conformer_index).GetAtomPosition(atom_indices[0])\n",
    "        coords = np.zeros((3,))\n",
    "        coords[0] = position.x\n",
    "        coords[1] = position.y\n",
    "        coords[2] = position.z\n",
    "    return coords\n",
    "\n",
    "\n",
    "def _feature_centroid(molecule, atom_indxs, conformer_index):\n",
    "    \"\"\"\n",
    "        Get the 3D coordinates of the centroid of a feature that encompasses more than\n",
    "        one atom. This could be aromatic, hydrophobic, negative and positive features\n",
    "\n",
    "        Parameters\n",
    "        ----------\n",
    "        molecule : rdkit.Chem.Mol\n",
    "                Molecule that contains the feature which centroid will be computed\n",
    "\n",
    "        atom_indxs : tuple of int\n",
    "                Indices of the atoms that belong to the feature\n",
    "\n",
    "        conformer_index : int\n",
    "                Index of the conformer for which the feature centroid will be computed\n",
    "\n",
    "        Returns\n",
    "        -------\n",
    "        centroid : numpy.ndarray of shape (3, )\n",
    "            Array with the coordinates of the centroid of the feature.\n",
    "\n",
    "    \"\"\"\n",
    "\n",
    "    n_atoms = len(atom_indxs)\n",
    "    coords = np.zeros((n_atoms, 3))\n",
    "    for j, idx in enumerate(atom_indxs):\n",
    "        position = molecule.GetConformer(conformer_index).GetAtomPosition(idx)\n",
    "        coords[j, 0] = position.x\n",
    "        coords[j, 1] = position.y\n",
    "        coords[j, 2] = position.z\n",
    "\n",
    "    centroid = coords.mean(axis=0)\n",
    "\n",
    "    return centroid\n",
    "\n",
    "\n",
    "def features_centroid(features, molecule):\n",
    "    \"\"\" Get the centroid of the features. \"\"\"\n",
    "    centroids = defaultdict(list)\n",
    "    for feat_name, all_indices in features.items():\n",
    "        for indices in all_indices:\n",
    "            centroids[feat_name].append(get_feature_coords(molecule, indices, 0))\n",
    "    \n",
    "    return centroids\n",
    "    "
   ]
  },
  {
   "cell_type": "code",
   "execution_count": 3,
   "id": "06cc62e1-3ad0-4905-b4d7-91e5f6761097",
   "metadata": {},
   "outputs": [
    {
     "data": {
      "image/png": "[encoded data removed]",
      "text/plain": [
       "<rdkit.Chem.rdchem.Mol at 0x7fcd546ea800>"
      ]
     },
     "execution_count": 3,
     "metadata": {},
     "output_type": "execute_result"
    }
   ],
   "source": [
    "ligand = Chem.MolFromSmiles(\"C[C@]12CC[C@@H]3c4ccc(cc4CC[C@H]3[C@@H]1CC[C@@H]2O)O\")\n",
    "ligand"
   ]
  },
  {
   "cell_type": "code",
   "execution_count": 4,
   "id": "38808f96-2b61-4d16-94db-a9e77f4251fc",
   "metadata": {},
   "outputs": [
    {
     "data": {
      "text/plain": [
       "1"
      ]
     },
     "execution_count": 4,
     "metadata": {},
     "output_type": "execute_result"
    }
   ],
   "source": [
    "# Generate a conformer to visualize in 3D\n",
    "ligand = Chem.AddHs(ligand)\n",
    "EmbedMultipleConfs(ligand, 1)\n",
    "ligand.GetNumConformers()"
   ]
  },
  {
   "cell_type": "markdown",
   "id": "1fe71520-e79d-413b-b357-3b05ff4a3c90",
   "metadata": {},
   "source": [
    "## Rdkit feature factory"
   ]
  },
  {
   "cell_type": "code",
   "execution_count": 5,
   "id": "cbf48dad-2b75-4a7c-b01a-9ace8a3781d1",
   "metadata": {},
   "outputs": [],
   "source": [
    "rd_factory_feats_indices = get_chemical_features(ligand)\n",
    "rd_factory_feats_center = features_centroid(rd_factory_feats_indices, ligand)"
   ]
  },
  {
   "cell_type": "code",
   "execution_count": 6,
   "id": "5147402b-35e4-4182-a417-223aa2a38428",
   "metadata": {},
   "outputs": [
    {
     "data": {
      "text/plain": [
       "defaultdict(list,\n",
       "            {'Donor': [array([-4.31434157,  1.46806293,  0.30578931]),\n",
       "              array([ 6.21400912,  0.27476309, -0.55121611])],\n",
       "             'Acceptor': [array([-4.31434157,  1.46806293,  0.30578931]),\n",
       "              array([ 6.21400912,  0.27476309, -0.55121611])],\n",
       "             'Aromatic': [array([3.4812325 , 0.23486694, 0.11676157])],\n",
       "             'Hydrophobe': [array([-2.43822886,  0.71161864, -1.45066069]),\n",
       "              array([-2.07535356,  0.70016814,  0.0200952 ]),\n",
       "              array([-1.22254293,  1.82364075,  0.4139686 ]),\n",
       "              array([0.09803061, 1.55032859, 0.99986211]),\n",
       "              array([0.70432263, 0.21651293, 0.81118092]),\n",
       "              array([2.12620352, 0.20970865, 0.44409856]),\n",
       "              array([2.94189617, 1.19019846, 0.93749936]),\n",
       "              array([4.29969457, 1.21498978, 0.60917473]),\n",
       "              array([ 4.00442577, -0.71522423, -0.69610551]),\n",
       "              array([ 2.66048962, -0.74939604, -0.37801629]),\n",
       "              array([ 1.86289301, -1.85603767, -0.96531332]),\n",
       "              array([ 0.53584868, -2.02481524, -0.25245405]),\n",
       "              array([-0.11068492, -0.68524473, -0.13871177]),\n",
       "              array([-1.45881938, -0.64486729,  0.42705916]),\n",
       "              array([-2.48551892, -1.5730788 , -0.04094306]),\n",
       "              array([-3.78004423, -0.87398799,  0.37604537])],\n",
       "             'LumpedHydrophobe': [array([-0.67750793,  0.49342306,  0.42224237]),\n",
       "              array([ 1.29651209, -0.81487868, -0.07986933]),\n",
       "              array([3.4812325 , 0.23486694, 0.11676157])]})"
      ]
     },
     "execution_count": 6,
     "metadata": {},
     "output_type": "execute_result"
    }
   ],
   "source": [
    "rd_factory_feats_center"
   ]
  },
  {
   "cell_type": "markdown",
   "id": "3d52f30e-e8a4-4859-88ef-b0a7f3a7fba6",
   "metadata": {},
   "source": [
    "<strong>Note: The ligand has a donor and an acceptor with the same coordinates.</strong>"
   ]
  },
  {
   "cell_type": "code",
   "execution_count": 7,
   "id": "b9f84ba0-da78-4e89-b88c-39774a673c26",
   "metadata": {},
   "outputs": [
    {
     "data": {
      "application/vnd.jupyter.widget-view+json": {
       "model_id": "f81a920f1de04705b751ec8f61a404da",
       "version_major": 2,
       "version_minor": 0
      },
      "text/plain": [
       "NGLWidget()"
      ]
     },
     "metadata": {},
     "output_type": "display_data"
    }
   ],
   "source": [
    "view_rd_factory = nv.show_rdkit(ligand)\n",
    "add_features_to_view(view_rd_factory, rd_factory_feats_center, convert=False)\n",
    "view_rd_factory"
   ]
  },
  {
   "cell_type": "markdown",
   "id": "0f67c374-e827-4016-9472-63a2c38552a1",
   "metadata": {},
   "source": [
    "## Smart patterns"
   ]
  },
  {
   "cell_type": "code",
   "execution_count": 8,
   "id": "692d09ad-928a-49f5-aa39-57bb931e30e5",
   "metadata": {},
   "outputs": [],
   "source": [
    "smarts_feat_indices = pli.chemical_features(ligand, pli.smarts_feat_def)\n",
    "smarts_feat_centroid = features_centroid(smarts_feat_indices, ligand)"
   ]
  },
  {
   "cell_type": "code",
   "execution_count": 15,
   "id": "c205aeec-c04d-4765-ad21-b1270aa96139",
   "metadata": {},
   "outputs": [
    {
     "data": {
      "text/plain": [
       "defaultdict(list,\n",
       "            {'Donor': [(18,), (19,)],\n",
       "             'Hydrophobe': [(0,), (1, 14, 15, 16, 17)],\n",
       "             'Acceptor': [(18,), (19,)],\n",
       "             'Aromatic': [(5, 6, 7, 8, 9, 10)]})"
      ]
     },
     "execution_count": 15,
     "metadata": {},
     "output_type": "execute_result"
    }
   ],
   "source": [
    "smarts_feat_indices"
   ]
  },
  {
   "cell_type": "code",
   "execution_count": 9,
   "id": "d0e1383b-2001-4452-a2b4-f43ad392aa15",
   "metadata": {},
   "outputs": [
    {
     "data": {
      "application/vnd.jupyter.widget-view+json": {
       "model_id": "4190a5d28b0540dc9f6100af11f4407a",
       "version_major": 2,
       "version_minor": 0
      },
      "text/plain": [
       "NGLWidget()"
      ]
     },
     "metadata": {},
     "output_type": "display_data"
    }
   ],
   "source": [
    "view_smarts = nv.show_rdkit(ligand)\n",
    "add_features_to_view(view_smarts, smarts_feat_centroid, convert=False)\n",
    "view_smarts"
   ]
  },
  {
   "cell_type": "markdown",
   "id": "bb1e91c1-413e-4774-901b-28f28add8b55",
   "metadata": {},
   "source": [
    "### Smart patterns from pharmer"
   ]
  },
  {
   "cell_type": "code",
   "execution_count": 10,
   "id": "bef2736b-f4a3-4b8a-be48-7695b3768976",
   "metadata": {},
   "outputs": [],
   "source": [
    "smarts_pharmer = {'*([CH3X4,CH2X3,CH1X2,F,Cl,Br,I])([CH3X4,CH2X3,CH1X2,F,Cl,Br,I])[CH3X4,CH2X3,CH1X2,F,Cl,Br,I]': 'Hydrophobe',\n",
    " 'C(=O)N[OH1,O-,OX1]': 'NegIonizable',\n",
    " 'C(=O)N[OH1,O-]': 'NegIonizable',\n",
    " 'C(=O)[O-,OH,OX1]': 'NegIonizable',\n",
    " 'CO(=N[OH1,O-])': 'NegIonizable',\n",
    " '[#16!H0]': 'Donor',\n",
    " '[#7!H0&!$(N-[SX4](=O)(=O)[CX4](F)(F)F)]': 'Donor',\n",
    " '[#7&!$([nX3])&!$([NX3]-*=[!#6])&!$([NX3]-[a])&!$([NX4])&!$(N=C([C,N])N)]': 'Acceptor',\n",
    " '[#8!H0&!$([OH][C,S,P]=O)]': 'Donor',\n",
    " '[$(*([CH3X4,CH2X3,CH1X2,F,Cl,Br,I])[CH3X4,CH2X3,CH1X2,F,Cl,Br,I])&!$(*([CH3X4,CH2X3,CH1X2,F,Cl,Br,I])([CH3X4,CH2X3,CH1X2,F,Cl,Br,I])[CH3X4,CH2X3,CH1X2,F,Cl,Br,I])]([CH3X4,CH2X3,CH1X2,F,Cl,Br,I])[CH3X4,CH2X3,CH1X2,F,Cl,Br,I]': 'Hydrophobe',\n",
    " '[$(C(N)(N)=N)]': 'PosIonizable',\n",
    " '[$(CC)](=N)N': 'PosIonizable',\n",
    " '[$(N-[SX4](=O)(=O)[CX4](F)(F)F)]': 'NegIonizable',\n",
    " '[$([CH2X4,CH1X3,CH0X2]~[$([!#1]);!$([CH2X4,CH1X3,CH0X2])])]~[CH2X4,CH1X3,CH0X2]~[CH2X4,CH1X3,CH0X2]': 'Hydrophobe',\n",
    " '[$([CH2X4,CH1X3,CH0X2]~[CH2X4,CH1X3,CH0X2]~[$([CH2X4,CH1X3,CH0X2]~[$([!#1]);!$([CH2X4,CH1X3,CH0X2])])])]~[CH2X4,CH1X3,CH0X2]~[CH2X4,CH1X3,CH0X2]~[CH2X4,CH1X3,CH0X2]': 'Hydrophobe',\n",
    " '[$([CH3X4,CH2X3,CH1X2,F,Cl,Br,I])&!$(**[CH3X4,CH2X3,CH1X2,F,Cl,Br,I])]': 'Hydrophobe',\n",
    " '[$([O])&!$([OX2](C)C=O)&!$(*(~a)~a)]': 'Acceptor',\n",
    " '[$([S,P](=O)[O-,OH,OX1])]': 'NegIonizable',\n",
    " '[$([S]~[#6])&!$(S~[!#6])]': 'Hydrophobe',\n",
    " '[$(n1cc[nH]c1)]': 'PosIonizable',\n",
    " '[+,+2,+3,+4]': 'PosIonizable',\n",
    " '[-,-2,-3,-4]': 'NegIonizable',\n",
    " '[C&r3]1~[C&r3]~[C&r3]1': 'Hydrophobe',\n",
    " '[C&r4]1~[C&r4]~[C&r4]~[C&r4]1': 'Hydrophobe',\n",
    " '[C&r5]1~[C&r5]~[C&r5]~[C&r5]~[C&r5]1': 'Hydrophobe',\n",
    " '[C&r6]1~[C&r6]~[C&r6]~[C&r6]~[C&r6]~[C&r6]1': 'Hydrophobe',\n",
    " '[C&r7]1~[C&r7]~[C&r7]~[C&r7]~[C&r7]~[C&r7]~[C&r7]1': 'Hydrophobe',\n",
    " '[C&r8]1~[C&r8]~[C&r8]~[C&r8]~[C&r8]~[C&r8]~[C&r8]~[C&r8]1': 'Hydrophobe',\n",
    " '[CH2X4,CH1X3,CH0X2]~[CH3X4,CH2X3,CH1X2,F,Cl,Br,I]': 'Hydrophobe',\n",
    " 'a1aaaa1': 'Aromatic',\n",
    " 'a1aaaaa1': 'Aromatic',\n",
    " 'c1[nH1]nnn1': 'NegIonizable',\n",
    " 'c1nn[nH1]n1': 'NegIonizable',\n",
    "}"
   ]
  },
  {
   "cell_type": "code",
   "execution_count": 11,
   "id": "46ead5a8-2de8-4c2a-8a06-946e521a47c2",
   "metadata": {},
   "outputs": [],
   "source": [
    "pharmer_feat_indices = pli.chemical_features(ligand, smarts_pharmer)\n",
    "pharmer_feat_centroid = features_centroid(pharmer_feat_indices, ligand)"
   ]
  },
  {
   "cell_type": "code",
   "execution_count": 12,
   "id": "f902e7f6-c646-4da9-807f-d91b508be354",
   "metadata": {},
   "outputs": [
    {
     "data": {
      "application/vnd.jupyter.widget-view+json": {
       "model_id": "8432a8fab78a4a0c805b0c22d1a35361",
       "version_major": 2,
       "version_minor": 0
      },
      "text/plain": [
       "NGLWidget()"
      ]
     },
     "metadata": {},
     "output_type": "display_data"
    }
   ],
   "source": [
    "view_pharmer = nv.show_rdkit(ligand)\n",
    "add_features_to_view(view_pharmer, pharmer_feat_centroid, convert=False)\n",
    "view_pharmer"
   ]
  }
 ],
 "metadata": {
  "kernelspec": {
   "display_name": "Python 3 (ipykernel)",
   "language": "python",
   "name": "python3"
  },
  "language_info": {
   "codemirror_mode": {
    "name": "ipython",
    "version": 3
   },
   "file_extension": ".py",
   "mimetype": "text/x-python",
   "name": "python",
   "nbconvert_exporter": "python",
   "pygments_lexer": "ipython3",
   "version": "3.7.12"
  }
 },
 "nbformat": 4,
 "nbformat_minor": 5
}
