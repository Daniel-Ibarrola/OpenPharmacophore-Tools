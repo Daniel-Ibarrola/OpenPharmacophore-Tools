{
 "cells": [
  {
   "cell_type": "markdown",
   "id": "ac3a3754-9fc9-49d4-a98a-575762023fff",
   "metadata": {},
   "source": [
    "# Adding Hydrogens\n",
    "\n",
    "To find hydrogen bonds between ligands and proteins, both the protein and the ligand must have hydrogens.\n",
    "\n",
    "In this notebook we explore different ways of adding hydrogens"
   ]
  },
  {
   "cell_type": "code",
   "execution_count": 1,
   "id": "4168dc7b-3731-4d1b-8f44-bdc238851b14",
   "metadata": {},
   "outputs": [
    {
     "data": {
      "application/vnd.jupyter.widget-view+json": {
       "model_id": "353d8d74178c43e98b308fabf72144b9",
       "version_major": 2,
       "version_minor": 0
      },
      "text/plain": []
     },
     "metadata": {},
     "output_type": "display_data"
    }
   ],
   "source": [
    "import mdtraj as mdt\n",
    "import nglview as nv\n",
    "import numpy as np\n",
    "import openpharmacophore\n",
    "from openmm.app import Modeller, PDBFile\n",
    "from pdbfixer import PDBFixer\n",
    "import pyunitwizard as puw\n",
    "from rdkit import Chem\n",
    "\n",
    "import pl_interactions as pli\n",
    "import view_feats\n",
    "\n",
    "from pprint import pprint"
   ]
  },
  {
   "cell_type": "code",
   "execution_count": 2,
   "id": "9920b041-2f30-4d93-981c-e804229638fd",
   "metadata": {},
   "outputs": [],
   "source": [
    "pdb_path = \"./data/3bbh/3bbh_A_chain.pdb\""
   ]
  },
  {
   "cell_type": "code",
   "execution_count": 3,
   "id": "d0cc281a-dbb6-45ef-845a-f05fc994ea77",
   "metadata": {},
   "outputs": [
    {
     "name": "stdout",
     "output_type": "stream",
     "text": [
      "Traj contains 0 hydrogens\n"
     ]
    }
   ],
   "source": [
    "# Count hydrogens in original file\n",
    "traj = mdt.load(pdb_path)\n",
    "n_hydrogens = len([a for a in traj.topology.atoms if a.element.symbol == \"H\"])\n",
    "print(f\"Traj contains {n_hydrogens} hydrogens\")"
   ]
  },
  {
   "cell_type": "markdown",
   "id": "c0fb5b38-2822-4e0d-b492-6731410a103f",
   "metadata": {
    "tags": []
   },
   "source": [
    "## Adding H's with PDBFixer"
   ]
  },
  {
   "cell_type": "code",
   "execution_count": 4,
   "id": "62d2257e-fecc-4a3f-8f6b-3d618c59d692",
   "metadata": {},
   "outputs": [],
   "source": [
    "fixer = PDBFixer(pdb_path)\n",
    "fixer.addMissingHydrogens()\n",
    "PDBFile.writeFile(fixer.topology, \n",
    "                  fixer.positions, \n",
    "                  open(\"./data/3bbh/3bbh_A_hyd.pdb\", \"w\"))"
   ]
  },
  {
   "cell_type": "code",
   "execution_count": 5,
   "id": "1359ac7a-929a-4623-a046-26ac4c2039dd",
   "metadata": {},
   "outputs": [
    {
     "name": "stdout",
     "output_type": "stream",
     "text": [
      "Traj contains 1780 hydrogens\n"
     ]
    }
   ],
   "source": [
    "traj = mdt.load(\"./data/3bbh/3bbh_A_hyd.pdb\")\n",
    "n_hydrogens = len([a for a in traj.topology.atoms if a.element.symbol == \"H\"])\n",
    "print(f\"Traj contains {n_hydrogens} hydrogens\")"
   ]
  },
  {
   "cell_type": "code",
   "execution_count": 6,
   "id": "dae4e8fb-8ebf-4c0d-84d5-bb11725d243c",
   "metadata": {},
   "outputs": [
    {
     "data": {
      "text/plain": [
       "['SFG:B']"
      ]
     },
     "execution_count": 6,
     "metadata": {},
     "output_type": "execute_result"
    }
   ],
   "source": [
    "pli.find_ligands_in_traj(traj)"
   ]
  },
  {
   "cell_type": "code",
   "execution_count": 7,
   "id": "c2059484-5979-43b3-bd16-56da1722815b",
   "metadata": {},
   "outputs": [
    {
     "name": "stdout",
     "output_type": "stream",
     "text": [
      "Ligand contains 0 hydrogens\n"
     ]
    }
   ],
   "source": [
    "lig_indices = [a.index for a in traj.topology.atoms if a.residue.name == \"SFG\"]\n",
    "n_hydrogens = len([\n",
    "    a for a in lig_indices if traj.topology.atom(a).element.symbol == \"H\"])\n",
    "print(f\"Ligand contains {n_hydrogens} hydrogens\")"
   ]
  },
  {
   "cell_type": "code",
   "execution_count": 8,
   "id": "172f8f89-88a5-41a0-abb7-295a00966597",
   "metadata": {},
   "outputs": [
    {
     "data": {
      "application/vnd.jupyter.widget-view+json": {
       "model_id": "da7573855c8e49898e21bcf22474058b",
       "version_major": 2,
       "version_minor": 0
      },
      "text/plain": [
       "NGLWidget()"
      ]
     },
     "metadata": {},
     "output_type": "display_data"
    }
   ],
   "source": [
    "view = nv.show_mdtraj(traj)\n",
    "view.representations = [\n",
    "     {\"type\": \"ball+stick\", \n",
    "      \"params\": {\n",
    "          \"sele\": \"protein\",\n",
    "      }}\n",
    "]\n",
    "\n",
    "view"
   ]
  },
  {
   "cell_type": "markdown",
   "id": "cfa59f26-e2cd-4f4a-a198-4f52e9e24c2f",
   "metadata": {
    "tags": []
   },
   "source": [
    "## Adding hydrogens to the ligand"
   ]
  },
  {
   "cell_type": "code",
   "execution_count": 9,
   "id": "a330246e-6e72-4ef2-a9c0-7d2757b9d378",
   "metadata": {},
   "outputs": [
    {
     "data": {
      "image/png": "[encoded data removed]",
      "text/plain": [
       "<rdkit.Chem.rdchem.Mol at 0x7fae60d28f30>"
      ]
     },
     "execution_count": 9,
     "metadata": {},
     "output_type": "execute_result"
    }
   ],
   "source": [
    "supplier = Chem.SDMolSupplier(\"./data/3bbh/sfg.sdf\")\n",
    "ligand = next(supplier)\n",
    "ligand"
   ]
  },
  {
   "cell_type": "code",
   "execution_count": 10,
   "id": "41eb7d20-3796-49fe-876d-5398d7f3e1ee",
   "metadata": {},
   "outputs": [
    {
     "data": {
      "application/vnd.jupyter.widget-view+json": {
       "model_id": "c3f029269ce94feb8ce1b97f6a870882",
       "version_major": 2,
       "version_minor": 0
      },
      "text/plain": [
       "NGLWidget()"
      ]
     },
     "metadata": {},
     "output_type": "display_data"
    }
   ],
   "source": [
    "ligand_hyd = Chem.AddHs(ligand, addCoords=True)\n",
    "nv.show_rdkit(ligand_hyd)"
   ]
  },
  {
   "cell_type": "code",
   "execution_count": 11,
   "id": "3877c94c-c6fe-4571-92e2-5f1c6f08a35f",
   "metadata": {},
   "outputs": [
    {
     "name": "stdout",
     "output_type": "stream",
     "text": [
      "Ligand contains 23 hydrogens\n"
     ]
    }
   ],
   "source": [
    "n_hydrogens = len([a for a in ligand_hyd.GetAtoms() if a.GetSymbol() == \"H\"])\n",
    "print(f\"Ligand contains {n_hydrogens} hydrogens\")"
   ]
  },
  {
   "cell_type": "code",
   "execution_count": 12,
   "id": "7dd058ae-13c9-4dc3-a278-1d7bfaaa82e6",
   "metadata": {},
   "outputs": [
    {
     "name": "stdout",
     "output_type": "stream",
     "text": [
      "defaultdict(<class 'list'>,\n",
      "            {'Acceptor': [(0,),\n",
      "                          (8,),\n",
      "                          (19,),\n",
      "                          (23,),\n",
      "                          (25,),\n",
      "                          (3,),\n",
      "                          (4,),\n",
      "                          (11,),\n",
      "                          (13,),\n",
      "                          (15,)],\n",
      "             'Aromatic': [(17, 18, 19, 20, 26), (20, 21, 23, 24, 25, 26)],\n",
      "             'Donor': [(0,), (8,), (22,), (13,), (15,)],\n",
      "             'NegIonizable': [(2, 3, 4)]})\n"
     ]
    }
   ],
   "source": [
    "# Compare chemical features of ligand with hydrogens and ligand with no hydrogens\n",
    "feats_no_hyd = pli.chemical_features(ligand, pli.smarts_feat_def)\n",
    "pprint(feats_no_hyd)"
   ]
  },
  {
   "cell_type": "code",
   "execution_count": 13,
   "id": "1e05188a-9f6e-48d9-8e15-716d2c36b2cd",
   "metadata": {},
   "outputs": [
    {
     "name": "stdout",
     "output_type": "stream",
     "text": [
      "defaultdict(<class 'list'>,\n",
      "            {'Acceptor': [(0,),\n",
      "                          (8,),\n",
      "                          (19,),\n",
      "                          (23,),\n",
      "                          (25,),\n",
      "                          (3,),\n",
      "                          (4,),\n",
      "                          (11,),\n",
      "                          (13,),\n",
      "                          (15,)],\n",
      "             'Aromatic': [(17, 18, 19, 20, 26), (20, 21, 23, 24, 25, 26)],\n",
      "             'Donor': [(0,), (8,), (22,), (13,), (15,)],\n",
      "             'NegIonizable': [(2, 3, 4)],\n",
      "             'PosIonizable': [(0,), (8,)]})\n"
     ]
    }
   ],
   "source": [
    "feats_hyd = pli.chemical_features(ligand_hyd, pli.smarts_feat_def)\n",
    "pprint(feats_hyd)"
   ]
  },
  {
   "cell_type": "markdown",
   "id": "f9000adc-f512-4a50-b008-268bcb6e102f",
   "metadata": {
    "jp-MarkdownHeadingCollapsed": true,
    "tags": []
   },
   "source": [
    "## Finding hydrogen bonds between protein and ligand"
   ]
  },
  {
   "cell_type": "markdown",
   "id": "bd28ddb4-263a-4efa-b2e1-f607b75ed919",
   "metadata": {
    "jp-MarkdownHeadingCollapsed": true,
    "tags": []
   },
   "source": [
    "### Baker-Hubbard Criterion\n",
    "We proceed to find hydrogen bonds between protein and ligand using Baker-Hubbard criterion."
   ]
  },
  {
   "cell_type": "code",
   "execution_count": 14,
   "id": "5b4cbe83-3f29-48c3-9890-1536ac617358",
   "metadata": {},
   "outputs": [
    {
     "name": "stdout",
     "output_type": "stream",
     "text": [
      "104 hydrogen bonds\n"
     ]
    }
   ],
   "source": [
    "hbonds_bh = mdt.baker_hubbard(traj)\n",
    "print(f\"{hbonds_bh.shape[0]} hydrogen bonds\")"
   ]
  },
  {
   "cell_type": "code",
   "execution_count": 15,
   "id": "6d698c0d-2731-4607-82e1-0f32299c549f",
   "metadata": {},
   "outputs": [],
   "source": [
    "def protein_ligand_hbonds(hbonds, lig_indices):\n",
    "    \"\"\" Returns the hbonds between the protein and the ligand.\n",
    "    \"\"\"\n",
    "    prot_lig_hb = []\n",
    "    for bond in hbonds:\n",
    "        for index in bond:\n",
    "            if index in lig_indices:\n",
    "                prot_lig_hb.append(bond.tolist())\n",
    "                break\n",
    "\n",
    "    print(f\"{len(prot_lig_hb)} hydrogen bonds between protein and ligand\")\n",
    "    \n",
    "    return prot_lig_hb"
   ]
  },
  {
   "cell_type": "code",
   "execution_count": 16,
   "id": "df360b0a-c3f1-4ec6-944d-2c7ef1c1877d",
   "metadata": {},
   "outputs": [
    {
     "name": "stdout",
     "output_type": "stream",
     "text": [
      "3 hydrogen bonds between protein and ligand\n"
     ]
    }
   ],
   "source": [
    "prot_lig_bh = protein_ligand_hbonds(hbonds_bh, lig_indices)"
   ]
  },
  {
   "cell_type": "markdown",
   "id": "66cc1c5d-31cd-429a-9344-db4dc19937b5",
   "metadata": {},
   "source": [
    "To visualize the hydrogen bonds, we'll create a new trajectory that contains the resiudes that participate in hydrogen bonding\n",
    "and the ligand"
   ]
  },
  {
   "cell_type": "code",
   "execution_count": 17,
   "id": "d842faac-0c53-4341-ab32-cea91d754064",
   "metadata": {},
   "outputs": [],
   "source": [
    "def hbonding_traj(traj, hbonds):\n",
    "    \"\"\" Returns a new trajectory with resiudes involved in hydrogen bonding.\n",
    "    \"\"\"\n",
    "    indices = set()\n",
    "    topology = traj.topology\n",
    "    \n",
    "    # Find the indices of the resiudes\n",
    "    for bond in hbonds:\n",
    "        don_idx, hyd_idx, acc_idx = bond\n",
    "        \n",
    "        don_residue = topology.atom(don_idx).residue.index\n",
    "        for atom in topology.residue(don_residue).atoms:\n",
    "            indices.add(atom.index)\n",
    "        \n",
    "        acc_residue = topology.atom(acc_idx).residue.index\n",
    "        for atom in topology.residue(acc_residue).atoms:\n",
    "            indices.add(atom.index)\n",
    "\n",
    "    indices_list = list(indices)\n",
    "    indices_list.sort()\n",
    "    return indices_list\n",
    "        "
   ]
  },
  {
   "cell_type": "code",
   "execution_count": 18,
   "id": "7f74bd8c-e5d0-4d43-9aad-f12dff1dc2bd",
   "metadata": {},
   "outputs": [
    {
     "name": "stdout",
     "output_type": "stream",
     "text": [
      "<mdtraj.Trajectory with 1 frames, 72 atoms, 4 residues, and unitcells>\n"
     ]
    }
   ],
   "source": [
    "hbonds_indx_bh = hbonding_traj(traj, prot_lig_bh)\n",
    "hbond_traj_bh = traj.atom_slice(hbonds_indx_bh)\n",
    "print(hbond_traj_bh)"
   ]
  },
  {
   "cell_type": "code",
   "execution_count": 19,
   "id": "a4ea1342-d658-48a5-8dd6-5cf762a9d0dc",
   "metadata": {},
   "outputs": [],
   "source": [
    "def add_hbond_to_view(view, traj, hbonds):\n",
    "    \"\"\" Add hydrogen bonds to a view.\n",
    "        \n",
    "        Parameters\n",
    "        ----------\n",
    "        traj : mdtraj.Trajectory\n",
    "        hbonds : list[list[int]]\n",
    "    \"\"\"\n",
    "    for ii, bond in enumerate(hbonds):\n",
    "        # Indices of the atoms\n",
    "        don_idx, hyd_idx, acc_idx = bond\n",
    "        donor = traj.xyz[0, don_idx, :] * 10  # convert to angstroms \n",
    "        acceptor = traj.xyz[0, acc_idx, :] * 10\n",
    "        \n",
    "        direction = acceptor - donor\n",
    "        direction /= np.linalg.norm(direction)\n",
    "        \n",
    "        view_feats.add_sphere_to_view(\n",
    "            view, donor, 1.0, view_feats.palette[\"Donor\"], \n",
    "            \"Donor\" +  \" \" + str(ii)\n",
    "        )\n",
    "        view_feats.add_sphere_to_view(\n",
    "            view, acceptor, 1.0, view_feats.palette[\"Acceptor\"], \n",
    "            \"Acceptor\" + \" \" + str(ii)\n",
    "        )\n",
    "        \n",
    "        \n",
    "        end_arrow = ((donor + direction))\n",
    "        view_feats.add_arrow_to_view(view, donor, \n",
    "                                     end_arrow, view_feats.palette[\"Donor\"])\n",
    "        "
   ]
  },
  {
   "cell_type": "code",
   "execution_count": 20,
   "id": "3bbef535-4a53-48d5-96a7-238a629ea711",
   "metadata": {},
   "outputs": [
    {
     "data": {
      "application/vnd.jupyter.widget-view+json": {
       "model_id": "fd165ba4b28e47f28675b958329ebd57",
       "version_major": 2,
       "version_minor": 0
      },
      "text/plain": [
       "NGLWidget()"
      ]
     },
     "metadata": {},
     "output_type": "display_data"
    }
   ],
   "source": [
    "hbond_view = nv.show_mdtraj(hbond_traj_bh)\n",
    "hbond_view.add_component(ligand_hyd)\n",
    "hbond_view.representations = [\n",
    "     {\"type\": \"ball+stick\", \n",
    "      \"params\": {\n",
    "          \"sele\": \"all\",\n",
    "      }}\n",
    "]\n",
    "add_hbond_to_view(hbond_view, traj, prot_lig_bh)\n",
    "hbond_view"
   ]
  },
  {
   "cell_type": "markdown",
   "id": "6398484a-1ca3-4541-a1eb-fd0d11a4fe88",
   "metadata": {},
   "source": [
    "<strong>Note:</strong> We only find acceptors in the ligand because the ligand in the trajectory does not contain hydrogens.\n",
    "The hydrogens in the ligand are shown in the view because it was added as another component from an independent molecule."
   ]
  },
  {
   "cell_type": "markdown",
   "id": "694d834e-5774-4a75-864b-4165e2f37e59",
   "metadata": {
    "jp-MarkdownHeadingCollapsed": true,
    "tags": []
   },
   "source": [
    "### Wernet Nilson Criterion"
   ]
  },
  {
   "cell_type": "code",
   "execution_count": 21,
   "id": "df2ef42d-96b7-40a8-8bfd-b78ac282c20b",
   "metadata": {},
   "outputs": [
    {
     "name": "stdout",
     "output_type": "stream",
     "text": [
      "37 hydrogen bonds\n"
     ]
    }
   ],
   "source": [
    "hbonds_wn = mdt.wernet_nilsson(traj)[0]\n",
    "print(f\"{hbonds_wn.shape[0]} hydrogen bonds\")"
   ]
  },
  {
   "cell_type": "code",
   "execution_count": 22,
   "id": "4d2e2369-1440-461c-af98-065422c10c2c",
   "metadata": {},
   "outputs": [
    {
     "name": "stdout",
     "output_type": "stream",
     "text": [
      "0 hydrogen bonds between protein and ligand\n"
     ]
    }
   ],
   "source": [
    "prot_lig_wn = protein_ligand_hbonds(hbonds_wn, lig_indices)"
   ]
  },
  {
   "cell_type": "markdown",
   "id": "6dc9b4eb-b413-4c92-ac60-464e03ff2ed2",
   "metadata": {
    "jp-MarkdownHeadingCollapsed": true,
    "tags": []
   },
   "source": [
    "## Adding H's with rdkit"
   ]
  },
  {
   "cell_type": "code",
   "execution_count": 23,
   "id": "905fff7f-62a6-45ef-aba9-9ba876beca93",
   "metadata": {},
   "outputs": [
    {
     "name": "stdout",
     "output_type": "stream",
     "text": [
      "Molecule contains 0 hydrogens\n"
     ]
    }
   ],
   "source": [
    "mol = Chem.MolFromPDBFile(pdb_path)\n",
    "n_hydrogens = len([a for a in mol.GetAtoms() if a.GetSymbol() == \"H\"])\n",
    "print(f\"Molecule contains {n_hydrogens} hydrogens\")"
   ]
  },
  {
   "cell_type": "code",
   "execution_count": 24,
   "id": "d5bd4c5b-5959-4dcf-a62a-0ccd6609e5bb",
   "metadata": {},
   "outputs": [
    {
     "name": "stdout",
     "output_type": "stream",
     "text": [
      "Molecule contains 1802 hydrogens\n"
     ]
    }
   ],
   "source": [
    "mol = Chem.AddHs(mol, addCoords=True, addResidueInfo=True)\n",
    "n_hydrogens = len([a for a in mol.GetAtoms() if a.GetSymbol() == \"H\"])\n",
    "print(f\"Molecule contains {n_hydrogens} hydrogens\")"
   ]
  },
  {
   "cell_type": "code",
   "execution_count": 25,
   "id": "2af6680f-05ee-4091-9062-95b6af3493c0",
   "metadata": {},
   "outputs": [
    {
     "data": {
      "application/vnd.jupyter.widget-view+json": {
       "model_id": "560dcf1ecd8f44a4a523c44bf6ee35c6",
       "version_major": 2,
       "version_minor": 0
      },
      "text/plain": [
       "NGLWidget()"
      ]
     },
     "metadata": {},
     "output_type": "display_data"
    }
   ],
   "source": [
    "view = nv.show_rdkit(mol)\n",
    "view.representations = [\n",
    "     {\"type\": \"ball+stick\", \n",
    "      \"params\": {\n",
    "          \"sele\": \"all\",\n",
    "      }},\n",
    "]\n",
    "\n",
    "view"
   ]
  },
  {
   "cell_type": "markdown",
   "id": "c9b3b991-0e1c-4c0a-8a8b-9519310c0e60",
   "metadata": {},
   "source": [
    "## Create Mdtraj trajectory with hydrogens\n",
    "\n",
    "We create a trajectory where the protein and the ligand have hydrogens and the bond order in the ligand is correct. \n",
    "First, we remove the ligand from the original pdb.\n",
    "\n",
    "Having the ligand and the protein with hydrogens we should be able to find all hydrogen bonds between the protein and the ligand. This means that we can find acceptors and donors in the ligand"
   ]
  },
  {
   "cell_type": "markdown",
   "id": "b15ad924-5975-4b47-b7ad-a85f04ad4f52",
   "metadata": {},
   "source": [
    "### Adding hydrogens to protein with Openmm"
   ]
  },
  {
   "cell_type": "code",
   "execution_count": 26,
   "id": "7ba4cd85-d86c-45aa-87eb-f5222704c411",
   "metadata": {},
   "outputs": [
    {
     "name": "stdout",
     "output_type": "stream",
     "text": [
      "Traj contains 0 hydrogens\n",
      "Traj has 1713 atoms\n"
     ]
    }
   ],
   "source": [
    "# The ligand does not contain hydrogens\n",
    "traj = mdt.load(pdb_path)\n",
    "n_hydrogens = len([a for a in traj.topology.atoms if a.element.symbol == \"H\"])\n",
    "print(f\"Traj contains {n_hydrogens} hydrogens\")\n",
    "print(f\"Traj has {traj.n_atoms} atoms\")"
   ]
  },
  {
   "cell_type": "code",
   "execution_count": 27,
   "id": "e22d513e-9dcd-4a22-9de3-ab47e2596c51",
   "metadata": {},
   "outputs": [
    {
     "data": {
      "text/plain": [
       "['SFG:B']"
      ]
     },
     "execution_count": 27,
     "metadata": {},
     "output_type": "execute_result"
    }
   ],
   "source": [
    "pli.find_ligands_in_traj(traj)"
   ]
  },
  {
   "cell_type": "code",
   "execution_count": 28,
   "id": "a61b7da9-83d1-4942-9592-bde2c3426a0f",
   "metadata": {},
   "outputs": [],
   "source": [
    "def remove_ligand(traj, lig_id):\n",
    "    lig_name = lig_id.split(\":\")[0]\n",
    "    atoms = [\n",
    "        a.index for a in traj.topology.atoms if a.residue.name != lig_name\n",
    "    ]\n",
    "    return traj.atom_slice(atoms)"
   ]
  },
  {
   "cell_type": "code",
   "execution_count": 29,
   "id": "a5fdec98-fe5f-4952-97f5-f3b207f233ca",
   "metadata": {},
   "outputs": [
    {
     "name": "stdout",
     "output_type": "stream",
     "text": [
      "Traj has 1686 atoms\n"
     ]
    }
   ],
   "source": [
    "traj = remove_ligand(traj, \"SFG:B\")\n",
    "print(f\"Traj has {traj.n_atoms} atoms\")"
   ]
  },
  {
   "cell_type": "code",
   "execution_count": 30,
   "id": "e18986ca-8d9a-4d79-a03d-488b687d1425",
   "metadata": {},
   "outputs": [
    {
     "name": "stderr",
     "output_type": "stream",
     "text": [
      "Warning: importing 'simtk.openmm' is deprecated.  Import 'openmm' instead.\n"
     ]
    },
    {
     "name": "stdout",
     "output_type": "stream",
     "text": [
      "Num atoms 3466\n"
     ]
    }
   ],
   "source": [
    "modeller = Modeller(\n",
    "    topology=traj.topology.to_openmm(),\n",
    "    positions=traj.openmm_positions(0)\n",
    ")\n",
    "modeller.addHydrogens()\n",
    "n_atoms = modeller.getTopology().getNumAtoms()\n",
    "print(f\"Num atoms {n_atoms}\")"
   ]
  },
  {
   "cell_type": "code",
   "execution_count": 31,
   "id": "b12f4cee-89ec-46ac-930f-f126012f4301",
   "metadata": {},
   "outputs": [],
   "source": [
    "def modeller_to_trajectory(modeller):\n",
    "    \"\"\" Convert an openmm.Modeller to a mdtraj.Trajectory.\n",
    "\n",
    "        Parameters\n",
    "        ----------\n",
    "        modeller : openmm.Modeller\n",
    "\n",
    "        Returns\n",
    "        -------\n",
    "        mdtraj.Trajectory\n",
    "    \"\"\"\n",
    "    positions = modeller.getPositions()\n",
    "    n_atoms = len(positions)\n",
    "    coords = np.zeros((1, n_atoms, 3))\n",
    "\n",
    "    for jj in range(n_atoms):\n",
    "        coords[0, jj, :] = puw.get_value(\n",
    "            positions[jj], to_unit=\"nanometers\")\n",
    "\n",
    "    topology = mdt.Topology.from_openmm(modeller.getTopology())\n",
    "    return mdt.Trajectory(coords, topology)"
   ]
  },
  {
   "cell_type": "code",
   "execution_count": 32,
   "id": "c5ce7ac4-f334-4ca5-ac9c-a6bff7c020e4",
   "metadata": {},
   "outputs": [
    {
     "name": "stdout",
     "output_type": "stream",
     "text": [
      "Traj contains 1780 hydrogens\n",
      "Traj has 3466 atoms\n"
     ]
    }
   ],
   "source": [
    "traj = modeller_to_trajectory(modeller)\n",
    "n_hydrogens = len([a for a in traj.topology.atoms if a.element.symbol == \"H\"])\n",
    "print(f\"Traj contains {n_hydrogens} hydrogens\")\n",
    "print(f\"Traj has {traj.n_atoms} atoms\")"
   ]
  },
  {
   "cell_type": "markdown",
   "id": "c8573b0e-76f1-4d67-bb48-b1ab104351b2",
   "metadata": {},
   "source": [
    "### Loading ligand"
   ]
  },
  {
   "cell_type": "code",
   "execution_count": 33,
   "id": "6e526199-7e85-4215-9b92-65698405bd65",
   "metadata": {},
   "outputs": [],
   "source": [
    "Chem.MolToPDBFile(ligand_hyd, \"./data/3bbh/sgf.pdb\")"
   ]
  },
  {
   "cell_type": "code",
   "execution_count": 34,
   "id": "807d87a2-3863-4a0d-9683-51fe5da64ad7",
   "metadata": {},
   "outputs": [
    {
     "name": "stdout",
     "output_type": "stream",
     "text": [
      "Traj contains 23 hydrogens\n"
     ]
    }
   ],
   "source": [
    "ligand_traj = mdt.load(\"./data/3bbh/sgf.pdb\")\n",
    "n_hydrogens = len([a for a in ligand_traj.topology.atoms if a.element.symbol == \"H\"])\n",
    "print(f\"Traj contains {n_hydrogens} hydrogens\")"
   ]
  },
  {
   "cell_type": "code",
   "execution_count": 35,
   "id": "6130074e-5445-4588-aca6-2d73c5d48cca",
   "metadata": {},
   "outputs": [
    {
     "data": {
      "application/vnd.jupyter.widget-view+json": {
       "model_id": "c32c5d20889b410eb2bc5a79c829f9aa",
       "version_major": 2,
       "version_minor": 0
      },
      "text/plain": [
       "NGLWidget()"
      ]
     },
     "metadata": {},
     "output_type": "display_data"
    }
   ],
   "source": [
    "nv.show_mdtraj(ligand_traj)"
   ]
  },
  {
   "cell_type": "markdown",
   "id": "8b14c3c9-a260-4770-a4ee-23603fb521a3",
   "metadata": {},
   "source": [
    "### Concatenation of trajectories"
   ]
  },
  {
   "cell_type": "code",
   "execution_count": 36,
   "id": "721dd28c-86a9-4562-ad2d-4300d94cd50e",
   "metadata": {},
   "outputs": [
    {
     "name": "stdout",
     "output_type": "stream",
     "text": [
      "(1, 3516, 3)\n"
     ]
    }
   ],
   "source": [
    "# Concatenate coordinates\n",
    "coords = np.concatenate((traj.xyz, ligand_traj.xyz), axis=1)\n",
    "print(coords.shape)"
   ]
  },
  {
   "cell_type": "code",
   "execution_count": 37,
   "id": "104adb86-f975-4fbb-879f-c2847a3427a7",
   "metadata": {},
   "outputs": [],
   "source": [
    "# Concatenate topologies\n",
    "topology = traj.topology.join(ligand_traj.topology)"
   ]
  },
  {
   "cell_type": "code",
   "execution_count": 38,
   "id": "0ed8413b-5c2b-4ca0-854e-62b7275c7034",
   "metadata": {},
   "outputs": [
    {
     "data": {
      "text/plain": [
       "<mdtraj.Trajectory with 1 frames, 3516 atoms, 205 residues, without unitcells at 0x7fae0002dfd0>"
      ]
     },
     "execution_count": 38,
     "metadata": {},
     "output_type": "execute_result"
    }
   ],
   "source": [
    "traj = mdt.Trajectory(coords, topology)\n",
    "traj"
   ]
  },
  {
   "cell_type": "code",
   "execution_count": 39,
   "id": "53560931-ab7a-4dbe-b3c9-0806bbb3e9af",
   "metadata": {},
   "outputs": [
    {
     "data": {
      "application/vnd.jupyter.widget-view+json": {
       "model_id": "33b514f0ec5c4ac88dca93a11867d886",
       "version_major": 2,
       "version_minor": 0
      },
      "text/plain": [
       "NGLWidget()"
      ]
     },
     "metadata": {},
     "output_type": "display_data"
    }
   ],
   "source": [
    "view = nv.show_mdtraj(traj)\n",
    "view"
   ]
  },
  {
   "cell_type": "code",
   "execution_count": 40,
   "id": "0e74e37f-891b-4ad9-ba5c-d26ffbf71cd9",
   "metadata": {},
   "outputs": [],
   "source": [
    "traj.save_pdb(\"./data/3bbh/3bbh_hyd.pdb\")"
   ]
  },
  {
   "cell_type": "code",
   "execution_count": 41,
   "id": "56f96d6e-a35e-406a-81fe-df742b7760d7",
   "metadata": {},
   "outputs": [
    {
     "data": {
      "text/plain": [
       "['nglview.adaptor.MDTrajTrajectory']"
      ]
     },
     "execution_count": 41,
     "metadata": {},
     "output_type": "execute_result"
    }
   ],
   "source": [
    "view._ngl_component_names"
   ]
  },
  {
   "cell_type": "code",
   "execution_count": 42,
   "id": "82d95fdc-5d4b-4be0-b149-1fe906eb018f",
   "metadata": {},
   "outputs": [],
   "source": [
    "traj_df, _ = traj.topology.to_dataframe()"
   ]
  },
  {
   "cell_type": "code",
   "execution_count": 43,
   "id": "f2126a7f-ef77-4817-9f88-42d7d343c9bd",
   "metadata": {},
   "outputs": [
    {
     "data": {
      "text/plain": [
       "array(['THR', 'TYR', 'ASN', 'ILE', 'LEU', 'ALA', 'LYS', 'SER', 'GLU',\n",
       "       'PRO', 'ARG', 'VAL', 'ASP', 'HIS', 'MET', 'GLY', 'PHE', 'TRP',\n",
       "       'CYS', 'UNL'], dtype=object)"
      ]
     },
     "execution_count": 43,
     "metadata": {},
     "output_type": "execute_result"
    }
   ],
   "source": [
    "traj_df[\"resName\"].unique()"
   ]
  },
  {
   "cell_type": "code",
   "execution_count": 44,
   "id": "ced123d5-1787-4a49-8f44-9d1bb72b2262",
   "metadata": {},
   "outputs": [
    {
     "name": "stdout",
     "output_type": "stream",
     "text": [
      "Ligand contains 23 hydrogens\n"
     ]
    }
   ],
   "source": [
    "lig_indices = [a.index for a in traj.topology.atoms if a.residue.name == \"UNL\"]\n",
    "n_hydrogens = len([\n",
    "    a for a in lig_indices if traj.topology.atom(a).element.symbol == \"H\"])\n",
    "print(f\"Ligand contains {n_hydrogens} hydrogens\")"
   ]
  },
  {
   "cell_type": "code",
   "execution_count": 45,
   "id": "838edca8-7dfa-4949-a26e-7482f4cdfd88",
   "metadata": {},
   "outputs": [
    {
     "name": "stdout",
     "output_type": "stream",
     "text": [
      "116 hydrogen bonds\n"
     ]
    }
   ],
   "source": [
    "hbonds_bh = mdt.baker_hubbard(traj)\n",
    "print(f\"{hbonds_bh.shape[0]} hydrogen bonds\")"
   ]
  },
  {
   "cell_type": "code",
   "execution_count": 46,
   "id": "4346fe5a-7a8c-4ebe-92b3-7a0894637aa1",
   "metadata": {},
   "outputs": [
    {
     "name": "stdout",
     "output_type": "stream",
     "text": [
      "7 hydrogen bonds between protein and ligand\n"
     ]
    }
   ],
   "source": [
    "prot_lig_bh = protein_ligand_hbonds(hbonds_bh, lig_indices)"
   ]
  },
  {
   "cell_type": "code",
   "execution_count": 47,
   "id": "cfbe0818-f1b2-4146-97d4-bf910556e2d3",
   "metadata": {},
   "outputs": [
    {
     "name": "stdout",
     "output_type": "stream",
     "text": [
      "<mdtraj.Trajectory with 1 frames, 180 atoms, 8 residues, without unitcells>\n"
     ]
    }
   ],
   "source": [
    "hbonds_indx_bh = hbonding_traj(traj, prot_lig_bh)\n",
    "hbond_traj_bh = traj.atom_slice(hbonds_indx_bh)\n",
    "print(hbond_traj_bh)"
   ]
  },
  {
   "cell_type": "code",
   "execution_count": 48,
   "id": "a4704646-b5d9-48c2-9729-672635b1af1e",
   "metadata": {},
   "outputs": [
    {
     "data": {
      "application/vnd.jupyter.widget-view+json": {
       "model_id": "5e9e1e0ecd0641daaa26530774e2d0e6",
       "version_major": 2,
       "version_minor": 0
      },
      "text/plain": [
       "NGLWidget()"
      ]
     },
     "metadata": {},
     "output_type": "display_data"
    }
   ],
   "source": [
    "hbond_view = nv.show_mdtraj(hbond_traj_bh)\n",
    "# hbond_view.add_component(ligand_hyd)\n",
    "hbond_view.representations = [\n",
    "     {\"type\": \"ball+stick\", \n",
    "      \"params\": {\n",
    "          \"sele\": \"protein\",\n",
    "          # \"color\": \"residueindex\"\n",
    "      }},\n",
    "    {\"type\": \"ball+stick\", \n",
    "     \"params\": {\n",
    "         \"sele\": \"( not polymer or hetero ) and not ( water or ion )\"\n",
    "    }}\n",
    "]\n",
    "add_hbond_to_view(hbond_view, traj, prot_lig_bh)\n",
    "hbond_view"
   ]
  },
  {
   "cell_type": "code",
   "execution_count": 49,
   "id": "fe8957d3-a42c-4c6a-985a-92454ac55d66",
   "metadata": {},
   "outputs": [
    {
     "data": {
      "text/plain": [
       "[{'type': 'ball+stick', 'params': {'sele': 'protein'}},\n",
       " {'type': 'ball+stick',\n",
       "  'params': {'sele': '( not polymer or hetero ) and not ( water or ion )'}}]"
      ]
     },
     "execution_count": 49,
     "metadata": {},
     "output_type": "execute_result"
    }
   ],
   "source": [
    "hbond_view.representations"
   ]
  },
  {
   "cell_type": "code",
   "execution_count": 50,
   "id": "bba76a35-754c-4b4a-9cbc-c608b0ce1dc8",
   "metadata": {},
   "outputs": [
    {
     "data": {
      "text/plain": [
       "['nglview.adaptor.MDTrajTrajectory',\n",
       " 'nglview.shape.Shape',\n",
       " 'nglview.shape.Shape',\n",
       " 'nglview.shape.Shape',\n",
       " 'nglview.shape.Shape',\n",
       " 'nglview.shape.Shape',\n",
       " 'nglview.shape.Shape',\n",
       " 'nglview.shape.Shape',\n",
       " 'nglview.shape.Shape',\n",
       " 'nglview.shape.Shape',\n",
       " 'nglview.shape.Shape',\n",
       " 'nglview.shape.Shape',\n",
       " 'nglview.shape.Shape',\n",
       " 'nglview.shape.Shape',\n",
       " 'nglview.shape.Shape',\n",
       " 'nglview.shape.Shape',\n",
       " 'nglview.shape.Shape',\n",
       " 'nglview.shape.Shape',\n",
       " 'nglview.shape.Shape',\n",
       " 'nglview.shape.Shape',\n",
       " 'nglview.shape.Shape',\n",
       " 'nglview.shape.Shape']"
      ]
     },
     "execution_count": 50,
     "metadata": {},
     "output_type": "execute_result"
    }
   ],
   "source": [
    "hbond_view._ngl_component_names"
   ]
  }
 ],
 "metadata": {
  "kernelspec": {
   "display_name": "Python 3 (ipykernel)",
   "language": "python",
   "name": "python3"
  },
  "language_info": {
   "codemirror_mode": {
    "name": "ipython",
    "version": 3
   },
   "file_extension": ".py",
   "mimetype": "text/x-python",
   "name": "python",
   "nbconvert_exporter": "python",
   "pygments_lexer": "ipython3",
   "version": "3.7.12"
  }
 },
 "nbformat": 4,
 "nbformat_minor": 5
}
