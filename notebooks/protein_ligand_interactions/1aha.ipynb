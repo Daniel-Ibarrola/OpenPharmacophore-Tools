{
 "cells": [
  {
   "cell_type": "markdown",
   "id": "9e818186-5681-43bc-80f5-a8bfdcb32cb5",
   "metadata": {},
   "source": [
    "# 1AHA PDB\n",
    "We explore the pdb record 1AHA. It's a protein ligand complex. When trying to extract the ligand,\n",
    "mdtraj, gets an incorrect name"
   ]
  },
  {
   "cell_type": "code",
   "execution_count": 1,
   "id": "4f998f12-5212-403a-86d7-586e70197134",
   "metadata": {},
   "outputs": [
    {
     "data": {
      "application/vnd.jupyter.widget-view+json": {
       "model_id": "591029380fcd4896aa0d840f11706046",
       "version_major": 2,
       "version_minor": 0
      },
      "text/plain": []
     },
     "metadata": {},
     "output_type": "display_data"
    }
   ],
   "source": [
    "import openpharmacophore.pharmacophore.pl_interactions as pli\n",
    "import mdtraj as mdt\n",
    "import os"
   ]
  },
  {
   "cell_type": "code",
   "execution_count": 2,
   "id": "2e0057f4-f47a-43e5-b6cc-2120553f717d",
   "metadata": {},
   "outputs": [
    {
     "data": {
      "text/plain": [
       "True"
      ]
     },
     "execution_count": 2,
     "metadata": {},
     "output_type": "execute_result"
    }
   ],
   "source": [
    "data_dir = \"../../datasets/ligand-receptor/\"\n",
    "os.path.isdir(data_dir)"
   ]
  },
  {
   "cell_type": "code",
   "execution_count": 4,
   "id": "516a9659-de19-414a-8a1a-8df34e49443e",
   "metadata": {},
   "outputs": [
    {
     "data": {
      "text/plain": [
       "<mdtraj.Trajectory with 1 frames, 2024 atoms, 328 residues, and unitcells at 0x7f57667ed950>"
      ]
     },
     "execution_count": 4,
     "metadata": {},
     "output_type": "execute_result"
    }
   ],
   "source": [
    "traj = mdt.load(os.path.join(data_dir, \"./test_cases/cruft/1aha/1aha.pdb\"))\n",
    "traj"
   ]
  },
  {
   "cell_type": "code",
   "execution_count": 7,
   "id": "8a8eb336-7802-4d2f-9702-9565e84f4c20",
   "metadata": {
    "collapsed": true,
    "jupyter": {
     "outputs_hidden": true
    },
    "tags": []
   },
   "outputs": [
    {
     "data": {
      "text/html": [
       "<div>\n",
       "<style scoped>\n",
       "    .dataframe tbody tr th:only-of-type {\n",
       "        vertical-align: middle;\n",
       "    }\n",
       "\n",
       "    .dataframe tbody tr th {\n",
       "        vertical-align: top;\n",
       "    }\n",
       "\n",
       "    .dataframe thead th {\n",
       "        text-align: right;\n",
       "    }\n",
       "</style>\n",
       "<table border=\"1\" class=\"dataframe\">\n",
       "  <thead>\n",
       "    <tr style=\"text-align: right;\">\n",
       "      <th></th>\n",
       "      <th>serial</th>\n",
       "      <th>name</th>\n",
       "      <th>element</th>\n",
       "      <th>resSeq</th>\n",
       "      <th>resName</th>\n",
       "      <th>chainID</th>\n",
       "      <th>segmentID</th>\n",
       "    </tr>\n",
       "  </thead>\n",
       "  <tbody>\n",
       "    <tr>\n",
       "      <th>0</th>\n",
       "      <td>1</td>\n",
       "      <td>N</td>\n",
       "      <td>N</td>\n",
       "      <td>1</td>\n",
       "      <td>ASP</td>\n",
       "      <td>0</td>\n",
       "      <td></td>\n",
       "    </tr>\n",
       "    <tr>\n",
       "      <th>1</th>\n",
       "      <td>2</td>\n",
       "      <td>CA</td>\n",
       "      <td>C</td>\n",
       "      <td>1</td>\n",
       "      <td>ASP</td>\n",
       "      <td>0</td>\n",
       "      <td></td>\n",
       "    </tr>\n",
       "    <tr>\n",
       "      <th>2</th>\n",
       "      <td>3</td>\n",
       "      <td>C</td>\n",
       "      <td>C</td>\n",
       "      <td>1</td>\n",
       "      <td>ASP</td>\n",
       "      <td>0</td>\n",
       "      <td></td>\n",
       "    </tr>\n",
       "    <tr>\n",
       "      <th>3</th>\n",
       "      <td>4</td>\n",
       "      <td>O</td>\n",
       "      <td>O</td>\n",
       "      <td>1</td>\n",
       "      <td>ASP</td>\n",
       "      <td>0</td>\n",
       "      <td></td>\n",
       "    </tr>\n",
       "    <tr>\n",
       "      <th>4</th>\n",
       "      <td>5</td>\n",
       "      <td>CB</td>\n",
       "      <td>C</td>\n",
       "      <td>1</td>\n",
       "      <td>ASP</td>\n",
       "      <td>0</td>\n",
       "      <td></td>\n",
       "    </tr>\n",
       "    <tr>\n",
       "      <th>...</th>\n",
       "      <td>...</td>\n",
       "      <td>...</td>\n",
       "      <td>...</td>\n",
       "      <td>...</td>\n",
       "      <td>...</td>\n",
       "      <td>...</td>\n",
       "      <td>...</td>\n",
       "    </tr>\n",
       "    <tr>\n",
       "      <th>2019</th>\n",
       "      <td>2021</td>\n",
       "      <td>O</td>\n",
       "      <td>O</td>\n",
       "      <td>416</td>\n",
       "      <td>HOH</td>\n",
       "      <td>1</td>\n",
       "      <td></td>\n",
       "    </tr>\n",
       "    <tr>\n",
       "      <th>2020</th>\n",
       "      <td>2022</td>\n",
       "      <td>O</td>\n",
       "      <td>O</td>\n",
       "      <td>417</td>\n",
       "      <td>HOH</td>\n",
       "      <td>1</td>\n",
       "      <td></td>\n",
       "    </tr>\n",
       "    <tr>\n",
       "      <th>2021</th>\n",
       "      <td>2023</td>\n",
       "      <td>O</td>\n",
       "      <td>O</td>\n",
       "      <td>418</td>\n",
       "      <td>HOH</td>\n",
       "      <td>1</td>\n",
       "      <td></td>\n",
       "    </tr>\n",
       "    <tr>\n",
       "      <th>2022</th>\n",
       "      <td>2024</td>\n",
       "      <td>O</td>\n",
       "      <td>O</td>\n",
       "      <td>419</td>\n",
       "      <td>HOH</td>\n",
       "      <td>1</td>\n",
       "      <td></td>\n",
       "    </tr>\n",
       "    <tr>\n",
       "      <th>2023</th>\n",
       "      <td>2025</td>\n",
       "      <td>O</td>\n",
       "      <td>O</td>\n",
       "      <td>420</td>\n",
       "      <td>HOH</td>\n",
       "      <td>1</td>\n",
       "      <td></td>\n",
       "    </tr>\n",
       "  </tbody>\n",
       "</table>\n",
       "<p>2024 rows × 7 columns</p>\n",
       "</div>"
      ],
      "text/plain": [
       "      serial name element  resSeq resName  chainID segmentID\n",
       "0          1    N       N       1     ASP        0          \n",
       "1          2   CA       C       1     ASP        0          \n",
       "2          3    C       C       1     ASP        0          \n",
       "3          4    O       O       1     ASP        0          \n",
       "4          5   CB       C       1     ASP        0          \n",
       "...      ...  ...     ...     ...     ...      ...       ...\n",
       "2019    2021    O       O     416     HOH        1          \n",
       "2020    2022    O       O     417     HOH        1          \n",
       "2021    2023    O       O     418     HOH        1          \n",
       "2022    2024    O       O     419     HOH        1          \n",
       "2023    2025    O       O     420     HOH        1          \n",
       "\n",
       "[2024 rows x 7 columns]"
      ]
     },
     "execution_count": 7,
     "metadata": {},
     "output_type": "execute_result"
    }
   ],
   "source": [
    "df, _ = traj.topology.to_dataframe()\n",
    "df"
   ]
  },
  {
   "cell_type": "code",
   "execution_count": 8,
   "id": "6d3aedb5-eb9f-48bc-99db-d47031040257",
   "metadata": {},
   "outputs": [
    {
     "data": {
      "text/plain": [
       "array(['ASP', 'VAL', 'SER', 'PHE', 'ARG', 'LEU', 'GLY', 'ALA', 'PRO',\n",
       "       'TYR', 'MET', 'ILE', 'LYS', 'ASN', 'GLU', 'HIS', 'THR', 'GLN',\n",
       "       'TRP', 'A', 'HOH'], dtype=object)"
      ]
     },
     "execution_count": 8,
     "metadata": {},
     "output_type": "execute_result"
    }
   ],
   "source": [
    "df[\"resName\"].unique()"
   ]
  },
  {
   "cell_type": "markdown",
   "id": "d0cf684e-9b5a-4e79-a6fc-fb908b0f0296",
   "metadata": {},
   "source": [
    "The name of the ligand is \"A\" according to mdtraj, however <strong>it should be \"ADA\"</strong>"
   ]
  }
 ],
 "metadata": {
  "kernelspec": {
   "display_name": "Python 3 (ipykernel)",
   "language": "python",
   "name": "python3"
  },
  "language_info": {
   "codemirror_mode": {
    "name": "ipython",
    "version": 3
   },
   "file_extension": ".py",
   "mimetype": "text/x-python",
   "name": "python",
   "nbconvert_exporter": "python",
   "pygments_lexer": "ipython3",
   "version": "3.7.12"
  }
 },
 "nbformat": 4,
 "nbformat_minor": 5
}
