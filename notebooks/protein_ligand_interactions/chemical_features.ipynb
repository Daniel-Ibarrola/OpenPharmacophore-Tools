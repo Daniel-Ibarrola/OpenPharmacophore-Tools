{
 "cells": [
  {
   "cell_type": "code",
   "execution_count": 1,
   "id": "7e83488a-36e3-4dde-be26-9e139a844e60",
   "metadata": {},
   "outputs": [
    {
     "data": {
      "application/vnd.jupyter.widget-view+json": {
       "model_id": "2ce8ae5d6592403fa7c156699920154a",
       "version_major": 2,
       "version_minor": 0
      },
      "text/plain": []
     },
     "metadata": {},
     "output_type": "display_data"
    }
   ],
   "source": [
    "import openpharmacophore.pharmacophore.pl_interactions as pli\n",
    "import mdtraj as mdt\n",
    "import nglview as nv\n",
    "import numpy as np\n",
    "from matplotlib.colors import to_rgb\n",
    "from rdkit import Chem\n",
    "from pprint import pprint\n",
    "from collections import defaultdict"
   ]
  },
  {
   "cell_type": "code",
   "execution_count": 2,
   "id": "cf8bf0cd-1e7c-4484-93fc-cfcd7f1998ad",
   "metadata": {},
   "outputs": [],
   "source": [
    "pli.BS_DIST = 0.55"
   ]
  },
  {
   "cell_type": "code",
   "execution_count": 3,
   "id": "2df850fe-9de2-4a87-8d54-da5ef5652536",
   "metadata": {},
   "outputs": [
    {
     "name": "stdout",
     "output_type": "stream",
     "text": [
      "Trajectory has 2010 atoms\n",
      "Protein has 2010 atoms\n",
      "Ligand has 20 atoms\n"
     ]
    }
   ],
   "source": [
    "# Load all necessary data\n",
    "traj = mdt.load(\"./er_alpha_A_chain.pdb\")\n",
    "protein = Chem.MolFromPDBFile(\"./er_alpha_A_chain.pdb\")\n",
    "ligand = Chem.MolFromSmiles(\"C[C@]12CC[C@@H]3c4ccc(cc4CC[C@H]3[C@@H]1CC[C@@H]2O)O\")\n",
    "\n",
    "print(f\"Trajectory has {traj.n_atoms} atoms\")\n",
    "print(f\"Protein has {protein.GetNumAtoms()} atoms\")\n",
    "print(f\"Ligand has {ligand.GetNumAtoms()} atoms\")"
   ]
  },
  {
   "cell_type": "code",
   "execution_count": 4,
   "id": "31941f6c-816a-46c9-b99b-4ed03c53e294",
   "metadata": {},
   "outputs": [
    {
     "data": {
      "image/png": "[encoded data removed]",
      "text/plain": [
       "<rdkit.Chem.rdchem.Mol at 0x7f96d8b35e40>"
      ]
     },
     "execution_count": 4,
     "metadata": {},
     "output_type": "execute_result"
    }
   ],
   "source": [
    "ligand"
   ]
  },
  {
   "cell_type": "code",
   "execution_count": 5,
   "id": "0c2eeda4-f4ed-4607-a4b5-ada681db949a",
   "metadata": {},
   "outputs": [
    {
     "name": "stdout",
     "output_type": "stream",
     "text": [
      "['EST:B']\n"
     ]
    }
   ],
   "source": [
    "ligands_ids = pli.find_ligands_in_traj(traj)\n",
    "lig_id = ligands_ids[0]\n",
    "print(ligands_ids)"
   ]
  },
  {
   "cell_type": "code",
   "execution_count": 6,
   "id": "e950737c-d9f9-4448-a0c6-25c9b2510111",
   "metadata": {},
   "outputs": [
    {
     "name": "stdout",
     "output_type": "stream",
     "text": [
      "Ligand indices len 20\n",
      "Ligand centroid: [10.503935   1.4664251  2.3460498]\n",
      "Ligand maximum extent: 0.598493754863739\n"
     ]
    }
   ],
   "source": [
    "# Get all necessary ligand data\n",
    "ligand_indices = pli.get_ligand_atom_indices(traj, lig_id)\n",
    "lig_centroid = pli.ligand_centroid(traj, lig_id)\n",
    "lig_extent = pli.ligand_maximum_extent(traj, lig_id)\n",
    "\n",
    "print(f\"Ligand indices len {len(ligand_indices)}\")\n",
    "print(f\"Ligand centroid: {lig_centroid}\")\n",
    "print(f\"Ligand maximum extent: {lig_extent}\")"
   ]
  },
  {
   "cell_type": "code",
   "execution_count": 7,
   "id": "4ce5dc69-dc0f-40a2-8050-921dfc9e23a5",
   "metadata": {},
   "outputs": [
    {
     "name": "stdout",
     "output_type": "stream",
     "text": [
      "defaultdict(<class 'list'>,\n",
      "            {'Acceptor': [(2008, 2009)],\n",
      "             'Aromatic': [(1995, 1996, 1997, 1998, 1999, 2000)],\n",
      "             'Donor': [(2008, 2009)],\n",
      "             'Hydrophobe': [(1990, 1991, 2004, 2005, 2006, 2007)]})\n"
     ]
    }
   ],
   "source": [
    "ligand_features_rd = pli.chemical_features(ligand)\n",
    "# Map rdkit ligand indices to mdtraj's\n",
    "rd_indices = list(range(0, ligand.GetNumAtoms()))\n",
    "indices_map = dict(zip(rd_indices, ligand_indices))\n",
    "\n",
    "ligand_features = defaultdict(list)\n",
    "for feat_name, indices_list in ligand_features_rd.items():\n",
    "    feat_indices = []\n",
    "    for indices in indices_list:\n",
    "        for index in indices:\n",
    "            feat_indices.append(indices_map[index])\n",
    "    ligand_features[feat_name].append(tuple(feat_indices))\n",
    "\n",
    "pprint(ligand_features)"
   ]
  },
  {
   "cell_type": "code",
   "execution_count": 8,
   "id": "9b44e55a-ce75-4054-a8c6-3e97e47e89eb",
   "metadata": {},
   "outputs": [],
   "source": [
    "# Map rdkit ligand indices to mdtraj's\n",
    "rd_indices = list(range(0, ligand.GetNumAtoms()))\n",
    "indices_map = dict(zip(rd_indices, ligand_indices))"
   ]
  },
  {
   "cell_type": "code",
   "execution_count": 9,
   "id": "fc12beef-db83-43d2-a752-493163e52daf",
   "metadata": {},
   "outputs": [
    {
     "name": "stdout",
     "output_type": "stream",
     "text": [
      "defaultdict(<class 'list'>,\n",
      "            {'Acceptor': [array([10.84945  ,  1.2238   ,  2.3582501], dtype=float32)],\n",
      "             'Aromatic': [array([10.377816 ,  1.4843165,  2.3102167], dtype=float32)],\n",
      "             'Donor': [array([10.84945  ,  1.2238   ,  2.3582501], dtype=float32)],\n",
      "             'Hydrophobe': [array([10.594899 ,  1.4093333,  2.29295  ], dtype=float32)]})\n"
     ]
    }
   ],
   "source": [
    "ligand_feats_center = pli.features_centroid(ligand_features, traj.xyz)\n",
    "pprint(ligand_feats_center)"
   ]
  },
  {
   "cell_type": "code",
   "execution_count": 10,
   "id": "9ec8caff-2e6a-46ac-9ad6-b1b57dff929b",
   "metadata": {},
   "outputs": [
    {
     "name": "stdout",
     "output_type": "stream",
     "text": [
      "Bs indices shape (294,)\n"
     ]
    }
   ],
   "source": [
    "# Get binding site data\n",
    "bs_indices = pli.get_binding_site_atoms_indices(lig_centroid, lig_extent, traj.xyz[0])\n",
    "print(f\"Bs indices shape {bs_indices.shape}\")"
   ]
  },
  {
   "cell_type": "code",
   "execution_count": 11,
   "id": "1f959ab4-d30e-499a-a064-fbdf1f3358e7",
   "metadata": {},
   "outputs": [],
   "source": [
    "bs_feats = pli.chemical_features(protein, bs_indices)\n",
    "bs_feats_center = pli.features_centroid(bs_feats, traj.xyz)"
   ]
  },
  {
   "cell_type": "code",
   "execution_count": 12,
   "id": "d819d549-2eb8-4d46-b43b-4ab7a1970841",
   "metadata": {},
   "outputs": [],
   "source": [
    "def add_sphere_to_view(view, center, radius, color, name):\n",
    "    \"\"\" Add a sphere to a view. \"\"\"\n",
    "    n_components = len(view._ngl_component_ids)\n",
    "    view.shape.add_sphere(center.tolist(), to_rgb(color), radius, name)\n",
    "    view.update_representation(component=n_components, repr_index=0, opacity=0.5)"
   ]
  },
  {
   "cell_type": "code",
   "execution_count": 13,
   "id": "4c544db4-e01d-4046-95f7-af72847a9c0c",
   "metadata": {},
   "outputs": [
    {
     "data": {
      "application/vnd.jupyter.widget-view+json": {
       "model_id": "dbd3cb64bec64fc68f3d52db4a72c5e4",
       "version_major": 2,
       "version_minor": 0
      },
      "text/plain": [
       "NGLWidget()"
      ]
     },
     "metadata": {},
     "output_type": "display_data"
    }
   ],
   "source": [
    "view = nv.show_mdtraj(traj)\n",
    "add_sphere_to_view(view, lig_centroid * 10, (lig_extent + pli.BS_DIST) * 10, \"#B03A2E\", \"sphere\")\n",
    "view.representations = [\n",
    "     {\"type\": \"ball+stick\", \n",
    "      \"params\": {\n",
    "          \"sele\": \"protein\",\n",
    "          \"color\": \"residueindex\"\n",
    "      }},\n",
    "    {\"type\": \"ball+stick\", \n",
    "     \"params\": {\n",
    "         \"sele\": \"( not polymer or hetero ) and not ( water or ion )\"\n",
    "    }}\n",
    "]\n",
    "view"
   ]
  },
  {
   "cell_type": "code",
   "execution_count": 14,
   "id": "276da695-7754-49c4-8314-5423634eb9c8",
   "metadata": {},
   "outputs": [],
   "source": [
    "palette = {\n",
    "        'PosIonizable': '#3498DB',  # Blue\n",
    "        'NegIonizable': '#884EA0',  # Purple\n",
    "        'Acceptor': '#B03A2E',  # Red\n",
    "        'Donor': '#17A589',  # Green\n",
    "        'Hydrophobe': '#F5B041',  # Orange\n",
    "        'Aromatic': '#F1C40F',  # Yellow\n",
    "    }\n",
    "\n",
    "\n",
    "def add_features_to_view(view, feats_center):\n",
    "    \"\"\" Add chemical features to a view. \"\"\"\n",
    "    for feat_name, centroid_list in feats_center.items():\n",
    "        for ii, centroid in enumerate(centroid_list):\n",
    "            name = feat_name + str(ii)\n",
    "            add_sphere_to_view(view, centroid * 10, \n",
    "                               1.0, palette[feat_name], name)\n"
   ]
  },
  {
   "cell_type": "code",
   "execution_count": 15,
   "id": "0efd295e-d3eb-48a0-aef2-1823f3f23bcc",
   "metadata": {},
   "outputs": [
    {
     "data": {
      "application/vnd.jupyter.widget-view+json": {
       "model_id": "0bf5cdead0144cd99d4ac4408c300262",
       "version_major": 2,
       "version_minor": 0
      },
      "text/plain": [
       "NGLWidget()"
      ]
     },
     "metadata": {},
     "output_type": "display_data"
    }
   ],
   "source": [
    "feats_view = nv.show_mdtraj(traj)\n",
    "add_features_to_view(feats_view, ligand_feats_center)\n",
    "add_features_to_view(feats_view, bs_feats_center)\n",
    "feats_view.representations = [\n",
    "     {\"type\": \"ball+stick\", \n",
    "      \"params\": {\n",
    "          \"sele\": \"protein\",\n",
    "      }},\n",
    "    {\"type\": \"ball+stick\", \n",
    "     \"params\": {\n",
    "         \"sele\": \"( not polymer or hetero ) and not ( water or ion )\",\n",
    "         \"color\": \"blue\",\n",
    "    }}\n",
    "]\n",
    "feats_view"
   ]
  }
 ],
 "metadata": {
  "kernelspec": {
   "display_name": "Python 3 (ipykernel)",
   "language": "python",
   "name": "python3"
  },
  "language_info": {
   "codemirror_mode": {
    "name": "ipython",
    "version": 3
   },
   "file_extension": ".py",
   "mimetype": "text/x-python",
   "name": "python",
   "nbconvert_exporter": "python",
   "pygments_lexer": "ipython3",
   "version": "3.7.12"
  }
 },
 "nbformat": 4,
 "nbformat_minor": 5
}
