{
 "cells": [
  {
   "cell_type": "markdown",
   "id": "0204f809-6c77-4f81-8ee1-856872bf4a6d",
   "metadata": {},
   "source": [
    "# Problematic pdbs\n",
    "\n",
    "Ligands loaded from pdb files do not have correct bond orders assigned. They can be fixed by obtaining their smiles \n",
    "and using it as a template to create a new molecule.\n",
    "\n",
    "In this notebook we inspect some molecules that have issues when trying to fix their bonds"
   ]
  },
  {
   "cell_type": "code",
   "execution_count": 1,
   "id": "9af52195-d6aa-4897-a006-6950ef0f60cd",
   "metadata": {},
   "outputs": [
    {
     "data": {
      "application/vnd.jupyter.widget-view+json": {
       "model_id": "e68348ccb2054beeaf4066c9ea1c4ad8",
       "version_major": 2,
       "version_minor": 0
      },
      "text/plain": []
     },
     "metadata": {},
     "output_type": "display_data"
    }
   ],
   "source": [
    "import os\n",
    "import mdtraj as mdt\n",
    "import nglview as nv\n",
    "from rdkit.Chem import AllChem\n",
    "from copy import deepcopy\n",
    "from pprint import pprint"
   ]
  },
  {
   "cell_type": "code",
   "execution_count": 2,
   "id": "bade53a3-6a6a-4b08-a53d-97a047206f0b",
   "metadata": {},
   "outputs": [
    {
     "data": {
      "text/plain": [
       "True"
      ]
     },
     "execution_count": 2,
     "metadata": {},
     "output_type": "execute_result"
    }
   ],
   "source": [
    "data_dir = \"../../datasets/ligand-receptor/\"\n",
    "os.path.isdir(data_dir)"
   ]
  },
  {
   "cell_type": "markdown",
   "id": "00a9048d-dca4-4e2f-8813-fb2239a9a3bd",
   "metadata": {},
   "source": [
    "We load a bunch of molecules in pdb format whose bond orders failed to be fixed."
   ]
  },
  {
   "cell_type": "code",
   "execution_count": 3,
   "id": "2614390a-1864-47fd-80ae-b81021f68675",
   "metadata": {},
   "outputs": [],
   "source": [
    "files = ['./test_cases/cruft/1aha/A_A_chain.pdb',\n",
    " './test_cases/cruft/1aha/A_B_chain.pdb',\n",
    " './test_cases/cruft/1rne/NAG_A_chain.pdb',\n",
    " './test_cases/cruft/1rne/NAG_B_chain.pdb',\n",
    " './test_cases/cruft/2plv/MYR_A_chain.pdb',\n",
    " './test_cases/cruft/2plv/MYR_F_chain.pdb',\n",
    " './test_cases/cruft/1aco/SF4_A_chain.pdb',\n",
    " './test_cases/cruft/1aco/SF4_B_chain.pdb',\n",
    " './test_cases/cruft/1hef/PJJ_A_chain.pdb',\n",
    " './test_cases/cruft/1hef/PJJ_B_chain.pdb',\n",
    " './test_cases/cruft/1blh/FOS_B_chain.pdb',\n",
    " './test_cases/cruft/1blh/FOS_A_chain.pdb',\n",
    " './test_cases/cruft/3gch/OAC_D_chain.pdb',\n",
    " './test_cases/cruft/3gch/OAC_A_chain.pdb',\n",
    " './test_cases/cruft/1phd/HEM_A_chain.pdb',\n",
    " './test_cases/cruft/1phd/HEM_B_chain.pdb',\n",
    " './test_cases/cruft/1igj/DGX_E_chain.pdb',\n",
    " './test_cases/cruft/1igj/DGX_F_chain.pdb',\n",
    " './test_cases/cruft/1igj/DGX_A_chain.pdb',\n",
    " './test_cases/cruft/1igj/DGX_B_chain.pdb',\n",
    " './test_cases/cruft/1apt/IVA_B_chain.pdb',\n",
    " './test_cases/cruft/1apt/MAN_C_chain.pdb',\n",
    " './test_cases/cruft/1apt/IVA_A_chain.pdb',\n",
    " './test_cases/cruft/1apt/MAN_A_chain.pdb',\n",
    " './test_cases/cruft/1dwd/MID_A_chain.pdb',\n",
    " './test_cases/cruft/1dwd/MID_D_chain.pdb',\n",
    " './test_cases/cruft/3ptb/BEN_B_chain.pdb',\n",
    " './test_cases/cruft/3ptb/BEN_A_chain.pdb',\n",
    " './test_cases/cruft/1lpm/MPA_A_chain.pdb',\n",
    " './test_cases/cruft/1lpm/MPA_C_chain.pdb',\n",
    " './test_cases/cruft/4est/VAI_A_chain.pdb',\n",
    " './test_cases/cruft/4est/FPA_B_chain.pdb',\n",
    " './test_cases/cruft/4est/FPA_A_chain.pdb',\n",
    " './test_cases/cruft/4est/VAI_B_chain.pdb',\n",
    " './test_cases/cruft/4phv/VAC_C_chain.pdb',\n",
    " './test_cases/cruft/4phv/VAC_A_chain.pdb',\n",
    " './test_cases/cruft/1pha/HEM_A_chain.pdb',\n",
    " './test_cases/cruft/1pha/HEM_B_chain.pdb',\n",
    " './test_cases/cruft/1nis/SF4_A_chain.pdb',\n",
    " './test_cases/cruft/1nis/SF4_B_chain.pdb',\n",
    " './test_cases/cruft/1phg/HEM_A_chain.pdb',\n",
    " './test_cases/cruft/1phg/HEM_B_chain.pdb',\n",
    " './test_cases/cruft/6rsa/UVC_B_chain.pdb',\n",
    " './test_cases/cruft/6rsa/UVC_A_chain.pdb',\n",
    " './test_cases/cruft/1ase/NOP_A_chain.pdb',\n",
    " './test_cases/cruft/1ase/NOP_B_chain.pdb',\n",
    " './test_cases/cruft/1ive/BMA_A_chain.pdb',\n",
    " './test_cases/cruft/1ive/NDG_J_chain.pdb',\n",
    " './test_cases/cruft/1ive/BMA_B_chain.pdb',\n",
    " './test_cases/cruft/1ive/BMA_D_chain.pdb',\n",
    " './test_cases/cruft/1ive/NDG_A_chain.pdb',\n",
    " './test_cases/cruft/1ive/NDG_F_chain.pdb',\n",
    " './test_cases/cruft/1ive/BMA_I_chain.pdb',\n",
    " './test_cases/cruft/1ive/BMA_E_chain.pdb',\n",
    " './test_cases/cruft/1ive/FUC_H_chain.pdb',\n",
    " './test_cases/cruft/1ive/BMA_H_chain.pdb',\n",
    " './test_cases/cruft/1ive/FUL_D_chain.pdb',\n",
    " './test_cases/cruft/1ive/FUC_A_chain.pdb',\n",
    " './test_cases/cruft/1ive/FUL_A_chain.pdb',\n",
    " './test_cases/cruft/1ive/BMA_C_chain.pdb',\n",
    " './test_cases/cruft/1tpp/APA_A_chain.pdb',\n",
    " './test_cases/cruft/1tpp/APA_B_chain.pdb',\n",
    " './test_cases/cruft/1slt/GAL_B_chain.pdb',\n",
    " './test_cases/cruft/1slt/GAL_A_chain.pdb',\n",
    " './test_cases/cruft/1slt/GAL_D_chain.pdb',\n",
    " './test_cases/cruft/1slt/GAL_C_chain.pdb',\n",
    " './test_cases/cruft/1mrg/ADN_A_chain.pdb',\n",
    " './test_cases/cruft/1mrg/ADN_B_chain.pdb',\n",
    " './test_cases/tyrosine kinase/1opj/MYR_A_chain.pdb',\n",
    " './test_cases/tyrosine kinase/1opj/MYR_D_chain.pdb',\n",
    " './test_cases/tyrosine kinase/1opj/MYR_B_chain.pdb',\n",
    " './test_cases/tyrosine kinase/1opj/MYR_C_chain.pdb',\n",
    " './test_cases/rhinovirus/1ncr/MYR_A_chain.pdb',\n",
    " './test_cases/rhinovirus/1ncr/MYR_F_chain.pdb',\n",
    " './test_cases/commonhitsapproach/1SQT/UI3_A_chain.pdb',\n",
    " './test_cases/commonhitsapproach/1SQT/UI3_B_chain.pdb',\n",
    " './test_cases/commonhitsapproach/1E66/NAG_A_chain.pdb',\n",
    " './test_cases/commonhitsapproach/1E66/NAG_B_chain.pdb',\n",
    " './test_cases/commonhitsapproach/3L5D/BDV_B_chain.pdb',\n",
    " './test_cases/commonhitsapproach/3L5D/BDV_A_chain.pdb',\n",
    " './test_cases/commonhitsapproach/3L5D/BDV_D_chain.pdb',\n",
    " './test_cases/commonhitsapproach/3L5D/BDV_C_chain.pdb',\n",
    " './test_cases/plip/4MWW/BMA_A_chain.pdb',\n",
    " './test_cases/plip/4MWW/BMA_B_chain.pdb']"
   ]
  },
  {
   "cell_type": "markdown",
   "id": "e2293e96-d895-4c18-ae5c-0466b1dbf46f",
   "metadata": {},
   "source": [
    "## Filter files\n",
    "\n",
    "We'll filter files that have the same ligand, so that we end up only with files with different ligands."
   ]
  },
  {
   "cell_type": "code",
   "execution_count": 4,
   "id": "0240a3e5-8ae5-482a-bdf1-aeccf472955b",
   "metadata": {},
   "outputs": [
    {
     "name": "stdout",
     "output_type": "stream",
     "text": [
      "Num ligands 28\n",
      "['./test_cases/cruft/1aha/A_A_chain.pdb',\n",
      " './test_cases/cruft/1rne/NAG_A_chain.pdb',\n",
      " './test_cases/cruft/2plv/MYR_A_chain.pdb',\n",
      " './test_cases/cruft/1aco/SF4_A_chain.pdb',\n",
      " './test_cases/cruft/1hef/PJJ_A_chain.pdb',\n",
      " './test_cases/cruft/1blh/FOS_B_chain.pdb',\n",
      " './test_cases/cruft/3gch/OAC_D_chain.pdb',\n",
      " './test_cases/cruft/1phd/HEM_A_chain.pdb',\n",
      " './test_cases/cruft/1igj/DGX_E_chain.pdb',\n",
      " './test_cases/cruft/1apt/IVA_B_chain.pdb',\n",
      " './test_cases/cruft/1apt/MAN_C_chain.pdb',\n",
      " './test_cases/cruft/1dwd/MID_A_chain.pdb',\n",
      " './test_cases/cruft/3ptb/BEN_B_chain.pdb',\n",
      " './test_cases/cruft/1lpm/MPA_A_chain.pdb',\n",
      " './test_cases/cruft/4est/VAI_A_chain.pdb',\n",
      " './test_cases/cruft/4est/FPA_B_chain.pdb',\n",
      " './test_cases/cruft/4phv/VAC_C_chain.pdb',\n",
      " './test_cases/cruft/6rsa/UVC_B_chain.pdb',\n",
      " './test_cases/cruft/1ase/NOP_A_chain.pdb',\n",
      " './test_cases/cruft/1ive/BMA_A_chain.pdb',\n",
      " './test_cases/cruft/1ive/NDG_J_chain.pdb',\n",
      " './test_cases/cruft/1ive/FUC_H_chain.pdb',\n",
      " './test_cases/cruft/1ive/FUL_D_chain.pdb',\n",
      " './test_cases/cruft/1tpp/APA_A_chain.pdb',\n",
      " './test_cases/cruft/1slt/GAL_B_chain.pdb',\n",
      " './test_cases/cruft/1mrg/ADN_A_chain.pdb',\n",
      " './test_cases/commonhitsapproach/1SQT/UI3_A_chain.pdb',\n",
      " './test_cases/commonhitsapproach/3L5D/BDV_B_chain.pdb']\n"
     ]
    }
   ],
   "source": [
    "files_filtered = []\n",
    "ligand_names = set()\n",
    "\n",
    "for file_ in files:\n",
    "    name = file_.split(\"/\")[-1]\n",
    "    name = name.split(\"_\")[0]\n",
    "    if name not in ligand_names:\n",
    "        ligand_names.add(name)\n",
    "        files_filtered.append(file_)\n",
    "\n",
    "print(f\"Num ligands {len(ligand_names)}\")\n",
    "pprint(files_filtered)"
   ]
  },
  {
   "cell_type": "markdown",
   "id": "0788331e-80ec-4956-b41d-6a58977f0fef",
   "metadata": {},
   "source": [
    "## Loading molecules form pdb\n",
    "\n",
    "We create and rdkit molecule for each pdb file. Some of them may fail to be loaded by rdkit"
   ]
  },
  {
   "cell_type": "code",
   "execution_count": 6,
   "id": "a10df67d-e901-4fe8-8f74-d7a8c18c46c9",
   "metadata": {},
   "outputs": [
    {
     "name": "stdout",
     "output_type": "stream",
     "text": [
      "Number of molecules: 27\n",
      "Number of molecules failed to be loaded 1\n"
     ]
    },
    {
     "name": "stderr",
     "output_type": "stream",
     "text": [
      "[12:53:18] Explicit valence for atom # 0 C, 7, is greater than permitted\n"
     ]
    }
   ],
   "source": [
    "molecules = []\n",
    "names = []\n",
    "fails = []\n",
    "\n",
    "for file_ in files_filtered:\n",
    "    mol = AllChem.MolFromPDBFile(os.path.join(data_dir, file_))\n",
    "    if mol is not None:\n",
    "        name = file_.split(\"/\")[-1]\n",
    "        name = name.split(\"_\")[0]\n",
    "        molecules.append(mol)\n",
    "        names.append(name)\n",
    "    else:\n",
    "        fails.append(file_)\n",
    "\n",
    "print(f\"Number of molecules: {len(molecules)}\")\n",
    "print(f\"Number of molecules failed to be loaded {len(fails)}\")"
   ]
  },
  {
   "cell_type": "markdown",
   "id": "8151cb51-6be7-4c38-90f9-3881277a9df7",
   "metadata": {},
   "source": [
    "## Inspect PDB files that couldn't be loaded\n"
   ]
  },
  {
   "cell_type": "code",
   "execution_count": 7,
   "id": "9dccb750-8996-43e1-b80a-32731ab963b6",
   "metadata": {},
   "outputs": [
    {
     "data": {
      "text/plain": [
       "['./test_cases/cruft/4phv/VAC_C_chain.pdb']"
      ]
     },
     "execution_count": 7,
     "metadata": {},
     "output_type": "execute_result"
    }
   ],
   "source": [
    "fails"
   ]
  },
  {
   "cell_type": "code",
   "execution_count": 8,
   "id": "32261f97-6f12-4541-9120-a3d3f020aa5a",
   "metadata": {},
   "outputs": [
    {
     "data": {
      "text/plain": [
       "<mdtraj.Trajectory with 1 frames, 92 atoms, 2 residues, and unitcells at 0x7fc71a616050>"
      ]
     },
     "execution_count": 8,
     "metadata": {},
     "output_type": "execute_result"
    }
   ],
   "source": [
    "traj = mdt.load(os.path.join(data_dir, fails[0]))\n",
    "traj"
   ]
  },
  {
   "cell_type": "code",
   "execution_count": 9,
   "id": "82a15b50-95b6-462b-84ab-dd723170039e",
   "metadata": {},
   "outputs": [
    {
     "data": {
      "application/vnd.jupyter.widget-view+json": {
       "model_id": "2fdca09afe28439fb10d689a996c890a",
       "version_major": 2,
       "version_minor": 0
      },
      "text/plain": [
       "NGLWidget()"
      ]
     },
     "metadata": {},
     "output_type": "display_data"
    }
   ],
   "source": [
    "nv.show_mdtraj(traj)"
   ]
  },
  {
   "cell_type": "markdown",
   "id": "39afeeb1-5bea-4f9a-8b60-fe5de5515406",
   "metadata": {},
   "source": [
    "There seems to be two ligands on top of each other, that is probably the reason it could not be loaded by rdkit.\n",
    "This pdb file must be fixed first."
   ]
  },
  {
   "cell_type": "markdown",
   "id": "3cd64e27-17a7-495d-9591-ab4274de475a",
   "metadata": {},
   "source": [
    "# Inspect the other molecules"
   ]
  },
  {
   "cell_type": "markdown",
   "id": "e998ab0a-d74f-47a5-9c65-cd9d0230edc0",
   "metadata": {},
   "source": [
    "### Adenine"
   ]
  },
  {
   "cell_type": "code",
   "execution_count": 10,
   "id": "f936f152-d87a-41fe-b716-da09258fb803",
   "metadata": {},
   "outputs": [
    {
     "name": "stdout",
     "output_type": "stream",
     "text": [
      "['A', 'NAG', 'MYR', 'SF4', 'PJJ', 'FOS', 'OAC', 'HEM', 'DGX', 'IVA', 'MAN', 'MID', 'BEN', 'MPA', 'VAI', 'FPA', 'UVC', 'NOP', 'BMA', 'NDG', 'FUC', 'FUL', 'APA', 'GAL', 'ADN', 'UI3', 'BDV']\n"
     ]
    }
   ],
   "source": [
    "print(names)"
   ]
  },
  {
   "cell_type": "code",
   "execution_count": 11,
   "id": "45b248d2-d8f1-4556-a1dd-9c1fae1cd3a1",
   "metadata": {},
   "outputs": [
    {
     "data": {
      "image/png": "[encoded data removed]",
      "text/plain": [
       "<rdkit.Chem.rdchem.Mol at 0x7fc71cf98a30>"
      ]
     },
     "execution_count": 11,
     "metadata": {},
     "output_type": "execute_result"
    }
   ],
   "source": [
    "molecules[0] "
   ]
  },
  {
   "cell_type": "code",
   "execution_count": 12,
   "id": "f993816b-3665-4e15-87d9-2c5d1cc444d2",
   "metadata": {},
   "outputs": [
    {
     "data": {
      "image/png": "[encoded data removed]",
      "text/plain": [
       "<rdkit.Chem.rdchem.Mol at 0x7fc71a65fc10>"
      ]
     },
     "execution_count": 12,
     "metadata": {},
     "output_type": "execute_result"
    }
   ],
   "source": [
    "mol_A = deepcopy(molecules[0])\n",
    "mol_A.RemoveAllConformers()\n",
    "mol_A"
   ]
  },
  {
   "cell_type": "code",
   "execution_count": 13,
   "id": "96b3fbe7-18fb-4b24-8b0f-c511329295f6",
   "metadata": {},
   "outputs": [
    {
     "data": {
      "image/png": "[encoded data removed]",
      "text/plain": [
       "<rdkit.Chem.rdchem.Mol at 0x7fc71a65b530>"
      ]
     },
     "execution_count": 13,
     "metadata": {},
     "output_type": "execute_result"
    }
   ],
   "source": [
    "smiles_A = \"c1[nH]c2c(n1)c(ncn2)N\"\n",
    "mol_A_smiles = AllChem.MolFromSmiles(smiles_A)\n",
    "mol_A_smiles"
   ]
  },
  {
   "cell_type": "markdown",
   "id": "a7c37ca3-8f28-4951-bdd2-93cbb8556a96",
   "metadata": {},
   "source": [
    "We see that the molecules are the same, and the pdb mol contains the correct bond orders. What happens if we apply the assing bond orders function to a molecule whose bond orders are correct?"
   ]
  },
  {
   "cell_type": "code",
   "execution_count": 14,
   "id": "f9d46493-c46e-415e-b489-8af955cf5cd8",
   "metadata": {},
   "outputs": [
    {
     "data": {
      "image/png": "[encoded data removed]",
      "text/plain": [
       "<rdkit.Chem.rdchem.Mol at 0x7fc71a60b930>"
      ]
     },
     "execution_count": 14,
     "metadata": {},
     "output_type": "execute_result"
    }
   ],
   "source": [
    "AllChem.AssignBondOrdersFromTemplate(mol_A_smiles, mol_A)"
   ]
  },
  {
   "cell_type": "markdown",
   "id": "d56321b7-633f-4cf5-b285-b8d6c51e66c3",
   "metadata": {},
   "source": [
    "It doesn't raise an error. The reason it failes is probably beacause the ligand id is incorrect. It should not be A, the correct id is ADE"
   ]
  },
  {
   "cell_type": "markdown",
   "id": "7c533a88-e545-4d8f-938e-40a370b6e7c1",
   "metadata": {},
   "source": [
    "### Myristic Acid"
   ]
  },
  {
   "cell_type": "code",
   "execution_count": 16,
   "id": "8ecab8d5-8ee7-4e63-ac1d-c7693b89eabb",
   "metadata": {},
   "outputs": [
    {
     "name": "stdout",
     "output_type": "stream",
     "text": [
      "Number of atoms 15\n"
     ]
    },
    {
     "data": {
      "image/png": "[encoded data removed]",
      "text/plain": [
       "<rdkit.Chem.rdchem.Mol at 0x7fc71a791530>"
      ]
     },
     "execution_count": 16,
     "metadata": {},
     "output_type": "execute_result"
    }
   ],
   "source": [
    "# Now we inspect myristic acid\n",
    "myristic = molecules[2]\n",
    "print(f\"Number of atoms {myristic.GetNumAtoms()}\")\n",
    "myristic"
   ]
  },
  {
   "cell_type": "code",
   "execution_count": 17,
   "id": "061efa2c-b926-4fe6-a579-1896d612bd67",
   "metadata": {},
   "outputs": [
    {
     "name": "stdout",
     "output_type": "stream",
     "text": [
      "Number of atoms 16\n"
     ]
    },
    {
     "data": {
      "image/png": "[encoded data removed]",
      "text/plain": [
       "<rdkit.Chem.rdchem.Mol at 0x7fc71a653d00>"
      ]
     },
     "execution_count": 17,
     "metadata": {},
     "output_type": "execute_result"
    }
   ],
   "source": [
    "myristic_smiles = AllChem.MolFromSmiles(\"CCCCCCCCCCCCCC(=O)O\")\n",
    "print(f\"Number of atoms {myristic_smiles.GetNumAtoms()}\")\n",
    "myristic_smiles"
   ]
  },
  {
   "cell_type": "code",
   "execution_count": 18,
   "id": "faf886c1-e346-4e40-a4a7-c0912b283630",
   "metadata": {},
   "outputs": [
    {
     "name": "stdout",
     "output_type": "stream",
     "text": [
      "1\n",
      "2\n"
     ]
    }
   ],
   "source": [
    "n_oxigens = len([atom for atom in myristic.GetAtoms() if atom.GetSymbol() == \"O\"])\n",
    "n_oxigens_smiles = len([atom for atom in myristic_smiles.GetAtoms() if atom.GetSymbol() == \"O\"])\n",
    "\n",
    "print(n_oxigens)\n",
    "print(n_oxigens_smiles)"
   ]
  },
  {
   "cell_type": "markdown",
   "id": "754c49f6-8fde-4376-85a5-6146e317064e",
   "metadata": {},
   "source": [
    "We see that an oxygen atom is missing. Therefore the molecule can not be corrected."
   ]
  },
  {
   "cell_type": "markdown",
   "id": "b9c47d58-3f27-42bd-a58c-ddf0e68a527f",
   "metadata": {},
   "source": [
    "### NAG"
   ]
  },
  {
   "cell_type": "code",
   "execution_count": 25,
   "id": "c5a2c27b-0908-487d-867a-3582fb85b89c",
   "metadata": {},
   "outputs": [
    {
     "data": {
      "image/png": "[encoded data removed]",
      "text/plain": [
       "<rdkit.Chem.rdchem.Mol at 0x7fc7109c3670>"
      ]
     },
     "execution_count": 25,
     "metadata": {},
     "output_type": "execute_result"
    }
   ],
   "source": [
    "nag = deepcopy(molecules[1])\n",
    "nag.RemoveAllConformers()\n",
    "nag"
   ]
  },
  {
   "cell_type": "code",
   "execution_count": 20,
   "id": "bed9583a-6ca7-4839-b7b9-e7a5a2615f0e",
   "metadata": {},
   "outputs": [
    {
     "data": {
      "image/png": "[encoded data removed]",
      "text/plain": [
       "<rdkit.Chem.rdchem.Mol at 0x7fc71a62d620>"
      ]
     },
     "execution_count": 20,
     "metadata": {},
     "output_type": "execute_result"
    }
   ],
   "source": [
    "nag_smiles = AllChem.MolFromSmiles(\"CC(=O)N[C@@H]1[C@H]([C@@H]([C@H](O[C@H]1O)CO)O)O\")\n",
    "nag_smiles"
   ]
  },
  {
   "cell_type": "code",
   "execution_count": 26,
   "id": "40c73016-4d8d-4d5c-877c-26c1413ca339",
   "metadata": {},
   "outputs": [
    {
     "name": "stdout",
     "output_type": "stream",
     "text": [
      "5\n",
      "6\n"
     ]
    }
   ],
   "source": [
    "n_oxigens = len([atom for atom in nag.GetAtoms() if atom.GetSymbol() == \"O\"])\n",
    "n_oxigens_smiles = len([atom for atom in nag_smiles.GetAtoms() if atom.GetSymbol() == \"O\"])\n",
    "\n",
    "print(n_oxigens)\n",
    "print(n_oxigens_smiles)"
   ]
  },
  {
   "cell_type": "markdown",
   "id": "1c39a2cd-b288-4c01-9c61-169833282df1",
   "metadata": {},
   "source": [
    "Again an oxygen is missing."
   ]
  },
  {
   "cell_type": "markdown",
   "id": "5c32f5ce-5a8c-425b-a266-415aa9e855b5",
   "metadata": {},
   "source": [
    "### Adenosine"
   ]
  },
  {
   "cell_type": "code",
   "execution_count": 27,
   "id": "6e708743-aeae-45fc-b887-4797b4029f52",
   "metadata": {},
   "outputs": [
    {
     "data": {
      "image/png": "[encoded data removed]",
      "text/plain": [
       "<rdkit.Chem.rdchem.Mol at 0x7fc710961da0>"
      ]
     },
     "execution_count": 27,
     "metadata": {},
     "output_type": "execute_result"
    }
   ],
   "source": [
    "adenosine = deepcopy(molecules[-3])\n",
    "adenosine.RemoveAllConformers()\n",
    "adenosine"
   ]
  },
  {
   "cell_type": "code",
   "execution_count": 28,
   "id": "8e3de162-f8ba-45c8-87c2-90d34dc63e64",
   "metadata": {},
   "outputs": [
    {
     "data": {
      "image/png": "[encoded data removed]",
      "text/plain": [
       "<rdkit.Chem.rdchem.Mol at 0x7fc710960710>"
      ]
     },
     "execution_count": 28,
     "metadata": {},
     "output_type": "execute_result"
    }
   ],
   "source": [
    "adenosine_smi = AllChem.MolFromSmiles(\"c1nc(c2c(n1)n(cn2)[C@H]3[C@@H]([C@@H]([C@H](O3)CO)O)O)N\")\n",
    "adenosine_smi"
   ]
  },
  {
   "cell_type": "code",
   "execution_count": 29,
   "id": "54b8a9f6-aaad-44ed-8dad-858e54fb5ee0",
   "metadata": {},
   "outputs": [
    {
     "name": "stdout",
     "output_type": "stream",
     "text": [
      "11\n",
      "19\n"
     ]
    }
   ],
   "source": [
    "print(adenosine.GetNumAtoms())\n",
    "print(adenosine_smi.GetNumAtoms())"
   ]
  },
  {
   "cell_type": "markdown",
   "id": "c34f3fb1-cd46-4920-abb8-8a617951ac61",
   "metadata": {},
   "source": [
    "Missing atoms"
   ]
  }
 ],
 "metadata": {
  "kernelspec": {
   "display_name": "Python 3 (ipykernel)",
   "language": "python",
   "name": "python3"
  },
  "language_info": {
   "codemirror_mode": {
    "name": "ipython",
    "version": 3
   },
   "file_extension": ".py",
   "mimetype": "text/x-python",
   "name": "python",
   "nbconvert_exporter": "python",
   "pygments_lexer": "ipython3",
   "version": "3.7.12"
  }
 },
 "nbformat": 4,
 "nbformat_minor": 5
}
