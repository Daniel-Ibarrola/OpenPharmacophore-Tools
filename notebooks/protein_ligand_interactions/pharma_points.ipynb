{
 "cells": [
  {
   "cell_type": "markdown",
   "id": "ca2d5e0b-6a1a-48b2-9ea1-5c3b4f87c4c4",
   "metadata": {},
   "source": [
    "# Pharmacophoric points from protein-ligand interactions"
   ]
  },
  {
   "cell_type": "code",
   "execution_count": 1,
   "id": "a828b241-abe2-4242-87e7-b5aeb1306134",
   "metadata": {},
   "outputs": [
    {
     "data": {
      "application/vnd.jupyter.widget-view+json": {
       "model_id": "56bf207a540a4ebca9050f1a2a63b4df",
       "version_major": 2,
       "version_minor": 0
      },
      "text/plain": []
     },
     "metadata": {},
     "output_type": "display_data"
    }
   ],
   "source": [
    "import openpharmacophore.pharmacophore.pl_interactions as pli\n",
    "import mdtraj as mdt\n",
    "import nglview as nv\n",
    "import numpy as np\n",
    "from rdkit.Chem import AllChem as Chem\n",
    "\n",
    "from view_feats import add_features_to_view, add_points_to_view\n",
    "\n",
    "import os\n",
    "from pprint import pprint"
   ]
  },
  {
   "cell_type": "code",
   "execution_count": 2,
   "id": "86662caa-1cad-41d9-856b-3ab9257171d2",
   "metadata": {},
   "outputs": [],
   "source": [
    "# Cutoff for determination of binding site atoms \n",
    "pli.BS_DIST = 0.55  # in nanometers\n",
    "pli.HYDROPHOBE_DIST = 0.5"
   ]
  },
  {
   "cell_type": "code",
   "execution_count": 3,
   "id": "9f9eba58-b763-48a1-b896-4a04330df124",
   "metadata": {},
   "outputs": [],
   "source": [
    "data_dir = \"./data\""
   ]
  },
  {
   "cell_type": "code",
   "execution_count": 4,
   "id": "549340cd-a0f0-47de-9b12-78b721381909",
   "metadata": {
    "tags": []
   },
   "outputs": [],
   "source": [
    "def load_ligand_from_sdf(file_path):\n",
    "    \"\"\" Loads the first ligand from an sdf file. \"\"\"\n",
    "    sup = Chem.SDMolSupplier(os.path.join(data_dir, file_path))\n",
    "    mols = [mol for mol in sup]\n",
    "    return mols[0]"
   ]
  },
  {
   "cell_type": "code",
   "execution_count": 5,
   "id": "762732d0-2ef6-4ae7-805e-2b035fca9d1c",
   "metadata": {},
   "outputs": [],
   "source": [
    "def print_traf_info(traj):\n",
    "    \"\"\" Prints basic info of a trajectory. \"\"\"\n",
    "    print(f\"Num atoms: {traj.n_atoms}\")\n",
    "    print(f\"Num chains: {traj.n_chains}\")\n",
    "    print(f\"Num residues: {traj.n_residues}\")"
   ]
  },
  {
   "cell_type": "code",
   "execution_count": 6,
   "id": "9ed0f745-db5f-4b70-a956-340be5cb2b6a",
   "metadata": {},
   "outputs": [],
   "source": [
    "def ligand_data(traj, lig_id):\n",
    "    \"\"\" Returns the ligand centroid, indices and maximum extent.\"\"\"\n",
    "    lig_indices = pli.get_ligand_atom_indices(traj, lig_id)\n",
    "    lig_centroid = pli.ligand_centroid(traj, lig_id)\n",
    "    lig_extent = pli.ligand_maximum_extent(traj, lig_id)\n",
    "\n",
    "    print(f\"Ligand indices len {len(lig_indices)}\")\n",
    "    print(f\"Ligand centroid: {lig_centroid}\")\n",
    "    print(f\"Ligand maximum extent: {lig_extent}\")\n",
    "    \n",
    "    return lig_indices, lig_centroid, lig_extent"
   ]
  },
  {
   "cell_type": "code",
   "execution_count": 7,
   "id": "a238c2c5-4410-4fc1-a280-19a498a410f3",
   "metadata": {},
   "outputs": [],
   "source": [
    "def ligand_chem_features(traj, ligand, ligand_indices):\n",
    "    \"\"\" Computes the chemical features for the ligand. \"\"\"\n",
    "    indices_mapper = dict(zip(list(range(ligand.GetNumAtoms()))\n",
    "                              ,ligand_indices))\n",
    "    ligand_features_rd = pli.chemical_features(ligand, pli.smarts_feat_def)\n",
    "\n",
    "    # Map rdkit ligand indices to mdtraj's\n",
    "    ligand_features = pli.map_ligand_features_indices(ligand_features_rd, indices_mapper)\n",
    "    return pli.features_centroid(ligand_features, traj.xyz)"
   ]
  },
  {
   "cell_type": "code",
   "execution_count": 8,
   "id": "68cf4459-d1dc-4566-82dd-2ee32a5a3a00",
   "metadata": {},
   "outputs": [],
   "source": [
    "def view_ligand_with_feats(traj, ligand_indices, ligand_feats):\n",
    "    \"\"\" Returns a view of the ligand with its chemical features as spheres.\"\"\"\n",
    "    ligand_traj = traj.atom_slice(ligand_indices)\n",
    "    ligand_view = nv.show_mdtraj(ligand_traj)\n",
    "    add_features_to_view(ligand_view, ligand_feats)\n",
    "    return ligand_view"
   ]
  },
  {
   "cell_type": "code",
   "execution_count": 9,
   "id": "bcb4c1e7-7967-49a7-ae6c-123143199756",
   "metadata": {},
   "outputs": [],
   "source": [
    "def binding_site_data(protein_mol, coords, lig_centroid, lig_extent):\n",
    "    \"\"\" Returns the binding site indices and chemical features. \"\"\"\n",
    "    bs_indices = pli.get_binding_site_atoms_indices(\n",
    "        lig_centroid, lig_extent, coords[0])\n",
    "    print(f\"Bs indices shape {bs_indices.shape}\")\n",
    "    \n",
    "    bs_feats_indices = pli.chemical_features(protein_mol, pli.protein_smarts, bs_indices)\n",
    "    bs_feats = pli.features_centroid(bs_feats_indices, coords)\n",
    "    return bs_indices, bs_feats"
   ]
  },
  {
   "cell_type": "code",
   "execution_count": 10,
   "id": "f0dc4f4c-d45f-424e-b1f8-9c431094b18f",
   "metadata": {},
   "outputs": [],
   "source": [
    "def view_binding_site(traj, bs_indices, bs_feats, \n",
    "                      ligand_indices, ligand_feats):\n",
    "    \"\"\" Returns a view of the binding site with the ligand and it's chemical features. \n",
    "    \"\"\"\n",
    "    bs_site_traj = traj.atom_slice(np.concatenate((bs_indices, np.array(ligand_indices))))\n",
    "    feats_view = nv.show_mdtraj(bs_site_traj)\n",
    "    add_features_to_view(feats_view, ligand_feats)\n",
    "    add_features_to_view(feats_view, bs_feats)\n",
    "    feats_view.representations = [\n",
    "         {\"type\": \"ball+stick\", \n",
    "          \"params\": {\n",
    "              \"sele\": \"protein\",\n",
    "          }},\n",
    "        {\"type\": \"ball+stick\", \n",
    "         \"params\": {\n",
    "             \"sele\": \"( not polymer or hetero ) and not ( water or ion )\",\n",
    "             # \"color\": \"blue\",\n",
    "        }}\n",
    "    ]\n",
    "    return feats_view"
   ]
  },
  {
   "cell_type": "code",
   "execution_count": 11,
   "id": "67403833-e91e-416f-ab6d-1d04c6b5132c",
   "metadata": {},
   "outputs": [],
   "source": [
    "def view_pharmacophoric_points(traj, bs_indices, ligand_indices, points, point_type):\n",
    "\n",
    "    bs_site_traj = traj.atom_slice(np.concatenate((bs_indices, np.array(ligand_indices))))\n",
    "    bs_view = nv.show_mdtraj(bs_site_traj)\n",
    "    add_points_to_view(bs_view, points, point_type)\n",
    "    bs_view.representations = [\n",
    "         {\"type\": \"ball+stick\", \n",
    "          \"params\": {\n",
    "              \"sele\": \"all\",\n",
    "          }},\n",
    "    ]\n",
    "    return bs_view"
   ]
  },
  {
   "cell_type": "markdown",
   "id": "9685606c-47b3-4f76-85fb-7997b49a428d",
   "metadata": {},
   "source": [
    "## Hydrophobic pharmacophoric points\n",
    "\n",
    "Hydrophobic pharmacophoric points in  HNF4 alpha ligand binding domain and lauric acid (PDB id 1M7W)."
   ]
  },
  {
   "cell_type": "code",
   "execution_count": 12,
   "id": "4d7e40c8-4b59-4f28-b955-cc9956a4f684",
   "metadata": {},
   "outputs": [
    {
     "name": "stdout",
     "output_type": "stream",
     "text": [
      "Num atoms: 1791\n",
      "Num chains: 2\n",
      "Num residues: 224\n"
     ]
    },
    {
     "data": {
      "image/png": "[encoded data removed]",
      "text/plain": [
       "<rdkit.Chem.rdchem.Mol at 0x7ff0e829bf80>"
      ]
     },
     "execution_count": 12,
     "metadata": {},
     "output_type": "execute_result"
    }
   ],
   "source": [
    "traj_1m7w = mdt.load(os.path.join(data_dir, \"1m7w/1m7w_A_chain.pdb\"))\n",
    "mol_1m7w = Chem.MolFromPDBFile(os.path.join(data_dir, \"1m7w/1m7w_A_chain.pdb\"))\n",
    "dao = load_ligand_from_sdf(\"1m7w/dao.sdf\")\n",
    "print_traf_info(traj_1m7w)\n",
    "dao"
   ]
  },
  {
   "cell_type": "code",
   "execution_count": 13,
   "id": "9305a8b2-2249-442c-bb69-c276a60143bd",
   "metadata": {},
   "outputs": [
    {
     "data": {
      "text/plain": [
       "['DAO:B']"
      ]
     },
     "execution_count": 13,
     "metadata": {},
     "output_type": "execute_result"
    }
   ],
   "source": [
    "pli.find_ligands_in_traj(traj_1m7w)"
   ]
  },
  {
   "cell_type": "code",
   "execution_count": 14,
   "id": "2ad8b3ab-421e-4090-9ce4-a1ab4b64e50f",
   "metadata": {},
   "outputs": [
    {
     "name": "stdout",
     "output_type": "stream",
     "text": [
      "Ligand indices len 14\n",
      "Ligand centroid: [6.3883634 2.9532642 1.2690858]\n",
      "Ligand maximum extent: 0.6139441132545471\n"
     ]
    }
   ],
   "source": [
    "# Get all necessary ligand data\n",
    "lig_id = \"DAO:B\"\n",
    "dao_indices, dao_centroid, dao_extent = ligand_data(traj_1m7w, lig_id)"
   ]
  },
  {
   "cell_type": "code",
   "execution_count": 15,
   "id": "eee95ad5-90d7-46be-864a-b7084452ed1c",
   "metadata": {},
   "outputs": [],
   "source": [
    "dao_feats = ligand_chem_features(traj_1m7w, dao, dao_indices)\n",
    "# Keep only hydrophobic features\n",
    "hyd_feats_dao = {\n",
    "    \"Hydrophobe\": dao_feats[\"Hydrophobe\"]\n",
    "}"
   ]
  },
  {
   "cell_type": "code",
   "execution_count": 16,
   "id": "990a6c77-33b3-45a2-9970-fd31e24f1d89",
   "metadata": {},
   "outputs": [
    {
     "data": {
      "application/vnd.jupyter.widget-view+json": {
       "model_id": "8be807415fe24afe985028c834c891f2",
       "version_major": 2,
       "version_minor": 0
      },
      "text/plain": [
       "NGLWidget()"
      ]
     },
     "metadata": {},
     "output_type": "display_data"
    }
   ],
   "source": [
    "view_ligand_with_feats(traj_1m7w, dao_indices, hyd_feats_dao)"
   ]
  },
  {
   "cell_type": "code",
   "execution_count": 17,
   "id": "845e081a-cfb1-490a-b3d8-4b7b19a708fe",
   "metadata": {},
   "outputs": [
    {
     "name": "stdout",
     "output_type": "stream",
     "text": [
      "Bs indices shape (321,)\n"
     ]
    }
   ],
   "source": [
    "bs_indices_1m7w, bs_feats_1m7w = binding_site_data(mol_1m7w, traj_1m7w.xyz, dao_centroid, dao_extent)\n",
    "bs_feats_hyd = {\n",
    "    \"Hydrophobe\": bs_feats_1m7w[\"Hydrophobe\"]\n",
    "}"
   ]
  },
  {
   "cell_type": "code",
   "execution_count": 18,
   "id": "cda10f30-46d0-4ca4-bc03-703d7978a1b6",
   "metadata": {},
   "outputs": [
    {
     "data": {
      "application/vnd.jupyter.widget-view+json": {
       "model_id": "c0af1e7d0f74478f8d136844f33aae71",
       "version_major": 2,
       "version_minor": 0
      },
      "text/plain": [
       "NGLWidget()"
      ]
     },
     "metadata": {},
     "output_type": "display_data"
    }
   ],
   "source": [
    "view_binding_site(traj_1m7w, bs_indices_1m7w, bs_feats_hyd, \n",
    "                  dao_indices, hyd_feats_dao)"
   ]
  },
  {
   "cell_type": "markdown",
   "id": "c3272f6b-30db-476c-9a23-ee87c22724a1",
   "metadata": {},
   "source": [
    "### Get pharmacophoric points"
   ]
  },
  {
   "cell_type": "code",
   "execution_count": 21,
   "id": "636ab940-c928-408d-ac8b-ec677fc797fa",
   "metadata": {},
   "outputs": [
    {
     "name": "stdout",
     "output_type": "stream",
     "text": [
      "Number of hydrophobic points 3\n"
     ]
    }
   ],
   "source": [
    "hyd_points = pli.hydrophobic_pharmacophoric_points(hyd_feats_dao[\"Hydrophobe\"],\n",
    "                                                   bs_feats_hyd[\"Hydrophobe\"]\n",
    "                                                  )\n",
    "print(f\"Number of hydrophobic points {len(hyd_points)}\")"
   ]
  },
  {
   "cell_type": "code",
   "execution_count": 22,
   "id": "13154c84-cb44-4110-8566-dda69d24da3d",
   "metadata": {},
   "outputs": [
    {
     "data": {
      "application/vnd.jupyter.widget-view+json": {
       "model_id": "2a39ddd0a28d47319a680b34ce199198",
       "version_major": 2,
       "version_minor": 0
      },
      "text/plain": [
       "NGLWidget()"
      ]
     },
     "metadata": {},
     "output_type": "display_data"
    }
   ],
   "source": [
    "view_pharmacophoric_points(traj_1m7w, bs_indices_1m7w, dao_indices, \n",
    "                           hyd_points, \"Hydrophobe\")"
   ]
  }
 ],
 "metadata": {
  "kernelspec": {
   "display_name": "Python 3 (ipykernel)",
   "language": "python",
   "name": "python3"
  },
  "language_info": {
   "codemirror_mode": {
    "name": "ipython",
    "version": 3
   },
   "file_extension": ".py",
   "mimetype": "text/x-python",
   "name": "python",
   "nbconvert_exporter": "python",
   "pygments_lexer": "ipython3",
   "version": "3.7.12"
  }
 },
 "nbformat": 4,
 "nbformat_minor": 5
}
