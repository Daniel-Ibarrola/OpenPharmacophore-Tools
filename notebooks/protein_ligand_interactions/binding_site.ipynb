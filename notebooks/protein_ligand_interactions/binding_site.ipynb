{
 "cells": [
  {
   "cell_type": "code",
   "execution_count": 1,
   "id": "7cfe619e-c8e0-416b-99cd-338f6eb65ee3",
   "metadata": {},
   "outputs": [
    {
     "data": {
      "application/vnd.jupyter.widget-view+json": {
       "model_id": "819ce6fdaa834fdaa6323803949e9e2b",
       "version_major": 2,
       "version_minor": 0
      },
      "text/plain": []
     },
     "metadata": {},
     "output_type": "display_data"
    }
   ],
   "source": [
    "import openpharmacophore.pharmacophore.pl_interactions as pli\n",
    "import mdtraj as mdt\n",
    "import nglview as nv\n",
    "import numpy as np\n",
    "from matplotlib.colors import to_rgb"
   ]
  },
  {
   "cell_type": "markdown",
   "id": "16b43004-921a-4d11-b47a-dc9774e7e841",
   "metadata": {},
   "source": [
    "# Visualize the binding site of protein-ligand complex"
   ]
  },
  {
   "cell_type": "code",
   "execution_count": 2,
   "id": "cdd524d1-6527-4507-b87a-5b9dae0b0f27",
   "metadata": {},
   "outputs": [],
   "source": [
    "def extract_chain(traj, chains):\n",
    "    \"\"\" Extract chains from a trajectory\n",
    "\n",
    "        Parameters\n",
    "        ----------\n",
    "        traj: mdtraj.trajectory\n",
    "\n",
    "        chains: list[int]\n",
    "\n",
    "        Returns\n",
    "        -------\n",
    "        new_traj: mdtraj.Trajectory\n",
    "\n",
    "    \"\"\"\n",
    "    topology = traj.topology\n",
    "    return traj.atom_slice(\n",
    "        [atom.index for atom in topology.atoms if (atom.residue.chain.index in chains)]\n",
    "    )"
   ]
  },
  {
   "cell_type": "code",
   "execution_count": 3,
   "id": "e8472f6a-ac09-4c6e-b293-71397a045029",
   "metadata": {},
   "outputs": [],
   "source": [
    "def add_sphere_to_view(view, center, radius):\n",
    "    \"\"\" Add a sphere to a view. \"\"\"\n",
    "    color = '#B03A2E'\n",
    "    n_components = len(view._ngl_component_ids)\n",
    "    view.shape.add_sphere(center.tolist(), to_rgb(color), radius, \"sphere\")\n",
    "    view.update_representation(component=n_components, repr_index=0, opacity=0.3)"
   ]
  },
  {
   "cell_type": "code",
   "execution_count": 4,
   "id": "90885657-0d0b-4bbe-8efc-802520035f5b",
   "metadata": {},
   "outputs": [],
   "source": [
    "traj = mdt.load(\"../../test_cases/eralpha/1qku/1qku.pdb\")\n",
    "traj = extract_chain(traj, [0, 3])\n",
    "view = nv.show_mdtraj(traj)"
   ]
  },
  {
   "cell_type": "code",
   "execution_count": 5,
   "id": "b3b9d112-9e62-41ed-8889-cf945fa4ef93",
   "metadata": {},
   "outputs": [],
   "source": [
    "traj.save_pdb(\"er_alpha_A_chain.pdb\")"
   ]
  },
  {
   "cell_type": "code",
   "execution_count": 6,
   "id": "f09675df-4910-44e6-968c-d1a2458cea7e",
   "metadata": {},
   "outputs": [
    {
     "name": "stdout",
     "output_type": "stream",
     "text": [
      "['EST:B']\n"
     ]
    }
   ],
   "source": [
    "print(pli.find_ligands_in_traj(traj))"
   ]
  },
  {
   "cell_type": "code",
   "execution_count": 7,
   "id": "140a82ee-aa23-43a7-9b02-8d4eca8582e7",
   "metadata": {},
   "outputs": [],
   "source": [
    "ligand_id = \"EST:B\"\n",
    "centroid = pli.ligand_centroid(traj, ligand_id) * 10 # convert to angstroms\n",
    "extent = pli.ligand_maximum_extent(traj, ligand_id) * 10"
   ]
  },
  {
   "cell_type": "code",
   "execution_count": 8,
   "id": "de2ac114-954f-4f2f-9b07-298e2e4f2202",
   "metadata": {},
   "outputs": [],
   "source": [
    "bs_site = extent + 8.5"
   ]
  },
  {
   "cell_type": "code",
   "execution_count": 9,
   "id": "5bdeeb6c-41b8-4953-9e27-e1d553cdc829",
   "metadata": {},
   "outputs": [
    {
     "data": {
      "application/vnd.jupyter.widget-view+json": {
       "model_id": "9ed10a18b3734987b5f57dba54842f15",
       "version_major": 2,
       "version_minor": 0
      },
      "text/plain": [
       "NGLWidget()"
      ]
     },
     "metadata": {},
     "output_type": "display_data"
    }
   ],
   "source": [
    "add_sphere_to_view(view, centroid, bs_site)\n",
    "view.representations = [\n",
    "     {\"type\": \"ball+stick\", \n",
    "      \"params\": {\n",
    "          \"sele\": \"protein\",\n",
    "          \"color\": \"residueindex\"\n",
    "      }},\n",
    "    {\"type\": \"ball+stick\", \n",
    "     \"params\": {\n",
    "         \"sele\": \"( not polymer or hetero ) and not ( water or ion )\"\n",
    "    }}\n",
    "]\n",
    "view"
   ]
  },
  {
   "cell_type": "markdown",
   "id": "a3f192ac-5619-4b0d-aec2-e25c75adcf53",
   "metadata": {},
   "source": [
    "## Extract binding site\n",
    "Extract binding site to a new trajectory for visualization purposes"
   ]
  },
  {
   "cell_type": "code",
   "execution_count": 10,
   "id": "fa26007d-7b31-4ab4-8cb4-e60b29cc58e7",
   "metadata": {},
   "outputs": [],
   "source": [
    "BS_DIST = 8.5  # in angstroms\n",
    "\n",
    "\n",
    "def get_binding_site_atoms_indices(lig_center, lig_max_extent, coords):\n",
    "    \"\"\" Get the indices of all the atoms that belong to the binding site.\n",
    "\n",
    "        Parameters\n",
    "        ----------\n",
    "        lig_center : np.array of shape (3,)\n",
    "        lig_max_extent : float\n",
    "        coords: np.array of shape(n_atoms, 3)\n",
    "\n",
    "        Returns\n",
    "        -------\n",
    "        bs_indices: list[int]\n",
    "    \"\"\"\n",
    "    bs_cutoff = lig_max_extent + BS_DIST\n",
    "    distance = np.sqrt(np.sum(np.power(coords - lig_center, 2), axis=1))\n",
    "    return np.where(distance <= bs_cutoff)[0]"
   ]
  },
  {
   "cell_type": "code",
   "execution_count": 11,
   "id": "0bf39658-a54d-408e-a127-7f863fcac42e",
   "metadata": {},
   "outputs": [
    {
     "data": {
      "text/plain": [
       "(656,)"
      ]
     },
     "execution_count": 11,
     "metadata": {},
     "output_type": "execute_result"
    }
   ],
   "source": [
    "bs_indices = get_binding_site_atoms_indices(centroid, extent, traj.xyz[0] * 10)\n",
    "bs_indices.shape"
   ]
  },
  {
   "cell_type": "code",
   "execution_count": 12,
   "id": "f9b98f34-d086-4269-a4f0-6529b09bda70",
   "metadata": {},
   "outputs": [
    {
     "name": "stdout",
     "output_type": "stream",
     "text": [
      "<mdtraj.Trajectory with 1 frames, 656 atoms, 106 residues, and unitcells>\n"
     ]
    }
   ],
   "source": [
    "bs_traj = traj.atom_slice(bs_indices)\n",
    "print(bs_traj)"
   ]
  },
  {
   "cell_type": "code",
   "execution_count": 13,
   "id": "a6af649a-d87b-42ee-8465-c491b90b03d8",
   "metadata": {},
   "outputs": [
    {
     "data": {
      "application/vnd.jupyter.widget-view+json": {
       "model_id": "a99aa3b7fcea4e159fb7c4955a82cc91",
       "version_major": 2,
       "version_minor": 0
      },
      "text/plain": [
       "NGLWidget()"
      ]
     },
     "metadata": {},
     "output_type": "display_data"
    }
   ],
   "source": [
    "bs_view = nv.show_mdtraj(bs_traj)\n",
    "bs_view.representations = [\n",
    "     {\"type\": \"ball+stick\", \n",
    "      \"params\": {\n",
    "          \"sele\": \"protein\",\n",
    "      }},\n",
    "    {\"type\": \"ball+stick\", \n",
    "     \"params\": {\n",
    "         \"sele\": \"( not polymer or hetero ) and not ( water or ion )\",\n",
    "         \"color\": \"blue\"\n",
    "    }}\n",
    "]\n",
    "bs_view"
   ]
  }
 ],
 "metadata": {
  "kernelspec": {
   "display_name": "Python 3 (ipykernel)",
   "language": "python",
   "name": "python3"
  },
  "language_info": {
   "codemirror_mode": {
    "name": "ipython",
    "version": 3
   },
   "file_extension": ".py",
   "mimetype": "text/x-python",
   "name": "python",
   "nbconvert_exporter": "python",
   "pygments_lexer": "ipython3",
   "version": "3.7.12"
  }
 },
 "nbformat": 4,
 "nbformat_minor": 5
}
