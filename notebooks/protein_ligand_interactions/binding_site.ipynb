{
 "cells": [
  {
   "cell_type": "code",
   "execution_count": 1,
   "id": "7cfe619e-c8e0-416b-99cd-338f6eb65ee3",
   "metadata": {},
   "outputs": [
    {
     "data": {
      "application/vnd.jupyter.widget-view+json": {
       "model_id": "227197310d374ac396b9eb1b5951ee46",
       "version_major": 2,
       "version_minor": 0
      },
      "text/plain": []
     },
     "metadata": {},
     "output_type": "display_data"
    }
   ],
   "source": [
    "import pl_interactions as pli\n",
    "\n",
    "import mdtraj as mdt\n",
    "import nglview as nv\n",
    "import numpy as np\n",
    "from matplotlib.colors import to_rgb\n",
    "from rdkit import Chem"
   ]
  },
  {
   "cell_type": "markdown",
   "id": "16b43004-921a-4d11-b47a-dc9774e7e841",
   "metadata": {},
   "source": [
    "# Visualize the binding site of protein-ligand complex"
   ]
  },
  {
   "cell_type": "code",
   "execution_count": 2,
   "id": "cdd524d1-6527-4507-b87a-5b9dae0b0f27",
   "metadata": {},
   "outputs": [],
   "source": [
    "def extract_chain(traj, chains):\n",
    "    \"\"\" Extract chains from a trajectory\n",
    "\n",
    "        Parameters\n",
    "        ----------\n",
    "        traj: mdtraj.trajectory\n",
    "\n",
    "        chains: list[int]\n",
    "\n",
    "        Returns\n",
    "        -------\n",
    "        new_traj: mdtraj.Trajectory\n",
    "\n",
    "    \"\"\"\n",
    "    topology = traj.topology\n",
    "    return traj.atom_slice(\n",
    "        [atom.index for atom in topology.atoms if (atom.residue.chain.index in chains)]\n",
    "    )"
   ]
  },
  {
   "cell_type": "code",
   "execution_count": 3,
   "id": "e8472f6a-ac09-4c6e-b293-71397a045029",
   "metadata": {},
   "outputs": [],
   "source": [
    "def add_sphere_to_view(view, center, radius):\n",
    "    \"\"\" Add a sphere to a view. \"\"\"\n",
    "    color = '#B03A2E'\n",
    "    n_components = len(view._ngl_component_ids)\n",
    "    view.shape.add_sphere(center.tolist(), to_rgb(color), radius, \"sphere\")\n",
    "    view.update_representation(component=n_components, repr_index=0, opacity=0.3)"
   ]
  },
  {
   "cell_type": "code",
   "execution_count": 4,
   "id": "90885657-0d0b-4bbe-8efc-802520035f5b",
   "metadata": {},
   "outputs": [],
   "source": [
    "traj_all_chains = mdt.load(\"../../datasets/ligand-receptor/test_cases/eralpha/1qku/1qku.pdb\")\n",
    "traj = extract_chain(traj_all_chains, [0, 3])\n",
    "view = nv.show_mdtraj(traj)"
   ]
  },
  {
   "cell_type": "code",
   "execution_count": 5,
   "id": "d378115a-dd8f-4948-8cbc-be123ea8c69c",
   "metadata": {},
   "outputs": [
    {
     "data": {
      "application/vnd.jupyter.widget-view+json": {
       "model_id": "4987454e7d694e95a299532fa73f717c",
       "version_major": 2,
       "version_minor": 0
      },
      "text/plain": [
       "NGLWidget()"
      ]
     },
     "metadata": {},
     "output_type": "display_data"
    }
   ],
   "source": [
    "ligand = extract_chain(traj_all_chains, [3])\n",
    "nv.show_mdtraj(ligand)"
   ]
  },
  {
   "cell_type": "code",
   "execution_count": 6,
   "id": "b3b9d112-9e62-41ed-8889-cf945fa4ef93",
   "metadata": {},
   "outputs": [],
   "source": [
    "traj.save_pdb(\"./data/er_alpha/er_alpha_A_chain.pdb\")\n",
    "ligand.save_pdb(\"./data/er_alpha/estradiol.pdb\")"
   ]
  },
  {
   "cell_type": "code",
   "execution_count": 7,
   "id": "f09675df-4910-44e6-968c-d1a2458cea7e",
   "metadata": {},
   "outputs": [
    {
     "name": "stdout",
     "output_type": "stream",
     "text": [
      "['EST:B']\n"
     ]
    }
   ],
   "source": [
    "print(pli.find_ligands_in_traj(traj))"
   ]
  },
  {
   "cell_type": "code",
   "execution_count": 8,
   "id": "140a82ee-aa23-43a7-9b02-8d4eca8582e7",
   "metadata": {},
   "outputs": [],
   "source": [
    "ligand_id = \"EST:B\"\n",
    "centroid = pli.ligand_centroid(traj, ligand_id) * 10 # convert to angstroms\n",
    "extent = pli.ligand_maximum_extent(traj, ligand_id) * 10"
   ]
  },
  {
   "cell_type": "code",
   "execution_count": 9,
   "id": "de2ac114-954f-4f2f-9b07-298e2e4f2202",
   "metadata": {},
   "outputs": [],
   "source": [
    "bs_site = extent + 8.5"
   ]
  },
  {
   "cell_type": "code",
   "execution_count": 10,
   "id": "5bdeeb6c-41b8-4953-9e27-e1d553cdc829",
   "metadata": {},
   "outputs": [
    {
     "data": {
      "application/vnd.jupyter.widget-view+json": {
       "model_id": "ce42f28c37874ca9ab62955ccf153016",
       "version_major": 2,
       "version_minor": 0
      },
      "text/plain": [
       "NGLWidget()"
      ]
     },
     "metadata": {},
     "output_type": "display_data"
    }
   ],
   "source": [
    "add_sphere_to_view(view, centroid, bs_site)\n",
    "view.representations = [\n",
    "     {\"type\": \"ball+stick\", \n",
    "      \"params\": {\n",
    "          \"sele\": \"protein\",\n",
    "          \"color\": \"residueindex\"\n",
    "      }},\n",
    "    {\"type\": \"ball+stick\", \n",
    "     \"params\": {\n",
    "         \"sele\": \"( not polymer or hetero ) and not ( water or ion )\"\n",
    "    }}\n",
    "]\n",
    "view"
   ]
  },
  {
   "cell_type": "markdown",
   "id": "a3f192ac-5619-4b0d-aec2-e25c75adcf53",
   "metadata": {},
   "source": [
    "## Extract binding site\n",
    "Extract binding site to a new trajectory for visualization purposes"
   ]
  },
  {
   "cell_type": "code",
   "execution_count": 11,
   "id": "fa26007d-7b31-4ab4-8cb4-e60b29cc58e7",
   "metadata": {},
   "outputs": [],
   "source": [
    "BS_DIST = 5.0  # in angstroms\n",
    "\n",
    "\n",
    "def get_binding_site_atoms_indices(lig_center, lig_max_extent, coords):\n",
    "    \"\"\" Get the indices of all the atoms that belong to the binding site.\n",
    "\n",
    "        Parameters\n",
    "        ----------\n",
    "        lig_center : np.array of shape (3,)\n",
    "        lig_max_extent : float\n",
    "        coords: np.array of shape(n_atoms, 3)\n",
    "\n",
    "        Returns\n",
    "        -------\n",
    "        bs_indices: list[int]\n",
    "    \"\"\"\n",
    "    bs_cutoff = lig_max_extent + BS_DIST\n",
    "    distance = np.sqrt(np.sum(np.power(coords - lig_center, 2), axis=1))\n",
    "    return np.where(distance <= bs_cutoff)[0]"
   ]
  },
  {
   "cell_type": "code",
   "execution_count": 12,
   "id": "0bf39658-a54d-408e-a127-7f863fcac42e",
   "metadata": {},
   "outputs": [
    {
     "data": {
      "text/plain": [
       "(287,)"
      ]
     },
     "execution_count": 12,
     "metadata": {},
     "output_type": "execute_result"
    }
   ],
   "source": [
    "bs_indices = get_binding_site_atoms_indices(centroid, extent, traj.xyz[0] * 10)\n",
    "bs_indices.shape"
   ]
  },
  {
   "cell_type": "code",
   "execution_count": 13,
   "id": "f9b98f34-d086-4269-a4f0-6529b09bda70",
   "metadata": {},
   "outputs": [],
   "source": [
    "bs_traj = traj.atom_slice(bs_indices)\n",
    "\n",
    "# Some of the rsidue"
   ]
  },
  {
   "cell_type": "code",
   "execution_count": 14,
   "id": "a6af649a-d87b-42ee-8465-c491b90b03d8",
   "metadata": {},
   "outputs": [
    {
     "data": {
      "application/vnd.jupyter.widget-view+json": {
       "model_id": "27b39e9668d54523a39b4efc2f7f9ae4",
       "version_major": 2,
       "version_minor": 0
      },
      "text/plain": [
       "NGLWidget()"
      ]
     },
     "metadata": {},
     "output_type": "display_data"
    }
   ],
   "source": [
    "bs_view = nv.show_mdtraj(bs_traj)\n",
    "bs_view.representations = [\n",
    "     {\"type\": \"ball+stick\", \n",
    "      \"params\": {\n",
    "          \"sele\": \"protein\",\n",
    "      }},\n",
    "    {\"type\": \"ball+stick\", \n",
    "     \"params\": {\n",
    "         \"sele\": \"( not polymer or hetero ) and not ( water or ion )\",\n",
    "         \"color\": \"blue\"\n",
    "    }}\n",
    "]\n",
    "bs_view"
   ]
  },
  {
   "cell_type": "code",
   "execution_count": 15,
   "id": "09e648cb-6f55-46e7-84d1-a71377c24669",
   "metadata": {},
   "outputs": [
    {
     "name": "stdout",
     "output_type": "stream",
     "text": [
      "Num chains 2\n",
      "Num residues 53\n",
      "Num atoms 287\n"
     ]
    }
   ],
   "source": [
    "print(f\"Num chains {bs_traj.n_chains}\")\n",
    "print(f\"Num residues {bs_traj.n_residues}\")\n",
    "print(f\"Num atoms {bs_traj.n_atoms}\")"
   ]
  },
  {
   "cell_type": "markdown",
   "id": "7ad9ae58-a2ff-44f4-9c2a-79b3d7492b65",
   "metadata": {},
   "source": [
    "### Removing incomplete residues from the binding site\n",
    "\n",
    "When we extracted the binding site, some of the residues lost some of their atoms and they are \n",
    "incomplete. We will remove this residues."
   ]
  },
  {
   "cell_type": "code",
   "execution_count": 16,
   "id": "9f684227-69be-407f-a919-2dddd0e9a567",
   "metadata": {},
   "outputs": [],
   "source": [
    "bs_df, _ = bs_traj.topology.to_dataframe()"
   ]
  },
  {
   "cell_type": "markdown",
   "id": "3147b799-4573-4dd5-85e4-32094c6f34c2",
   "metadata": {},
   "source": [
    "LEU 540 is an example of a residue that lost part of its atoms"
   ]
  },
  {
   "cell_type": "code",
   "execution_count": 17,
   "id": "6b1f2140-3e40-4bb6-8434-d13464caff8f",
   "metadata": {},
   "outputs": [
    {
     "data": {
      "text/html": [
       "<div>\n",
       "<style scoped>\n",
       "    .dataframe tbody tr th:only-of-type {\n",
       "        vertical-align: middle;\n",
       "    }\n",
       "\n",
       "    .dataframe tbody tr th {\n",
       "        vertical-align: top;\n",
       "    }\n",
       "\n",
       "    .dataframe thead th {\n",
       "        text-align: right;\n",
       "    }\n",
       "</style>\n",
       "<table border=\"1\" class=\"dataframe\">\n",
       "  <thead>\n",
       "    <tr style=\"text-align: right;\">\n",
       "      <th></th>\n",
       "      <th>serial</th>\n",
       "      <th>name</th>\n",
       "      <th>element</th>\n",
       "      <th>resSeq</th>\n",
       "      <th>resName</th>\n",
       "      <th>chainID</th>\n",
       "      <th>segmentID</th>\n",
       "    </tr>\n",
       "  </thead>\n",
       "  <tbody>\n",
       "    <tr>\n",
       "      <th>259</th>\n",
       "      <td>1898</td>\n",
       "      <td>CA</td>\n",
       "      <td>C</td>\n",
       "      <td>540</td>\n",
       "      <td>LEU</td>\n",
       "      <td>0</td>\n",
       "      <td></td>\n",
       "    </tr>\n",
       "    <tr>\n",
       "      <th>260</th>\n",
       "      <td>1900</td>\n",
       "      <td>O</td>\n",
       "      <td>O</td>\n",
       "      <td>540</td>\n",
       "      <td>LEU</td>\n",
       "      <td>0</td>\n",
       "      <td></td>\n",
       "    </tr>\n",
       "    <tr>\n",
       "      <th>261</th>\n",
       "      <td>1901</td>\n",
       "      <td>CB</td>\n",
       "      <td>C</td>\n",
       "      <td>540</td>\n",
       "      <td>LEU</td>\n",
       "      <td>0</td>\n",
       "      <td></td>\n",
       "    </tr>\n",
       "    <tr>\n",
       "      <th>262</th>\n",
       "      <td>1902</td>\n",
       "      <td>CG</td>\n",
       "      <td>C</td>\n",
       "      <td>540</td>\n",
       "      <td>LEU</td>\n",
       "      <td>0</td>\n",
       "      <td></td>\n",
       "    </tr>\n",
       "    <tr>\n",
       "      <th>263</th>\n",
       "      <td>1903</td>\n",
       "      <td>CD1</td>\n",
       "      <td>C</td>\n",
       "      <td>540</td>\n",
       "      <td>LEU</td>\n",
       "      <td>0</td>\n",
       "      <td></td>\n",
       "    </tr>\n",
       "    <tr>\n",
       "      <th>264</th>\n",
       "      <td>1904</td>\n",
       "      <td>CD2</td>\n",
       "      <td>C</td>\n",
       "      <td>540</td>\n",
       "      <td>LEU</td>\n",
       "      <td>0</td>\n",
       "      <td></td>\n",
       "    </tr>\n",
       "  </tbody>\n",
       "</table>\n",
       "</div>"
      ],
      "text/plain": [
       "     serial name element  resSeq resName  chainID segmentID\n",
       "259    1898   CA       C     540     LEU        0          \n",
       "260    1900    O       O     540     LEU        0          \n",
       "261    1901   CB       C     540     LEU        0          \n",
       "262    1902   CG       C     540     LEU        0          \n",
       "263    1903  CD1       C     540     LEU        0          \n",
       "264    1904  CD2       C     540     LEU        0          "
      ]
     },
     "execution_count": 17,
     "metadata": {},
     "output_type": "execute_result"
    }
   ],
   "source": [
    "bs_df[bs_df[\"resSeq\"] == 540]"
   ]
  },
  {
   "cell_type": "code",
   "execution_count": 18,
   "id": "d1e10c67-c0b7-4023-99fc-4796920daf19",
   "metadata": {},
   "outputs": [],
   "source": [
    "traj_df, _ =  traj.topology.to_dataframe()"
   ]
  },
  {
   "cell_type": "code",
   "execution_count": 19,
   "id": "833e47af-c6d5-4c38-8371-3d9a72923841",
   "metadata": {},
   "outputs": [
    {
     "data": {
      "text/html": [
       "<div>\n",
       "<style scoped>\n",
       "    .dataframe tbody tr th:only-of-type {\n",
       "        vertical-align: middle;\n",
       "    }\n",
       "\n",
       "    .dataframe tbody tr th {\n",
       "        vertical-align: top;\n",
       "    }\n",
       "\n",
       "    .dataframe thead th {\n",
       "        text-align: right;\n",
       "    }\n",
       "</style>\n",
       "<table border=\"1\" class=\"dataframe\">\n",
       "  <thead>\n",
       "    <tr style=\"text-align: right;\">\n",
       "      <th></th>\n",
       "      <th>serial</th>\n",
       "      <th>name</th>\n",
       "      <th>element</th>\n",
       "      <th>resSeq</th>\n",
       "      <th>resName</th>\n",
       "      <th>chainID</th>\n",
       "      <th>segmentID</th>\n",
       "    </tr>\n",
       "  </thead>\n",
       "  <tbody>\n",
       "    <tr>\n",
       "      <th>1896</th>\n",
       "      <td>1897</td>\n",
       "      <td>N</td>\n",
       "      <td>N</td>\n",
       "      <td>540</td>\n",
       "      <td>LEU</td>\n",
       "      <td>0</td>\n",
       "      <td></td>\n",
       "    </tr>\n",
       "    <tr>\n",
       "      <th>1897</th>\n",
       "      <td>1898</td>\n",
       "      <td>CA</td>\n",
       "      <td>C</td>\n",
       "      <td>540</td>\n",
       "      <td>LEU</td>\n",
       "      <td>0</td>\n",
       "      <td></td>\n",
       "    </tr>\n",
       "    <tr>\n",
       "      <th>1898</th>\n",
       "      <td>1899</td>\n",
       "      <td>C</td>\n",
       "      <td>C</td>\n",
       "      <td>540</td>\n",
       "      <td>LEU</td>\n",
       "      <td>0</td>\n",
       "      <td></td>\n",
       "    </tr>\n",
       "    <tr>\n",
       "      <th>1899</th>\n",
       "      <td>1900</td>\n",
       "      <td>O</td>\n",
       "      <td>O</td>\n",
       "      <td>540</td>\n",
       "      <td>LEU</td>\n",
       "      <td>0</td>\n",
       "      <td></td>\n",
       "    </tr>\n",
       "    <tr>\n",
       "      <th>1900</th>\n",
       "      <td>1901</td>\n",
       "      <td>CB</td>\n",
       "      <td>C</td>\n",
       "      <td>540</td>\n",
       "      <td>LEU</td>\n",
       "      <td>0</td>\n",
       "      <td></td>\n",
       "    </tr>\n",
       "    <tr>\n",
       "      <th>1901</th>\n",
       "      <td>1902</td>\n",
       "      <td>CG</td>\n",
       "      <td>C</td>\n",
       "      <td>540</td>\n",
       "      <td>LEU</td>\n",
       "      <td>0</td>\n",
       "      <td></td>\n",
       "    </tr>\n",
       "    <tr>\n",
       "      <th>1902</th>\n",
       "      <td>1903</td>\n",
       "      <td>CD1</td>\n",
       "      <td>C</td>\n",
       "      <td>540</td>\n",
       "      <td>LEU</td>\n",
       "      <td>0</td>\n",
       "      <td></td>\n",
       "    </tr>\n",
       "    <tr>\n",
       "      <th>1903</th>\n",
       "      <td>1904</td>\n",
       "      <td>CD2</td>\n",
       "      <td>C</td>\n",
       "      <td>540</td>\n",
       "      <td>LEU</td>\n",
       "      <td>0</td>\n",
       "      <td></td>\n",
       "    </tr>\n",
       "  </tbody>\n",
       "</table>\n",
       "</div>"
      ],
      "text/plain": [
       "      serial name element  resSeq resName  chainID segmentID\n",
       "1896    1897    N       N     540     LEU        0          \n",
       "1897    1898   CA       C     540     LEU        0          \n",
       "1898    1899    C       C     540     LEU        0          \n",
       "1899    1900    O       O     540     LEU        0          \n",
       "1900    1901   CB       C     540     LEU        0          \n",
       "1901    1902   CG       C     540     LEU        0          \n",
       "1902    1903  CD1       C     540     LEU        0          \n",
       "1903    1904  CD2       C     540     LEU        0          "
      ]
     },
     "execution_count": 19,
     "metadata": {},
     "output_type": "execute_result"
    }
   ],
   "source": [
    "traj_df[traj_df[\"resSeq\"] == 540]"
   ]
  },
  {
   "cell_type": "code",
   "execution_count": 20,
   "id": "98be5d62-384f-44a7-9eab-eaaf15e40696",
   "metadata": {},
   "outputs": [
    {
     "data": {
      "text/plain": [
       "array([342, 343, 344, 345, 346, 347, 348, 349, 350, 351, 352, 353, 354,\n",
       "       357, 382, 383, 384, 385, 386, 387, 388, 389, 390, 391, 392, 394,\n",
       "       402, 403, 404, 405, 408, 410, 418, 420, 421, 424, 425, 428, 517,\n",
       "       518, 519, 520, 521, 522, 523, 524, 525, 526, 528, 534, 540, 544,\n",
       "       600])"
      ]
     },
     "execution_count": 20,
     "metadata": {},
     "output_type": "execute_result"
    }
   ],
   "source": [
    "bs_res_seq = bs_df[\"resSeq\"].unique()\n",
    "bs_res_seq"
   ]
  },
  {
   "cell_type": "code",
   "execution_count": 21,
   "id": "97a891bc-f84b-46fc-857f-3ca6f7e13455",
   "metadata": {},
   "outputs": [
    {
     "name": "stdout",
     "output_type": "stream",
     "text": [
      "33 incomplete residues\n"
     ]
    }
   ],
   "source": [
    "incomplete_residues = []\n",
    "for res in bs_res_seq:\n",
    "    res_bs = bs_df[bs_df[\"resSeq\"] == res]\n",
    "    res_traj = traj_df[traj_df[\"resSeq\"] == res]\n",
    "    if len(res_bs) != len(res_traj):\n",
    "        incomplete_residues.append(res)\n",
    "\n",
    "print(f\"{len(incomplete_residues)} incomplete residues\")"
   ]
  },
  {
   "cell_type": "code",
   "execution_count": 22,
   "id": "b1d4dd78-6ae5-4ec0-9902-ab5ce3c77f70",
   "metadata": {},
   "outputs": [
    {
     "name": "stdout",
     "output_type": "stream",
     "text": [
      "[342, 345, 348, 351, 352, 353, 354, 357, 382, 383, 385, 386, 389, 390, 392, 394, 402, 403, 405, 408, 410, 418, 420, 428, 517, 519, 520, 523, 526, 528, 534, 540, 544]\n"
     ]
    }
   ],
   "source": [
    "print(incomplete_residues)"
   ]
  },
  {
   "cell_type": "code",
   "execution_count": 23,
   "id": "9797968e-653a-4959-b868-db8b7a15d441",
   "metadata": {},
   "outputs": [
    {
     "data": {
      "text/plain": [
       "<mdtraj.Trajectory with 1 frames, 166 atoms, 20 residues, and unitcells at 0x7f28d80e1e90>"
      ]
     },
     "execution_count": 23,
     "metadata": {},
     "output_type": "execute_result"
    }
   ],
   "source": [
    "atoms_bs = []\n",
    "for atom in bs_traj.topology.atoms:\n",
    "    \n",
    "    if atom.residue.resSeq not in incomplete_residues:\n",
    "        atoms_bs.append(atom.index)\n",
    "\n",
    "bs_traj = bs_traj.atom_slice(atoms_bs)\n",
    "bs_traj"
   ]
  },
  {
   "cell_type": "code",
   "execution_count": 24,
   "id": "3d20d806-a993-4cc6-949b-102d8fee9646",
   "metadata": {},
   "outputs": [
    {
     "data": {
      "application/vnd.jupyter.widget-view+json": {
       "model_id": "eaede55fa6b94662a24b85a6b4bd9364",
       "version_major": 2,
       "version_minor": 0
      },
      "text/plain": [
       "NGLWidget()"
      ]
     },
     "metadata": {},
     "output_type": "display_data"
    }
   ],
   "source": [
    "bs_view = nv.show_mdtraj(bs_traj)\n",
    "bs_view.representations = [\n",
    "     {\"type\": \"ball+stick\", \n",
    "      \"params\": {\n",
    "          \"sele\": \"protein\",\n",
    "      }},\n",
    "    {\"type\": \"ball+stick\", \n",
    "     \"params\": {\n",
    "         \"sele\": \"( not polymer or hetero ) and not ( water or ion )\",\n",
    "         \"color\": \"blue\"\n",
    "    }}\n",
    "]\n",
    "bs_view"
   ]
  },
  {
   "cell_type": "code",
   "execution_count": 25,
   "id": "57f4e694-a862-4bdb-b5fe-c6e33d42ff69",
   "metadata": {},
   "outputs": [],
   "source": [
    "bs_traj.save_pdb(\"./data/er_alpha/binding_site.pdb\")"
   ]
  },
  {
   "cell_type": "code",
   "execution_count": 27,
   "id": "dbd913ce-2648-494e-8bd3-de6dc48d4e39",
   "metadata": {},
   "outputs": [
    {
     "data": {
      "text/plain": [
       "166"
      ]
     },
     "execution_count": 27,
     "metadata": {},
     "output_type": "execute_result"
    }
   ],
   "source": [
    "bs_mol = Chem.MolFromPDBFile(\"./data/er_alpha/binding_site.pdb\")\n",
    "bs_mol.GetNumAtoms()"
   ]
  },
  {
   "cell_type": "code",
   "execution_count": 28,
   "id": "d0bdc439-32ac-4900-ac8b-1911edba6cbb",
   "metadata": {},
   "outputs": [
    {
     "data": {
      "image/png": "[encoded data removed]",
      "text/plain": [
       "<rdkit.Chem.rdchem.Mol at 0x7f288fe918a0>"
      ]
     },
     "execution_count": 28,
     "metadata": {},
     "output_type": "execute_result"
    }
   ],
   "source": [
    "bs_mol"
   ]
  }
 ],
 "metadata": {
  "kernelspec": {
   "display_name": "Python 3 (ipykernel)",
   "language": "python",
   "name": "python3"
  },
  "language_info": {
   "codemirror_mode": {
    "name": "ipython",
    "version": 3
   },
   "file_extension": ".py",
   "mimetype": "text/x-python",
   "name": "python",
   "nbconvert_exporter": "python",
   "pygments_lexer": "ipython3",
   "version": "3.7.12"
  }
 },
 "nbformat": 4,
 "nbformat_minor": 5
}
