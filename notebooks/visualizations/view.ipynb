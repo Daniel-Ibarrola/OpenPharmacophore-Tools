{
 "cells": [
  {
   "cell_type": "code",
   "execution_count": 1,
   "id": "922e66ac-b627-487e-a995-fed69fcf1142",
   "metadata": {},
   "outputs": [
    {
     "data": {
      "application/vnd.jupyter.widget-view+json": {
       "model_id": "5fb6514874cc4752835c76ac92d016c3",
       "version_major": 2,
       "version_minor": 0
      },
      "text/plain": []
     },
     "metadata": {},
     "output_type": "display_data"
    }
   ],
   "source": [
    "import mdtraj as mdt\n",
    "import nglview as nv\n",
    "\n",
    "from matplotlib.colors import to_rgb\n",
    "from ipywidgets import interact, fixed, IntSlider\n",
    "\n",
    "import openpharmacophore.data as data"
   ]
  },
  {
   "cell_type": "code",
   "execution_count": 2,
   "id": "087bf152-f938-48e2-a098-35597fe112d7",
   "metadata": {},
   "outputs": [
    {
     "name": "stderr",
     "output_type": "stream",
     "text": [
      "/home/daniel/miniconda3/envs/molsys/lib/python3.7/site-packages/mdtraj/core/trajectory.py:438: UserWarning: top= kwargs ignored since this file parser does not support it\n",
      "  warnings.warn('top= kwargs ignored since this file parser does not support it')\n"
     ]
    },
    {
     "data": {
      "text/plain": [
       "<mdtraj.Trajectory with 3 frames, 27425 atoms, 8028 residues, and unitcells at 0x7f18d3d88c50>"
      ]
     },
     "execution_count": 2,
     "metadata": {},
     "output_type": "execute_result"
    }
   ],
   "source": [
    "traj = mdt.load(data.trajectories[\"eralpha_small.h5\"])\n",
    "traj"
   ]
  },
  {
   "cell_type": "code",
   "execution_count": 3,
   "id": "b125f738-2f40-4252-9cd9-4c59dc30042e",
   "metadata": {},
   "outputs": [],
   "source": [
    "n_frames = traj.n_frames"
   ]
  },
  {
   "cell_type": "code",
   "execution_count": 4,
   "id": "23ace641-361d-4d3c-8ea3-8971fb081a9e",
   "metadata": {},
   "outputs": [],
   "source": [
    "centers = [\n",
    "    [34.50, 15.36, 24.73],\n",
    "    [32.68, 18.35, 24.05],\n",
    "    [27.88, 23.09, 24.89],\n",
    "]\n",
    "color = list(to_rgb(\"#3498DB\"))"
   ]
  },
  {
   "cell_type": "markdown",
   "id": "826473d7-729d-42dc-9bc4-b747b1f1861d",
   "metadata": {
    "tags": []
   },
   "source": [
    "## Visualizing"
   ]
  },
  {
   "cell_type": "code",
   "execution_count": 5,
   "id": "4281e2c2-a93c-416a-b027-a8e6d9059ebf",
   "metadata": {},
   "outputs": [],
   "source": [
    "def add_sphere(view, center, color,\n",
    "               name, comp_num):\n",
    "    \"\"\" Add a sphere to a view \n",
    "        \n",
    "        Parameters\n",
    "        ----------\n",
    "        view : nglview.NGLWidget\n",
    "        center : list[float]\n",
    "        color : list[float]\n",
    "        name : str\n",
    "        comp_num : 1\n",
    "    \"\"\"\n",
    "    js_code = f'this.addShape(\"{name}\", [[\"sphere\", {center}, {color}, 1]])'\n",
    "    view._execute_js_code(js_code)\n",
    "    view.update_representation(component=comp_num, repr_index=0, opacity=0.5)"
   ]
  },
  {
   "cell_type": "code",
   "execution_count": 6,
   "id": "8fdc5699-4456-432d-a084-e642707b5552",
   "metadata": {},
   "outputs": [],
   "source": [
    "def remove_sphere(view, name):\n",
    "    \"\"\" Remove a sphere from the view.\n",
    "    \n",
    "        Parameters\n",
    "        ----------\n",
    "        view : nglview.NGLWidget\n",
    "        name : str\n",
    "    \"\"\"\n",
    "    view._execute_js_code(\n",
    "    f'this.stage.removeComponent(this.stage.getComponentsByName(\"{name}\").first)'\n",
    "    )"
   ]
  },
  {
   "cell_type": "code",
   "execution_count": 7,
   "id": "71d7b155-1569-4e96-9c0c-7635f0fc25a7",
   "metadata": {},
   "outputs": [
    {
     "data": {
      "application/vnd.jupyter.widget-view+json": {
       "model_id": "8d93d969e838467c835a602a7dd0aa13",
       "version_major": 2,
       "version_minor": 0
      },
      "text/plain": [
       "NGLWidget()"
      ]
     },
     "metadata": {},
     "output_type": "display_data"
    }
   ],
   "source": [
    "view = nv.NGLWidget()\n",
    "view.add_component(traj[1])\n",
    "\n",
    "\n",
    "add_sphere(view, centers[1], color, \"BlueSphere\", 1)\n",
    "view"
   ]
  },
  {
   "cell_type": "code",
   "execution_count": 8,
   "id": "6a968853-a391-48e1-aa8c-2ece5691712a",
   "metadata": {},
   "outputs": [],
   "source": [
    "remove_sphere(view, \"BlueSphere\")"
   ]
  },
  {
   "cell_type": "code",
   "execution_count": 9,
   "id": "fe043e1a-380a-40e4-8723-95971d59311f",
   "metadata": {},
   "outputs": [
    {
     "data": {
      "text/plain": [
       "['nglview.adaptor.MDTrajTrajectory']"
      ]
     },
     "execution_count": 9,
     "metadata": {},
     "output_type": "execute_result"
    }
   ],
   "source": [
    "view._ngl_component_names"
   ]
  },
  {
   "cell_type": "code",
   "execution_count": 10,
   "id": "783fed4d-c565-425b-bcd8-d47b2b6d7ecd",
   "metadata": {},
   "outputs": [
    {
     "data": {
      "text/plain": [
       "{}"
      ]
     },
     "execution_count": 10,
     "metadata": {},
     "output_type": "execute_result"
    }
   ],
   "source": [
    "view.picked"
   ]
  },
  {
   "cell_type": "markdown",
   "id": "5db5e5c2-5dc6-4cdd-bf4e-7021fd87d8da",
   "metadata": {},
   "source": [
    "## Interactive visualization"
   ]
  },
  {
   "cell_type": "code",
   "execution_count": 11,
   "id": "05b4766c-d84e-4253-95d3-8399735bfbd0",
   "metadata": {},
   "outputs": [],
   "source": [
    "def show_traj(view, frame):\n",
    "    \"\"\" Show a trajectory with a sphere interactively. \n",
    "    \"\"\"\n",
    "    global comp, traj\n",
    "    name = \"BlueSphere\"\n",
    "    \n",
    "    remove_sphere(view, name)\n",
    "    if comp is not None:\n",
    "        view.remove_component(comp)\n",
    "\n",
    "    traj_slice = traj[frame]\n",
    "    # view.clear()\n",
    "    comp = view.add_component(traj_slice)\n",
    "    \n",
    "    n_components = len(view._ngl_component_ids)\n",
    "    add_sphere(view, centers[frame], color, name, n_components)"
   ]
  },
  {
   "cell_type": "code",
   "execution_count": 12,
   "id": "8f4e70f4-1740-49aa-9b00-af2158076c52",
   "metadata": {},
   "outputs": [
    {
     "data": {
      "application/vnd.jupyter.widget-view+json": {
       "model_id": "d9980df2736741099af768f8c56668eb",
       "version_major": 2,
       "version_minor": 0
      },
      "text/plain": [
       "interactive(children=(IntSlider(value=0, description='frame', max=2), Output()), _dom_classes=('widget-interac…"
      ]
     },
     "metadata": {},
     "output_type": "display_data"
    },
    {
     "data": {
      "application/vnd.jupyter.widget-view+json": {
       "model_id": "584bf13c93534e80b3cb73ebd343032d",
       "version_major": 2,
       "version_minor": 0
      },
      "text/plain": [
       "NGLWidget()"
      ]
     },
     "metadata": {},
     "output_type": "display_data"
    }
   ],
   "source": [
    "view = nv.NGLWidget()\n",
    "comp = None\n",
    "\n",
    "slider = IntSlider(min=0, max=n_frames-1, step=1, value=0)\n",
    "interact(show_traj, view=fixed(view), frame=slider)\n",
    "view"
   ]
  }
 ],
 "metadata": {
  "kernelspec": {
   "display_name": "Python 3 (ipykernel)",
   "language": "python",
   "name": "python3"
  },
  "language_info": {
   "codemirror_mode": {
    "name": "ipython",
    "version": 3
   },
   "file_extension": ".py",
   "mimetype": "text/x-python",
   "name": "python",
   "nbconvert_exporter": "python",
   "pygments_lexer": "ipython3",
   "version": "3.7.12"
  }
 },
 "nbformat": 4,
 "nbformat_minor": 5
}
