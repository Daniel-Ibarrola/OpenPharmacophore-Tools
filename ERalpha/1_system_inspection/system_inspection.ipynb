{
 "cells": [
  {
   "cell_type": "code",
   "execution_count": 1,
   "id": "527be917-35ed-4ead-9c58-9871939a4e4e",
   "metadata": {},
   "outputs": [
    {
     "data": {
      "application/vnd.jupyter.widget-view+json": {
       "model_id": "2a0b7ded8b674871aae0ac68465560c9",
       "version_major": 2,
       "version_minor": 0
      },
      "text/plain": []
     },
     "metadata": {},
     "output_type": "display_data"
    }
   ],
   "source": [
    "import mdtraj as md\n",
    "import nglview as nv\n",
    "import numpy as np\n",
    "import pandas as pd\n",
    "\n",
    "import os\n",
    "import requests"
   ]
  },
  {
   "cell_type": "markdown",
   "id": "15d9f90e-cbcf-4dee-bd5f-e2df4cd4e29c",
   "metadata": {},
   "source": [
    "### Download the file for Estrogen receptor with pdb id 1QKU"
   ]
  },
  {
   "cell_type": "code",
   "execution_count": 2,
   "id": "d5392563-b006-439f-a7c3-d537bcfc7e1d",
   "metadata": {},
   "outputs": [],
   "source": [
    "def fetch_pdb(pdb_id, download_path=\"./\"):\n",
    "        if len(pdb_id) != 4:\n",
    "            raise ValueError(\"Invalid pdb id\")\n",
    "        url = 'http://files.rcsb.org/download/{}.pdb'.format(pdb_id)\n",
    "        try:\n",
    "            res = requests.get(url, allow_redirects=True)\n",
    "        except:\n",
    "            print(\"Could not fetch pdb from {}\".format(url))\n",
    "            return \n",
    "        \n",
    "        file_path = os.path.join(download_path, pdb_id + \".pdb\")\n",
    "        with open(file_path, \"wb\") as f:\n",
    "            f.write(res.content)"
   ]
  },
  {
   "cell_type": "code",
   "execution_count": 3,
   "id": "2e637d69-6a49-4c59-8e14-0aeb8b8a0a9b",
   "metadata": {},
   "outputs": [],
   "source": [
    "fetch_pdb(\"1QKU\")"
   ]
  },
  {
   "cell_type": "markdown",
   "id": "4045f164-f03b-427c-b05c-0f83ab174146",
   "metadata": {},
   "source": [
    "### Visualizing Estrogen receptor"
   ]
  },
  {
   "cell_type": "code",
   "execution_count": 4,
   "id": "3354f546-fcec-465f-a523-615c3775dd14",
   "metadata": {},
   "outputs": [
    {
     "data": {
      "application/vnd.jupyter.widget-view+json": {
       "model_id": "5ccbf71494454aa680ebcffe7336f61e",
       "version_major": 2,
       "version_minor": 0
      },
      "text/plain": [
       "NGLWidget()"
      ]
     },
     "metadata": {},
     "output_type": "display_data"
    }
   ],
   "source": [
    "view = nv.show_structure_file(\"./1QKU.pdb\")\n",
    "view"
   ]
  },
  {
   "cell_type": "markdown",
   "id": "4fab42d6-c974-4aa8-8ad7-73bf220545c3",
   "metadata": {},
   "source": [
    "## Inspecting the topology of estrogen receptor"
   ]
  },
  {
   "cell_type": "code",
   "execution_count": 5,
   "id": "db479914-fbb8-45c6-b58c-bbef5d42edb8",
   "metadata": {},
   "outputs": [
    {
     "name": "stdout",
     "output_type": "stream",
     "text": [
      "<mdtraj.Trajectory with 1 frames, 6596 atoms, 1343 residues, and unitcells>\n",
      "<mdtraj.Topology with 9 chains, 1343 residues, 6596 atoms, 6123 bonds>\n"
     ]
    }
   ],
   "source": [
    "traj = md.load(\"1QKU.pdb\")\n",
    "topology = traj.topology\n",
    "print(traj)\n",
    "print(topology)"
   ]
  },
  {
   "cell_type": "code",
   "execution_count": 6,
   "id": "5a3a0674-1ac4-4a20-bdad-a0579364279a",
   "metadata": {},
   "outputs": [
    {
     "name": "stdout",
     "output_type": "stream",
     "text": [
      "<mdtraj.Trajectory with 1 frames, 5940 atoms, 744 residues, and unitcells>\n",
      "<mdtraj.Topology with 3 chains, 744 residues, 5940 atoms, 6054 bonds>\n"
     ]
    }
   ],
   "source": [
    "# Select just protein.\n",
    "protein_inxs = topology.select(\"protein\")\n",
    "protein_traj = traj.atom_slice(protein_inxs)\n",
    "protein_topo = protein_traj.topology\n",
    "print(protein_traj)\n",
    "print(protein_topo)"
   ]
  },
  {
   "cell_type": "code",
   "execution_count": 8,
   "id": "9dbc2970-6252-4f4b-9f21-8f308e35f026",
   "metadata": {},
   "outputs": [
    {
     "name": "stdout",
     "output_type": "stream",
     "text": [
      "<mdtraj.Trajectory with 1 frames, 1990 atoms, 250 residues, and unitcells>\n",
      "<mdtraj.Trajectory with 1 frames, 1975 atoms, 247 residues, and unitcells>\n",
      "<mdtraj.Trajectory with 1 frames, 1975 atoms, 247 residues, and unitcells>\n"
     ]
    }
   ],
   "source": [
    "# Split protein into its 3 chains\n",
    "protein_1 = protein_traj.atom_slice(protein_topo.select(\"chainid == 0\"))\n",
    "protein_2 = protein_traj.atom_slice(protein_topo.select(\"chainid == 1\"))\n",
    "protein_3 = protein_traj.atom_slice(protein_topo.select(\"chainid == 2\"))\n",
    "print(protein_1)\n",
    "print(protein_2)\n",
    "print(protein_3)"
   ]
  },
  {
   "cell_type": "code",
   "execution_count": 42,
   "id": "802e1fae-d9e7-44c3-9ac0-db45f53cb5df",
   "metadata": {},
   "outputs": [],
   "source": [
    "# Save receptor to file\n",
    "protein_1.save_pdb(\"./receptor_1.pdb\")"
   ]
  },
  {
   "cell_type": "code",
   "execution_count": 43,
   "id": "9b2d125b-7c66-4a9c-a998-eb20b83439db",
   "metadata": {},
   "outputs": [
    {
     "data": {
      "application/vnd.jupyter.widget-view+json": {
       "model_id": "5add6fad6dab493386d952ca6144dccd",
       "version_major": 2,
       "version_minor": 0
      },
      "text/plain": [
       "NGLWidget()"
      ]
     },
     "metadata": {},
     "output_type": "display_data"
    }
   ],
   "source": [
    "view = nv.show_mdtraj(protein_1)\n",
    "view"
   ]
  },
  {
   "cell_type": "code",
   "execution_count": 25,
   "id": "f8612198-3078-4331-bfe8-9a4cee30dc3a",
   "metadata": {},
   "outputs": [
    {
     "data": {
      "application/vnd.jupyter.widget-view+json": {
       "model_id": "ce731181a14143bca5a48fe21c90f447",
       "version_major": 2,
       "version_minor": 0
      },
      "text/plain": [
       "NGLWidget()"
      ]
     },
     "metadata": {},
     "output_type": "display_data"
    }
   ],
   "source": [
    "view = nv.show_mdtraj(protein_traj.atom_slice(protein_topo.select(\"chainid 1 to 2\")))\n",
    "view"
   ]
  },
  {
   "cell_type": "markdown",
   "id": "25dde9ca-9293-453f-81fd-29bfc8611bad",
   "metadata": {},
   "source": [
    "## Compare the sequence of each protein"
   ]
  },
  {
   "cell_type": "code",
   "execution_count": 10,
   "id": "21f26292-e4fc-4bf3-ae40-3bd82699a71e",
   "metadata": {},
   "outputs": [],
   "source": [
    "prot_1_sequence = [res.name for res in protein_1.topology.residues]\n",
    "prot_2_sequence = [res.name for res in protein_2.topology.residues]\n",
    "prot_3_sequence = [res.name for res in protein_3.topology.residues]\n",
    "\n",
    "# Protein 2 and 3 have 247 resiudes. Protein 1 has 250. List must be of same length\n",
    "# for pandas dataframe\n",
    "\n",
    "prot_2_sequence += [\"\", \"\", \"\"]\n",
    "prot_3_sequence += [\"\", \"\", \"\"]\n",
    "\n",
    "sequences = {\n",
    "    \"Protein_1\": prot_1_sequence,\n",
    "    \"Protein_2\": prot_2_sequence,\n",
    "    \"Protein_3\": prot_3_sequence,\n",
    "}\n",
    "\n",
    "sequences = pd.DataFrame.from_dict(sequences)"
   ]
  },
  {
   "cell_type": "code",
   "execution_count": 11,
   "id": "c2ccfee3-3de3-489e-ba09-7cf65d378d75",
   "metadata": {},
   "outputs": [
    {
     "data": {
      "text/html": [
       "<div>\n",
       "<style scoped>\n",
       "    .dataframe tbody tr th:only-of-type {\n",
       "        vertical-align: middle;\n",
       "    }\n",
       "\n",
       "    .dataframe tbody tr th {\n",
       "        vertical-align: top;\n",
       "    }\n",
       "\n",
       "    .dataframe thead th {\n",
       "        text-align: right;\n",
       "    }\n",
       "</style>\n",
       "<table border=\"1\" class=\"dataframe\">\n",
       "  <thead>\n",
       "    <tr style=\"text-align: right;\">\n",
       "      <th></th>\n",
       "      <th>Protein_1</th>\n",
       "      <th>Protein_2</th>\n",
       "      <th>Protein_3</th>\n",
       "    </tr>\n",
       "  </thead>\n",
       "  <tbody>\n",
       "    <tr>\n",
       "      <th>0</th>\n",
       "      <td>SER</td>\n",
       "      <td>ASN</td>\n",
       "      <td>ASN</td>\n",
       "    </tr>\n",
       "    <tr>\n",
       "      <th>1</th>\n",
       "      <td>LYS</td>\n",
       "      <td>SER</td>\n",
       "      <td>SER</td>\n",
       "    </tr>\n",
       "    <tr>\n",
       "      <th>2</th>\n",
       "      <td>LYS</td>\n",
       "      <td>LEU</td>\n",
       "      <td>LEU</td>\n",
       "    </tr>\n",
       "    <tr>\n",
       "      <th>3</th>\n",
       "      <td>ASN</td>\n",
       "      <td>ALA</td>\n",
       "      <td>ALA</td>\n",
       "    </tr>\n",
       "    <tr>\n",
       "      <th>4</th>\n",
       "      <td>SER</td>\n",
       "      <td>LEU</td>\n",
       "      <td>LEU</td>\n",
       "    </tr>\n",
       "    <tr>\n",
       "      <th>5</th>\n",
       "      <td>LEU</td>\n",
       "      <td>SER</td>\n",
       "      <td>SER</td>\n",
       "    </tr>\n",
       "    <tr>\n",
       "      <th>6</th>\n",
       "      <td>ALA</td>\n",
       "      <td>LEU</td>\n",
       "      <td>LEU</td>\n",
       "    </tr>\n",
       "    <tr>\n",
       "      <th>7</th>\n",
       "      <td>LEU</td>\n",
       "      <td>THR</td>\n",
       "      <td>THR</td>\n",
       "    </tr>\n",
       "    <tr>\n",
       "      <th>8</th>\n",
       "      <td>SER</td>\n",
       "      <td>ALA</td>\n",
       "      <td>ALA</td>\n",
       "    </tr>\n",
       "    <tr>\n",
       "      <th>9</th>\n",
       "      <td>LEU</td>\n",
       "      <td>ASP</td>\n",
       "      <td>ASP</td>\n",
       "    </tr>\n",
       "  </tbody>\n",
       "</table>\n",
       "</div>"
      ],
      "text/plain": [
       "  Protein_1 Protein_2 Protein_3\n",
       "0       SER       ASN       ASN\n",
       "1       LYS       SER       SER\n",
       "2       LYS       LEU       LEU\n",
       "3       ASN       ALA       ALA\n",
       "4       SER       LEU       LEU\n",
       "5       LEU       SER       SER\n",
       "6       ALA       LEU       LEU\n",
       "7       LEU       THR       THR\n",
       "8       SER       ALA       ALA\n",
       "9       LEU       ASP       ASP"
      ]
     },
     "execution_count": 11,
     "metadata": {},
     "output_type": "execute_result"
    }
   ],
   "source": [
    "sequences.head(10)"
   ]
  },
  {
   "cell_type": "code",
   "execution_count": 12,
   "id": "c3a47ca3-2aea-4244-b8b7-8ca19caed3f1",
   "metadata": {},
   "outputs": [
    {
     "data": {
      "text/html": [
       "<div>\n",
       "<style scoped>\n",
       "    .dataframe tbody tr th:only-of-type {\n",
       "        vertical-align: middle;\n",
       "    }\n",
       "\n",
       "    .dataframe tbody tr th {\n",
       "        vertical-align: top;\n",
       "    }\n",
       "\n",
       "    .dataframe thead th {\n",
       "        text-align: right;\n",
       "    }\n",
       "</style>\n",
       "<table border=\"1\" class=\"dataframe\">\n",
       "  <thead>\n",
       "    <tr style=\"text-align: right;\">\n",
       "      <th></th>\n",
       "      <th>Protein_1</th>\n",
       "      <th>Protein_2</th>\n",
       "      <th>Protein_3</th>\n",
       "      <th>Prot_1 == Prot_2</th>\n",
       "      <th>Prot_1 == Prot_3</th>\n",
       "      <th>Prot_2 == Prot_3</th>\n",
       "    </tr>\n",
       "  </thead>\n",
       "  <tbody>\n",
       "    <tr>\n",
       "      <th>0</th>\n",
       "      <td>SER</td>\n",
       "      <td>ASN</td>\n",
       "      <td>ASN</td>\n",
       "      <td>False</td>\n",
       "      <td>False</td>\n",
       "      <td>True</td>\n",
       "    </tr>\n",
       "    <tr>\n",
       "      <th>1</th>\n",
       "      <td>LYS</td>\n",
       "      <td>SER</td>\n",
       "      <td>SER</td>\n",
       "      <td>False</td>\n",
       "      <td>False</td>\n",
       "      <td>True</td>\n",
       "    </tr>\n",
       "    <tr>\n",
       "      <th>2</th>\n",
       "      <td>LYS</td>\n",
       "      <td>LEU</td>\n",
       "      <td>LEU</td>\n",
       "      <td>False</td>\n",
       "      <td>False</td>\n",
       "      <td>True</td>\n",
       "    </tr>\n",
       "    <tr>\n",
       "      <th>3</th>\n",
       "      <td>ASN</td>\n",
       "      <td>ALA</td>\n",
       "      <td>ALA</td>\n",
       "      <td>False</td>\n",
       "      <td>False</td>\n",
       "      <td>True</td>\n",
       "    </tr>\n",
       "    <tr>\n",
       "      <th>4</th>\n",
       "      <td>SER</td>\n",
       "      <td>LEU</td>\n",
       "      <td>LEU</td>\n",
       "      <td>False</td>\n",
       "      <td>False</td>\n",
       "      <td>True</td>\n",
       "    </tr>\n",
       "  </tbody>\n",
       "</table>\n",
       "</div>"
      ],
      "text/plain": [
       "  Protein_1 Protein_2 Protein_3  Prot_1 == Prot_2  Prot_1 == Prot_3  \\\n",
       "0       SER       ASN       ASN             False             False   \n",
       "1       LYS       SER       SER             False             False   \n",
       "2       LYS       LEU       LEU             False             False   \n",
       "3       ASN       ALA       ALA             False             False   \n",
       "4       SER       LEU       LEU             False             False   \n",
       "\n",
       "   Prot_2 == Prot_3  \n",
       "0              True  \n",
       "1              True  \n",
       "2              True  \n",
       "3              True  \n",
       "4              True  "
      ]
     },
     "execution_count": 12,
     "metadata": {},
     "output_type": "execute_result"
    }
   ],
   "source": [
    "from itertools import combinations\n",
    "\n",
    "protein_num = [1, 2, 3]\n",
    "for i, j in combinations(protein_num, 2):\n",
    "    sequences[f\"Prot_{i} == Prot_{j}\"] = np.where(sequences[f\"Protein_{i}\"] == sequences[f\"Protein_{j}\"], True, False)\n",
    "\n",
    "sequences.head()"
   ]
  },
  {
   "cell_type": "code",
   "execution_count": 40,
   "id": "fdb24259-9d4a-4d7a-bb9d-3ad7b85f706e",
   "metadata": {},
   "outputs": [
    {
     "name": "stdout",
     "output_type": "stream",
     "text": [
      "<mdtraj.Trajectory with 1 frames, 1000 atoms, 250 residues, and unitcells>\n",
      "<mdtraj.Trajectory with 1 frames, 988 atoms, 247 residues, and unitcells>\n",
      "<mdtraj.Trajectory with 1 frames, 988 atoms, 247 residues, and unitcells>\n"
     ]
    }
   ],
   "source": [
    "prot_1_backbone = protein_1.atom_slice(protein_1.topology.select(\"backbone\"))\n",
    "prot_2_backbone = protein_2.atom_slice(protein_2.topology.select(\"backbone\"))\n",
    "prot_3_backbone = protein_3.atom_slice(protein_3.topology.select(\"backbone\"))\n",
    "print(prot_1_backbone)\n",
    "print(prot_2_backbone)\n",
    "print(prot_3_backbone)"
   ]
  },
  {
   "cell_type": "code",
   "execution_count": 14,
   "id": "2840b3a1-97f1-4787-be1b-f70a1230b854",
   "metadata": {},
   "outputs": [],
   "source": [
    "# help(mdtraj.core.topology.Residue)"
   ]
  },
  {
   "cell_type": "code",
   "execution_count": 41,
   "id": "b8b6add2-d6fd-433b-9fca-2666c5b37947",
   "metadata": {},
   "outputs": [
    {
     "data": {
      "text/plain": [
       "array([0.04460048], dtype=float32)"
      ]
     },
     "execution_count": 41,
     "metadata": {},
     "output_type": "execute_result"
    }
   ],
   "source": [
    "rmsd = md.rmsd(prot_2_backbone, prot_3_backbone, 0)\n",
    "rmsd"
   ]
  }
 ],
 "metadata": {
  "kernelspec": {
   "display_name": "Python 3 (ipykernel)",
   "language": "python",
   "name": "python3"
  },
  "language_info": {
   "codemirror_mode": {
    "name": "ipython",
    "version": 3
   },
   "file_extension": ".py",
   "mimetype": "text/x-python",
   "name": "python",
   "nbconvert_exporter": "python",
   "pygments_lexer": "ipython3",
   "version": "3.7.10"
  }
 },
 "nbformat": 4,
 "nbformat_minor": 5
}
