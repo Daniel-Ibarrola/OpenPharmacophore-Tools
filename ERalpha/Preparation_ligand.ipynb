{
 "cells": [
  {
   "cell_type": "code",
   "execution_count": 1,
   "id": "5e617614-36c0-48bb-80d6-6fbc49d93637",
   "metadata": {},
   "outputs": [],
   "source": [
    "%load_ext autoreload\n",
    "%autoreload 2"
   ]
  },
  {
   "cell_type": "markdown",
   "id": "65c9f33f-b943-4c45-a766-1eeac98da1f5",
   "metadata": {},
   "source": [
    "# System preparation"
   ]
  },
  {
   "cell_type": "code",
   "execution_count": 2,
   "id": "227422c8-1993-4b07-bff4-5bde8a46987b",
   "metadata": {},
   "outputs": [
    {
     "name": "stderr",
     "output_type": "stream",
     "text": [
      "Warning: Unable to load toolkit 'OpenEye Toolkit'. The Open Force Field Toolkit does not require the OpenEye Toolkits, and can use RDKit/AmberTools instead. However, if you have a valid license for the OpenEye Toolkits, consider installing them for faster performance and additional file format support: https://docs.eyesopen.com/toolkits/python/quickstart-python/linuxosx.html OpenEye offers free Toolkit licenses for academics: https://www.eyesopen.com/academic-licensing\n"
     ]
    },
    {
     "data": {
      "application/vnd.jupyter.widget-view+json": {
       "model_id": "dabcbd15b0c7402a984d281ef96201a5",
       "version_major": 2,
       "version_minor": 0
      },
      "text/plain": []
     },
     "metadata": {},
     "output_type": "display_data"
    }
   ],
   "source": [
    "import molsysmt as msm"
   ]
  },
  {
   "cell_type": "code",
   "execution_count": 3,
   "id": "7b8b1f13-080a-4441-9707-8991f4dbaad8",
   "metadata": {},
   "outputs": [
    {
     "name": "stderr",
     "output_type": "stream",
     "text": [
      "/home/diego/Projects/MolSysMT/molsysmt/native/io/topology/classes/mmtf_MMTFDecoder.py:43: UserWarning: The structure in the PDB has biological assemblies. There are geometrical transformations proposed in the structure. See the following issue in the source code repository: https://github.com/uibcdf/MolSysMT/issues/33\n",
      "  warnings.warn(warning_message)\n"
     ]
    }
   ],
   "source": [
    "molsys = msm.convert(\"pdbid:1QKU\", selection='chain_name==[\"B\", \"E\"] and molecule_type==\"small molecule\"')"
   ]
  },
  {
   "cell_type": "code",
   "execution_count": 4,
   "id": "88045857-539d-4ef6-bab7-3b21bdb98508",
   "metadata": {},
   "outputs": [
    {
     "data": {
      "application/vnd.jupyter.widget-view+json": {
       "model_id": "369eb822e5054f1494a8d8797637ce48",
       "version_major": 2,
       "version_minor": 0
      },
      "text/plain": [
       "NGLWidget()"
      ]
     },
     "metadata": {},
     "output_type": "display_data"
    }
   ],
   "source": [
    "msm.view(molsys)"
   ]
  },
  {
   "cell_type": "code",
   "execution_count": 5,
   "id": "d3630e31-9d61-4b9b-84bf-8481ad417436",
   "metadata": {},
   "outputs": [
    {
     "data": {
      "text/html": [
       "<style type=\"text/css\">\n",
       "</style>\n",
       "<table id=\"T_0de27_\">\n",
       "  <thead>\n",
       "    <tr>\n",
       "      <th class=\"col_heading level0 col0\" >form</th>\n",
       "      <th class=\"col_heading level0 col1\" >n_atoms</th>\n",
       "      <th class=\"col_heading level0 col2\" >n_groups</th>\n",
       "      <th class=\"col_heading level0 col3\" >n_components</th>\n",
       "      <th class=\"col_heading level0 col4\" >n_chains</th>\n",
       "      <th class=\"col_heading level0 col5\" >n_molecules</th>\n",
       "      <th class=\"col_heading level0 col6\" >n_entities</th>\n",
       "      <th class=\"col_heading level0 col7\" >n_small_molecules</th>\n",
       "      <th class=\"col_heading level0 col8\" >n_frames</th>\n",
       "    </tr>\n",
       "  </thead>\n",
       "  <tbody>\n",
       "    <tr>\n",
       "      <td id=\"T_0de27_row0_col0\" class=\"data row0 col0\" >molsysmt.MolSys</td>\n",
       "      <td id=\"T_0de27_row0_col1\" class=\"data row0 col1\" >20</td>\n",
       "      <td id=\"T_0de27_row0_col2\" class=\"data row0 col2\" >1</td>\n",
       "      <td id=\"T_0de27_row0_col3\" class=\"data row0 col3\" >1</td>\n",
       "      <td id=\"T_0de27_row0_col4\" class=\"data row0 col4\" >1</td>\n",
       "      <td id=\"T_0de27_row0_col5\" class=\"data row0 col5\" >1</td>\n",
       "      <td id=\"T_0de27_row0_col6\" class=\"data row0 col6\" >1</td>\n",
       "      <td id=\"T_0de27_row0_col7\" class=\"data row0 col7\" >1</td>\n",
       "      <td id=\"T_0de27_row0_col8\" class=\"data row0 col8\" >1</td>\n",
       "    </tr>\n",
       "  </tbody>\n",
       "</table>\n"
      ],
      "text/plain": [
       "<pandas.io.formats.style.Styler at 0x7ff25d378750>"
      ]
     },
     "execution_count": 5,
     "metadata": {},
     "output_type": "execute_result"
    }
   ],
   "source": [
    "msm.info(molsys)"
   ]
  },
  {
   "cell_type": "code",
   "execution_count": 6,
   "id": "66bf85fe-b6aa-4381-8a06-c0d48bf7c5c2",
   "metadata": {},
   "outputs": [
    {
     "data": {
      "text/plain": [
       "'ligand.pdb'"
      ]
     },
     "execution_count": 6,
     "metadata": {},
     "output_type": "execute_result"
    }
   ],
   "source": [
    "msm.convert(molsys, 'ligand.pdb')"
   ]
  },
  {
   "cell_type": "markdown",
   "id": "2388995c-96c7-4c34-9935-98bd6f73056b",
   "metadata": {},
   "source": [
    "## With the Gaff forcefield"
   ]
  },
  {
   "cell_type": "markdown",
   "id": "c2026e63-6842-4a5e-866d-1868e0de29fa",
   "metadata": {},
   "source": [
    "See: \n",
    "    \n",
    "    https://github.com/openforcefield/openff-toolkit/issues/121\n",
    "    https://github.com/ADicksonLab/mastic/blob/58749c40fe364110e3e7be8aa79a89f32d956d09/mastic/interfaces/rdkit.py\n",
    "    https://github.com/tdudgeon/simple-simulate-complex/blob/master/simulateComplexWithSolvent.py\n",
    "    https://github.com/openmm/openmmforcefields\n",
    "    https://open-forcefield-toolkit.readthedocs.io/en/latest/examples.html\n"
   ]
  },
  {
   "cell_type": "code",
   "execution_count": 7,
   "id": "72be6612-5a08-4818-be84-28383b2a835c",
   "metadata": {},
   "outputs": [],
   "source": [
    "from openff.toolkit.topology import Molecule, Topology\n",
    "from rdkit import Chem\n",
    "from rdkit.Chem import AllChem"
   ]
  },
  {
   "cell_type": "code",
   "execution_count": 8,
   "id": "70724336-4162-48bd-b936-9c35b8816bc2",
   "metadata": {},
   "outputs": [],
   "source": [
    "ligand = Chem.MolFromPDBFile('ligand.pdb')"
   ]
  },
  {
   "cell_type": "code",
   "execution_count": 9,
   "id": "68dfb995-7769-4cdf-8896-60f029962853",
   "metadata": {},
   "outputs": [],
   "source": [
    "smiles = 'C[C@]12CC[C@@H]3c4ccc(cc4CC[C@H]3[C@@H]1CC[C@@H]2O)O'\n",
    "template = Chem.MolFromSmiles(smiles)"
   ]
  },
  {
   "cell_type": "code",
   "execution_count": 10,
   "id": "3729066d-5c15-4eff-98a3-6270f2aca928",
   "metadata": {},
   "outputs": [],
   "source": [
    "ligand = AllChem.AssignBondOrdersFromTemplate(template, ligand)"
   ]
  },
  {
   "cell_type": "code",
   "execution_count": 11,
   "id": "f252e0de-d9d7-41fc-a7d5-b86b82eff2a2",
   "metadata": {},
   "outputs": [],
   "source": [
    "ligand = Chem.AddHs(ligand,addCoords=True)"
   ]
  },
  {
   "cell_type": "code",
   "execution_count": 12,
   "id": "4500e434-c3a6-4575-a42d-9fa91ee035f8",
   "metadata": {},
   "outputs": [],
   "source": [
    "ligand = Molecule.from_rdkit(ligand)"
   ]
  },
  {
   "cell_type": "code",
   "execution_count": 13,
   "id": "c8f27f4a-c145-4445-b918-2e3db36f6273",
   "metadata": {},
   "outputs": [
    {
     "data": {
      "application/vnd.jupyter.widget-view+json": {
       "model_id": "22a5cd2185a348d9ad60a6a499b28162",
       "version_major": 2,
       "version_minor": 0
      },
      "text/plain": [
       "NGLWidget()"
      ]
     },
     "metadata": {},
     "output_type": "display_data"
    }
   ],
   "source": [
    "ligand"
   ]
  },
  {
   "cell_type": "code",
   "execution_count": 35,
   "id": "8c2ea907-5911-477f-9508-3d57492293ae",
   "metadata": {},
   "outputs": [],
   "source": [
    "from simtk.openmm.app import Modeller, ForceField\n",
    "from openmmforcefields.generators import GAFFTemplateGenerator\n",
    "from simtk import unit\n",
    "from simtk.openmm import Vec3\n",
    "import numpy as np"
   ]
  },
  {
   "cell_type": "code",
   "execution_count": 19,
   "id": "deecd441-85e5-43d9-b9b2-8b43f0c08fc9",
   "metadata": {},
   "outputs": [],
   "source": [
    "gaff = GAFFTemplateGenerator(molecules=ligand)"
   ]
  },
  {
   "cell_type": "code",
   "execution_count": 20,
   "id": "7008fe10-aa99-4fe1-8c2f-988160475c00",
   "metadata": {},
   "outputs": [],
   "source": [
    "forcefield = ForceField('amber/protein.ff14SB.xml', 'amber/tip3p_standard.xml', 'amber/tip3p_HFE_multivalent.xml')"
   ]
  },
  {
   "cell_type": "code",
   "execution_count": 21,
   "id": "ea973389-78e8-4ce4-b2f1-422f693c4df0",
   "metadata": {},
   "outputs": [],
   "source": [
    "forcefield.registerTemplateGenerator(gaff.generator)"
   ]
  },
  {
   "cell_type": "code",
   "execution_count": 37,
   "id": "d11aef42-9e0e-46e4-b877-5024b69d4bd3",
   "metadata": {},
   "outputs": [],
   "source": [
    "topology = ligand.to_topology().to_openmm()\n",
    "positions = ligand.conformers[0]\n",
    "modeller = Modeller(topology, positions)\n",
    "\n",
    "max_size = max(max((pos[i] for pos in positions))-min((pos[i] for pos in positions)) for i in range(3))\n",
    "vectors = Vec3(1,0,0), Vec3(0,1,0), Vec3(0.5,0.5,np.sqrt(2)/2) # vectors for rhombic dodecahedron\n",
    "box_vectors = [(max_size+14.0*unit.angstroms)*v for v in vectors]\n",
    "modeller.addSolvent(forcefield, model='tip3p', boxVectors=box_vectors)"
   ]
  },
  {
   "cell_type": "code",
   "execution_count": 45,
   "id": "1028491b-f047-4ac5-a635-5c30c0e549f8",
   "metadata": {},
   "outputs": [
    {
     "data": {
      "text/html": [
       "<style type=\"text/css\">\n",
       "</style>\n",
       "<table id=\"T_286f3_\">\n",
       "  <thead>\n",
       "    <tr>\n",
       "      <th class=\"col_heading level0 col0\" >form</th>\n",
       "      <th class=\"col_heading level0 col1\" >n_atoms</th>\n",
       "      <th class=\"col_heading level0 col2\" >n_groups</th>\n",
       "      <th class=\"col_heading level0 col3\" >n_components</th>\n",
       "      <th class=\"col_heading level0 col4\" >n_chains</th>\n",
       "      <th class=\"col_heading level0 col5\" >n_molecules</th>\n",
       "      <th class=\"col_heading level0 col6\" >n_entities</th>\n",
       "      <th class=\"col_heading level0 col7\" >n_waters</th>\n",
       "      <th class=\"col_heading level0 col8\" >n_small_molecules</th>\n",
       "      <th class=\"col_heading level0 col9\" >n_frames</th>\n",
       "    </tr>\n",
       "  </thead>\n",
       "  <tbody>\n",
       "    <tr>\n",
       "      <td id=\"T_286f3_row0_col0\" class=\"data row0 col0\" >openmm.Modeller</td>\n",
       "      <td id=\"T_286f3_row0_col1\" class=\"data row0 col1\" >920</td>\n",
       "      <td id=\"T_286f3_row0_col2\" class=\"data row0 col2\" >293</td>\n",
       "      <td id=\"T_286f3_row0_col3\" class=\"data row0 col3\" >293</td>\n",
       "      <td id=\"T_286f3_row0_col4\" class=\"data row0 col4\" >2</td>\n",
       "      <td id=\"T_286f3_row0_col5\" class=\"data row0 col5\" >293</td>\n",
       "      <td id=\"T_286f3_row0_col6\" class=\"data row0 col6\" >2</td>\n",
       "      <td id=\"T_286f3_row0_col7\" class=\"data row0 col7\" >292</td>\n",
       "      <td id=\"T_286f3_row0_col8\" class=\"data row0 col8\" >1</td>\n",
       "      <td id=\"T_286f3_row0_col9\" class=\"data row0 col9\" >1</td>\n",
       "    </tr>\n",
       "  </tbody>\n",
       "</table>\n"
      ],
      "text/plain": [
       "<pandas.io.formats.style.Styler at 0x7ff1b3027590>"
      ]
     },
     "execution_count": 45,
     "metadata": {},
     "output_type": "execute_result"
    }
   ],
   "source": [
    "msm.info(modeller)"
   ]
  },
  {
   "cell_type": "code",
   "execution_count": 41,
   "id": "a78baf5d-0e09-477f-807b-0a66d767bad4",
   "metadata": {},
   "outputs": [],
   "source": [
    "molsys = msm.convert(modeller)"
   ]
  },
  {
   "cell_type": "code",
   "execution_count": 42,
   "id": "97a6ee1c-b68c-4862-95ad-cdc43512ef95",
   "metadata": {},
   "outputs": [],
   "source": [
    "molsys = msm.wrap_to_mic(molsys, center_of_selection='molecule_type==\"small molecule\"')"
   ]
  },
  {
   "cell_type": "code",
   "execution_count": 44,
   "id": "1984d0ab-0d87-4e57-88fc-ab608748a7ec",
   "metadata": {},
   "outputs": [
    {
     "data": {
      "application/vnd.jupyter.widget-view+json": {
       "model_id": "62297353b1704ba69de2b9d3fad411e3",
       "version_major": 2,
       "version_minor": 0
      },
      "text/plain": [
       "NGLWidget()"
      ]
     },
     "metadata": {},
     "output_type": "display_data"
    }
   ],
   "source": [
    "msm.view(molsys, standardize=True, water_as_surface=True)"
   ]
  },
  {
   "cell_type": "code",
   "execution_count": 46,
   "id": "bd24ed7d-733e-460c-9940-523a3403d428",
   "metadata": {},
   "outputs": [
    {
     "data": {
      "text/plain": [
       "'ligand_solvated.pdb'"
      ]
     },
     "execution_count": 46,
     "metadata": {},
     "output_type": "execute_result"
    }
   ],
   "source": [
    "msm.convert(molsys, to_form='ligand_solvated.pdb')"
   ]
  },
  {
   "cell_type": "markdown",
   "id": "f8eb3181-53a3-400c-8f2c-e8e0adfaa4bf",
   "metadata": {},
   "source": [
    "Sources:\n",
    "https://github.com/tdudgeon/simple-simulate-complex    \n"
   ]
  },
  {
   "cell_type": "markdown",
   "id": "b7425e49-2f1b-4558-b871-1561446486a8",
   "metadata": {},
   "source": [
    "## Bibliography\n",
    "\n",
    "[Koes, David Ryan. “Computer-Aided Drug Discovery,” 167–88. Methods in Pharmacology and Toxicology, 2015.](https://doi.org/10.1007/7653_2015_46)"
   ]
  },
  {
   "cell_type": "code",
   "execution_count": null,
   "id": "777c43e1-a8ae-46f8-a402-69fbcccec0ae",
   "metadata": {},
   "outputs": [],
   "source": [
    "https://open-forcefield-toolkit.readthedocs.io/en/latest/examples.html"
   ]
  }
 ],
 "metadata": {
  "kernelspec": {
   "display_name": "Python 3 (ipykernel)",
   "language": "python",
   "name": "python3"
  },
  "language_info": {
   "codemirror_mode": {
    "name": "ipython",
    "version": 3
   },
   "file_extension": ".py",
   "mimetype": "text/x-python",
   "name": "python",
   "nbconvert_exporter": "python",
   "pygments_lexer": "ipython3",
   "version": "3.7.10"
  }
 },
 "nbformat": 4,
 "nbformat_minor": 5
}
