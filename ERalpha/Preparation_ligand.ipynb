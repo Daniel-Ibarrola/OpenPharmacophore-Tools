{
 "cells": [
  {
   "cell_type": "code",
   "execution_count": 1,
   "id": "5e617614-36c0-48bb-80d6-6fbc49d93637",
   "metadata": {},
   "outputs": [],
   "source": [
    "%load_ext autoreload\n",
    "%autoreload 2"
   ]
  },
  {
   "cell_type": "markdown",
   "id": "65c9f33f-b943-4c45-a766-1eeac98da1f5",
   "metadata": {},
   "source": [
    "# System preparation"
   ]
  },
  {
   "cell_type": "code",
   "execution_count": 2,
   "id": "227422c8-1993-4b07-bff4-5bde8a46987b",
   "metadata": {},
   "outputs": [
    {
     "name": "stderr",
     "output_type": "stream",
     "text": [
      "Warning: Unable to load toolkit 'OpenEye Toolkit'. The Open Force Field Toolkit does not require the OpenEye Toolkits, and can use RDKit/AmberTools instead. However, if you have a valid license for the OpenEye Toolkits, consider installing them for faster performance and additional file format support: https://docs.eyesopen.com/toolkits/python/quickstart-python/linuxosx.html OpenEye offers free Toolkit licenses for academics: https://www.eyesopen.com/academic-licensing\n"
     ]
    },
    {
     "data": {
      "application/vnd.jupyter.widget-view+json": {
       "model_id": "eb90bd8199f2463abc442cc94fd71bc8",
       "version_major": 2,
       "version_minor": 0
      },
      "text/plain": []
     },
     "metadata": {},
     "output_type": "display_data"
    }
   ],
   "source": [
    "import molsysmt as msm"
   ]
  },
  {
   "cell_type": "code",
   "execution_count": 3,
   "id": "7b8b1f13-080a-4441-9707-8991f4dbaad8",
   "metadata": {},
   "outputs": [
    {
     "name": "stderr",
     "output_type": "stream",
     "text": [
      "/home/diego/Projects/MolSysMT/molsysmt/native/io/topology/classes/mmtf_MMTFDecoder.py:43: UserWarning: The structure in the PDB has biological assemblies. There are geometrical transformations proposed in the structure. See the following issue in the source code repository: https://github.com/uibcdf/MolSysMT/issues/33\n",
      "  warnings.warn(warning_message)\n"
     ]
    }
   ],
   "source": [
    "molsys = msm.convert(\"pdbid:1QKU\", selection='chain_name==[\"B\", \"E\"] and molecule_type==\"small molecule\"')"
   ]
  },
  {
   "cell_type": "code",
   "execution_count": 4,
   "id": "88045857-539d-4ef6-bab7-3b21bdb98508",
   "metadata": {},
   "outputs": [
    {
     "data": {
      "application/vnd.jupyter.widget-view+json": {
       "model_id": "6cfebdefcafc4e3cb7dc97bc269e87f1",
       "version_major": 2,
       "version_minor": 0
      },
      "text/plain": [
       "NGLWidget()"
      ]
     },
     "metadata": {},
     "output_type": "display_data"
    }
   ],
   "source": [
    "msm.view(molsys)"
   ]
  },
  {
   "cell_type": "code",
   "execution_count": 5,
   "id": "d3630e31-9d61-4b9b-84bf-8481ad417436",
   "metadata": {},
   "outputs": [
    {
     "data": {
      "text/html": [
       "<style type=\"text/css\">\n",
       "</style>\n",
       "<table id=\"T_22c9d_\">\n",
       "  <thead>\n",
       "    <tr>\n",
       "      <th class=\"col_heading level0 col0\" >form</th>\n",
       "      <th class=\"col_heading level0 col1\" >n_atoms</th>\n",
       "      <th class=\"col_heading level0 col2\" >n_groups</th>\n",
       "      <th class=\"col_heading level0 col3\" >n_components</th>\n",
       "      <th class=\"col_heading level0 col4\" >n_chains</th>\n",
       "      <th class=\"col_heading level0 col5\" >n_molecules</th>\n",
       "      <th class=\"col_heading level0 col6\" >n_entities</th>\n",
       "      <th class=\"col_heading level0 col7\" >n_small_molecules</th>\n",
       "      <th class=\"col_heading level0 col8\" >n_frames</th>\n",
       "    </tr>\n",
       "  </thead>\n",
       "  <tbody>\n",
       "    <tr>\n",
       "      <td id=\"T_22c9d_row0_col0\" class=\"data row0 col0\" >molsysmt.MolSys</td>\n",
       "      <td id=\"T_22c9d_row0_col1\" class=\"data row0 col1\" >20</td>\n",
       "      <td id=\"T_22c9d_row0_col2\" class=\"data row0 col2\" >1</td>\n",
       "      <td id=\"T_22c9d_row0_col3\" class=\"data row0 col3\" >1</td>\n",
       "      <td id=\"T_22c9d_row0_col4\" class=\"data row0 col4\" >1</td>\n",
       "      <td id=\"T_22c9d_row0_col5\" class=\"data row0 col5\" >1</td>\n",
       "      <td id=\"T_22c9d_row0_col6\" class=\"data row0 col6\" >1</td>\n",
       "      <td id=\"T_22c9d_row0_col7\" class=\"data row0 col7\" >1</td>\n",
       "      <td id=\"T_22c9d_row0_col8\" class=\"data row0 col8\" >1</td>\n",
       "    </tr>\n",
       "  </tbody>\n",
       "</table>\n"
      ],
      "text/plain": [
       "<pandas.io.formats.style.Styler at 0x7fc85dcff390>"
      ]
     },
     "execution_count": 5,
     "metadata": {},
     "output_type": "execute_result"
    }
   ],
   "source": [
    "msm.info(molsys)"
   ]
  },
  {
   "cell_type": "code",
   "execution_count": 6,
   "id": "66bf85fe-b6aa-4381-8a06-c0d48bf7c5c2",
   "metadata": {},
   "outputs": [
    {
     "data": {
      "text/plain": [
       "'ligand.pdb'"
      ]
     },
     "execution_count": 6,
     "metadata": {},
     "output_type": "execute_result"
    }
   ],
   "source": [
    "msm.convert(molsys, 'ligand.pdb')"
   ]
  },
  {
   "cell_type": "markdown",
   "id": "2388995c-96c7-4c34-9935-98bd6f73056b",
   "metadata": {},
   "source": [
    "## With the Gaff forcefield"
   ]
  },
  {
   "cell_type": "markdown",
   "id": "c2026e63-6842-4a5e-866d-1868e0de29fa",
   "metadata": {},
   "source": [
    "See: \n",
    "    \n",
    "    https://github.com/openforcefield/openff-toolkit/issues/121\n",
    "    https://github.com/ADicksonLab/mastic/blob/58749c40fe364110e3e7be8aa79a89f32d956d09/mastic/interfaces/rdkit.py"
   ]
  },
  {
   "cell_type": "code",
   "execution_count": 7,
   "id": "72be6612-5a08-4818-be84-28383b2a835c",
   "metadata": {},
   "outputs": [],
   "source": [
    "from openff.toolkit.topology import Molecule, Topology\n",
    "from rdkit import Chem\n",
    "from rdkit.Chem import AllChem"
   ]
  },
  {
   "cell_type": "code",
   "execution_count": 8,
   "id": "70724336-4162-48bd-b936-9c35b8816bc2",
   "metadata": {},
   "outputs": [],
   "source": [
    "ligand = Chem.MolFromPDBFile('ligand.pdb')"
   ]
  },
  {
   "cell_type": "code",
   "execution_count": 9,
   "id": "68dfb995-7769-4cdf-8896-60f029962853",
   "metadata": {},
   "outputs": [],
   "source": [
    "smiles = 'C[C@]12CC[C@@H]3c4ccc(cc4CC[C@H]3[C@@H]1CC[C@@H]2O)O'\n",
    "template = Chem.MolFromSmiles(smiles)"
   ]
  },
  {
   "cell_type": "code",
   "execution_count": 10,
   "id": "3729066d-5c15-4eff-98a3-6270f2aca928",
   "metadata": {},
   "outputs": [],
   "source": [
    "ligand = AllChem.AssignBondOrdersFromTemplate(template, ligand)"
   ]
  },
  {
   "cell_type": "code",
   "execution_count": 11,
   "id": "f252e0de-d9d7-41fc-a7d5-b86b82eff2a2",
   "metadata": {},
   "outputs": [],
   "source": [
    "ligand = Chem.AddHs(ligand,addCoords=True)"
   ]
  },
  {
   "cell_type": "code",
   "execution_count": 13,
   "id": "4500e434-c3a6-4575-a42d-9fa91ee035f8",
   "metadata": {},
   "outputs": [],
   "source": [
    "ligand = Molecule.from_rdkit(ligand)"
   ]
  },
  {
   "cell_type": "code",
   "execution_count": 14,
   "id": "c8f27f4a-c145-4445-b918-2e3db36f6273",
   "metadata": {},
   "outputs": [
    {
     "data": {
      "application/vnd.jupyter.widget-view+json": {
       "model_id": "0d4526304ed94603aa6250815a56047b",
       "version_major": 2,
       "version_minor": 0
      },
      "text/plain": [
       "NGLWidget()"
      ]
     },
     "metadata": {},
     "output_type": "display_data"
    }
   ],
   "source": [
    "ligand"
   ]
  },
  {
   "cell_type": "code",
   "execution_count": 25,
   "id": "8c2ea907-5911-477f-9508-3d57492293ae",
   "metadata": {},
   "outputs": [],
   "source": [
    "from simtk.openmm.app import Modeller, ForceField\n",
    "from openmmforcefields.generators import GAFFTemplateGenerator"
   ]
  },
  {
   "cell_type": "code",
   "execution_count": null,
   "id": "7008fe10-aa99-4fe1-8c2f-988160475c00",
   "metadata": {},
   "outputs": [],
   "source": [
    "forcefield = ForceField('amber/protein.ff14SB.xml', 'amber/tip3p_standard.xml', 'amber/tip3p_HFE_multivalent.xml')"
   ]
  },
  {
   "cell_type": "code",
   "execution_count": null,
   "id": "d11aef42-9e0e-46e4-b877-5024b69d4bd3",
   "metadata": {},
   "outputs": [],
   "source": [
    "topology = ligand.to_topology()\n",
    "positions = ligand.conformers[0]\n",
    "modeller = Modeller(topology, positions)\n",
    "modeller.addSolvent(system_generator.forcefield, model='tip3p', padding=10.0*unit.angstroms)"
   ]
  },
  {
   "cell_type": "code",
   "execution_count": 23,
   "id": "deecd441-85e5-43d9-b9b2-8b43f0c08fc9",
   "metadata": {},
   "outputs": [],
   "source": [
    "generator = GAFFTemplateGenerator(molecules=ligand)"
   ]
  },
  {
   "cell_type": "code",
   "execution_count": 24,
   "id": "e09b781a-319a-4596-a625-cdebbc9bd126",
   "metadata": {},
   "outputs": [
    {
     "data": {
      "text/plain": [
       "'gaff-2.11'"
      ]
     },
     "execution_count": 24,
     "metadata": {},
     "output_type": "execute_result"
    }
   ],
   "source": [
    "generator.forcefield"
   ]
  },
  {
   "cell_type": "code",
   "execution_count": null,
   "id": "22f97794-23e6-4713-aac5-3d0b58e2e588",
   "metadata": {},
   "outputs": [],
   "source": [
    "forcefield = ForceField('amber/protein.ff14SB.xml', 'amber/tip3p_standard.xml', 'amber/tip3p_HFE_multi"
   ]
  },
  {
   "cell_type": "code",
   "execution_count": 19,
   "id": "4d003dce-b383-45a8-96f1-9bcd0356c161",
   "metadata": {},
   "outputs": [],
   "source": [
    "from simtk.openmm.app import ForceField\n",
    "from openmmforcefields.generators import GAFFTemplateGenerator"
   ]
  },
  {
   "cell_type": "code",
   "execution_count": null,
   "id": "08cae28f-581d-4ad6-8e48-a01d89b03a45",
   "metadata": {},
   "outputs": [],
   "source": []
  },
  {
   "cell_type": "code",
   "execution_count": 18,
   "id": "1984d0ab-0d87-4e57-88fc-ab608748a7ec",
   "metadata": {},
   "outputs": [
    {
     "ename": "OSError",
     "evalue": "Source gaff-2.11 could not be read. If this is a file, ensure that the path is correct.\nIf the file is present, ensure it is in a known SMIRNOFF encoding.\nValid formats are: ['XML']\nParsing failed with the following error:\nsyntax error: line 1, column 0\n",
     "output_type": "error",
     "traceback": [
      "\u001b[0;31m---------------------------------------------------------------------------\u001b[0m",
      "\u001b[0;31mOSError\u001b[0m                                   Traceback (most recent call last)",
      "\u001b[0;32m/tmp/ipykernel_2249073/2664207474.py\u001b[0m in \u001b[0;36m<module>\u001b[0;34m\u001b[0m\n\u001b[0;32m----> 1\u001b[0;31m \u001b[0mForceField\u001b[0m\u001b[0;34m(\u001b[0m\u001b[0;34m'gaff-2.11'\u001b[0m\u001b[0;34m)\u001b[0m\u001b[0;34m\u001b[0m\u001b[0;34m\u001b[0m\u001b[0m\n\u001b[0m",
      "\u001b[0;32m~/Myopt/miniconda3/envs/OpenPharmacophore_Tests/lib/python3.7/site-packages/openff/toolkit/typing/engines/smirnoff/forcefield.py\u001b[0m in \u001b[0;36m__init__\u001b[0;34m(self, aromaticity_model, parameter_handler_classes, parameter_io_handler_classes, disable_version_check, allow_cosmetic_attributes, load_plugins, *sources)\u001b[0m\n\u001b[1;32m    367\u001b[0m \u001b[0;34m\u001b[0m\u001b[0m\n\u001b[1;32m    368\u001b[0m         \u001b[0;31m# Parse all sources containing SMIRNOFF parameter definitions\u001b[0m\u001b[0;34m\u001b[0m\u001b[0;34m\u001b[0m\u001b[0;34m\u001b[0m\u001b[0m\n\u001b[0;32m--> 369\u001b[0;31m         \u001b[0mself\u001b[0m\u001b[0;34m.\u001b[0m\u001b[0mparse_sources\u001b[0m\u001b[0;34m(\u001b[0m\u001b[0msources\u001b[0m\u001b[0;34m,\u001b[0m \u001b[0mallow_cosmetic_attributes\u001b[0m\u001b[0;34m=\u001b[0m\u001b[0mallow_cosmetic_attributes\u001b[0m\u001b[0;34m)\u001b[0m\u001b[0;34m\u001b[0m\u001b[0;34m\u001b[0m\u001b[0m\n\u001b[0m\u001b[1;32m    370\u001b[0m \u001b[0;34m\u001b[0m\u001b[0m\n\u001b[1;32m    371\u001b[0m     \u001b[0;32mdef\u001b[0m \u001b[0m_initialize\u001b[0m\u001b[0;34m(\u001b[0m\u001b[0mself\u001b[0m\u001b[0;34m)\u001b[0m\u001b[0;34m:\u001b[0m\u001b[0;34m\u001b[0m\u001b[0;34m\u001b[0m\u001b[0m\n",
      "\u001b[0;32m~/Myopt/miniconda3/envs/OpenPharmacophore_Tests/lib/python3.7/site-packages/openff/toolkit/typing/engines/smirnoff/forcefield.py\u001b[0m in \u001b[0;36mparse_sources\u001b[0;34m(self, sources, allow_cosmetic_attributes)\u001b[0m\n\u001b[1;32m    911\u001b[0m         \u001b[0;31m# TODO: If a non-first source fails here, the force field might be partially modified\u001b[0m\u001b[0;34m\u001b[0m\u001b[0;34m\u001b[0m\u001b[0;34m\u001b[0m\u001b[0m\n\u001b[1;32m    912\u001b[0m         \u001b[0;32mfor\u001b[0m \u001b[0msource\u001b[0m \u001b[0;32min\u001b[0m \u001b[0msources\u001b[0m\u001b[0;34m:\u001b[0m\u001b[0;34m\u001b[0m\u001b[0;34m\u001b[0m\u001b[0m\n\u001b[0;32m--> 913\u001b[0;31m             \u001b[0msmirnoff_data\u001b[0m \u001b[0;34m=\u001b[0m \u001b[0mself\u001b[0m\u001b[0;34m.\u001b[0m\u001b[0mparse_smirnoff_from_source\u001b[0m\u001b[0;34m(\u001b[0m\u001b[0msource\u001b[0m\u001b[0;34m)\u001b[0m\u001b[0;34m\u001b[0m\u001b[0;34m\u001b[0m\u001b[0m\n\u001b[0m\u001b[1;32m    914\u001b[0m             self._load_smirnoff_data(\n\u001b[1;32m    915\u001b[0m                 \u001b[0msmirnoff_data\u001b[0m\u001b[0;34m,\u001b[0m \u001b[0mallow_cosmetic_attributes\u001b[0m\u001b[0;34m=\u001b[0m\u001b[0mallow_cosmetic_attributes\u001b[0m\u001b[0;34m\u001b[0m\u001b[0;34m\u001b[0m\u001b[0m\n",
      "\u001b[0;32m~/Myopt/miniconda3/envs/OpenPharmacophore_Tests/lib/python3.7/site-packages/openff/toolkit/typing/engines/smirnoff/forcefield.py\u001b[0m in \u001b[0;36mparse_smirnoff_from_source\u001b[0;34m(self, source)\u001b[0m\n\u001b[1;32m   1146\u001b[0m         \u001b[0mmsg\u001b[0m \u001b[0;34m+=\u001b[0m \u001b[0;34mf\"Valid formats are: {valid_formats}\\n\"\u001b[0m\u001b[0;34m\u001b[0m\u001b[0;34m\u001b[0m\u001b[0m\n\u001b[1;32m   1147\u001b[0m         \u001b[0mmsg\u001b[0m \u001b[0;34m+=\u001b[0m \u001b[0;34mf\"Parsing failed with the following error:\\n{exception_msg}\\n\"\u001b[0m\u001b[0;34m\u001b[0m\u001b[0;34m\u001b[0m\u001b[0m\n\u001b[0;32m-> 1148\u001b[0;31m         \u001b[0;32mraise\u001b[0m \u001b[0mIOError\u001b[0m\u001b[0;34m(\u001b[0m\u001b[0mmsg\u001b[0m\u001b[0;34m)\u001b[0m\u001b[0;34m\u001b[0m\u001b[0;34m\u001b[0m\u001b[0m\n\u001b[0m\u001b[1;32m   1149\u001b[0m \u001b[0;34m\u001b[0m\u001b[0m\n\u001b[1;32m   1150\u001b[0m     \u001b[0;32mdef\u001b[0m \u001b[0mto_string\u001b[0m\u001b[0;34m(\u001b[0m\u001b[0mself\u001b[0m\u001b[0;34m,\u001b[0m \u001b[0mio_format\u001b[0m\u001b[0;34m=\u001b[0m\u001b[0;34m\"XML\"\u001b[0m\u001b[0;34m,\u001b[0m \u001b[0mdiscard_cosmetic_attributes\u001b[0m\u001b[0;34m=\u001b[0m\u001b[0;32mFalse\u001b[0m\u001b[0;34m)\u001b[0m\u001b[0;34m:\u001b[0m\u001b[0;34m\u001b[0m\u001b[0;34m\u001b[0m\u001b[0m\n",
      "\u001b[0;31mOSError\u001b[0m: Source gaff-2.11 could not be read. If this is a file, ensure that the path is correct.\nIf the file is present, ensure it is in a known SMIRNOFF encoding.\nValid formats are: ['XML']\nParsing failed with the following error:\nsyntax error: line 1, column 0\n"
     ]
    }
   ],
   "source": [
    "ForceField('gaff-2.11')"
   ]
  },
  {
   "cell_type": "markdown",
   "id": "f8eb3181-53a3-400c-8f2c-e8e0adfaa4bf",
   "metadata": {},
   "source": [
    "Sources:\n",
    "https://github.com/tdudgeon/simple-simulate-complex    \n"
   ]
  },
  {
   "cell_type": "markdown",
   "id": "b7425e49-2f1b-4558-b871-1561446486a8",
   "metadata": {},
   "source": [
    "## Bibliography\n",
    "\n",
    "[Koes, David Ryan. “Computer-Aided Drug Discovery,” 167–88. Methods in Pharmacology and Toxicology, 2015.](https://doi.org/10.1007/7653_2015_46)"
   ]
  },
  {
   "cell_type": "code",
   "execution_count": null,
   "id": "777c43e1-a8ae-46f8-a402-69fbcccec0ae",
   "metadata": {},
   "outputs": [],
   "source": [
    "https://open-forcefield-toolkit.readthedocs.io/en/latest/examples.html"
   ]
  }
 ],
 "metadata": {
  "kernelspec": {
   "display_name": "Python 3",
   "language": "python",
   "name": "python3"
  },
  "language_info": {
   "codemirror_mode": {
    "name": "ipython",
    "version": 3
   },
   "file_extension": ".py",
   "mimetype": "text/x-python",
   "name": "python",
   "nbconvert_exporter": "python",
   "pygments_lexer": "ipython3",
   "version": "3.7.10"
  }
 },
 "nbformat": 4,
 "nbformat_minor": 5
}
