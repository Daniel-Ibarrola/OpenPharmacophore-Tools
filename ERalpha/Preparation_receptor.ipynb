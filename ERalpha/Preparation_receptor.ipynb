{
 "cells": [
  {
   "cell_type": "code",
   "execution_count": 1,
   "id": "5e617614-36c0-48bb-80d6-6fbc49d93637",
   "metadata": {},
   "outputs": [],
   "source": [
    "%load_ext autoreload\n",
    "%autoreload 2"
   ]
  },
  {
   "cell_type": "markdown",
   "id": "65c9f33f-b943-4c45-a766-1eeac98da1f5",
   "metadata": {},
   "source": [
    "# System preparation"
   ]
  },
  {
   "cell_type": "code",
   "execution_count": 2,
   "id": "227422c8-1993-4b07-bff4-5bde8a46987b",
   "metadata": {},
   "outputs": [
    {
     "data": {
      "application/vnd.jupyter.widget-view+json": {
       "model_id": "69520fb71d2c45e8822723b942aabd42",
       "version_major": 2,
       "version_minor": 0
      },
      "text/plain": []
     },
     "metadata": {},
     "output_type": "display_data"
    }
   ],
   "source": [
    "import molsysmt as msm"
   ]
  },
  {
   "cell_type": "code",
   "execution_count": 3,
   "id": "51bd152c-d050-4b83-a641-6336931a7514",
   "metadata": {},
   "outputs": [
    {
     "name": "stderr",
     "output_type": "stream",
     "text": [
      "/home/diego/Projects/MolSysMT/molsysmt/native/io/topology/classes/mmtf_MMTFDecoder.py:43: UserWarning: The structure in the PDB has biological assemblies. There are geometrical transformations proposed in the structure. See the following issue in the source code repository: https://github.com/uibcdf/MolSysMT/issues/33\n",
      "  warnings.warn(warning_message)\n"
     ]
    }
   ],
   "source": [
    "molsys = msm.convert(\"pdbid:1QKU\", selection='chain_name==[\"B\", \"E\"] and molecule_type==\"protein\"')"
   ]
  },
  {
   "cell_type": "code",
   "execution_count": 4,
   "id": "5fe34e7d-7ae0-4ed4-bbd4-6b9d1f48581d",
   "metadata": {},
   "outputs": [
    {
     "data": {
      "text/plain": [
       "False"
      ]
     },
     "execution_count": 4,
     "metadata": {},
     "output_type": "execute_result"
    }
   ],
   "source": [
    "msm.has_hydrogens(molsys)"
   ]
  },
  {
   "cell_type": "code",
   "execution_count": 5,
   "id": "796960cb-9f08-46f8-8302-52447c42a2e1",
   "metadata": {},
   "outputs": [],
   "source": [
    "molsys = msm.add_terminal_capping(molsys, N_terminal='ACE', C_terminal='NME')"
   ]
  },
  {
   "cell_type": "code",
   "execution_count": 6,
   "id": "1009499a-fb0f-4bea-933c-4f194865e4cf",
   "metadata": {},
   "outputs": [],
   "source": [
    "molsys = msm.add_missing_hydrogens(molsys, pH=7.4)"
   ]
  },
  {
   "cell_type": "code",
   "execution_count": 7,
   "id": "7a0f937b-e35d-405b-a6ec-5a52d1934832",
   "metadata": {},
   "outputs": [
    {
     "data": {
      "text/plain": [
       "'receptor.pdb'"
      ]
     },
     "execution_count": 7,
     "metadata": {},
     "output_type": "execute_result"
    }
   ],
   "source": [
    "msm.convert(molsys, to_form='receptor.pdb')"
   ]
  },
  {
   "cell_type": "code",
   "execution_count": 8,
   "id": "23d205ac-a8c4-4458-a3e3-9ee72b490c36",
   "metadata": {},
   "outputs": [
    {
     "data": {
      "text/html": [
       "-6.0 elementary_charge"
      ],
      "text/latex": [
       "$-6.0\\ \\mathrm{elementary\\_charge}$"
      ],
      "text/plain": [
       "-6.0 <Unit('elementary_charge')>"
      ]
     },
     "execution_count": 8,
     "metadata": {},
     "output_type": "execute_result"
    }
   ],
   "source": [
    "msm.physchem.charge([molsys, {'forcefield':'AMBER14'}], target='system')"
   ]
  },
  {
   "cell_type": "code",
   "execution_count": 9,
   "id": "dce20c15-403c-4f31-9897-ff989d3766ed",
   "metadata": {},
   "outputs": [],
   "source": [
    "molsys = msm.solvate([molsys, {'forcefield':'AMBER14', 'water_model':'TIP3P'}],\n",
    "                      box_geometry='rhombic_dodecahedral', clearance='14.0 angstroms',\n",
    "                      engine='OpenMM', to_form='molsysmt.MolSys', verbose=False)"
   ]
  },
  {
   "cell_type": "code",
   "execution_count": 10,
   "id": "ad421190-2188-48c5-b94a-2fc80998f60f",
   "metadata": {},
   "outputs": [
    {
     "data": {
      "text/plain": [
       "[array([[[7.32642677, 0.        , 0.        ],\n",
       "         [0.        , 7.32642677, 0.        ],\n",
       "         [3.66321338, 3.66321338, 5.18056605]]]) <Unit('nanometer')>,\n",
       " array([[60.      , 60.      , 90.000001]]) <Unit('degree')>]"
      ]
     },
     "execution_count": 10,
     "metadata": {},
     "output_type": "execute_result"
    }
   ],
   "source": [
    "msm.get(molsys, target='system', box=True, box_angles=True)"
   ]
  },
  {
   "cell_type": "code",
   "execution_count": 11,
   "id": "6f0f3deb-2696-476f-8505-13f82b73c4b2",
   "metadata": {},
   "outputs": [
    {
     "data": {
      "text/html": [
       "<style type=\"text/css\">\n",
       "</style>\n",
       "<table id=\"T_fe21b_\">\n",
       "  <thead>\n",
       "    <tr>\n",
       "      <th class=\"col_heading level0 col0\" >form</th>\n",
       "      <th class=\"col_heading level0 col1\" >n_atoms</th>\n",
       "      <th class=\"col_heading level0 col2\" >n_groups</th>\n",
       "      <th class=\"col_heading level0 col3\" >n_components</th>\n",
       "      <th class=\"col_heading level0 col4\" >n_chains</th>\n",
       "      <th class=\"col_heading level0 col5\" >n_molecules</th>\n",
       "      <th class=\"col_heading level0 col6\" >n_entities</th>\n",
       "      <th class=\"col_heading level0 col7\" >n_waters</th>\n",
       "      <th class=\"col_heading level0 col8\" >n_ions</th>\n",
       "      <th class=\"col_heading level0 col9\" >n_proteins</th>\n",
       "      <th class=\"col_heading level0 col10\" >n_frames</th>\n",
       "    </tr>\n",
       "  </thead>\n",
       "  <tbody>\n",
       "    <tr>\n",
       "      <td id=\"T_fe21b_row0_col0\" class=\"data row0 col0\" >molsysmt.MolSys</td>\n",
       "      <td id=\"T_fe21b_row0_col1\" class=\"data row0 col1\" >25831</td>\n",
       "      <td id=\"T_fe21b_row0_col2\" class=\"data row0 col2\" >7526</td>\n",
       "      <td id=\"T_fe21b_row0_col3\" class=\"data row0 col3\" >7278</td>\n",
       "      <td id=\"T_fe21b_row0_col4\" class=\"data row0 col4\" >3</td>\n",
       "      <td id=\"T_fe21b_row0_col5\" class=\"data row0 col5\" >7278</td>\n",
       "      <td id=\"T_fe21b_row0_col6\" class=\"data row0 col6\" >3</td>\n",
       "      <td id=\"T_fe21b_row0_col7\" class=\"data row0 col7\" >7271</td>\n",
       "      <td id=\"T_fe21b_row0_col8\" class=\"data row0 col8\" >6</td>\n",
       "      <td id=\"T_fe21b_row0_col9\" class=\"data row0 col9\" >1</td>\n",
       "      <td id=\"T_fe21b_row0_col10\" class=\"data row0 col10\" >1</td>\n",
       "    </tr>\n",
       "  </tbody>\n",
       "</table>\n"
      ],
      "text/plain": [
       "<pandas.io.formats.style.Styler at 0x7f3461278bd0>"
      ]
     },
     "execution_count": 11,
     "metadata": {},
     "output_type": "execute_result"
    }
   ],
   "source": [
    "msm.info(molsys)"
   ]
  },
  {
   "cell_type": "code",
   "execution_count": 12,
   "id": "a9fd94ea-5dff-4fe1-9023-87623e36fddc",
   "metadata": {},
   "outputs": [],
   "source": [
    "molsys = msm.wrap_to_mic(molsys, center_of_selection='molecule_type==\"protein\"')"
   ]
  },
  {
   "cell_type": "code",
   "execution_count": 13,
   "id": "2c8f8996-dbb6-4c85-87a5-a8d79cd2c999",
   "metadata": {},
   "outputs": [
    {
     "data": {
      "application/vnd.jupyter.widget-view+json": {
       "model_id": "d16c17b669b34286896a6f961b96d2a5",
       "version_major": 2,
       "version_minor": 0
      },
      "text/plain": [
       "NGLWidget()"
      ]
     },
     "metadata": {},
     "output_type": "display_data"
    }
   ],
   "source": [
    "msm.view(molsys, standardize=True, water_as_surface=True)"
   ]
  },
  {
   "cell_type": "code",
   "execution_count": 14,
   "id": "27b589be-2fb7-43ed-b8ff-2c3cf4b22ba1",
   "metadata": {},
   "outputs": [
    {
     "data": {
      "text/plain": [
       "'receptor_solvated.pdb'"
      ]
     },
     "execution_count": 14,
     "metadata": {},
     "output_type": "execute_result"
    }
   ],
   "source": [
    "msm.convert(molsys, to_form='receptor_solvated.pdb')"
   ]
  },
  {
   "cell_type": "markdown",
   "id": "b7425e49-2f1b-4558-b871-1561446486a8",
   "metadata": {},
   "source": [
    "## Bibliography\n",
    "\n",
    "[Koes, David Ryan. “Computer-Aided Drug Discovery,” 167–88. Methods in Pharmacology and Toxicology, 2015.](https://doi.org/10.1007/7653_2015_46)"
   ]
  },
  {
   "cell_type": "code",
   "execution_count": null,
   "id": "777c43e1-a8ae-46f8-a402-69fbcccec0ae",
   "metadata": {},
   "outputs": [],
   "source": []
  }
 ],
 "metadata": {
  "kernelspec": {
   "display_name": "Python 3 (ipykernel)",
   "language": "python",
   "name": "python3"
  },
  "language_info": {
   "codemirror_mode": {
    "name": "ipython",
    "version": 3
   },
   "file_extension": ".py",
   "mimetype": "text/x-python",
   "name": "python",
   "nbconvert_exporter": "python",
   "pygments_lexer": "ipython3",
   "version": "3.7.10"
  }
 },
 "nbformat": 4,
 "nbformat_minor": 5
}
