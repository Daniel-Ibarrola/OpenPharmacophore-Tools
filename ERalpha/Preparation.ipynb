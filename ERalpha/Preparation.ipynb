{
 "cells": [
  {
   "cell_type": "code",
   "execution_count": 1,
   "id": "5e617614-36c0-48bb-80d6-6fbc49d93637",
   "metadata": {},
   "outputs": [],
   "source": [
    "%load_ext autoreload\n",
    "%autoreload 2"
   ]
  },
  {
   "cell_type": "markdown",
   "id": "65c9f33f-b943-4c45-a766-1eeac98da1f5",
   "metadata": {},
   "source": [
    "# System preparation"
   ]
  },
  {
   "cell_type": "code",
   "execution_count": 2,
   "id": "227422c8-1993-4b07-bff4-5bde8a46987b",
   "metadata": {},
   "outputs": [
    {
     "data": {
      "application/vnd.jupyter.widget-view+json": {
       "model_id": "3e1b559e0c0f405ab732b2a5a009c03e",
       "version_major": 2,
       "version_minor": 0
      },
      "text/plain": []
     },
     "metadata": {},
     "output_type": "display_data"
    }
   ],
   "source": [
    "import molsysmt as msm"
   ]
  },
  {
   "cell_type": "code",
   "execution_count": 3,
   "id": "7b8b1f13-080a-4441-9707-8991f4dbaad8",
   "metadata": {},
   "outputs": [
    {
     "name": "stderr",
     "output_type": "stream",
     "text": [
      "/home/diego/Projects/MolSysMT/molsysmt/native/io/topology/classes/mmtf_MMTFDecoder.py:43: UserWarning: The structure in the PDB has biological assemblies. There are geometrical transformations proposed in the structure. See the following issue in the source code repository: https://github.com/uibcdf/MolSysMT/issues/33\n",
      "  warnings.warn(warning_message)\n"
     ]
    }
   ],
   "source": [
    "molsys = msm.convert(\"pdbid:1QKU\")"
   ]
  },
  {
   "cell_type": "code",
   "execution_count": 4,
   "id": "a66aab8e-4ffa-4f06-96a8-768d79eccdcf",
   "metadata": {},
   "outputs": [
    {
     "data": {
      "text/html": [
       "<style type=\"text/css\">\n",
       "</style>\n",
       "<table id=\"T_ee209_\">\n",
       "  <thead>\n",
       "    <tr>\n",
       "      <th class=\"col_heading level0 col0\" >form</th>\n",
       "      <th class=\"col_heading level0 col1\" >n_atoms</th>\n",
       "      <th class=\"col_heading level0 col2\" >n_groups</th>\n",
       "      <th class=\"col_heading level0 col3\" >n_components</th>\n",
       "      <th class=\"col_heading level0 col4\" >n_chains</th>\n",
       "      <th class=\"col_heading level0 col5\" >n_molecules</th>\n",
       "      <th class=\"col_heading level0 col6\" >n_entities</th>\n",
       "      <th class=\"col_heading level0 col7\" >n_waters</th>\n",
       "      <th class=\"col_heading level0 col8\" >n_small_molecules</th>\n",
       "      <th class=\"col_heading level0 col9\" >n_proteins</th>\n",
       "      <th class=\"col_heading level0 col10\" >n_frames</th>\n",
       "    </tr>\n",
       "  </thead>\n",
       "  <tbody>\n",
       "    <tr>\n",
       "      <td id=\"T_ee209_row0_col0\" class=\"data row0 col0\" >molsysmt.MolSys</td>\n",
       "      <td id=\"T_ee209_row0_col1\" class=\"data row0 col1\" >6596</td>\n",
       "      <td id=\"T_ee209_row0_col2\" class=\"data row0 col2\" >1343</td>\n",
       "      <td id=\"T_ee209_row0_col3\" class=\"data row0 col3\" >602</td>\n",
       "      <td id=\"T_ee209_row0_col4\" class=\"data row0 col4\" >9</td>\n",
       "      <td id=\"T_ee209_row0_col5\" class=\"data row0 col5\" >600</td>\n",
       "      <td id=\"T_ee209_row0_col6\" class=\"data row0 col6\" >3</td>\n",
       "      <td id=\"T_ee209_row0_col7\" class=\"data row0 col7\" >596</td>\n",
       "      <td id=\"T_ee209_row0_col8\" class=\"data row0 col8\" >3</td>\n",
       "      <td id=\"T_ee209_row0_col9\" class=\"data row0 col9\" >1</td>\n",
       "      <td id=\"T_ee209_row0_col10\" class=\"data row0 col10\" >1</td>\n",
       "    </tr>\n",
       "  </tbody>\n",
       "</table>\n"
      ],
      "text/plain": [
       "<pandas.io.formats.style.Styler at 0x7f6191f67150>"
      ]
     },
     "execution_count": 4,
     "metadata": {},
     "output_type": "execute_result"
    }
   ],
   "source": [
    "msm.info(molsys)"
   ]
  },
  {
   "cell_type": "code",
   "execution_count": 5,
   "id": "72cf0861-5a74-4a1d-aa4f-bae5aac3475b",
   "metadata": {},
   "outputs": [
    {
     "data": {
      "application/vnd.jupyter.widget-view+json": {
       "model_id": "215402a8e8a8409f8ffe4df2ef22f75c",
       "version_major": 2,
       "version_minor": 0
      },
      "text/plain": [
       "NGLWidget()"
      ]
     },
     "metadata": {},
     "output_type": "display_data"
    }
   ],
   "source": [
    "msm.view(molsys, standardize=False)"
   ]
  },
  {
   "cell_type": "code",
   "execution_count": 6,
   "id": "1a933e39-07c9-4207-8187-aa46eba410e6",
   "metadata": {},
   "outputs": [],
   "source": [
    "molsys = msm.remove_solvent(molsys)"
   ]
  },
  {
   "cell_type": "code",
   "execution_count": 7,
   "id": "d5e2e36e-d747-4ec3-b645-a6a7d6af01d5",
   "metadata": {},
   "outputs": [],
   "source": [
    "molsys_A = msm.extract(molsys, selection='chain_name==[\"A\", \"D\"]')\n",
    "molsys_B = msm.extract(molsys, selection='chain_name==[\"B\", \"E\"]')\n",
    "molsys_C = msm.extract(molsys, selection='chain_name==[\"C\", \"F\"]')"
   ]
  },
  {
   "cell_type": "code",
   "execution_count": 8,
   "id": "8d5b7927-7570-4365-b985-cc62b1a01eac",
   "metadata": {},
   "outputs": [
    {
     "name": "stdout",
     "output_type": "stream",
     "text": [
      "\u001b[1;34;48mS\u001b[m\u001b[1;34;48mK\u001b[m\u001b[1;34;48mK\u001b[mNSLALSLTADQMVSALLDAEPPILYSEYDPTRPFSEASMMGLLTNLADRELVHMINWAKRVPGFVDLTLHDQVHLLECAWLEILMIGLVWRSMEHPGKLLFAPNLLLDRNQGKCVEGMVEIFDMLLATSSRFRMMNLQGEEFVCLKSIILLNSGVYTFLSSTLKSLEEKDHIHRVLDKITDTLIHLMAKAGLTLQQQHQRLAQLLLILSHIRHMSNKGMEHLYSMKCKNVVPLYDLLLEMLDAHRLH\n",
      "\n",
      "---NSLALSLTADQMVSALLDAEPPILYSEYDPTRPFSEASMMGLLTNLADRELVHMINWAKRVPGFVDLTLHDQVHLLECAWLEILMIGLVWRSMEHPGKLLFAPNLLLDRNQGKCVEGMVEIFDMLLATSSRFRMMNLQGEEFVCLKSIILLNSGVYTFLSSTLKSLEEKDHIHRVLDKITDTLIHLMAKAGLTLQQQHQRLAQLLLILSHIRHMSNKGMEHLYSMKCKNVVPLYDLLLEMLDAHRLH\n"
     ]
    }
   ],
   "source": [
    "msm.sequence_alignment(molsys_B, selection='molecule_type==\"protein\"',\n",
    "                      reference_molecular_system=molsys_A, reference_selection='molecule_type==\"protein\"',\n",
    "                      prettyprint=True)"
   ]
  },
  {
   "cell_type": "code",
   "execution_count": 9,
   "id": "571d2fa5-9020-47bd-b7d0-c55176bd3b1e",
   "metadata": {},
   "outputs": [
    {
     "name": "stdout",
     "output_type": "stream",
     "text": [
      "\u001b[1;34;48mS\u001b[m\u001b[1;34;48mK\u001b[m\u001b[1;34;48mK\u001b[mNSLALSLTADQMVSALLDAEPPILYSEYDPTRPFSEASMMGLLTNLADRELVHMINWAKRVPGFVDLTLHDQVHLLECAWLEILMIGLVWRSMEHPGKLLFAPNLLLDRNQGKCVEGMVEIFDMLLATSSRFRMMNLQGEEFVCLKSIILLNSGVYTFLSSTLKSLEEKDHIHRVLDKITDTLIHLMAKAGLTLQQQHQRLAQLLLILSHIRHMSNKGMEHLYSMKCKNVVPLYDLLLEMLDAHRLH\n",
      "\n",
      "---NSLALSLTADQMVSALLDAEPPILYSEYDPTRPFSEASMMGLLTNLADRELVHMINWAKRVPGFVDLTLHDQVHLLECAWLEILMIGLVWRSMEHPGKLLFAPNLLLDRNQGKCVEGMVEIFDMLLATSSRFRMMNLQGEEFVCLKSIILLNSGVYTFLSSTLKSLEEKDHIHRVLDKITDTLIHLMAKAGLTLQQQHQRLAQLLLILSHIRHMSNKGMEHLYSMKCKNVVPLYDLLLEMLDAHRLH\n"
     ]
    }
   ],
   "source": [
    "msm.sequence_alignment(molsys_C, selection='molecule_type==\"protein\"',\n",
    "                      reference_molecular_system=molsys_A, reference_selection='molecule_type==\"protein\"',\n",
    "                      prettyprint=True)"
   ]
  },
  {
   "cell_type": "code",
   "execution_count": 10,
   "id": "56d77a58-b8e4-415c-aced-8412f2f3cba6",
   "metadata": {},
   "outputs": [],
   "source": [
    "molsys_B_over_A = msm.structure_alignment(molsys_B, selection_alignment='molecule_type==\"protein\"',\n",
    "                                          reference_molecular_system=molsys_A, reference_selection_alignment='molecule_type==\"protein\"')\n",
    "molsys_C_over_A = msm.structure_alignment(molsys_C, selection_alignment='molecule_type==\"protein\"',\n",
    "                                          reference_molecular_system=molsys_A, reference_selection_alignment='molecule_type==\"protein\"')"
   ]
  },
  {
   "cell_type": "code",
   "execution_count": 11,
   "id": "512daab1-e2dd-4fbd-bd5d-332f46636a9f",
   "metadata": {},
   "outputs": [
    {
     "data": {
      "application/vnd.jupyter.widget-view+json": {
       "model_id": "eb19a6be9d47487abd493729548b74c9",
       "version_major": 2,
       "version_minor": 0
      },
      "text/plain": [
       "NGLWidget()"
      ]
     },
     "metadata": {},
     "output_type": "display_data"
    }
   ],
   "source": [
    "msm.view([molsys_A, molsys_B_over_A, molsys_C_over_A])"
   ]
  },
  {
   "cell_type": "code",
   "execution_count": 12,
   "id": "2e2b13a8-e778-4b8f-ae89-6c5da3e2f18e",
   "metadata": {},
   "outputs": [],
   "source": [
    "molsys = molsys_B_over_A"
   ]
  },
  {
   "cell_type": "code",
   "execution_count": 13,
   "id": "51bd152c-d050-4b83-a641-6336931a7514",
   "metadata": {},
   "outputs": [],
   "source": [
    "molsys = msm.extract(molsys, selection='molecule_type==\"protein\"')"
   ]
  },
  {
   "cell_type": "code",
   "execution_count": 14,
   "id": "5fe34e7d-7ae0-4ed4-bbd4-6b9d1f48581d",
   "metadata": {},
   "outputs": [
    {
     "data": {
      "text/plain": [
       "False"
      ]
     },
     "execution_count": 14,
     "metadata": {},
     "output_type": "execute_result"
    }
   ],
   "source": [
    "msm.has_hydrogens(molsys)"
   ]
  },
  {
   "cell_type": "code",
   "execution_count": 15,
   "id": "796960cb-9f08-46f8-8302-52447c42a2e1",
   "metadata": {},
   "outputs": [],
   "source": [
    "molsys = msm.add_terminal_capping(molsys, N_terminal='ACE', C_terminal='NME')"
   ]
  },
  {
   "cell_type": "code",
   "execution_count": 16,
   "id": "1009499a-fb0f-4bea-933c-4f194865e4cf",
   "metadata": {},
   "outputs": [],
   "source": [
    "molsys = msm.add_missing_hydrogens(molsys, pH=7.4)"
   ]
  },
  {
   "cell_type": "code",
   "execution_count": 17,
   "id": "23d205ac-a8c4-4458-a3e3-9ee72b490c36",
   "metadata": {},
   "outputs": [
    {
     "data": {
      "text/html": [
       "-6.0 elementary_charge"
      ],
      "text/latex": [
       "$-6.0\\ \\mathrm{elementary\\_charge}$"
      ],
      "text/plain": [
       "-6.0 <Unit('elementary_charge')>"
      ]
     },
     "execution_count": 17,
     "metadata": {},
     "output_type": "execute_result"
    }
   ],
   "source": [
    "msm.physchem.charge([molsys, {'forcefield':'AMBER14'}], target='system')"
   ]
  },
  {
   "cell_type": "code",
   "execution_count": 24,
   "id": "dce20c15-403c-4f31-9897-ff989d3766ed",
   "metadata": {},
   "outputs": [],
   "source": [
    "molsys_wat_openmm = msm.solvate([molsys, {'forcefield':'AMBER14', 'water_model':'TIP3P'}],\n",
    "                                 box_geometry='truncated_octahedral', clearance='14.0 angstroms',\n",
    "                                 engine='OpenMM', to_form='molsysmt.MolSys', verbose=False)"
   ]
  },
  {
   "cell_type": "code",
   "execution_count": 25,
   "id": "97451c31-27a5-40ee-a8c7-dcbce7c800fc",
   "metadata": {},
   "outputs": [],
   "source": [
    "molsys_wat_pdbfixer = msm.solvate(molsys, box_geometry='truncated_octahedral', clearance='14.0 angstroms',\n",
    "                                  engine='PDBFixer', verbose=False)"
   ]
  },
  {
   "cell_type": "code",
   "execution_count": 26,
   "id": "8bed73b7-2c8d-49f5-b5fa-9842fd865f01",
   "metadata": {
    "tags": []
   },
   "outputs": [],
   "source": [
    "molsys_wat_leap = msm.solvate([msm.remove_hydrogens(molsys), {'forcefield':'AMBER14', 'water_model':'TIP3P'}],\n",
    "                                 box_geometry='truncated_octahedral', clearance='14.0 angstroms',\n",
    "                                 engine='LEaP', to_form='molsysmt.MolSys', verbose=False)"
   ]
  },
  {
   "cell_type": "code",
   "execution_count": 27,
   "id": "6f0f3deb-2696-476f-8505-13f82b73c4b2",
   "metadata": {},
   "outputs": [
    {
     "data": {
      "text/html": [
       "<style type=\"text/css\">\n",
       "</style>\n",
       "<table id=\"T_0e6b4_\">\n",
       "  <thead>\n",
       "    <tr>\n",
       "      <th class=\"col_heading level0 col0\" >form</th>\n",
       "      <th class=\"col_heading level0 col1\" >n_atoms</th>\n",
       "      <th class=\"col_heading level0 col2\" >n_groups</th>\n",
       "      <th class=\"col_heading level0 col3\" >n_components</th>\n",
       "      <th class=\"col_heading level0 col4\" >n_chains</th>\n",
       "      <th class=\"col_heading level0 col5\" >n_molecules</th>\n",
       "      <th class=\"col_heading level0 col6\" >n_entities</th>\n",
       "      <th class=\"col_heading level0 col7\" >n_waters</th>\n",
       "      <th class=\"col_heading level0 col8\" >n_ions</th>\n",
       "      <th class=\"col_heading level0 col9\" >n_proteins</th>\n",
       "      <th class=\"col_heading level0 col10\" >n_frames</th>\n",
       "    </tr>\n",
       "  </thead>\n",
       "  <tbody>\n",
       "    <tr>\n",
       "      <td id=\"T_0e6b4_row0_col0\" class=\"data row0 col0\" >molsysmt.MolSys</td>\n",
       "      <td id=\"T_0e6b4_row0_col1\" class=\"data row0 col1\" >27688</td>\n",
       "      <td id=\"T_0e6b4_row0_col2\" class=\"data row0 col2\" >8145</td>\n",
       "      <td id=\"T_0e6b4_row0_col3\" class=\"data row0 col3\" >7897</td>\n",
       "      <td id=\"T_0e6b4_row0_col4\" class=\"data row0 col4\" >3</td>\n",
       "      <td id=\"T_0e6b4_row0_col5\" class=\"data row0 col5\" >7897</td>\n",
       "      <td id=\"T_0e6b4_row0_col6\" class=\"data row0 col6\" >3</td>\n",
       "      <td id=\"T_0e6b4_row0_col7\" class=\"data row0 col7\" >7890</td>\n",
       "      <td id=\"T_0e6b4_row0_col8\" class=\"data row0 col8\" >6</td>\n",
       "      <td id=\"T_0e6b4_row0_col9\" class=\"data row0 col9\" >1</td>\n",
       "      <td id=\"T_0e6b4_row0_col10\" class=\"data row0 col10\" >1</td>\n",
       "    </tr>\n",
       "  </tbody>\n",
       "</table>\n"
      ],
      "text/plain": [
       "<pandas.io.formats.style.Styler at 0x7f6153563f10>"
      ]
     },
     "execution_count": 27,
     "metadata": {},
     "output_type": "execute_result"
    }
   ],
   "source": [
    "msm.info(molsys_wat_openmm)"
   ]
  },
  {
   "cell_type": "code",
   "execution_count": 28,
   "id": "acf67b2e-8467-4853-98da-168628a48d68",
   "metadata": {},
   "outputs": [
    {
     "data": {
      "text/html": [
       "<style type=\"text/css\">\n",
       "</style>\n",
       "<table id=\"T_14e9c_\">\n",
       "  <thead>\n",
       "    <tr>\n",
       "      <th class=\"col_heading level0 col0\" >form</th>\n",
       "      <th class=\"col_heading level0 col1\" >n_atoms</th>\n",
       "      <th class=\"col_heading level0 col2\" >n_groups</th>\n",
       "      <th class=\"col_heading level0 col3\" >n_components</th>\n",
       "      <th class=\"col_heading level0 col4\" >n_chains</th>\n",
       "      <th class=\"col_heading level0 col5\" >n_molecules</th>\n",
       "      <th class=\"col_heading level0 col6\" >n_entities</th>\n",
       "      <th class=\"col_heading level0 col7\" >n_waters</th>\n",
       "      <th class=\"col_heading level0 col8\" >n_ions</th>\n",
       "      <th class=\"col_heading level0 col9\" >n_proteins</th>\n",
       "      <th class=\"col_heading level0 col10\" >n_frames</th>\n",
       "    </tr>\n",
       "  </thead>\n",
       "  <tbody>\n",
       "    <tr>\n",
       "      <td id=\"T_14e9c_row0_col0\" class=\"data row0 col0\" >molsysmt.MolSys</td>\n",
       "      <td id=\"T_14e9c_row0_col1\" class=\"data row0 col1\" >28114</td>\n",
       "      <td id=\"T_14e9c_row0_col2\" class=\"data row0 col2\" >8287</td>\n",
       "      <td id=\"T_14e9c_row0_col3\" class=\"data row0 col3\" >8039</td>\n",
       "      <td id=\"T_14e9c_row0_col4\" class=\"data row0 col4\" >3</td>\n",
       "      <td id=\"T_14e9c_row0_col5\" class=\"data row0 col5\" >8039</td>\n",
       "      <td id=\"T_14e9c_row0_col6\" class=\"data row0 col6\" >3</td>\n",
       "      <td id=\"T_14e9c_row0_col7\" class=\"data row0 col7\" >8032</td>\n",
       "      <td id=\"T_14e9c_row0_col8\" class=\"data row0 col8\" >6</td>\n",
       "      <td id=\"T_14e9c_row0_col9\" class=\"data row0 col9\" >1</td>\n",
       "      <td id=\"T_14e9c_row0_col10\" class=\"data row0 col10\" >1</td>\n",
       "    </tr>\n",
       "  </tbody>\n",
       "</table>\n"
      ],
      "text/plain": [
       "<pandas.io.formats.style.Styler at 0x7f6142ff6f90>"
      ]
     },
     "execution_count": 28,
     "metadata": {},
     "output_type": "execute_result"
    }
   ],
   "source": [
    "msm.info(molsys_wat_pdbfixer)"
   ]
  },
  {
   "cell_type": "code",
   "execution_count": 29,
   "id": "33c2f1f0-5cf7-42bb-9eee-b334807ab9f3",
   "metadata": {},
   "outputs": [
    {
     "data": {
      "text/html": [
       "<style type=\"text/css\">\n",
       "</style>\n",
       "<table id=\"T_220d2_\">\n",
       "  <thead>\n",
       "    <tr>\n",
       "      <th class=\"col_heading level0 col0\" >form</th>\n",
       "      <th class=\"col_heading level0 col1\" >n_atoms</th>\n",
       "      <th class=\"col_heading level0 col2\" >n_groups</th>\n",
       "      <th class=\"col_heading level0 col3\" >n_components</th>\n",
       "      <th class=\"col_heading level0 col4\" >n_chains</th>\n",
       "      <th class=\"col_heading level0 col5\" >n_molecules</th>\n",
       "      <th class=\"col_heading level0 col6\" >n_entities</th>\n",
       "      <th class=\"col_heading level0 col7\" >n_waters</th>\n",
       "      <th class=\"col_heading level0 col8\" >n_ions</th>\n",
       "      <th class=\"col_heading level0 col9\" >n_proteins</th>\n",
       "      <th class=\"col_heading level0 col10\" >n_frames</th>\n",
       "    </tr>\n",
       "  </thead>\n",
       "  <tbody>\n",
       "    <tr>\n",
       "      <td id=\"T_220d2_row0_col0\" class=\"data row0 col0\" >molsysmt.MolSys</td>\n",
       "      <td id=\"T_220d2_row0_col1\" class=\"data row0 col1\" >47263</td>\n",
       "      <td id=\"T_220d2_row0_col2\" class=\"data row0 col2\" >14670</td>\n",
       "      <td id=\"T_220d2_row0_col3\" class=\"data row0 col3\" >14422</td>\n",
       "      <td id=\"T_220d2_row0_col4\" class=\"data row0 col4\" >1</td>\n",
       "      <td id=\"T_220d2_row0_col5\" class=\"data row0 col5\" >14422</td>\n",
       "      <td id=\"T_220d2_row0_col6\" class=\"data row0 col6\" >3</td>\n",
       "      <td id=\"T_220d2_row0_col7\" class=\"data row0 col7\" >14415</td>\n",
       "      <td id=\"T_220d2_row0_col8\" class=\"data row0 col8\" >6</td>\n",
       "      <td id=\"T_220d2_row0_col9\" class=\"data row0 col9\" >1</td>\n",
       "      <td id=\"T_220d2_row0_col10\" class=\"data row0 col10\" >1</td>\n",
       "    </tr>\n",
       "  </tbody>\n",
       "</table>\n"
      ],
      "text/plain": [
       "<pandas.io.formats.style.Styler at 0x7f60a4654390>"
      ]
     },
     "execution_count": 29,
     "metadata": {},
     "output_type": "execute_result"
    }
   ],
   "source": [
    "msm.info(molsys_wat_leap)"
   ]
  },
  {
   "cell_type": "markdown",
   "id": "b7425e49-2f1b-4558-b871-1561446486a8",
   "metadata": {},
   "source": [
    "## Bibliography\n",
    "\n",
    "[Koes, David Ryan. “Computer-Aided Drug Discovery,” 167–88. Methods in Pharmacology and Toxicology, 2015.](https://doi.org/10.1007/7653_2015_46)"
   ]
  },
  {
   "cell_type": "code",
   "execution_count": null,
   "id": "777c43e1-a8ae-46f8-a402-69fbcccec0ae",
   "metadata": {},
   "outputs": [],
   "source": []
  }
 ],
 "metadata": {
  "kernelspec": {
   "display_name": "Python 3",
   "language": "python",
   "name": "python3"
  },
  "language_info": {
   "codemirror_mode": {
    "name": "ipython",
    "version": 3
   },
   "file_extension": ".py",
   "mimetype": "text/x-python",
   "name": "python",
   "nbconvert_exporter": "python",
   "pygments_lexer": "ipython3",
   "version": "3.7.10"
  }
 },
 "nbformat": 4,
 "nbformat_minor": 5
}
