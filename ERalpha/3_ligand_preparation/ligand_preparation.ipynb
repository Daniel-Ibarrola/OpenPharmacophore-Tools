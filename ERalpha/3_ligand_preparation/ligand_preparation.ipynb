{
 "cells": [
  {
   "cell_type": "code",
   "execution_count": 32,
   "id": "19234dc3-a059-41c8-84a1-012463a38e03",
   "metadata": {},
   "outputs": [],
   "source": [
    "import mdtraj as md\n",
    "import numpy as np\n",
    "import nglview as nv\n",
    "from rdkit import Chem\n",
    "from rdkit.Chem import AllChem\n",
    "\n",
    "from openmm import app\n",
    "from openmm import unit\n",
    "import simtk.openmm as mm\n",
    "from simtk.openmm.app import Modeller, ForceField, PDBFile\n",
    "\n",
    "from openmmforcefields.generators import SMIRNOFFTemplateGenerator\n",
    "\n",
    "import openff.toolkit\n",
    "from openff.toolkit.typing.engines.smirnoff import ForceField as openffForcefield\n",
    "from openff.toolkit.topology import Molecule, Topology"
   ]
  },
  {
   "cell_type": "markdown",
   "id": "d8758996-01cd-4675-b61e-31c59af5ad80",
   "metadata": {},
   "source": [
    "## Extracting a Ligand from 1QKU PDB"
   ]
  },
  {
   "cell_type": "code",
   "execution_count": 33,
   "id": "e2e30aa3-a2f2-4886-8a45-f63ff1cc1df8",
   "metadata": {},
   "outputs": [
    {
     "name": "stdout",
     "output_type": "stream",
     "text": [
      "<mdtraj.Trajectory with 1 frames, 6596 atoms, 1343 residues, and unitcells>\n",
      "<mdtraj.Topology with 9 chains, 1343 residues, 6596 atoms, 6123 bonds>\n"
     ]
    }
   ],
   "source": [
    "traj = md.load(\"../1_system_inspection/1QKU.pdb\")\n",
    "topology = traj.topology\n",
    "print(traj)\n",
    "print(topology)"
   ]
  },
  {
   "cell_type": "code",
   "execution_count": 34,
   "id": "7eec80eb-a3b2-41f2-afc9-f5842f3c93b2",
   "metadata": {},
   "outputs": [
    {
     "name": "stdout",
     "output_type": "stream",
     "text": [
      "<mdtraj.Topology with 3 chains, 3 residues, 60 atoms, 69 bonds>\n"
     ]
    },
    {
     "data": {
      "application/vnd.jupyter.widget-view+json": {
       "model_id": "1810635985364088b7efde1a61e2960e",
       "version_major": 2,
       "version_minor": 0
      },
      "text/plain": [
       "NGLWidget()"
      ]
     },
     "metadata": {},
     "output_type": "display_data"
    }
   ],
   "source": [
    "# Extract all three ligands\n",
    "ligands = traj.atom_slice(topology.select(\"not water and not protein\"))\n",
    "print(ligands.topology)\n",
    "# Extract a single ligand\n",
    "ligand = ligands.atom_slice(ligands.topology.select(\"chainid == 0\"))\n",
    "view = nv.show_mdtraj(ligand)\n",
    "view"
   ]
  },
  {
   "cell_type": "code",
   "execution_count": 35,
   "id": "0606ad9c-4702-4d90-9953-5b5d7dfc48e3",
   "metadata": {},
   "outputs": [],
   "source": [
    "ligand.save_pdb(\"./ligand.pdb\")"
   ]
  },
  {
   "cell_type": "code",
   "execution_count": 36,
   "id": "8df07c11-fbd5-41da-9a45-be302e0e6c8d",
   "metadata": {},
   "outputs": [
    {
     "data": {
      "image/png": "[encoded data removed]",
      "text/plain": [
       "<rdkit.Chem.rdchem.Mol at 0x7f4149cb3490>"
      ]
     },
     "execution_count": 36,
     "metadata": {},
     "output_type": "execute_result"
    }
   ],
   "source": [
    "ligand_pdb = Chem.rdmolfiles.MolFromPDBFile(\"./ligand.pdb\")\n",
    "ligand_pdb"
   ]
  },
  {
   "cell_type": "markdown",
   "id": "1f54cf43-30a8-45d8-b908-94f80ed703b6",
   "metadata": {},
   "source": [
    "Bond orders are incorrect. PDB files do not store information about bond orders for ligands."
   ]
  },
  {
   "cell_type": "markdown",
   "id": "044c5966-be76-4756-8186-79a08d6e85b9",
   "metadata": {},
   "source": [
    "## Fixing ligand bonds"
   ]
  },
  {
   "cell_type": "code",
   "execution_count": 37,
   "id": "21cf8332-047e-4304-a6f0-a390e74485da",
   "metadata": {},
   "outputs": [
    {
     "data": {
      "image/png": "[encoded data removed]",
      "text/plain": [
       "<rdkit.Chem.rdchem.Mol at 0x7f40f36b57f0>"
      ]
     },
     "execution_count": 37,
     "metadata": {},
     "output_type": "execute_result"
    }
   ],
   "source": [
    "# Assing bond orders from smiles\n",
    "template_mol = Chem.MolFromSmiles(\"C[C@]12CC[C@@H]3c4ccc(cc4CC[C@H]3[C@@H]1CC[C@@H]2O)O\")\n",
    "ligand_fixed = AllChem.AssignBondOrdersFromTemplate(template_mol, ligand_pdb)\n",
    "ligand_fixed"
   ]
  },
  {
   "cell_type": "code",
   "execution_count": 38,
   "id": "f46d5d91-39b2-4a9f-bd7d-e9d1416ab25e",
   "metadata": {},
   "outputs": [
    {
     "data": {
      "text/plain": [
       "1"
      ]
     },
     "execution_count": 38,
     "metadata": {},
     "output_type": "execute_result"
    }
   ],
   "source": [
    "ligand_fixed.GetNumConformers()"
   ]
  },
  {
   "cell_type": "code",
   "execution_count": 39,
   "id": "8806c16f-693d-4e71-9235-1b73fb7bf7b1",
   "metadata": {},
   "outputs": [
    {
     "data": {
      "application/vnd.jupyter.widget-view+json": {
       "model_id": "a50cef9a4509402f85373294310a0b20",
       "version_major": 2,
       "version_minor": 0
      },
      "text/plain": [
       "NGLWidget()"
      ]
     },
     "metadata": {},
     "output_type": "display_data"
    }
   ],
   "source": [
    "# Add Hydrogens\n",
    "ligand_H = Chem.AddHs(ligand_fixed, addCoords=True)\n",
    "view = nv.show_rdkit(ligand_H)\n",
    "view"
   ]
  },
  {
   "cell_type": "code",
   "execution_count": 40,
   "id": "bf7145ee-c492-415a-8cee-f8ea5e13cee1",
   "metadata": {},
   "outputs": [],
   "source": [
    "# Save ligand to file so openff can use it\n",
    "writer = Chem.SDWriter(\"./ligand.sdf\")\n",
    "writer.write(ligand_H)"
   ]
  },
  {
   "cell_type": "markdown",
   "id": "57bd9664-40da-4faf-a167-1d8b84b85c7c",
   "metadata": {},
   "source": [
    "## Ligand System Parametrized with OpenFF Parsley\n",
    "\n",
    "First load the ligand"
   ]
  },
  {
   "cell_type": "code",
   "execution_count": 41,
   "id": "5f15012b-f6c1-4f7b-87c1-65b284694f90",
   "metadata": {},
   "outputs": [
    {
     "name": "stdout",
     "output_type": "stream",
     "text": [
      "Number of conformers: 1\n"
     ]
    }
   ],
   "source": [
    "ligand = Molecule.from_file(\"./ligand.sdf\")\n",
    "lig_topology = ligand.to_topology()\n",
    "print(\"Number of conformers: {}\".format(len(ligand.conformers)))\n",
    "lig_positions = ligand.conformers[0]"
   ]
  },
  {
   "cell_type": "markdown",
   "id": "58ea9a0e-b308-454c-a7e1-67a109dde2f2",
   "metadata": {},
   "source": [
    "### Load the forcefield"
   ]
  },
  {
   "cell_type": "code",
   "execution_count": 42,
   "id": "ac1aed84-2b52-4010-b576-e226b8d85090",
   "metadata": {},
   "outputs": [],
   "source": [
    "forcefield = ForceField(\"amber99sb.xml\", \"tip3p.xml\")\n",
    "# Teach OpenMM about the ligand molecule and the Parsley force field\n",
    "smirnoff = SMIRNOFFTemplateGenerator(forcefield=\"openff-1.3.0.offxml\", molecules=[ligand])\n",
    "forcefield.registerTemplateGenerator(smirnoff.generator)"
   ]
  },
  {
   "cell_type": "markdown",
   "id": "c84526e7-e784-459e-8ec1-b64917eaf6b9",
   "metadata": {},
   "source": [
    "### Model and solvate ligand"
   ]
  },
  {
   "cell_type": "code",
   "execution_count": 52,
   "id": "29c46360-b9be-4c57-a543-b8ebac8315c2",
   "metadata": {},
   "outputs": [],
   "source": [
    "modeller = Modeller(lig_topology.to_openmm(), lig_positions)"
   ]
  },
  {
   "cell_type": "code",
   "execution_count": 53,
   "id": "76160c7e-f404-44ae-8f7f-04e05675fbf8",
   "metadata": {},
   "outputs": [],
   "source": [
    "geometric_center = modeller.positions.sum(axis=0)/modeller.positions.shape[0]"
   ]
  },
  {
   "cell_type": "code",
   "execution_count": 54,
   "id": "3e66b7d0-58e1-4d15-ae37-2358f8fdf661",
   "metadata": {},
   "outputs": [],
   "source": [
    "modeller.positions = modeller.positions - geometric_center"
   ]
  },
  {
   "cell_type": "code",
   "execution_count": 55,
   "id": "892d34c3-43ba-4b29-befb-e94ed1430c7d",
   "metadata": {},
   "outputs": [],
   "source": [
    "max_size = max(max((pos[i] for pos in modeller.positions))-min((pos[i] for pos in modeller.positions)) for i in range(3))\n",
    "vectors = mm.Vec3(1.0, 0, 0), mm.Vec3(1.0/3.0, 2.0*np.sqrt(2.0)/3.0,0.0), mm.Vec3(-1.0/3.0, np.sqrt(2.0)/3.0, np.sqrt(6.0)/3.0)\n",
    "box_vectors = [(max_size + 14*unit.angstroms)*v for v in vectors]\n",
    "\n",
    "modeller.addSolvent(forcefield, model='tip3p', boxVectors = box_vectors, neutralize=True)\n",
    "#modeller.addSolvent(forcefield, model='tip3p', padding=14*unit.angstroms, neutralize=True)"
   ]
  },
  {
   "cell_type": "code",
   "execution_count": 47,
   "id": "15cfab78-54e5-4d03-a9ad-b53bae58dd77",
   "metadata": {},
   "outputs": [
    {
     "name": "stdout",
     "output_type": "stream",
     "text": [
      "n_waters: 1718\n"
     ]
    }
   ],
   "source": [
    "n_waters = 0\n",
    "for chain in modeller.topology.chains():\n",
    "    for residue in chain.residues():\n",
    "        if residue.name=='HOH':\n",
    "            n_waters += 1\n",
    "\n",
    "print('n_waters: {}'.format(n_waters))"
   ]
  },
  {
   "cell_type": "code",
   "execution_count": 56,
   "id": "b463ca6a-f235-4f07-967b-a1131f07b0da",
   "metadata": {},
   "outputs": [],
   "source": [
    "system = forcefield.createSystem(\n",
    "    modeller.topology, \n",
    "    nonbondedMethod=app.NoCutoff\n",
    ")"
   ]
  },
  {
   "cell_type": "code",
   "execution_count": 57,
   "id": "655e2eec-9681-4c24-b44a-d8bcbd2b3414",
   "metadata": {},
   "outputs": [
    {
     "data": {
      "text/plain": [
       "962"
      ]
     },
     "execution_count": 57,
     "metadata": {},
     "output_type": "execute_result"
    }
   ],
   "source": [
    "system.getNumParticles()"
   ]
  },
  {
   "cell_type": "code",
   "execution_count": 58,
   "id": "79a930e1-4072-43fe-9503-b7317d5cc1d4",
   "metadata": {},
   "outputs": [],
   "source": [
    "# Visualize ligand with water\n",
    "topology = modeller.getTopology()\n",
    "positions = modeller.getPositions()\n",
    "PDBFile.writeFile(topology, positions, open('ligand_solvated.pdb', 'w'))"
   ]
  },
  {
   "cell_type": "code",
   "execution_count": 59,
   "id": "42b76f7d-67e4-4933-a237-68b8f8bcaf39",
   "metadata": {},
   "outputs": [
    {
     "data": {
      "application/vnd.jupyter.widget-view+json": {
       "model_id": "a6f7666804294ee39a837718c84f0578",
       "version_major": 2,
       "version_minor": 0
      },
      "text/plain": [
       "NGLWidget()"
      ]
     },
     "metadata": {},
     "output_type": "display_data"
    }
   ],
   "source": [
    "view = nv.show_structure_file(\"ligand_solvated.pdb\")\n",
    "view.add_licorice(selection=\"(not protein)\") # View water molecules\n",
    "view"
   ]
  },
  {
   "cell_type": "code",
   "execution_count": null,
   "id": "fd46cf34-0770-4881-8323-b5060aae34c7",
   "metadata": {},
   "outputs": [],
   "source": []
  }
 ],
 "metadata": {
  "kernelspec": {
   "display_name": "Python 3 (ipykernel)",
   "language": "python",
   "name": "python3"
  },
  "language_info": {
   "codemirror_mode": {
    "name": "ipython",
    "version": 3
   },
   "file_extension": ".py",
   "mimetype": "text/x-python",
   "name": "python",
   "nbconvert_exporter": "python",
   "pygments_lexer": "ipython3",
   "version": "3.7.10"
  }
 },
 "nbformat": 4,
 "nbformat_minor": 5
}
