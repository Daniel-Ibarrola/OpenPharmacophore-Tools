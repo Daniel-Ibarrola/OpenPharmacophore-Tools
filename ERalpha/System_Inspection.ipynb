{
 "cells": [
  {
   "cell_type": "code",
   "execution_count": 1,
   "id": "5e617614-36c0-48bb-80d6-6fbc49d93637",
   "metadata": {},
   "outputs": [],
   "source": [
    "%load_ext autoreload\n",
    "%autoreload 2"
   ]
  },
  {
   "cell_type": "markdown",
   "id": "65c9f33f-b943-4c45-a766-1eeac98da1f5",
   "metadata": {},
   "source": [
    "# System inspection"
   ]
  },
  {
   "cell_type": "code",
   "execution_count": 2,
   "id": "227422c8-1993-4b07-bff4-5bde8a46987b",
   "metadata": {},
   "outputs": [
    {
     "data": {
      "application/vnd.jupyter.widget-view+json": {
       "model_id": "4f3c665e260e44d08f2cc2ca8d1e57fa",
       "version_major": 2,
       "version_minor": 0
      },
      "text/plain": []
     },
     "metadata": {},
     "output_type": "display_data"
    }
   ],
   "source": [
    "import molsysmt as msm"
   ]
  },
  {
   "cell_type": "code",
   "execution_count": 3,
   "id": "7b8b1f13-080a-4441-9707-8991f4dbaad8",
   "metadata": {},
   "outputs": [
    {
     "name": "stderr",
     "output_type": "stream",
     "text": [
      "/home/diego/Projects/MolSysMT/molsysmt/native/io/topology/classes/mmtf_MMTFDecoder.py:43: UserWarning: The structure in the PDB has biological assemblies. There are geometrical transformations proposed in the structure. See the following issue in the source code repository: https://github.com/uibcdf/MolSysMT/issues/33\n",
      "  warnings.warn(warning_message)\n"
     ]
    }
   ],
   "source": [
    "molsys = msm.convert(\"pdbid:1QKU\")"
   ]
  },
  {
   "cell_type": "code",
   "execution_count": 4,
   "id": "a66aab8e-4ffa-4f06-96a8-768d79eccdcf",
   "metadata": {},
   "outputs": [
    {
     "data": {
      "text/html": [
       "<style type=\"text/css\">\n",
       "</style>\n",
       "<table id=\"T_3b0c6_\">\n",
       "  <thead>\n",
       "    <tr>\n",
       "      <th class=\"col_heading level0 col0\" >form</th>\n",
       "      <th class=\"col_heading level0 col1\" >n_atoms</th>\n",
       "      <th class=\"col_heading level0 col2\" >n_groups</th>\n",
       "      <th class=\"col_heading level0 col3\" >n_components</th>\n",
       "      <th class=\"col_heading level0 col4\" >n_chains</th>\n",
       "      <th class=\"col_heading level0 col5\" >n_molecules</th>\n",
       "      <th class=\"col_heading level0 col6\" >n_entities</th>\n",
       "      <th class=\"col_heading level0 col7\" >n_waters</th>\n",
       "      <th class=\"col_heading level0 col8\" >n_small_molecules</th>\n",
       "      <th class=\"col_heading level0 col9\" >n_proteins</th>\n",
       "      <th class=\"col_heading level0 col10\" >n_frames</th>\n",
       "    </tr>\n",
       "  </thead>\n",
       "  <tbody>\n",
       "    <tr>\n",
       "      <td id=\"T_3b0c6_row0_col0\" class=\"data row0 col0\" >molsysmt.MolSys</td>\n",
       "      <td id=\"T_3b0c6_row0_col1\" class=\"data row0 col1\" >6596</td>\n",
       "      <td id=\"T_3b0c6_row0_col2\" class=\"data row0 col2\" >1343</td>\n",
       "      <td id=\"T_3b0c6_row0_col3\" class=\"data row0 col3\" >602</td>\n",
       "      <td id=\"T_3b0c6_row0_col4\" class=\"data row0 col4\" >9</td>\n",
       "      <td id=\"T_3b0c6_row0_col5\" class=\"data row0 col5\" >600</td>\n",
       "      <td id=\"T_3b0c6_row0_col6\" class=\"data row0 col6\" >3</td>\n",
       "      <td id=\"T_3b0c6_row0_col7\" class=\"data row0 col7\" >596</td>\n",
       "      <td id=\"T_3b0c6_row0_col8\" class=\"data row0 col8\" >3</td>\n",
       "      <td id=\"T_3b0c6_row0_col9\" class=\"data row0 col9\" >1</td>\n",
       "      <td id=\"T_3b0c6_row0_col10\" class=\"data row0 col10\" >1</td>\n",
       "    </tr>\n",
       "  </tbody>\n",
       "</table>\n"
      ],
      "text/plain": [
       "<pandas.io.formats.style.Styler at 0x7f74840c9fd0>"
      ]
     },
     "execution_count": 4,
     "metadata": {},
     "output_type": "execute_result"
    }
   ],
   "source": [
    "msm.info(molsys)"
   ]
  },
  {
   "cell_type": "code",
   "execution_count": 5,
   "id": "1a933e39-07c9-4207-8187-aa46eba410e6",
   "metadata": {},
   "outputs": [],
   "source": [
    "molsys = msm.remove_solvent(molsys)"
   ]
  },
  {
   "cell_type": "code",
   "execution_count": 6,
   "id": "72cf0861-5a74-4a1d-aa4f-bae5aac3475b",
   "metadata": {},
   "outputs": [
    {
     "data": {
      "application/vnd.jupyter.widget-view+json": {
       "model_id": "441c602bf6c84108987afaf80e021698",
       "version_major": 2,
       "version_minor": 0
      },
      "text/plain": [
       "NGLWidget()"
      ]
     },
     "metadata": {},
     "output_type": "display_data"
    }
   ],
   "source": [
    "msm.view(molsys, standardize=False)"
   ]
  },
  {
   "cell_type": "code",
   "execution_count": 7,
   "id": "d5e2e36e-d747-4ec3-b645-a6a7d6af01d5",
   "metadata": {},
   "outputs": [],
   "source": [
    "molsys_A = msm.extract(molsys, selection='chain_name==[\"A\", \"D\"]')\n",
    "molsys_B = msm.extract(molsys, selection='chain_name==[\"B\", \"E\"]')\n",
    "molsys_C = msm.extract(molsys, selection='chain_name==[\"C\", \"F\"]')"
   ]
  },
  {
   "cell_type": "code",
   "execution_count": 8,
   "id": "8d5b7927-7570-4365-b985-cc62b1a01eac",
   "metadata": {},
   "outputs": [
    {
     "name": "stdout",
     "output_type": "stream",
     "text": [
      "\u001b[1;34;48mS\u001b[m\u001b[1;34;48mK\u001b[m\u001b[1;34;48mK\u001b[mNSLALSLTADQMVSALLDAEPPILYSEYDPTRPFSEASMMGLLTNLADRELVHMINWAKRVPGFVDLTLHDQVHLLECAWLEILMIGLVWRSMEHPGKLLFAPNLLLDRNQGKCVEGMVEIFDMLLATSSRFRMMNLQGEEFVCLKSIILLNSGVYTFLSSTLKSLEEKDHIHRVLDKITDTLIHLMAKAGLTLQQQHQRLAQLLLILSHIRHMSNKGMEHLYSMKCKNVVPLYDLLLEMLDAHRLH\n",
      "\n",
      "---NSLALSLTADQMVSALLDAEPPILYSEYDPTRPFSEASMMGLLTNLADRELVHMINWAKRVPGFVDLTLHDQVHLLECAWLEILMIGLVWRSMEHPGKLLFAPNLLLDRNQGKCVEGMVEIFDMLLATSSRFRMMNLQGEEFVCLKSIILLNSGVYTFLSSTLKSLEEKDHIHRVLDKITDTLIHLMAKAGLTLQQQHQRLAQLLLILSHIRHMSNKGMEHLYSMKCKNVVPLYDLLLEMLDAHRLH\n"
     ]
    }
   ],
   "source": [
    "msm.sequence_alignment(molsys_B, selection='molecule_type==\"protein\"',\n",
    "                      reference_molecular_system=molsys_A, reference_selection='molecule_type==\"protein\"',\n",
    "                      prettyprint=True)"
   ]
  },
  {
   "cell_type": "code",
   "execution_count": 9,
   "id": "571d2fa5-9020-47bd-b7d0-c55176bd3b1e",
   "metadata": {},
   "outputs": [
    {
     "name": "stdout",
     "output_type": "stream",
     "text": [
      "\u001b[1;34;48mS\u001b[m\u001b[1;34;48mK\u001b[m\u001b[1;34;48mK\u001b[mNSLALSLTADQMVSALLDAEPPILYSEYDPTRPFSEASMMGLLTNLADRELVHMINWAKRVPGFVDLTLHDQVHLLECAWLEILMIGLVWRSMEHPGKLLFAPNLLLDRNQGKCVEGMVEIFDMLLATSSRFRMMNLQGEEFVCLKSIILLNSGVYTFLSSTLKSLEEKDHIHRVLDKITDTLIHLMAKAGLTLQQQHQRLAQLLLILSHIRHMSNKGMEHLYSMKCKNVVPLYDLLLEMLDAHRLH\n",
      "\n",
      "---NSLALSLTADQMVSALLDAEPPILYSEYDPTRPFSEASMMGLLTNLADRELVHMINWAKRVPGFVDLTLHDQVHLLECAWLEILMIGLVWRSMEHPGKLLFAPNLLLDRNQGKCVEGMVEIFDMLLATSSRFRMMNLQGEEFVCLKSIILLNSGVYTFLSSTLKSLEEKDHIHRVLDKITDTLIHLMAKAGLTLQQQHQRLAQLLLILSHIRHMSNKGMEHLYSMKCKNVVPLYDLLLEMLDAHRLH\n"
     ]
    }
   ],
   "source": [
    "msm.sequence_alignment(molsys_C, selection='molecule_type==\"protein\"',\n",
    "                      reference_molecular_system=molsys_A, reference_selection='molecule_type==\"protein\"',\n",
    "                      prettyprint=True)"
   ]
  },
  {
   "cell_type": "code",
   "execution_count": 10,
   "id": "56d77a58-b8e4-415c-aced-8412f2f3cba6",
   "metadata": {},
   "outputs": [],
   "source": [
    "molsys_B_over_A = msm.structure_alignment(molsys_B, selection_alignment='molecule_type==\"protein\"',\n",
    "                                          reference_molecular_system=molsys_A, reference_selection_alignment='molecule_type==\"protein\"')\n",
    "molsys_C_over_A = msm.structure_alignment(molsys_C, selection_alignment='molecule_type==\"protein\"',\n",
    "                                          reference_molecular_system=molsys_A, reference_selection_alignment='molecule_type==\"protein\"')"
   ]
  },
  {
   "cell_type": "code",
   "execution_count": 11,
   "id": "512daab1-e2dd-4fbd-bd5d-332f46636a9f",
   "metadata": {},
   "outputs": [
    {
     "data": {
      "application/vnd.jupyter.widget-view+json": {
       "model_id": "04fc3b3132644065b174a6ae975000de",
       "version_major": 2,
       "version_minor": 0
      },
      "text/plain": [
       "NGLWidget()"
      ]
     },
     "metadata": {},
     "output_type": "display_data"
    }
   ],
   "source": [
    "msm.view([molsys_A, molsys_B_over_A, molsys_C_over_A])"
   ]
  },
  {
   "cell_type": "markdown",
   "id": "8950632e-9e38-480c-8c06-28631ece94ec",
   "metadata": {},
   "source": [
    "From now on, lets work with the following system"
   ]
  },
  {
   "cell_type": "code",
   "execution_count": 13,
   "id": "2e2b13a8-e778-4b8f-ae89-6c5da3e2f18e",
   "metadata": {},
   "outputs": [],
   "source": [
    "molsys = msm.extract(molsys, selection='chain_name==[\"B\", \"E\"] and molecule_type==[\"protein\", \"small molecule\"]')"
   ]
  },
  {
   "cell_type": "code",
   "execution_count": 14,
   "id": "27b589be-2fb7-43ed-b8ff-2c3cf4b22ba1",
   "metadata": {},
   "outputs": [
    {
     "data": {
      "application/vnd.jupyter.widget-view+json": {
       "model_id": "f350ffe8e0eb4eb39bd65e8b4c09cc77",
       "version_major": 2,
       "version_minor": 0
      },
      "text/plain": [
       "NGLWidget()"
      ]
     },
     "metadata": {},
     "output_type": "display_data"
    }
   ],
   "source": [
    "msm.view(molsys)"
   ]
  },
  {
   "cell_type": "markdown",
   "id": "b7425e49-2f1b-4558-b871-1561446486a8",
   "metadata": {},
   "source": [
    "## Bibliography\n",
    "\n",
    "[Koes, David Ryan. “Computer-Aided Drug Discovery,” 167–88. Methods in Pharmacology and Toxicology, 2015.](https://doi.org/10.1007/7653_2015_46)"
   ]
  },
  {
   "cell_type": "code",
   "execution_count": null,
   "id": "777c43e1-a8ae-46f8-a402-69fbcccec0ae",
   "metadata": {},
   "outputs": [],
   "source": []
  }
 ],
 "metadata": {
  "kernelspec": {
   "display_name": "Python 3 (ipykernel)",
   "language": "python",
   "name": "python3"
  },
  "language_info": {
   "codemirror_mode": {
    "name": "ipython",
    "version": 3
   },
   "file_extension": ".py",
   "mimetype": "text/x-python",
   "name": "python",
   "nbconvert_exporter": "python",
   "pygments_lexer": "ipython3",
   "version": "3.7.10"
  }
 },
 "nbformat": 4,
 "nbformat_minor": 5
}
