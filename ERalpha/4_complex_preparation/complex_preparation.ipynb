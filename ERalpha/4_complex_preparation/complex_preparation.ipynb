{
 "cells": [
  {
   "cell_type": "code",
   "execution_count": 1,
   "id": "2adf1985-67d2-40f1-bca8-51aadbfab03a",
   "metadata": {},
   "outputs": [
    {
     "name": "stderr",
     "output_type": "stream",
     "text": [
      "Warning: importing 'simtk.openmm' is deprecated.  Import 'openmm' instead.\n"
     ]
    },
    {
     "data": {
      "application/vnd.jupyter.widget-view+json": {
       "model_id": "01622d02f43d494698f7adc01726acc3",
       "version_major": 2,
       "version_minor": 0
      },
      "text/plain": []
     },
     "metadata": {},
     "output_type": "display_data"
    },
    {
     "name": "stderr",
     "output_type": "stream",
     "text": [
      "Warning: Unable to load toolkit 'OpenEye Toolkit'. The Open Force Field Toolkit does not require the OpenEye Toolkits, and can use RDKit/AmberTools instead. However, if you have a valid license for the OpenEye Toolkits, consider installing them for faster performance and additional file format support: https://docs.eyesopen.com/toolkits/python/quickstart-python/linuxosx.html OpenEye offers free Toolkit licenses for academics: https://www.eyesopen.com/academic-licensing\n"
     ]
    }
   ],
   "source": [
    "import mdtraj as md\n",
    "import numpy as np\n",
    "import nglview as nv\n",
    "from rdkit import Chem\n",
    "from rdkit.Chem import AllChem\n",
    "\n",
    "from openmm import app\n",
    "from openmm import unit\n",
    "import simtk.openmm as mm\n",
    "from simtk.openmm.app import Modeller, ForceField, PDBFile, Simulation\n",
    "import parmed as pmd\n",
    "\n",
    "from openmmforcefields.generators import SMIRNOFFTemplateGenerator\n",
    "\n",
    "import openff.toolkit\n",
    "from openff.toolkit.typing.engines.smirnoff import ForceField as openffForcefield\n",
    "from openff.toolkit.topology import Molecule, Topology"
   ]
  },
  {
   "cell_type": "markdown",
   "id": "d59d258b-f47c-4abe-9c02-591f2ba550c3",
   "metadata": {
    "tags": []
   },
   "source": [
    "## Extract a protein ligand complex from 1QKU"
   ]
  },
  {
   "cell_type": "code",
   "execution_count": null,
   "id": "33ffc0ad-c90a-47fe-b7cf-a35d7a190ffc",
   "metadata": {},
   "outputs": [],
   "source": [
    "traj = md.load(\"../1_system_inspection/1QKU.pdb\")\n",
    "topology = traj.topology\n",
    "print(traj)\n",
    "print(topology)"
   ]
  },
  {
   "cell_type": "code",
   "execution_count": null,
   "id": "c0bc938f-e5cd-4ac7-9676-175396c28f6d",
   "metadata": {},
   "outputs": [],
   "source": [
    "traj = traj.atom_slice(topology.select(\"not water\"))\n",
    "topology = traj.topology\n",
    "\n",
    "protein_indices = topology.select(\"chainid == 0\")\n",
    "ligand_indices = topology.select(\"chainid == 3\")\n",
    "protein_ligand_indices = np.concatenate((protein_indices, ligand_indices), axis=0)\n",
    "\n",
    "protein_ligand_complex = traj.atom_slice(protein_ligand_indices)"
   ]
  },
  {
   "cell_type": "code",
   "execution_count": null,
   "id": "bda12d52-47c6-4ba2-b3fd-e592f997b244",
   "metadata": {},
   "outputs": [],
   "source": [
    "view = nv.show_mdtraj(protein_ligand_complex)\n",
    "view"
   ]
  },
  {
   "cell_type": "code",
   "execution_count": null,
   "id": "a31e53f4-b346-4046-a9a1-87a0b186b3b5",
   "metadata": {},
   "outputs": [],
   "source": [
    "#protein_ligand_complex.save_pdb(\"./protein-ligand.pdb\")"
   ]
  },
  {
   "cell_type": "markdown",
   "id": "61f0a7f6-15f8-4586-9573-c2f2b4f442da",
   "metadata": {},
   "source": [
    "## Load ligand and protein\n",
    "Load the fixed receptor and ligand from previous notebooks "
   ]
  },
  {
   "cell_type": "code",
   "execution_count": null,
   "id": "cf394435-32b0-4160-a5a7-e7310e58ed18",
   "metadata": {},
   "outputs": [],
   "source": [
    "ligand_file = \"../3_ligand_preparation/ligand.sdf\"\n",
    "protein_file = \"../2_receptor_preparation/fixed_receptor.pdb\""
   ]
  },
  {
   "cell_type": "code",
   "execution_count": null,
   "id": "52dd7722-5a46-4ec3-9c80-c38484d6901a",
   "metadata": {},
   "outputs": [],
   "source": [
    "ligand = Molecule.from_file(ligand_file)\n",
    "ligand_positions = ligand.conformers[0]\n",
    "ligand_topology = ligand.to_topology()\n",
    "\n",
    "protein = PDBFile(protein_file)"
   ]
  },
  {
   "cell_type": "markdown",
   "id": "0c3408b8-6351-4eae-8028-f92da12149fc",
   "metadata": {
    "tags": []
   },
   "source": [
    "## Load Forcefield"
   ]
  },
  {
   "cell_type": "code",
   "execution_count": null,
   "id": "85f511d7-0ef3-481d-b7f2-9c13de1abf31",
   "metadata": {},
   "outputs": [],
   "source": [
    "forcefield = ForceField(\"amber99sb.xml\", \"tip3p.xml\")\n",
    "# Teach OpenMM about the ligand molecule and the Parsley force field\n",
    "smirnoff = SMIRNOFFTemplateGenerator(forcefield=\"openff-1.3.0.offxml\", molecules=[ligand])\n",
    "forcefield.registerTemplateGenerator(smirnoff.generator)"
   ]
  },
  {
   "cell_type": "markdown",
   "id": "1d1c2b52-be03-40d2-9f83-2b0f09ca3b59",
   "metadata": {},
   "source": [
    "## Add solvent"
   ]
  },
  {
   "cell_type": "code",
   "execution_count": null,
   "id": "213c0cf2-3a0c-4f19-9f98-ce19555620bb",
   "metadata": {},
   "outputs": [],
   "source": [
    "modeller = Modeller(protein.topology, protein.positions)\n",
    "modeller.add(ligand_topology.to_openmm(), ligand_positions)"
   ]
  },
  {
   "cell_type": "code",
   "execution_count": null,
   "id": "3e0c8e49-39f9-4073-a7bb-7121f306f87d",
   "metadata": {},
   "outputs": [],
   "source": [
    "max_size = max(max((pos[i] for pos in modeller.positions))-min((pos[i] for pos in modeller.positions)) for i in range(3))\n",
    "vectors = mm.Vec3(1.0, 0, 0), mm.Vec3(1.0/3.0, 2.0*np.sqrt(2.0)/3.0,0.0), mm.Vec3(-1.0/3.0, np.sqrt(2.0)/3.0, np.sqrt(6.0)/3.0)\n",
    "box_vectors = [(max_size + 14*unit.angstroms)*v for v in vectors]"
   ]
  },
  {
   "cell_type": "code",
   "execution_count": null,
   "id": "8b68fca6-4fa2-4ef8-9f42-25f25b554101",
   "metadata": {},
   "outputs": [],
   "source": [
    "# modeller.addSolvent(forcefield, model='tip3p', padding=14*unit.angstroms, neutralize=True)\n",
    "modeller.addSolvent(forcefield, model='tip3p', boxVectors = box_vectors, neutralize=True)"
   ]
  },
  {
   "cell_type": "code",
   "execution_count": null,
   "id": "b26c10aa-0078-4d16-80f6-abf3407685d7",
   "metadata": {},
   "outputs": [],
   "source": [
    "# Verify that water was added\n",
    "n_waters = 0\n",
    "for chain in modeller.topology.chains():\n",
    "    for residue in chain.residues():\n",
    "        if residue.name=='HOH':\n",
    "            n_waters += 1\n",
    "\n",
    "print('n_waters: {}'.format(n_waters))"
   ]
  },
  {
   "cell_type": "code",
   "execution_count": null,
   "id": "30dff828-f039-48a3-af9a-ce96b4c85230",
   "metadata": {},
   "outputs": [],
   "source": [
    "topology = modeller.getTopology()\n",
    "positions = modeller.getPositions()\n",
    "PDBFile.writeFile(topology, positions, open('complex.pdb', 'w'))"
   ]
  },
  {
   "cell_type": "code",
   "execution_count": null,
   "id": "ad50a4f1-9a45-44ba-8092-041e2b90fd31",
   "metadata": {},
   "outputs": [],
   "source": [
    "# Visualize complex with water\n",
    "view = nv.show_structure_file(\"complex.pdb\")\n",
    "view.add_licorice(selection=\"(not protein)\") # View water molecules\n",
    "view"
   ]
  },
  {
   "cell_type": "markdown",
   "id": "e837dba0-7367-4517-bb74-5709d9b6e25c",
   "metadata": {},
   "source": [
    "##  Create the system"
   ]
  },
  {
   "cell_type": "code",
   "execution_count": null,
   "id": "8782531b-e54f-4796-8a2f-572056a552e1",
   "metadata": {},
   "outputs": [],
   "source": [
    "system = forcefield.createSystem(\n",
    "    modeller.topology, \n",
    "    nonbondedMethod=app.PeriodicCutoff\n",
    ")"
   ]
  },
  {
   "cell_type": "code",
   "execution_count": null,
   "id": "315b4705-e543-4896-92d4-d073c81ba025",
   "metadata": {},
   "outputs": [],
   "source": [
    "system.getNumParticles()"
   ]
  },
  {
   "cell_type": "markdown",
   "id": "45bb23a8-8ecd-447b-a4bf-4d450f9a6b09",
   "metadata": {},
   "source": [
    "## Run a short simulation"
   ]
  },
  {
   "cell_type": "code",
   "execution_count": null,
   "id": "5253aa05-a3bd-4d6d-a671-c46f46c33087",
   "metadata": {},
   "outputs": [],
   "source": [
    "integrator = mm.LangevinIntegrator(\n",
    "    300 * unit.kelvin, 1 / unit.picosecond, 0.002 * unit.picoseconds\n",
    ")\n",
    "\n",
    "# Combine the topology, system, integrator and initial positions into a simulation\n",
    "simulation = Simulation(\n",
    "    topology, system, integrator\n",
    ")\n",
    "simulation.context.setPositions(positions)\n",
    "\n",
    "# Add a reporter to record the structure every 10 steps\n",
    "nc_reporter = pmd.openmm.NetCDFReporter(\"trajectory.nc\", 10)\n",
    "simulation.reporters.append(nc_reporter)"
   ]
  },
  {
   "cell_type": "code",
   "execution_count": null,
   "id": "7fb544d6-9b4f-4189-8966-59fc19d64426",
   "metadata": {},
   "outputs": [],
   "source": [
    "simulation.minimizeEnergy()\n",
    "minimized_state = simulation.context.getState(\n",
    "    getPositions=True,\n",
    "    getEnergy=True,\n",
    "    getForces=True\n",
    ")\n",
    "\n",
    "print(\n",
    "    \"Minimised to\", \n",
    "    minimized_state.getPotentialEnergy(), \n",
    "    \"with maximum force\", \n",
    "    max([np.sqrt(v.x*v.x + v.y*v.y + v.z*v.z) for v in minimized_state.getForces()]),\n",
    "    minimized_state.getForces().unit.get_symbol()\n",
    ")\n",
    "\n",
    "minimized_coords = minimized_state.getPositions()"
   ]
  },
  {
   "cell_type": "code",
   "execution_count": null,
   "id": "51e35d88-b1e2-489e-9620-5a7de9a5c3de",
   "metadata": {},
   "outputs": [],
   "source": [
    "simulation.context.setVelocitiesToTemperature(300 * unit.kelvin)\n",
    "simulation.step(1000)"
   ]
  },
  {
   "cell_type": "code",
   "execution_count": 2,
   "id": "4987b693-92e1-407a-8cee-26adb199a5ac",
   "metadata": {},
   "outputs": [],
   "source": [
    "nc_reporter.finalize()"
   ]
  },
  {
   "cell_type": "code",
   "execution_count": 3,
   "id": "1dbddedf-ff64-4262-9de1-6dd8b7df9762",
   "metadata": {},
   "outputs": [
    {
     "ename": "NameError",
     "evalue": "name 'topology' is not defined",
     "output_type": "error",
     "traceback": [
      "\u001b[0;31m---------------------------------------------------------------------------\u001b[0m",
      "\u001b[0;31mNameError\u001b[0m                                 Traceback (most recent call last)",
      "\u001b[0;32m/tmp/ipykernel_1977521/4215629406.py\u001b[0m in \u001b[0;36m<module>\u001b[0;34m\u001b[0m\n\u001b[0;32m----> 1\u001b[0;31m \u001b[0mtraj\u001b[0m \u001b[0;34m=\u001b[0m \u001b[0mmd\u001b[0m\u001b[0;34m.\u001b[0m\u001b[0mload\u001b[0m\u001b[0;34m(\u001b[0m\u001b[0;34m\"trajectory.nc\"\u001b[0m\u001b[0;34m,\u001b[0m \u001b[0mtop\u001b[0m\u001b[0;34m=\u001b[0m\u001b[0mmd\u001b[0m\u001b[0;34m.\u001b[0m\u001b[0mTopology\u001b[0m\u001b[0;34m.\u001b[0m\u001b[0mfrom_openmm\u001b[0m\u001b[0;34m(\u001b[0m\u001b[0mtopology\u001b[0m\u001b[0;34m)\u001b[0m\u001b[0;34m)\u001b[0m\u001b[0;34m\u001b[0m\u001b[0;34m\u001b[0m\u001b[0m\n\u001b[0m\u001b[1;32m      2\u001b[0m \u001b[0;34m\u001b[0m\u001b[0m\n\u001b[1;32m      3\u001b[0m \u001b[0mview\u001b[0m \u001b[0;34m=\u001b[0m \u001b[0mnv\u001b[0m\u001b[0;34m.\u001b[0m\u001b[0mshow_mdtraj\u001b[0m\u001b[0;34m(\u001b[0m\u001b[0mtraj\u001b[0m\u001b[0;34m)\u001b[0m\u001b[0;34m\u001b[0m\u001b[0;34m\u001b[0m\u001b[0m\n\u001b[1;32m      4\u001b[0m \u001b[0mview\u001b[0m\u001b[0;34m\u001b[0m\u001b[0;34m\u001b[0m\u001b[0m\n",
      "\u001b[0;31mNameError\u001b[0m: name 'topology' is not defined"
     ]
    }
   ],
   "source": [
    "traj = md.load(\"trajectory.nc\", top=md.Topology.from_openmm(topology))\n",
    "\n",
    "view = nv.show_mdtraj(traj)\n",
    "view"
   ]
  },
  {
   "cell_type": "code",
   "execution_count": null,
   "id": "bd62f014-bffc-4560-a95e-3f92d01fb436",
   "metadata": {},
   "outputs": [],
   "source": []
  }
 ],
 "metadata": {
  "kernelspec": {
   "display_name": "Python 3 (ipykernel)",
   "language": "python",
   "name": "python3"
  },
  "language_info": {
   "codemirror_mode": {
    "name": "ipython",
    "version": 3
   },
   "file_extension": ".py",
   "mimetype": "text/x-python",
   "name": "python",
   "nbconvert_exporter": "python",
   "pygments_lexer": "ipython3",
   "version": "3.7.10"
  }
 },
 "nbformat": 4,
 "nbformat_minor": 5
}
