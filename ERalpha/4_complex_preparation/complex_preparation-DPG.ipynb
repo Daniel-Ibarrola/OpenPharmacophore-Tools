{
 "cells": [
  {
   "cell_type": "code",
   "execution_count": 1,
   "id": "2adf1985-67d2-40f1-bca8-51aadbfab03a",
   "metadata": {},
   "outputs": [
    {
     "name": "stderr",
     "output_type": "stream",
     "text": [
      "Warning: importing 'simtk.openmm' is deprecated.  Import 'openmm' instead.\n",
      "Warning: Unable to load toolkit 'OpenEye Toolkit'. The Open Force Field Toolkit does not require the OpenEye Toolkits, and can use RDKit/AmberTools instead. However, if you have a valid license for the OpenEye Toolkits, consider installing them for faster performance and additional file format support: https://docs.eyesopen.com/toolkits/python/quickstart-python/linuxosx.html OpenEye offers free Toolkit licenses for academics: https://www.eyesopen.com/academic-licensing\n"
     ]
    }
   ],
   "source": [
    "from sys import stdout\n",
    "import numpy as np\n",
    "from mdtraj.reporters import HDF5Reporter\n",
    "import openmm as mm\n",
    "from openmm import app\n",
    "from openmm import unit\n",
    "from openmmforcefields.generators import SMIRNOFFTemplateGenerator\n",
    "from openff.toolkit.topology import Molecule"
   ]
  },
  {
   "cell_type": "markdown",
   "id": "61f0a7f6-15f8-4586-9573-c2f2b4f442da",
   "metadata": {},
   "source": [
    "## Load protein topology and positions"
   ]
  },
  {
   "cell_type": "code",
   "execution_count": 2,
   "id": "7a123ebc-aac2-4339-887f-2c9c9c007af8",
   "metadata": {},
   "outputs": [],
   "source": [
    "protein_file = \"../2_receptor_preparation/fixed_receptor.pdb\"\n",
    "protein = app.PDBFile(protein_file)\n",
    "modeller = app.Modeller(protein.topology, protein.positions)"
   ]
  },
  {
   "cell_type": "markdown",
   "id": "23c4aa42-d050-4e4b-93fe-38a979a38ab3",
   "metadata": {},
   "source": [
    "## Load ligand topology and positions"
   ]
  },
  {
   "cell_type": "code",
   "execution_count": 3,
   "id": "8e540b0c-3f04-4da8-9373-c26d54ccb773",
   "metadata": {},
   "outputs": [],
   "source": [
    "ligand_file = \"../3_ligand_preparation/ligand.sdf\"\n",
    "ligand = Molecule.from_file(ligand_file)\n",
    "ligand_positions = ligand.conformers[0]\n",
    "ligand_topology = ligand.to_topology()\n",
    "modeller.add(ligand_topology.to_openmm(), ligand_positions)"
   ]
  },
  {
   "cell_type": "markdown",
   "id": "57fd9533-6595-42d1-bdb6-f14188852346",
   "metadata": {},
   "source": [
    "## Load forcefield"
   ]
  },
  {
   "cell_type": "code",
   "execution_count": 4,
   "id": "72a30509-c295-4159-b9e2-397c46eb9ba4",
   "metadata": {},
   "outputs": [],
   "source": [
    "forcefield = app.ForceField(\"amber14-all.xml\", \"amber14/tip3p.xml\")\n",
    "smirnoff = SMIRNOFFTemplateGenerator(forcefield=\"openff-1.3.0.offxml\", molecules=[ligand])\n",
    "forcefield.registerTemplateGenerator(smirnoff.generator)"
   ]
  },
  {
   "cell_type": "markdown",
   "id": "1d1c2b52-be03-40d2-9f83-2b0f09ca3b59",
   "metadata": {},
   "source": [
    "## Add solvent"
   ]
  },
  {
   "cell_type": "code",
   "execution_count": 5,
   "id": "8a65ce05-28d8-454c-8710-fb33a50de9c0",
   "metadata": {},
   "outputs": [],
   "source": [
    "clearance = 14*unit.angstroms\n",
    "max_size = max(max((pos[i] for pos in modeller.positions))-min((pos[i] for pos in modeller.positions)) for i in range(3))\n",
    "vectors = mm.Vec3(1.0, 0, 0), mm.Vec3(1.0/3.0, 2.0*np.sqrt(2.0)/3.0,0.0), mm.Vec3(-1.0/3.0, np.sqrt(2.0)/3.0, np.sqrt(6.0)/3.0)\n",
    "box_vectors = [(max_size + clearance)*v for v in vectors]"
   ]
  },
  {
   "cell_type": "code",
   "execution_count": 6,
   "id": "49e07e28-9672-492a-837c-eb0f7168a0e5",
   "metadata": {},
   "outputs": [
    {
     "name": "stderr",
     "output_type": "stream",
     "text": [
      "/bin/bash: /home/diego/Myopt/miniconda3/envs/uibcdf/lib/libtinfo.so.6: no version information available (required by /bin/bash)\n",
      "/bin/bash: /home/diego/Myopt/miniconda3/envs/uibcdf/lib/libtinfo.so.6: no version information available (required by /bin/bash)\n",
      "/bin/bash: /home/diego/Myopt/miniconda3/envs/uibcdf/lib/libtinfo.so.6: no version information available (required by /bin/bash)\n",
      "/bin/bash: /home/diego/Myopt/miniconda3/envs/uibcdf/lib/libtinfo.so.6: no version information available (required by /bin/bash)\n",
      "/bin/bash: /home/diego/Myopt/miniconda3/envs/uibcdf/lib/libtinfo.so.6: no version information available (required by /bin/bash)\n",
      "/bin/bash: /home/diego/Myopt/miniconda3/envs/uibcdf/lib/libtinfo.so.6: no version information available (required by /bin/bash)\n"
     ]
    }
   ],
   "source": [
    "modeller.addSolvent(forcefield, model='tip3p', boxVectors = box_vectors, neutralize=True)"
   ]
  },
  {
   "cell_type": "code",
   "execution_count": 7,
   "id": "b26c10aa-0078-4d16-80f6-abf3407685d7",
   "metadata": {},
   "outputs": [
    {
     "name": "stdout",
     "output_type": "stream",
     "text": [
      "n_waters: 16777\n",
      "ions: ['Na', 'Na', 'Na', 'Na']\n"
     ]
    }
   ],
   "source": [
    "# Verify that water and ions were added\n",
    "n_waters = 0\n",
    "ions = []\n",
    "for chain in modeller.topology.chains():\n",
    "    for residue in chain.residues():\n",
    "        if residue.name=='HOH':\n",
    "            n_waters += 1\n",
    "        if len(list(residue.atoms()))==1:\n",
    "            ions += [atom.name for atom in residue.atoms()]            \n",
    "\n",
    "print('n_waters: {}'.format(n_waters))\n",
    "print('ions: {}'.format(ions))"
   ]
  },
  {
   "cell_type": "markdown",
   "id": "257a6239-fbea-4840-9579-04abcbfafeaa",
   "metadata": {},
   "source": [
    "## System creation"
   ]
  },
  {
   "cell_type": "code",
   "execution_count": 8,
   "id": "c6ad5820-cc06-48d8-884d-db9665dbc51e",
   "metadata": {},
   "outputs": [],
   "source": [
    "system = forcefield.createSystem(modeller.topology, nonbondedMethod=app.PME, nonbondedCutoff=1.0*unit.nanometer,\n",
    "                                 constraints=app.HBonds, rigidWater=True)\n",
    "\n",
    "for force_index in range(system.getNumForces()):\n",
    "    force = system.getForce(force_index)\n",
    "    if isinstance(force, mm.NonbondedForce):\n",
    "        nonbondedForce = force\n",
    "\n",
    "nonbondedForce.setUseDispersionCorrection(True)\n",
    "nonbondedForce.setEwaldErrorTolerance(1.0e-5)\n",
    "nonbondedForce.setUseSwitchingFunction(True)\n",
    "nonbondedForce.setSwitchingDistance(0.8*unit.nanometer)"
   ]
  },
  {
   "cell_type": "markdown",
   "id": "bd43f958-e1ec-4e3a-a97a-77169d8154c0",
   "metadata": {},
   "source": [
    "## Platform"
   ]
  },
  {
   "cell_type": "code",
   "execution_count": 9,
   "id": "0f53cb6d-2456-4100-808c-c1216b2f793c",
   "metadata": {},
   "outputs": [],
   "source": [
    "platform = mm.Platform.getPlatformByName('CUDA')"
   ]
  },
  {
   "cell_type": "markdown",
   "id": "5ef141b5-af06-43cf-b804-48bf42188245",
   "metadata": {},
   "source": [
    "## Integrator"
   ]
  },
  {
   "cell_type": "code",
   "execution_count": 10,
   "id": "4639e1c8-901c-4ce0-b549-c9597535ba4f",
   "metadata": {},
   "outputs": [],
   "source": [
    "integration_timestep = 2.0*unit.femtoseconds\n",
    "temperature = 300.0*unit.kelvin\n",
    "\n",
    "integrator = mm.LangevinIntegrator(temperature, 1.0/unit.picosecond, integration_timestep)"
   ]
  },
  {
   "cell_type": "markdown",
   "id": "c8efae75-23d6-4e88-a7da-1a39d5c1a6f2",
   "metadata": {},
   "source": [
    "## Simulation object"
   ]
  },
  {
   "cell_type": "code",
   "execution_count": 11,
   "id": "c6662e7a-71a3-408d-9bbd-1590c1d2f52b",
   "metadata": {},
   "outputs": [],
   "source": [
    "simulation = app.Simulation(modeller.topology, system, integrator, platform)"
   ]
  },
  {
   "cell_type": "markdown",
   "id": "a054f94a-a64f-4dd1-9804-0c2af2d84399",
   "metadata": {},
   "source": [
    "## Initial coordinates"
   ]
  },
  {
   "cell_type": "code",
   "execution_count": 12,
   "id": "9d8e0afc-83d2-4555-9a02-1810e8e07408",
   "metadata": {},
   "outputs": [],
   "source": [
    "simulation.context.setPositions(modeller.positions)"
   ]
  },
  {
   "cell_type": "markdown",
   "id": "8eddd92c-809f-4f94-b2c6-4a2ee712c13e",
   "metadata": {},
   "source": [
    "## Energy minimization"
   ]
  },
  {
   "cell_type": "code",
   "execution_count": 13,
   "id": "118f020f-a7ea-49e4-b342-0668a49b86d4",
   "metadata": {},
   "outputs": [
    {
     "data": {
      "text/plain": [
       "Quantity(value=6687888992977919.0, unit=kilojoule/mole)"
      ]
     },
     "execution_count": 13,
     "metadata": {},
     "output_type": "execute_result"
    }
   ],
   "source": [
    "# Check the potential energy before minimization\n",
    "initial_state = simulation.context.getState(getEnergy=True)\n",
    "initial_state.getPotentialEnergy()"
   ]
  },
  {
   "cell_type": "code",
   "execution_count": 14,
   "id": "c9aaa4b4-913c-400c-b215-3144165ba356",
   "metadata": {},
   "outputs": [],
   "source": [
    "simulation.minimizeEnergy()"
   ]
  },
  {
   "cell_type": "code",
   "execution_count": 15,
   "id": "68006c69-372e-4e34-b6fb-1aa6397cdb57",
   "metadata": {},
   "outputs": [
    {
     "data": {
      "text/plain": [
       "Quantity(value=-872593.5016476503, unit=kilojoule/mole)"
      ]
     },
     "execution_count": 15,
     "metadata": {},
     "output_type": "execute_result"
    }
   ],
   "source": [
    "# Check the potential energy before minimization\n",
    "minimized_state = simulation.context.getState(getEnergy=True)\n",
    "minimized_state.getPotentialEnergy()"
   ]
  },
  {
   "cell_type": "code",
   "execution_count": 16,
   "id": "954d0017-9fc3-4aa4-84b7-ee499f302c97",
   "metadata": {},
   "outputs": [],
   "source": [
    "# Writing out the minimized system\n",
    "minimized_positions = simulation.context.getState(getPositions=True).getPositions()\n",
    "app.PDBFile.writeFile(simulation.topology, minimized_positions, open('initial.pdb', 'w'))"
   ]
  },
  {
   "cell_type": "markdown",
   "id": "058b2574-1203-4aa3-84d1-9e503c2df970",
   "metadata": {},
   "source": [
    "## Initial velocities"
   ]
  },
  {
   "cell_type": "code",
   "execution_count": 17,
   "id": "cd919c23-dfc3-4ae3-985a-6c649f9a7076",
   "metadata": {},
   "outputs": [],
   "source": [
    "simulation.context.setVelocitiesToTemperature(temperature)"
   ]
  },
  {
   "cell_type": "markdown",
   "id": "45bb23a8-8ecd-447b-a4bf-4d450f9a6b09",
   "metadata": {},
   "source": [
    "## Run a short simulation"
   ]
  },
  {
   "cell_type": "code",
   "execution_count": 18,
   "id": "fd7dca02-2611-4585-b17d-aae76d1be065",
   "metadata": {},
   "outputs": [],
   "source": [
    "simulation_time = 200.0*unit.picoseconds\n",
    "reporting_time = 20.0*unit.picoseconds\n",
    "saving_time = 10.0*unit.picoseconds\n",
    "\n",
    "simulation_steps = int(simulation_time/integration_timestep)\n",
    "reporting_steps = int(reporting_time/integration_timestep)\n",
    "saving_steps = int(saving_time/integration_timestep)"
   ]
  },
  {
   "cell_type": "code",
   "execution_count": 19,
   "id": "2c75ce16-3796-4a3a-b052-bcb401e28106",
   "metadata": {},
   "outputs": [],
   "source": [
    "states_reporter = app.StateDataReporter(stdout, reporting_steps, step=True, potentialEnergy=True, temperature=True,\n",
    "                                    progress=True, totalSteps=simulation_steps, speed=True, remainingTime=True)\n",
    "traj_reporter = HDF5Reporter('traj.h5', saving_steps, coordinates=True, time=True, cell=True, potentialEnergy=True,\n",
    "                             kineticEnergy=True, temperature=True)\n",
    "simulation.reporters+=[states_reporter, traj_reporter]"
   ]
  },
  {
   "cell_type": "code",
   "execution_count": 20,
   "id": "51e35d88-b1e2-489e-9620-5a7de9a5c3de",
   "metadata": {},
   "outputs": [
    {
     "name": "stdout",
     "output_type": "stream",
     "text": [
      "#\"Progress (%)\",\"Step\",\"Potential Energy (kJ/mole)\",\"Temperature (K)\",\"Speed (ns/day)\",\"Elapsed Time (s)\",\"Time Remaining\"\n",
      "10.0%,10000,-705875.0016476503,300.64043300780764,0,0.0002758502960205078,--\n",
      "20.0%,20000,-706383.5016476503,298.3657586506521,23.4,73.97811079025269,9:51\n",
      "30.0%,30000,-706377.0016476503,301.09870441309175,23.4,147.99776458740234,8:37\n",
      "40.0%,40000,-706529.7516476503,301.46726031118476,23.3,222.0157310962677,7:24\n",
      "50.0%,50000,-705871.0016476503,300.7028839567023,23.3,296.10841250419617,6:10\n",
      "60.0%,60000,-706189.0016476503,299.18900176075147,23.3,370.20928049087524,4:56\n",
      "70.0%,70000,-707239.5016476503,302.1875615764097,23.3,444.3628659248352,3:42\n",
      "80.0%,80000,-704727.2516476503,300.0130898382372,23.3,518.5115087032318,2:28\n",
      "90.0%,90000,-706924.0016476503,300.1361681894527,23.3,592.6566951274872,1:14\n",
      "100.0%,100000,-705999.0016476503,301.2183760288581,23.3,666.8446862697601,0:00\n"
     ]
    }
   ],
   "source": [
    "simulation.step(simulation_steps)"
   ]
  },
  {
   "cell_type": "code",
   "execution_count": 21,
   "id": "bd62f014-bffc-4560-a95e-3f92d01fb436",
   "metadata": {},
   "outputs": [],
   "source": [
    "traj_reporter.close()"
   ]
  },
  {
   "cell_type": "code",
   "execution_count": 22,
   "id": "f815bb65-2a55-44c3-a488-cb788c85d548",
   "metadata": {},
   "outputs": [],
   "source": [
    "# Writing out the final system\n",
    "final_positions = simulation.context.getState(getPositions=True).getPositions()\n",
    "app.PDBFile.writeFile(simulation.topology, final_positions, open('final.pdb', 'w'))"
   ]
  }
 ],
 "metadata": {
  "kernelspec": {
   "display_name": "Python 3 (ipykernel)",
   "language": "python",
   "name": "python3"
  },
  "language_info": {
   "codemirror_mode": {
    "name": "ipython",
    "version": 3
   },
   "file_extension": ".py",
   "mimetype": "text/x-python",
   "name": "python",
   "nbconvert_exporter": "python",
   "pygments_lexer": "ipython3",
   "version": "3.7.10"
  }
 },
 "nbformat": 4,
 "nbformat_minor": 5
}
