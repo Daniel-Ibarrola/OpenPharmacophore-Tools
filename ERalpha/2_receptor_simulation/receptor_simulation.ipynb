{
 "cells": [
  {
   "cell_type": "code",
   "execution_count": 9,
   "id": "f1cae906-d7df-4022-b8d4-24ce0fca0c49",
   "metadata": {},
   "outputs": [],
   "source": [
    "from pdbfixer import PDBFixer\n",
    "import simtk.openmm as mm\n",
    "from simtk.openmm.app import PDBFile, Modeller, ForceField\n",
    "\n",
    "import nglview as nv\n",
    "from math import sqrt"
   ]
  },
  {
   "cell_type": "markdown",
   "id": "fffd23b7-e446-468e-85c7-f585cf1d7bf6",
   "metadata": {},
   "source": [
    "## Fixing the pdb file of Estrogen receptor"
   ]
  },
  {
   "cell_type": "code",
   "execution_count": 2,
   "id": "bdb0acdc-19d3-4540-a795-2decf4b95905",
   "metadata": {},
   "outputs": [
    {
     "data": {
      "application/vnd.jupyter.widget-view+json": {
       "model_id": "80b99581537445ac9ea957046f53abab",
       "version_major": 2,
       "version_minor": 0
      },
      "text/plain": [
       "NGLWidget()"
      ]
     },
     "metadata": {},
     "output_type": "display_data"
    }
   ],
   "source": [
    "receptor_file = \"../1_system_inspection/receptor_1.pdb\"\n",
    "view = nv.show_structure_file(receptor_file)\n",
    "view"
   ]
  },
  {
   "cell_type": "code",
   "execution_count": 3,
   "id": "10684075-4618-48a5-9b8b-b17ffc5ea506",
   "metadata": {},
   "outputs": [
    {
     "data": {
      "text/plain": [
       "pdbfixer.pdbfixer.PDBFixer"
      ]
     },
     "execution_count": 3,
     "metadata": {},
     "output_type": "execute_result"
    }
   ],
   "source": [
    "# First load the file \n",
    "fixer = PDBFixer(filename=receptor_file)\n",
    "type(fixer)"
   ]
  },
  {
   "cell_type": "code",
   "execution_count": 4,
   "id": "83f36c71-8990-4ea2-9224-1faf192751f0",
   "metadata": {},
   "outputs": [],
   "source": [
    "# help(PDBFixer)"
   ]
  },
  {
   "cell_type": "code",
   "execution_count": 4,
   "id": "a02be8a0-ba2b-47bc-b7fc-8a0ac6ed49f4",
   "metadata": {},
   "outputs": [
    {
     "name": "stdout",
     "output_type": "stream",
     "text": [
      "0 missing residues\n",
      "0 non standard residues\n",
      "3 missing atoms\n",
      "0 missing terminals\n"
     ]
    }
   ],
   "source": [
    "fixer.findMissingResidues()\n",
    "missing_residues = fixer.missingResidues\n",
    "print(f\"{len(missing_residues)} missing residues\")\n",
    "\n",
    "fixer.findNonstandardResidues()\n",
    "nonstandard_residues = fixer.nonstandardResidues\n",
    "print(f\"{len(missing_residues)} non standard residues\")\n",
    "\n",
    "fixer.findMissingAtoms()\n",
    "missing_atoms = fixer.missingAtoms\n",
    "missing_terminals = fixer.missingTerminals\n",
    "print(f\"{len(missing_atoms)} missing atoms\")\n",
    "print(f\"{len(missing_terminals)} missing terminals\")\n",
    "fixer.addMissingAtoms()"
   ]
  },
  {
   "cell_type": "code",
   "execution_count": 13,
   "id": "1ac55233-a2c1-4d2b-8f44-455113108ea3",
   "metadata": {},
   "outputs": [],
   "source": [
    "forcefield = ForceField('amber14-all.xml', 'amber14/tip3pfb.xml')\n",
    "# Protonate and solvate. Convert first to Modeller\n",
    "modeller = Modeller(fixer.topology, fixer.positions)\n",
    "pH = 7.0\n",
    "modeller.addHydrogens(forcefield=forcefield, pH=pH)\n",
    "\n",
    "# Vectors to define the octahedron\n",
    "vectors = mm.Vec3(1,0,0), mm.Vec3(1/3,2*sqrt(2)/3,0), mm.Vec3(-1/3,sqrt(2)/3,sqrt(6)/3)\n",
    "# boxVectors = [(maxSize+geompadding)*v for v in vectors]\n",
    "modeller.addSolvent(forcefield=forcefield, model=\"tip3p\", boxVectors=vectors, neutralize=False)"
   ]
  },
  {
   "cell_type": "code",
   "execution_count": 14,
   "id": "e3f51ba4-1d3b-4605-96a1-1d043f9b5607",
   "metadata": {},
   "outputs": [],
   "source": [
    "PDBFile.writeFile(modeller.topology, modeller.positions, open('fixed_receptor.pdb', 'w'))"
   ]
  }
 ],
 "metadata": {
  "kernelspec": {
   "display_name": "Python 3 (ipykernel)",
   "language": "python",
   "name": "python3"
  },
  "language_info": {
   "codemirror_mode": {
    "name": "ipython",
    "version": 3
   },
   "file_extension": ".py",
   "mimetype": "text/x-python",
   "name": "python",
   "nbconvert_exporter": "python",
   "pygments_lexer": "ipython3",
   "version": "3.7.10"
  }
 },
 "nbformat": 4,
 "nbformat_minor": 5
}
