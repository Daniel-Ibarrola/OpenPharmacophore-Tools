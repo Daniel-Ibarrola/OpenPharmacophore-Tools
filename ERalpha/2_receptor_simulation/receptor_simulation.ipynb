{
 "cells": [
  {
   "cell_type": "code",
   "execution_count": 1,
   "id": "f1cae906-d7df-4022-b8d4-24ce0fca0c49",
   "metadata": {},
   "outputs": [
    {
     "name": "stderr",
     "output_type": "stream",
     "text": [
      "Warning: importing 'simtk.openmm' is deprecated.  Import 'openmm' instead.\n"
     ]
    },
    {
     "data": {
      "application/vnd.jupyter.widget-view+json": {
       "model_id": "54e51b07120e4244b3775602dd54d4b0",
       "version_major": 2,
       "version_minor": 0
      },
      "text/plain": []
     },
     "metadata": {},
     "output_type": "display_data"
    }
   ],
   "source": [
    "from pdbfixer import PDBFixer\n",
    "import simtk.openmm as mm\n",
    "from simtk.openmm.app import PDBFile, Modeller, ForceField\n",
    "\n",
    "import nglview as nv\n",
    "import numpy as np\n",
    "from matplotlib import pyplot as plt"
   ]
  },
  {
   "cell_type": "markdown",
   "id": "fffd23b7-e446-468e-85c7-f585cf1d7bf6",
   "metadata": {},
   "source": [
    "## Fixing the pdb file of Estrogen receptor"
   ]
  },
  {
   "cell_type": "code",
   "execution_count": 2,
   "id": "bdb0acdc-19d3-4540-a795-2decf4b95905",
   "metadata": {},
   "outputs": [
    {
     "data": {
      "application/vnd.jupyter.widget-view+json": {
       "model_id": "8aa46765c43f407f92abbca6a8868ec2",
       "version_major": 2,
       "version_minor": 0
      },
      "text/plain": [
       "NGLWidget()"
      ]
     },
     "metadata": {},
     "output_type": "display_data"
    }
   ],
   "source": [
    "receptor_file = \"../1_system_inspection/receptor_1.pdb\"\n",
    "view = nv.show_structure_file(receptor_file)\n",
    "view"
   ]
  },
  {
   "cell_type": "code",
   "execution_count": 3,
   "id": "10684075-4618-48a5-9b8b-b17ffc5ea506",
   "metadata": {},
   "outputs": [
    {
     "data": {
      "text/plain": [
       "pdbfixer.pdbfixer.PDBFixer"
      ]
     },
     "execution_count": 3,
     "metadata": {},
     "output_type": "execute_result"
    }
   ],
   "source": [
    "# First load the file \n",
    "fixer = PDBFixer(filename=receptor_file)\n",
    "type(fixer)"
   ]
  },
  {
   "cell_type": "code",
   "execution_count": 4,
   "id": "a02be8a0-ba2b-47bc-b7fc-8a0ac6ed49f4",
   "metadata": {},
   "outputs": [
    {
     "name": "stdout",
     "output_type": "stream",
     "text": [
      "0 missing residues\n",
      "0 non standard residues\n",
      "3 missing atoms\n",
      "0 missing terminals\n"
     ]
    }
   ],
   "source": [
    "fixer.findMissingResidues()\n",
    "missing_residues = fixer.missingResidues\n",
    "print(f\"{len(missing_residues)} missing residues\")\n",
    "\n",
    "fixer.findNonstandardResidues()\n",
    "nonstandard_residues = fixer.nonstandardResidues\n",
    "print(f\"{len(missing_residues)} non standard residues\")\n",
    "\n",
    "fixer.findMissingAtoms()\n",
    "missing_atoms = fixer.missingAtoms\n",
    "missing_terminals = fixer.missingTerminals\n",
    "print(f\"{len(missing_atoms)} missing atoms\")\n",
    "print(f\"{len(missing_terminals)} missing terminals\")\n",
    "fixer.addMissingAtoms()"
   ]
  },
  {
   "cell_type": "markdown",
   "id": "8bfb239f-85b9-4ed3-86d8-cedf667492a9",
   "metadata": {},
   "source": [
    "<div class=\"alert alert-warning\">\n",
    "<strong>Flexible or rigid water?</strong> TIP3P is not a good water model, but many forcefields were parametrized with it. Having the flexible version (TIP3PFB) of the model in our simulations will not improve them enough to compensate the computational cost. At this moment, let's work with rigid waters (TIP3P). Do you know any other water model? Why there are so many models? What does the number '3' means in TIP3P? See <a href=\"http://www.sklogwiki.org/SklogWiki/index.php/Water_models\">this web</a> or <a href=\"http://www.lsbu.ac.uk/water/models.html\">this other web</a>.\n",
    "</div>"
   ]
  },
  {
   "cell_type": "code",
   "execution_count": 5,
   "id": "6a054c15-7b94-473f-937e-af0523d11b56",
   "metadata": {},
   "outputs": [],
   "source": [
    "forcefield = ForceField('amber14-all.xml', 'amber14/tip3p.xml') #changed to tip3p"
   ]
  },
  {
   "cell_type": "code",
   "execution_count": 8,
   "id": "0fbf56a0-b919-424a-974d-9513a56ec10c",
   "metadata": {},
   "outputs": [],
   "source": [
    "counter = {'HIP':[], 'HIE':[], 'HID':[]}\n",
    "pHs = np.linspace(1, 14, 20)\n",
    "\n",
    "for pH in pHs:\n",
    "    for residue in counter:\n",
    "        counter[residue].append(0)\n",
    "    modeller = Modeller(fixer.topology, fixer.positions)\n",
    "    residues_protonated = modeller.addHydrogens(forcefield=forcefield, pH=pH)\n",
    "    for residue in residues_protonated:\n",
    "        if residue is not None:\n",
    "            counter[residue][-1]+=1"
   ]
  },
  {
   "cell_type": "code",
   "execution_count": 9,
   "id": "957a54ea-e5ff-4103-b5a7-5dc38c96cb94",
   "metadata": {},
   "outputs": [
    {
     "data": {
      "image/png": "[encoded data removed]",
      "text/plain": [
       "<Figure size 432x288 with 1 Axes>"
      ]
     },
     "metadata": {
      "needs_background": "light"
     },
     "output_type": "display_data"
    }
   ],
   "source": [
    "for residue in counter:\n",
    "    plt.plot(pHs, counter[residue], label=residue)\n",
    "\n",
    "plt.legend()\n",
    "plt.show()"
   ]
  },
  {
   "cell_type": "markdown",
   "id": "69085752-6113-48fe-83f3-3d3b37d4738b",
   "metadata": {},
   "source": [
    "<div class=\"alert alert-warning\">\n",
    "<strong>Is the protonated states something stationary along the simulation?</strong> The protonation state of certain residues depends on their chemical environment. We have here inferred how the histidine residues are protonated at different pHs. But: will this states change along the simulation? How can we define these states without ions and water molecules? Is the chemical environment of a given residue something that will change in time? If the protonated residues can change their state near pH 7, are we worried?\n",
    "</div>"
   ]
  },
  {
   "cell_type": "code",
   "execution_count": 14,
   "id": "7a702be6-7624-4773-a6a4-a75faf3fa91f",
   "metadata": {},
   "outputs": [],
   "source": [
    "modeller = Modeller(fixer.topology, fixer.positions)\n",
    "\n",
    "pH = 7.2\n",
    "residues_protonated = modeller.addHydrogens(forcefield=forcefield, pH=pH)"
   ]
  },
  {
   "cell_type": "markdown",
   "id": "71f2b658-85e2-47a7-b896-077642ce9be8",
   "metadata": {},
   "source": [
    "<div class=\"alert alert-warning\">\n",
    "<strong>What value of pH should you use?</strong> Are you interested in a simulation of the receptor in pure water? in the cytoplasm? in the nucleous? Is the pH different? Is it relevant?\n",
    "</div>"
   ]
  },
  {
   "cell_type": "code",
   "execution_count": 16,
   "id": "3baa87cb-e0f1-4cf7-850b-772485d39c21",
   "metadata": {},
   "outputs": [],
   "source": [
    "# Vectors to define the octahedron\n",
    "vectors = mm.Vec3(1,0,0), mm.Vec3(1/3,2*np.sqrt(2)/3,0), mm.Vec3(-1/3,np.sqrt(2)/3,np.sqrt(6)/3)\n",
    "# boxVectors = [(maxSize+geompadding)*v for v in vectors]\n",
    "modeller.addSolvent(forcefield=forcefield, model=\"tip3p\", boxVectors=vectors, neutralize=False)"
   ]
  },
  {
   "cell_type": "code",
   "execution_count": 17,
   "id": "e3f51ba4-1d3b-4605-96a1-1d043f9b5607",
   "metadata": {},
   "outputs": [],
   "source": [
    "PDBFile.writeFile(modeller.topology, modeller.positions, open('fixed_receptor.pdb', 'w'))"
   ]
  },
  {
   "cell_type": "code",
   "execution_count": 18,
   "id": "e3d403ee-de0d-441a-9dde-d38420a2a44b",
   "metadata": {},
   "outputs": [
    {
     "name": "stdout",
     "output_type": "stream",
     "text": [
      "n_waters: 0\n"
     ]
    }
   ],
   "source": [
    "n_waters = 0\n",
    "for chain in modeller.topology.chains():\n",
    "    for residue in chain.residues():\n",
    "        if residue.name=='HOH':\n",
    "            n_waters += 1\n",
    "\n",
    "print('n_waters: {}'.format(n_waters))"
   ]
  },
  {
   "cell_type": "markdown",
   "id": "8f0b76bf-04b4-41b9-a9f9-7923ced34f7e",
   "metadata": {},
   "source": [
    "<div class=\"alert alert-danger\">\n",
    "<strong>Did you check that your final system had water molecules?</strong> \n",
    "</div>"
   ]
  },
  {
   "cell_type": "code",
   "execution_count": 19,
   "id": "47f909d9-284c-43c6-a21e-bb7968204d5d",
   "metadata": {},
   "outputs": [],
   "source": [
    "modeller = Modeller(fixer.topology, fixer.positions)\n",
    "\n",
    "pH = 7.2\n",
    "\n",
    "residues_protonated = modeller.addHydrogens(forcefield=forcefield, pH=pH)"
   ]
  },
  {
   "cell_type": "code",
   "execution_count": 21,
   "id": "c18867d6-9aa2-421e-ba64-87bf7325cd4a",
   "metadata": {},
   "outputs": [],
   "source": [
    "import openmm as mm\n",
    "from openmm import app\n",
    "from openmm import unit"
   ]
  },
  {
   "cell_type": "code",
   "execution_count": 28,
   "id": "3a4f2ce5-a9e7-48a4-a5bc-3f3013b80057",
   "metadata": {},
   "outputs": [],
   "source": [
    "# Lets create a system with the protein in vacuum (infinite space) to get the charge\n",
    "\n",
    "system = forcefield.createSystem(modeller.topology, nonbondedMethod=app.NoCutoff)"
   ]
  },
  {
   "cell_type": "code",
   "execution_count": 32,
   "id": "22862511-36ed-4756-b795-a8362cd41195",
   "metadata": {},
   "outputs": [
    {
     "data": {
      "text/plain": [
       "4058"
      ]
     },
     "execution_count": 32,
     "metadata": {},
     "output_type": "execute_result"
    }
   ],
   "source": [
    "system.getNumParticles()"
   ]
  },
  {
   "cell_type": "code",
   "execution_count": 37,
   "id": "801ca051-ee16-45dc-be1b-1efc088ad125",
   "metadata": {},
   "outputs": [],
   "source": [
    "charge = 0.0 * unit.elementary_charge\n",
    "for force_index in range(system.getNumForces()):\n",
    "    force = system.getForce(force_index)\n",
    "    if isinstance(force, mm.NonbondedForce):\n",
    "        for index in range(system.getNumParticles()):\n",
    "            charge+=force.getParticleParameters(int(index))[0]\n",
    "\n",
    "charge = np.round(charge._value)*charge.unit"
   ]
  },
  {
   "cell_type": "code",
   "execution_count": 38,
   "id": "16acece3-0a2b-43e4-a5fd-0731621d01d2",
   "metadata": {},
   "outputs": [
    {
     "data": {
      "text/plain": [
       "Quantity(value=-4.0, unit=elementary charge)"
      ]
     },
     "execution_count": 38,
     "metadata": {},
     "output_type": "execute_result"
    }
   ],
   "source": [
    "charge"
   ]
  },
  {
   "cell_type": "markdown",
   "id": "e05cb5ba-9bcc-4e39-803c-10f431783313",
   "metadata": {},
   "source": [
    "<div class=\"alert alert-warning\">\n",
    "<strong>The system is charged.</strong> The system is charged and the simulation box should be neutral to work easy with the electrostatic interaction terms. We have to add ions then. Where are the charges? Is there any charge near the binding site? Did we add charge to the terminals? Should we work with neutral terminal cappings like the chemical groups acetyl (ACE) and n-methyl amide (NME)?\n",
    "</div>"
   ]
  },
  {
   "cell_type": "code",
   "execution_count": 43,
   "id": "d390ac0d-9433-404f-ae98-fdaaffc7b2c3",
   "metadata": {},
   "outputs": [],
   "source": [
    "max_size = max(max((pos[i] for pos in modeller.positions))-min((pos[i] for pos in modeller.positions)) for i in range(3))\n",
    "vectors = mm.Vec3(1.0, 0, 0), mm.Vec3(1.0/3.0, 2.0*np.sqrt(2.0)/3.0,0.0), mm.Vec3(-1.0/3.0, np.sqrt(2.0)/3.0, np.sqrt(6.0)/3.0)\n",
    "box_vectors = [(max_size+14*unit.angstroms)*v for v in vectors]\n",
    "\n",
    "modeller.addSolvent(forcefield, model='tip3p', boxVectors = box_vectors, neutralize=True)"
   ]
  },
  {
   "cell_type": "code",
   "execution_count": 44,
   "id": "b2abe025-ec72-4920-9be8-748dcd912c14",
   "metadata": {},
   "outputs": [
    {
     "name": "stdout",
     "output_type": "stream",
     "text": [
      "n_waters: 7794\n"
     ]
    }
   ],
   "source": [
    "n_waters = 0\n",
    "for chain in modeller.topology.chains():\n",
    "    for residue in chain.residues():\n",
    "        if residue.name=='HOH':\n",
    "            n_waters += 1\n",
    "\n",
    "print('n_waters: {}'.format(n_waters))"
   ]
  },
  {
   "cell_type": "code",
   "execution_count": 50,
   "id": "fc74e474-156d-4847-ab1f-2ba4e93b3711",
   "metadata": {},
   "outputs": [
    {
     "name": "stdout",
     "output_type": "stream",
     "text": [
      "n_ions: 4\n"
     ]
    }
   ],
   "source": [
    "n_ions = 0\n",
    "for chain in modeller.topology.chains():\n",
    "    for residue in chain.residues():\n",
    "        if residue.name=='NA':\n",
    "            n_ions += 1\n",
    "\n",
    "print('n_ions: {}'.format(n_ions))"
   ]
  },
  {
   "cell_type": "code",
   "execution_count": null,
   "id": "0d128ec0-b551-4448-999e-d948a02e437e",
   "metadata": {},
   "outputs": [],
   "source": []
  }
 ],
 "metadata": {
  "kernelspec": {
   "display_name": "Python 3 (ipykernel)",
   "language": "python",
   "name": "python3"
  },
  "language_info": {
   "codemirror_mode": {
    "name": "ipython",
    "version": 3
   },
   "file_extension": ".py",
   "mimetype": "text/x-python",
   "name": "python",
   "nbconvert_exporter": "python",
   "pygments_lexer": "ipython3",
   "version": "3.7.10"
  }
 },
 "nbformat": 4,
 "nbformat_minor": 5
}
